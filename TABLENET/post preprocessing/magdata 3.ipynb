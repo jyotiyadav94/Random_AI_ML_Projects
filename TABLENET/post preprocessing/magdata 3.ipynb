{
  "nbformat": 4,
  "nbformat_minor": 0,
  "metadata": {
    "colab": {
      "name": "Untitled17.ipynb",
      "provenance": []
    },
    "kernelspec": {
      "name": "python3",
      "display_name": "Python 3"
    },
    "language_info": {
      "name": "python"
    },
    "accelerator": "GPU",
    "gpuClass": "standard"
  },
  "cells": [
    {
      "cell_type": "code",
      "execution_count": 45,
      "metadata": {
        "colab": {
          "base_uri": "https://localhost:8080/"
        },
        "id": "0eF4fZzMJeW3",
        "outputId": "2659974d-77d2-4413-d123-c1a072f81163"
      },
      "outputs": [
        {
          "output_type": "stream",
          "name": "stdout",
          "text": [
            "Looking in indexes: https://mirror.baidu.com/pypi/simple/, https://us-python.pkg.dev/colab-wheels/public/simple/\n",
            "Requirement already satisfied: paddlepaddle in /usr/local/lib/python3.7/dist-packages (2.3.1)\n",
            "Requirement already satisfied: protobuf<=3.20.0,>=3.1.0 in /usr/local/lib/python3.7/dist-packages (from paddlepaddle) (3.17.3)\n",
            "Requirement already satisfied: astor in /usr/local/lib/python3.7/dist-packages (from paddlepaddle) (0.8.1)\n",
            "Requirement already satisfied: opt-einsum==3.3.0 in /usr/local/lib/python3.7/dist-packages (from paddlepaddle) (3.3.0)\n",
            "Requirement already satisfied: requests>=2.20.0 in /usr/local/lib/python3.7/dist-packages (from paddlepaddle) (2.23.0)\n",
            "Requirement already satisfied: paddle-bfloat==0.1.7 in /usr/local/lib/python3.7/dist-packages (from paddlepaddle) (0.1.7)\n",
            "Requirement already satisfied: numpy>=1.13 in /usr/local/lib/python3.7/dist-packages (from paddlepaddle) (1.21.6)\n",
            "Requirement already satisfied: six in /usr/local/lib/python3.7/dist-packages (from paddlepaddle) (1.15.0)\n",
            "Requirement already satisfied: Pillow in /usr/local/lib/python3.7/dist-packages (from paddlepaddle) (7.1.2)\n",
            "Requirement already satisfied: decorator in /usr/local/lib/python3.7/dist-packages (from paddlepaddle) (4.4.2)\n",
            "Requirement already satisfied: idna<3,>=2.5 in /usr/local/lib/python3.7/dist-packages (from requests>=2.20.0->paddlepaddle) (2.10)\n",
            "Requirement already satisfied: chardet<4,>=3.0.2 in /usr/local/lib/python3.7/dist-packages (from requests>=2.20.0->paddlepaddle) (3.0.4)\n",
            "Requirement already satisfied: urllib3!=1.25.0,!=1.25.1,<1.26,>=1.21.1 in /usr/local/lib/python3.7/dist-packages (from requests>=2.20.0->paddlepaddle) (1.24.3)\n",
            "Requirement already satisfied: certifi>=2017.4.17 in /usr/local/lib/python3.7/dist-packages (from requests>=2.20.0->paddlepaddle) (2022.6.15)\n"
          ]
        }
      ],
      "source": [
        "!pip3 install paddlepaddle -i https://mirror.baidu.com/pypi/simple/"
      ]
    },
    {
      "cell_type": "code",
      "source": [
        "# git clone https://github.com/PaddlePaddle/PaddleOCR.git"
      ],
      "metadata": {
        "id": "f4KFL6dKLYCg"
      },
      "execution_count": 46,
      "outputs": []
    },
    {
      "cell_type": "code",
      "source": [
        "!pip install paddlepaddle-gpu"
      ],
      "metadata": {
        "colab": {
          "base_uri": "https://localhost:8080/"
        },
        "id": "yw4L5A5XMl8Z",
        "outputId": "2591ed2c-9f38-4aa2-f051-d0e6fb1116c8"
      },
      "execution_count": 47,
      "outputs": [
        {
          "output_type": "stream",
          "name": "stdout",
          "text": [
            "Looking in indexes: https://pypi.org/simple, https://us-python.pkg.dev/colab-wheels/public/simple/\n",
            "Requirement already satisfied: paddlepaddle-gpu in /usr/local/lib/python3.7/dist-packages (2.3.1)\n",
            "Requirement already satisfied: six in /usr/local/lib/python3.7/dist-packages (from paddlepaddle-gpu) (1.15.0)\n",
            "Requirement already satisfied: Pillow in /usr/local/lib/python3.7/dist-packages (from paddlepaddle-gpu) (7.1.2)\n",
            "Requirement already satisfied: paddle-bfloat==0.1.7 in /usr/local/lib/python3.7/dist-packages (from paddlepaddle-gpu) (0.1.7)\n",
            "Requirement already satisfied: protobuf<=3.20.0,>=3.1.0 in /usr/local/lib/python3.7/dist-packages (from paddlepaddle-gpu) (3.17.3)\n",
            "Requirement already satisfied: opt-einsum==3.3.0 in /usr/local/lib/python3.7/dist-packages (from paddlepaddle-gpu) (3.3.0)\n",
            "Requirement already satisfied: astor in /usr/local/lib/python3.7/dist-packages (from paddlepaddle-gpu) (0.8.1)\n",
            "Requirement already satisfied: numpy>=1.13 in /usr/local/lib/python3.7/dist-packages (from paddlepaddle-gpu) (1.21.6)\n",
            "Requirement already satisfied: decorator in /usr/local/lib/python3.7/dist-packages (from paddlepaddle-gpu) (4.4.2)\n",
            "Requirement already satisfied: requests>=2.20.0 in /usr/local/lib/python3.7/dist-packages (from paddlepaddle-gpu) (2.23.0)\n",
            "Requirement already satisfied: idna<3,>=2.5 in /usr/local/lib/python3.7/dist-packages (from requests>=2.20.0->paddlepaddle-gpu) (2.10)\n",
            "Requirement already satisfied: chardet<4,>=3.0.2 in /usr/local/lib/python3.7/dist-packages (from requests>=2.20.0->paddlepaddle-gpu) (3.0.4)\n",
            "Requirement already satisfied: urllib3!=1.25.0,!=1.25.1,<1.26,>=1.21.1 in /usr/local/lib/python3.7/dist-packages (from requests>=2.20.0->paddlepaddle-gpu) (1.24.3)\n",
            "Requirement already satisfied: certifi>=2017.4.17 in /usr/local/lib/python3.7/dist-packages (from requests>=2.20.0->paddlepaddle-gpu) (2022.6.15)\n"
          ]
        }
      ]
    },
    {
      "cell_type": "code",
      "source": [
        "!pip install paddleocr"
      ],
      "metadata": {
        "colab": {
          "base_uri": "https://localhost:8080/"
        },
        "id": "N_V0D7i2MpR-",
        "outputId": "fc347af8-ea40-47bb-957f-926fad785cea"
      },
      "execution_count": 48,
      "outputs": [
        {
          "output_type": "stream",
          "name": "stdout",
          "text": [
            "Looking in indexes: https://pypi.org/simple, https://us-python.pkg.dev/colab-wheels/public/simple/\n",
            "Requirement already satisfied: paddleocr in /usr/local/lib/python3.7/dist-packages (2.5.0.3)\n",
            "Requirement already satisfied: cython in /usr/local/lib/python3.7/dist-packages (from paddleocr) (0.29.32)\n",
            "Requirement already satisfied: python-Levenshtein in /usr/local/lib/python3.7/dist-packages (from paddleocr) (0.12.2)\n",
            "Requirement already satisfied: lxml in /usr/local/lib/python3.7/dist-packages (from paddleocr) (4.9.1)\n",
            "Requirement already satisfied: attrdict in /usr/local/lib/python3.7/dist-packages (from paddleocr) (2.0.1)\n",
            "Requirement already satisfied: lmdb in /usr/local/lib/python3.7/dist-packages (from paddleocr) (0.99)\n",
            "Requirement already satisfied: openpyxl in /usr/local/lib/python3.7/dist-packages (from paddleocr) (3.0.10)\n",
            "Requirement already satisfied: premailer in /usr/local/lib/python3.7/dist-packages (from paddleocr) (3.10.0)\n",
            "Requirement already satisfied: pyclipper in /usr/local/lib/python3.7/dist-packages (from paddleocr) (1.3.0.post3)\n",
            "Requirement already satisfied: scikit-image in /usr/local/lib/python3.7/dist-packages (from paddleocr) (0.18.3)\n",
            "Requirement already satisfied: imgaug==0.4.0 in /usr/local/lib/python3.7/dist-packages (from paddleocr) (0.4.0)\n",
            "Requirement already satisfied: shapely in /usr/local/lib/python3.7/dist-packages (from paddleocr) (1.8.2)\n",
            "Requirement already satisfied: tqdm in /usr/local/lib/python3.7/dist-packages (from paddleocr) (4.64.0)\n",
            "Requirement already satisfied: visualdl in /usr/local/lib/python3.7/dist-packages (from paddleocr) (2.3.0)\n",
            "Requirement already satisfied: numpy in /usr/local/lib/python3.7/dist-packages (from paddleocr) (1.21.6)\n",
            "Requirement already satisfied: opencv-contrib-python==4.4.0.46 in /usr/local/lib/python3.7/dist-packages (from paddleocr) (4.4.0.46)\n",
            "Requirement already satisfied: six in /usr/local/lib/python3.7/dist-packages (from imgaug==0.4.0->paddleocr) (1.15.0)\n",
            "Requirement already satisfied: imageio in /usr/local/lib/python3.7/dist-packages (from imgaug==0.4.0->paddleocr) (2.9.0)\n",
            "Requirement already satisfied: opencv-python in /usr/local/lib/python3.7/dist-packages (from imgaug==0.4.0->paddleocr) (4.6.0.66)\n",
            "Requirement already satisfied: matplotlib in /usr/local/lib/python3.7/dist-packages (from imgaug==0.4.0->paddleocr) (3.2.2)\n",
            "Requirement already satisfied: Pillow in /usr/local/lib/python3.7/dist-packages (from imgaug==0.4.0->paddleocr) (7.1.2)\n",
            "Requirement already satisfied: scipy in /usr/local/lib/python3.7/dist-packages (from imgaug==0.4.0->paddleocr) (1.7.3)\n",
            "Requirement already satisfied: PyWavelets>=1.1.1 in /usr/local/lib/python3.7/dist-packages (from scikit-image->paddleocr) (1.3.0)\n",
            "Requirement already satisfied: tifffile>=2019.7.26 in /usr/local/lib/python3.7/dist-packages (from scikit-image->paddleocr) (2021.11.2)\n",
            "Requirement already satisfied: networkx>=2.0 in /usr/local/lib/python3.7/dist-packages (from scikit-image->paddleocr) (2.6.3)\n",
            "Requirement already satisfied: python-dateutil>=2.1 in /usr/local/lib/python3.7/dist-packages (from matplotlib->imgaug==0.4.0->paddleocr) (2.8.2)\n",
            "Requirement already satisfied: cycler>=0.10 in /usr/local/lib/python3.7/dist-packages (from matplotlib->imgaug==0.4.0->paddleocr) (0.11.0)\n",
            "Requirement already satisfied: pyparsing!=2.0.4,!=2.1.2,!=2.1.6,>=2.0.1 in /usr/local/lib/python3.7/dist-packages (from matplotlib->imgaug==0.4.0->paddleocr) (3.0.9)\n",
            "Requirement already satisfied: kiwisolver>=1.0.1 in /usr/local/lib/python3.7/dist-packages (from matplotlib->imgaug==0.4.0->paddleocr) (1.4.4)\n",
            "Requirement already satisfied: typing-extensions in /usr/local/lib/python3.7/dist-packages (from kiwisolver>=1.0.1->matplotlib->imgaug==0.4.0->paddleocr) (4.1.1)\n",
            "Requirement already satisfied: et-xmlfile in /usr/local/lib/python3.7/dist-packages (from openpyxl->paddleocr) (1.1.0)\n",
            "Requirement already satisfied: cssselect in /usr/local/lib/python3.7/dist-packages (from premailer->paddleocr) (1.1.0)\n",
            "Requirement already satisfied: cssutils in /usr/local/lib/python3.7/dist-packages (from premailer->paddleocr) (2.5.1)\n",
            "Requirement already satisfied: requests in /usr/local/lib/python3.7/dist-packages (from premailer->paddleocr) (2.23.0)\n",
            "Requirement already satisfied: cachetools in /usr/local/lib/python3.7/dist-packages (from premailer->paddleocr) (4.2.4)\n",
            "Requirement already satisfied: importlib-metadata in /usr/local/lib/python3.7/dist-packages (from cssutils->premailer->paddleocr) (4.12.0)\n",
            "Requirement already satisfied: zipp>=0.5 in /usr/local/lib/python3.7/dist-packages (from importlib-metadata->cssutils->premailer->paddleocr) (3.8.1)\n",
            "Requirement already satisfied: setuptools in /usr/local/lib/python3.7/dist-packages (from python-Levenshtein->paddleocr) (57.4.0)\n",
            "Requirement already satisfied: idna<3,>=2.5 in /usr/local/lib/python3.7/dist-packages (from requests->premailer->paddleocr) (2.10)\n",
            "Requirement already satisfied: urllib3!=1.25.0,!=1.25.1,<1.26,>=1.21.1 in /usr/local/lib/python3.7/dist-packages (from requests->premailer->paddleocr) (1.24.3)\n",
            "Requirement already satisfied: chardet<4,>=3.0.2 in /usr/local/lib/python3.7/dist-packages (from requests->premailer->paddleocr) (3.0.4)\n",
            "Requirement already satisfied: certifi>=2017.4.17 in /usr/local/lib/python3.7/dist-packages (from requests->premailer->paddleocr) (2022.6.15)\n",
            "Requirement already satisfied: Flask-Babel>=1.0.0 in /usr/local/lib/python3.7/dist-packages (from visualdl->paddleocr) (2.0.0)\n",
            "Requirement already satisfied: pandas in /usr/local/lib/python3.7/dist-packages (from visualdl->paddleocr) (1.3.5)\n",
            "Requirement already satisfied: bce-python-sdk in /usr/local/lib/python3.7/dist-packages (from visualdl->paddleocr) (0.8.74)\n",
            "Requirement already satisfied: protobuf>=3.11.0 in /usr/local/lib/python3.7/dist-packages (from visualdl->paddleocr) (3.17.3)\n",
            "Requirement already satisfied: flask>=1.1.1 in /usr/local/lib/python3.7/dist-packages (from visualdl->paddleocr) (1.1.4)\n",
            "Requirement already satisfied: Jinja2<3.0,>=2.10.1 in /usr/local/lib/python3.7/dist-packages (from flask>=1.1.1->visualdl->paddleocr) (2.11.3)\n",
            "Requirement already satisfied: click<8.0,>=5.1 in /usr/local/lib/python3.7/dist-packages (from flask>=1.1.1->visualdl->paddleocr) (7.1.2)\n",
            "Requirement already satisfied: Werkzeug<2.0,>=0.15 in /usr/local/lib/python3.7/dist-packages (from flask>=1.1.1->visualdl->paddleocr) (1.0.1)\n",
            "Requirement already satisfied: itsdangerous<2.0,>=0.24 in /usr/local/lib/python3.7/dist-packages (from flask>=1.1.1->visualdl->paddleocr) (1.1.0)\n",
            "Requirement already satisfied: Babel>=2.3 in /usr/local/lib/python3.7/dist-packages (from Flask-Babel>=1.0.0->visualdl->paddleocr) (2.10.3)\n",
            "Requirement already satisfied: pytz in /usr/local/lib/python3.7/dist-packages (from Flask-Babel>=1.0.0->visualdl->paddleocr) (2022.1)\n",
            "Requirement already satisfied: MarkupSafe>=0.23 in /usr/local/lib/python3.7/dist-packages (from Jinja2<3.0,>=2.10.1->flask>=1.1.1->visualdl->paddleocr) (2.0.1)\n",
            "Requirement already satisfied: future>=0.6.0 in /usr/local/lib/python3.7/dist-packages (from bce-python-sdk->visualdl->paddleocr) (0.16.0)\n",
            "Requirement already satisfied: pycryptodome>=3.8.0 in /usr/local/lib/python3.7/dist-packages (from bce-python-sdk->visualdl->paddleocr) (3.15.0)\n"
          ]
        }
      ]
    },
    {
      "cell_type": "code",
      "source": [
        "# Importing required functions for inference and visualization.\n",
        "from paddleocr import PaddleOCR,draw_ocr \n",
        "import os\n",
        "import cv2\n",
        "import matplotlib.pyplot as plt\n",
        "%matplotlib inline\n",
        "# ocr = PaddleOCR(use_angle_cls=True)"
      ],
      "metadata": {
        "id": "YzKbh8AvMsTO"
      },
      "execution_count": 49,
      "outputs": []
    },
    {
      "cell_type": "code",
      "source": [
        "# from paddleocr import PaddleOCR,draw_ocr\n",
        "# # Paddleocr supports Chinese, English, French, German, Korean and Japanese.\n",
        "# # You can set the parameter `lang` as `ch`, `en`, `french`, `german`, `korean`, `japan`\n",
        "# # to switch the language model in order.\n",
        "# ocr = PaddleOCR(use_angle_cls=True, lang='en') # need to run only once to download and load model into memory\n",
        "# img_path = '/content/English_text.webp'\n",
        "# result = ocr.ocr(img_path, cls=True)\n",
        "# for line in result:\n",
        "#      print(line)\n",
        "# # draw result\n",
        "# from PIL import Image\n",
        "# image = Image.open(img_path).convert('RGB')\n",
        "# boxes = [line[0] for line in result]\n",
        "# txts = [line[1][0] for line in result]\n",
        "# scores = [line[1][1] for line in result]\n",
        "# im_show = draw_ocr(image, boxes, txts, scores, font_path='/content/PaddleOCR/doc/fonts/simfang.ttf')\n",
        "# im_show = Image.fromarray(im_show)\n",
        "# im_show.save('result.jpg')"
      ],
      "metadata": {
        "id": "XMhm8mliLb2u"
      },
      "execution_count": 50,
      "outputs": []
    },
    {
      "cell_type": "code",
      "source": [
        "from paddleocr import PaddleOCR,draw_ocr\n",
        "ocr=PaddleOCR(lang=\"en\")"
      ],
      "metadata": {
        "colab": {
          "base_uri": "https://localhost:8080/"
        },
        "id": "qSrYsU25PStH",
        "outputId": "699b865b-0a25-44c1-92f0-c290bdf16fec"
      },
      "execution_count": 51,
      "outputs": [
        {
          "output_type": "stream",
          "name": "stdout",
          "text": [
            "[2022/08/09 22:22:00] ppocr DEBUG: Namespace(alpha=1.0, benchmark=False, beta=1.0, cls_batch_num=6, cls_image_shape='3, 48, 192', cls_model_dir='/root/.paddleocr/whl/cls/ch_ppocr_mobile_v2.0_cls_infer', cls_thresh=0.9, cpu_threads=10, crop_res_save_dir='./output', det=True, det_algorithm='DB', det_db_box_thresh=0.6, det_db_score_mode='fast', det_db_thresh=0.3, det_db_unclip_ratio=1.5, det_east_cover_thresh=0.1, det_east_nms_thresh=0.2, det_east_score_thresh=0.8, det_fce_box_type='poly', det_limit_side_len=960, det_limit_type='max', det_model_dir='/root/.paddleocr/whl/det/en/en_PP-OCRv3_det_infer', det_pse_box_thresh=0.85, det_pse_box_type='quad', det_pse_min_area=16, det_pse_scale=1, det_pse_thresh=0, det_sast_nms_thresh=0.2, det_sast_polygon=False, det_sast_score_thresh=0.5, draw_img_save_dir='./inference_results', drop_score=0.5, e2e_algorithm='PGNet', e2e_char_dict_path='./ppocr/utils/ic15_dict.txt', e2e_limit_side_len=768, e2e_limit_type='max', e2e_model_dir=None, e2e_pgnet_mode='fast', e2e_pgnet_score_thresh=0.5, e2e_pgnet_valid_set='totaltext', enable_mkldnn=False, fourier_degree=5, gpu_mem=500, help='==SUPPRESS==', image_dir=None, ir_optim=True, label_list=['0', '180'], lang='en', layout=True, layout_label_map=None, layout_path_model='lp://PubLayNet/ppyolov2_r50vd_dcn_365e_publaynet/config', max_batch_size=10, max_text_length=25, min_subgraph_size=15, mode='structure', ocr=True, ocr_version='PP-OCRv3', output='./output', precision='fp32', process_id=0, rec=True, rec_algorithm='SVTR_LCNet', rec_batch_num=6, rec_char_dict_path='/usr/local/lib/python3.7/dist-packages/paddleocr/ppocr/utils/en_dict.txt', rec_image_shape='3, 48, 320', rec_model_dir='/root/.paddleocr/whl/rec/en/en_PP-OCRv3_rec_infer', save_crop_res=False, save_log_path='./log_output/', scales=[8, 16, 32], show_log=True, structure_version='PP-STRUCTURE', table=True, table_char_dict_path=None, table_max_len=488, table_model_dir=None, total_process_num=1, type='ocr', use_angle_cls=False, use_dilation=False, use_gpu=True, use_mp=False, use_onnx=False, use_pdserving=False, use_space_char=True, use_tensorrt=False, vis_font_path='./doc/fonts/simfang.ttf', warmup=False)\n"
          ]
        }
      ]
    },
    {
      "cell_type": "code",
      "source": [
        "image_path='/content/6-3.png'\n",
        "image_cv=cv2.imread(image_path)\n",
        "image_height=image_cv.shape[0]\n",
        "image_width=image_cv.shape[1]\n",
        "output=ocr.ocr(image_path)"
      ],
      "metadata": {
        "id": "urxZbJAdPgr2",
        "colab": {
          "base_uri": "https://localhost:8080/"
        },
        "outputId": "431d2dd3-55af-48ec-cf31-8a4701eb261a"
      },
      "execution_count": 52,
      "outputs": [
        {
          "output_type": "stream",
          "name": "stdout",
          "text": [
            "[2022/08/09 22:22:00] ppocr WARNING: Since the angle classifier is not initialized, the angle classifier will not be uesd during the forward process\n",
            "[2022/08/09 22:22:01] ppocr DEBUG: dt_boxes num : 283, elapse : 0.2288970947265625\n",
            "[2022/08/09 22:22:01] ppocr DEBUG: rec_res num  : 283, elapse : 0.5126409530639648\n"
          ]
        }
      ]
    },
    {
      "cell_type": "code",
      "source": [
        "print(output)"
      ],
      "metadata": {
        "id": "UrNs0kapQOTc",
        "colab": {
          "base_uri": "https://localhost:8080/"
        },
        "outputId": "66d887d7-f470-4367-c6b7-4791c958adb6"
      },
      "execution_count": 53,
      "outputs": [
        {
          "output_type": "stream",
          "name": "stdout",
          "text": [
            "[[[[645.0, 224.0], [1188.0, 229.0], [1188.0, 268.0], [644.0, 263.0]], ('KA', 0.7629125118255615)], [[[598.0, 275.0], [1220.0, 275.0], [1220.0, 307.0], [598.0, 307.0]], ('Xiamen Changsu Industrial Corporation Limited', 0.9942663311958313)], [[[529.0, 307.0], [1291.0, 309.0], [1291.0, 341.0], [529.0, 338.0]], ('ADD:No. 268 Wengjiao Road. Xinyang Industrial Zone, Haicang Xiamen. 361026 China', 0.9423612356185913)], [[[603.0, 348.0], [1210.0, 351.0], [1210.0, 378.0], [603.0, 375.0]], ('Tel:+86-592-6800888 Fax:86-592-6806585 http/www.chang-su.com.cn', 0.9367617964744568)], [[[728.0, 387.0], [999.0, 387.0], [999.0, 421.0], [728.0, 421.0]], ('PACKING LIST', 0.9742295742034912)], [[[371.0, 436.0], [657.0, 436.0], [657.0, 460.0], [371.0, 460.0]], ('Messrs:Mag Data-S.p.A', 0.9582993388175964)], [[[866.0, 429.0], [1114.0, 429.0], [1114.0, 460.0], [866.0, 460.0]], ('Invoice No.: CS210746', 0.973578691482544)], [[[465.0, 455.0], [728.0, 458.0], [728.0, 490.0], [465.0, 487.0]], ('Strada della Selva 100/2', 0.9813306927680969)], [[[866.0, 458.0], [1144.0, 458.0], [1144.0, 490.0], [866.0, 490.0]], ('Date: September 14, 2021', 0.9957070350646973)], [[[468.0, 482.0], [694.0, 487.0], [693.0, 519.0], [467.0, 514.0]], ('43052 Colorno (Italy)', 0.982163667678833)], [[[866.0, 487.0], [1004.0, 487.0], [1004.0, 514.0], [866.0, 514.0]], ('Payment: TT', 0.9948175549507141)], [[[465.0, 509.0], [718.0, 512.0], [718.0, 543.0], [465.0, 541.0]], ('Tel. 0039-0521-525320', 0.9960954785346985)], [[[866.0, 509.0], [1191.0, 509.0], [1191.0, 541.0], [866.0, 541.0]], ('Incoterms: CIF La Spezia, Italy', 0.9881941676139832)], [[[465.0, 538.0], [726.0, 538.0], [726.0, 570.0], [465.0, 570.0]], ('Fax. 0039-0521-525329', 0.9991735816001892)], [[[868.0, 541.0], [1038.0, 541.0], [1038.0, 567.0], [868.0, 567.0]], ('PO No.:1266', 0.9489038586616516)], [[[593.0, 597.0], [856.0, 597.0], [856.0, 621.0], [593.0, 621.0]], ('FROM:XIAMEN,CHINA', 0.9571058750152588)], [[[873.0, 597.0], [1129.0, 597.0], [1129.0, 621.0], [873.0, 621.0]], ('TO:LA SPEZIA,ITALY', 0.9047889709472656)], [[[746.0, 628.0], [886.0, 634.0], [885.0, 668.0], [745.0, 662.0]], ('Specification', 0.9861856698989868)], [[[970.0, 630.0], [1022.0, 637.0], [1018.0, 668.0], [966.0, 661.0]], (\"Qt'y\", 0.9492889046669006)], [[[1061.0, 628.0], [1186.0, 634.0], [1185.0, 668.0], [1060.0, 662.0]], (' Net Weight', 0.9680694341659546)], [[[1213.0, 636.0], [1358.0, 636.0], [1358.0, 662.0], [1213.0, 662.0]], ('Gross Weight', 0.9853989481925964)], [[[590.0, 650.0], [674.0, 650.0], [674.0, 675.0], [590.0, 675.0]], ('Type of', 0.9878107905387878)], [[[357.0, 662.0], [408.0, 662.0], [408.0, 689.0], [357.0, 689.0]], ('Item', 0.9869294166564941)], [[[433.0, 660.0], [559.0, 663.0], [558.0, 689.0], [433.0, 687.0]], ('Commodity', 0.9986441135406494)], [[[582.0, 672.0], [675.0, 678.0], [673.0, 704.0], [580.0, 698.0]], (' Material', 0.9717184901237488)], [[[699.0, 684.0], [866.0, 684.0], [866.0, 711.0], [699.0, 711.0]], ('T(m)[W(mm)', 0.9701740145683289)], [[[876.0, 681.0], [931.0, 688.0], [928.0, 715.0], [872.0, 708.0]], ('L(m)', 0.9975488185882568)], [[[969.0, 684.0], [1021.0, 684.0], [1021.0, 711.0], [969.0, 711.0]], ('Roll', 0.9669376015663147)], [[[1104.0, 684.0], [1141.0, 684.0], [1141.0, 716.0], [1104.0, 716.0]], ('kg', 0.9930960536003113)], [[[1267.0, 684.0], [1301.0, 684.0], [1301.0, 716.0], [1267.0, 716.0]], ('kg', 0.9969754815101624)], [[[711.0, 731.0], [750.0, 731.0], [750.0, 760.0], [711.0, 760.0]], ('20', 0.9991248846054077)], [[[795.0, 731.0], [841.0, 731.0], [841.0, 760.0], [795.0, 760.0]], ('860', 0.9996300339698792)], [[[866.0, 728.0], [940.0, 728.0], [940.0, 762.0], [866.0, 762.0]], ('15000', 0.9886655807495117)], [[[984.0, 733.0], [1006.0, 733.0], [1006.0, 760.0], [984.0, 760.0]], ('4', 0.9987666606903076)], [[[1085.0, 733.0], [1166.0, 733.0], [1166.0, 760.0], [1085.0, 760.0]], ('1195.70', 0.9983683824539185)], [[[374.0, 735.0], [394.0, 735.0], [394.0, 760.0], [374.0, 760.0]], ('1', 0.9958845973014832)], [[[1245.0, 733.0], [1323.0, 733.0], [1323.0, 760.0], [1245.0, 760.0]], ('1315.27', 0.9970092177391052)], [[[369.0, 767.0], [398.0, 767.0], [398.0, 801.0], [369.0, 801.0]], ('2', 0.9926372766494751)], [[[711.0, 770.0], [750.0, 770.0], [750.0, 801.0], [711.0, 801.0]], ('20', 0.9974876046180725)], [[[797.0, 770.0], [841.0, 770.0], [841.0, 799.0], [797.0, 799.0]], ('900', 0.9923627376556396)], [[[873.0, 766.0], [938.0, 773.0], [935.0, 802.0], [870.0, 796.0]], ('15000', 0.999163031578064)], [[[984.0, 774.0], [1006.0, 774.0], [1006.0, 801.0], [984.0, 801.0]], ('2', 0.9975712895393372)], [[[1085.0, 770.0], [1163.0, 770.0], [1163.0, 804.0], [1085.0, 804.0]], ('624.80', 0.9994123578071594)], [[[1247.0, 774.0], [1321.0, 774.0], [1321.0, 801.0], [1247.0, 801.0]], ('687.28', 0.9979293942451477)], [[[713.0, 811.0], [750.0, 811.0], [750.0, 843.0], [713.0, 843.0]], ('20', 0.9995744228363037)], [[[792.0, 811.0], [846.0, 811.0], [846.0, 840.0], [792.0, 840.0]], ('1240', 0.99931800365448)], [[[870.0, 808.0], [936.0, 814.0], [933.0, 843.0], [867.0, 837.0]], ('15000', 0.997273325920105)], [[[371.0, 813.0], [396.0, 813.0], [396.0, 840.0], [371.0, 840.0]], ('3', 0.9985032081604004)], [[[984.0, 813.0], [1006.0, 813.0], [1006.0, 840.0], [984.0, 840.0]], ('2', 0.9974356293678284)], [[[1087.0, 813.0], [1161.0, 813.0], [1161.0, 840.0], [1087.0, 840.0]], ('850.80', 0.9964391589164734)], [[[1245.0, 811.0], [1321.0, 811.0], [1321.0, 845.0], [1245.0, 845.0]], ('935.88', 0.9987471699714661)], [[[1084.0, 844.0], [1169.0, 851.0], [1167.0, 885.0], [1081.0, 879.0]], ('1048.30', 0.9989811182022095)], [[[867.0, 849.0], [938.0, 856.0], [936.0, 882.0], [865.0, 876.0]], ('24000', 0.9992356300354004)], [[[713.0, 850.0], [750.0, 850.0], [750.0, 882.0], [713.0, 882.0]], ('15', 0.9985827207565308)], [[[371.0, 852.0], [396.0, 852.0], [396.0, 877.0], [371.0, 877.0]], ('4', 0.999071478843689)], [[[797.0, 852.0], [841.0, 852.0], [841.0, 882.0], [797.0, 882.0]], ('630', 0.9986876845359802)], [[[984.0, 852.0], [1006.0, 852.0], [1006.0, 879.0], [984.0, 879.0]], ('4', 0.999014139175415)], [[[1244.0, 847.0], [1329.0, 853.0], [1327.0, 887.0], [1241.0, 881.0]], ('1153.13', 0.9965649843215942)], [[[798.0, 885.0], [842.0, 893.0], [837.0, 922.0], [793.0, 914.0]], ('650', 0.9964465498924255)], [[[367.0, 889.0], [398.0, 889.0], [398.0, 921.0], [367.0, 921.0]], ('5', 0.990924060344696)], [[[716.0, 891.0], [750.0, 891.0], [750.0, 921.0], [716.0, 921.0]], ('15', 0.9991828203201294)], [[[867.0, 888.0], [938.0, 895.0], [936.0, 921.0], [865.0, 915.0]], ('24000', 0.9991817474365234)], [[[984.0, 891.0], [1006.0, 891.0], [1006.0, 918.0], [984.0, 918.0]], ('2', 0.9968948364257812)], [[[1087.0, 894.0], [1161.0, 894.0], [1161.0, 921.0], [1087.0, 921.0]], ('533.80', 0.9978777766227722)], [[[1250.0, 894.0], [1321.0, 894.0], [1321.0, 921.0], [1250.0, 921.0]], ('587.18', 0.9978585839271545)], [[[608.0, 923.0], [657.0, 923.0], [657.0, 952.0], [608.0, 952.0]], ('OA1', 0.9832677245140076)], [[[868.0, 925.0], [938.0, 931.0], [935.0, 965.0], [865.0, 959.0]], ('24000', 0.998597264289856)], [[[1082.0, 927.0], [1167.0, 933.0], [1164.0, 967.0], [1079.0, 961.0]], ('1618.80', 0.998052179813385)], [[[371.0, 933.0], [396.0, 933.0], [396.0, 960.0], [371.0, 960.0]], ('6', 0.9764036536216736)], [[[797.0, 933.0], [839.0, 933.0], [839.0, 960.0], [797.0, 960.0]], ('660', 0.9978203773498535)], [[[718.0, 935.0], [748.0, 935.0], [748.0, 957.0], [718.0, 957.0]], ('15', 0.9994043111801147)], [[[984.0, 935.0], [1006.0, 935.0], [1006.0, 962.0], [984.0, 962.0]], ('6', 0.9932700991630554)], [[[1241.0, 927.0], [1327.0, 933.0], [1324.0, 967.0], [1239.0, 961.0]], ('1780.68', 0.9967798590660095)], [[[581.0, 952.0], [676.0, 952.0], [676.0, 979.0], [581.0, 979.0]], ('(Outside', 0.9611831307411194)], [[[716.0, 972.0], [750.0, 972.0], [750.0, 1003.0], [716.0, 1003.0]], ('15', 0.9988380670547485)], [[[797.0, 972.0], [839.0, 972.0], [839.0, 1001.0], [797.0, 1001.0]], ('680', 0.9990782737731934)], [[[868.0, 969.0], [938.0, 975.0], [935.0, 1004.0], [865.0, 998.0]], ('24000', 0.9990991353988647)], [[[1082.0, 972.0], [1168.0, 972.0], [1168.0, 1006.0], [1082.0, 1006.0]], ('1115.10', 0.987101674079895)], [[[371.0, 974.0], [396.0, 974.0], [396.0, 1001.0], [371.0, 1001.0]], ('7', 0.9685048460960388)], [[[984.0, 974.0], [1006.0, 974.0], [1006.0, 1001.0], [984.0, 1001.0]], ('4', 0.9990720748901367)], [[[585.0, 981.0], [676.0, 981.0], [676.0, 1006.0], [585.0, 1006.0]], ('treated)', 0.9741263389587402)], [[[1242.0, 972.0], [1326.0, 972.0], [1326.0, 1006.0], [1242.0, 1006.0]], ('1226.61', 0.9381131529808044)], [[[367.0, 1011.0], [398.0, 1011.0], [398.0, 1042.0], [367.0, 1042.0]], ('8', 0.9689708352088928)], [[[713.0, 1011.0], [750.0, 1011.0], [750.0, 1042.0], [713.0, 1042.0]], ('15', 0.9989457130432129)], [[[866.0, 1011.0], [940.0, 1011.0], [940.0, 1045.0], [866.0, 1045.0]], ('24000', 0.9902715682983398)], [[[1085.0, 1011.0], [1163.0, 1011.0], [1163.0, 1045.0], [1085.0, 1045.0]], ('563.20', 0.9956409931182861)], [[[795.0, 1013.0], [839.0, 1013.0], [839.0, 1042.0], [795.0, 1042.0]], ('690', 0.9970871806144714)], [[[984.0, 1016.0], [1006.0, 1016.0], [1006.0, 1042.0], [984.0, 1042.0]], ('2', 0.9966433048248291)], [[[1245.0, 1011.0], [1323.0, 1011.0], [1323.0, 1045.0], [1245.0, 1045.0]], ('619.52', 0.9939669966697693)], [[[367.0, 1050.0], [398.0, 1050.0], [398.0, 1084.0], [367.0, 1084.0]], ('9', 0.9880027770996094)], [[[866.0, 1050.0], [940.0, 1050.0], [940.0, 1084.0], [866.0, 1084.0]], ('24000', 0.9183696508407593)], [[[716.0, 1052.0], [750.0, 1052.0], [750.0, 1084.0], [716.0, 1084.0]], ('15', 0.9992071390151978)], [[[792.0, 1052.0], [849.0, 1052.0], [849.0, 1081.0], [792.0, 1081.0]], ('1000', 0.9995865225791931)], [[[984.0, 1055.0], [1006.0, 1055.0], [1006.0, 1081.0], [984.0, 1081.0]], ('6', 0.9916764497756958)], [[[1080.0, 1050.0], [1168.0, 1050.0], [1168.0, 1084.0], [1080.0, 1084.0]], ('2463.70', 0.9999139904975891)], [[[1242.0, 1055.0], [1323.0, 1055.0], [1323.0, 1081.0], [1242.0, 1081.0]], ('2710.07', 0.9959741830825806)], [[[364.0, 1091.0], [403.0, 1091.0], [403.0, 1123.0], [364.0, 1123.0]], ('10', 0.997919499874115)], [[[716.0, 1091.0], [750.0, 1091.0], [750.0, 1123.0], [716.0, 1123.0]], ('15', 0.9994724988937378)], [[[866.0, 1091.0], [940.0, 1091.0], [940.0, 1125.0], [866.0, 1125.0]], ('24000', 0.9948068857192993)], [[[1080.0, 1091.0], [1168.0, 1091.0], [1168.0, 1125.0], [1080.0, 1125.0]], ('2769.30', 0.9998578429222107)], [[[435.0, 1094.0], [558.0, 1094.0], [558.0, 1118.0], [435.0, 1118.0]], ('BOPAFILM', 0.9934945106506348)], [[[790.0, 1094.0], [849.0, 1094.0], [849.0, 1123.0], [790.0, 1123.0]], ('1120', 0.9975961446762085)], [[[986.0, 1096.0], [1006.0, 1096.0], [1006.0, 1123.0], [986.0, 1123.0]], ('6', 0.9929594993591309)], [[[1239.0, 1088.0], [1329.0, 1094.0], [1327.0, 1128.0], [1236.0, 1122.0]], ('3046.23', 0.996368944644928)], [[[868.0, 1127.0], [938.0, 1133.0], [935.0, 1162.0], [865.0, 1156.0]], ('24000', 0.9980248212814331)], [[[364.0, 1132.0], [401.0, 1132.0], [401.0, 1162.0], [364.0, 1162.0]], ('11', 0.9958180785179138)], [[[716.0, 1132.0], [750.0, 1132.0], [750.0, 1164.0], [716.0, 1164.0]], ('15', 0.999130368232727)], [[[792.0, 1132.0], [849.0, 1132.0], [849.0, 1162.0], [792.0, 1162.0]], ('1160', 0.9980889558792114)], [[[984.0, 1135.0], [1004.0, 1135.0], [1004.0, 1159.0], [984.0, 1159.0]], ('2', 0.998257577419281)], [[[1087.0, 1127.0], [1162.0, 1133.0], [1159.0, 1167.0], [1084.0, 1161.0]], ('952.60', 0.9982331395149231)], [[[1245.0, 1135.0], [1326.0, 1135.0], [1326.0, 1162.0], [1245.0, 1162.0]], ('1047.86', 0.9983190298080444)], [[[369.0, 1171.0], [403.0, 1171.0], [403.0, 1203.0], [369.0, 1203.0]], ('12', 0.9991902709007263)], [[[716.0, 1171.0], [750.0, 1171.0], [750.0, 1203.0], [716.0, 1203.0]], ('15', 0.9994196891784668)], [[[866.0, 1171.0], [940.0, 1171.0], [940.0, 1206.0], [866.0, 1206.0]], ('24000', 0.9985356330871582)], [[[1085.0, 1171.0], [1168.0, 1171.0], [1168.0, 1206.0], [1085.0, 1206.0]], ('1051.20', 0.9993506669998169)], [[[795.0, 1174.0], [849.0, 1174.0], [849.0, 1201.0], [795.0, 1201.0]], ('1280', 0.9989816546440125)], [[[984.0, 1174.0], [1004.0, 1174.0], [1004.0, 1201.0], [984.0, 1201.0]], ('2', 0.9958685636520386)], [[[1246.0, 1166.0], [1327.0, 1172.0], [1324.0, 1204.0], [1244.0, 1198.0]], ('1156.32', 0.9978102445602417)], [[[716.0, 1210.0], [748.0, 1210.0], [748.0, 1242.0], [716.0, 1242.0]], ('15', 0.9994385838508606)], [[[367.0, 1213.0], [406.0, 1213.0], [406.0, 1242.0], [367.0, 1242.0]], ('13', 0.9989076852798462)], [[[797.0, 1213.0], [841.0, 1213.0], [841.0, 1242.0], [797.0, 1242.0]], ('830', 0.9971191883087158)], [[[868.0, 1213.0], [937.0, 1213.0], [937.0, 1244.0], [868.0, 1244.0]], ('24000', 0.9991165995597839)], [[[984.0, 1215.0], [1006.0, 1215.0], [1006.0, 1240.0], [984.0, 1240.0]], ('4', 0.9994768500328064)], [[[1084.0, 1207.0], [1167.0, 1214.0], [1164.0, 1248.0], [1081.0, 1241.0]], ('1366.30', 0.9741716384887695)], [[[1247.0, 1215.0], [1326.0, 1215.0], [1326.0, 1242.0], [1247.0, 1242.0]], ('1502.93', 0.9986298680305481)], [[[367.0, 1252.0], [403.0, 1252.0], [403.0, 1283.0], [367.0, 1283.0]], ('14', 0.9989055395126343)], [[[1085.0, 1252.0], [1161.0, 1252.0], [1161.0, 1286.0], [1085.0, 1286.0]], ('776.20', 0.9978799223899841)], [[[721.0, 1254.0], [745.0, 1254.0], [745.0, 1281.0], [721.0, 1281.0]], ('15', 0.9993884563446045)], [[[797.0, 1254.0], [839.0, 1254.0], [839.0, 1281.0], [797.0, 1281.0]], ('945', 0.9991855025291443)], [[[868.0, 1254.0], [937.0, 1254.0], [937.0, 1286.0], [868.0, 1286.0]], ('24000', 0.9917824864387512)], [[[984.0, 1257.0], [1006.0, 1257.0], [1006.0, 1283.0], [984.0, 1283.0]], ('2', 0.9971631169319153)], [[[1245.0, 1252.0], [1321.0, 1252.0], [1321.0, 1286.0], [1245.0, 1286.0]], ('853.82', 0.9988505840301514)], [[[367.0, 1293.0], [403.0, 1293.0], [403.0, 1325.0], [367.0, 1325.0]], ('15', 0.99794602394104)], [[[608.0, 1293.0], [659.0, 1293.0], [659.0, 1320.0], [608.0, 1320.0]], ('OA2', 0.9600550532341003)], [[[795.0, 1293.0], [849.0, 1293.0], [849.0, 1322.0], [795.0, 1322.0]], ('1040', 0.9989509582519531)], [[[868.0, 1293.0], [937.0, 1293.0], [937.0, 1325.0], [868.0, 1325.0]], ('24000', 0.9987651705741882)], [[[1085.0, 1293.0], [1163.0, 1293.0], [1163.0, 1327.0], [1085.0, 1327.0]], ('859.20', 0.9984200596809387)], [[[721.0, 1296.0], [748.0, 1296.0], [748.0, 1320.0], [721.0, 1320.0]], ('15', 0.9995201826095581)], [[[984.0, 1296.0], [1006.0, 1296.0], [1006.0, 1325.0], [984.0, 1325.0]], ('2', 0.9968554973602295)], [[[1245.0, 1293.0], [1323.0, 1293.0], [1323.0, 1327.0], [1245.0, 1327.0]], ('945.12', 0.9949562549591064)], [[[605.0, 1314.0], [670.0, 1321.0], [667.0, 1350.0], [602.0, 1344.0]], ('(Both', 0.9591751098632812)], [[[367.0, 1332.0], [406.0, 1332.0], [406.0, 1366.0], [367.0, 1366.0]], ('16', 0.9939545392990112)], [[[866.0, 1326.0], [938.0, 1333.0], [935.0, 1370.0], [862.0, 1363.0]], ('24000', 0.9967703819274902)], [[[795.0, 1335.0], [849.0, 1335.0], [849.0, 1364.0], [795.0, 1364.0]], ('1060', 0.9976627826690674)], [[[721.0, 1337.0], [748.0, 1337.0], [748.0, 1361.0], [721.0, 1361.0]], ('15', 0.9988665580749512)], [[[984.0, 1337.0], [1006.0, 1337.0], [1006.0, 1364.0], [984.0, 1364.0]], ('2', 0.9964224696159363)], [[[1085.0, 1332.0], [1163.0, 1332.0], [1163.0, 1366.0], [1085.0, 1366.0]], ('870.60', 0.9962353706359863)], [[[1247.0, 1337.0], [1321.0, 1337.0], [1321.0, 1364.0], [1247.0, 1364.0]], ('957.66', 0.996901273727417)], [[[603.0, 1347.0], [664.0, 1347.0], [664.0, 1376.0], [603.0, 1376.0]], ('sides', 0.9987600445747375)], [[[367.0, 1371.0], [403.0, 1371.0], [403.0, 1405.0], [367.0, 1405.0]], ('17', 0.9975343346595764)], [[[716.0, 1374.0], [750.0, 1374.0], [750.0, 1405.0], [716.0, 1405.0]], ('15', 0.9985904693603516)], [[[795.0, 1374.0], [849.0, 1374.0], [849.0, 1403.0], [795.0, 1403.0]], ('1160', 0.9993657469749451)], [[[866.0, 1371.0], [940.0, 1371.0], [940.0, 1405.0], [866.0, 1405.0]], ('24000', 0.999311625957489)], [[[1087.0, 1374.0], [1163.0, 1374.0], [1163.0, 1408.0], [1087.0, 1408.0]], ('952.60', 0.9998450875282288)], [[[984.0, 1376.0], [1006.0, 1376.0], [1006.0, 1405.0], [984.0, 1405.0]], ('2', 0.9971194267272949)], [[[581.0, 1378.0], [672.0, 1378.0], [672.0, 1403.0], [581.0, 1403.0]], ('treated)', 0.9899113178253174)], [[[1242.0, 1374.0], [1328.0, 1374.0], [1328.0, 1408.0], [1242.0, 1408.0]], ('1047.86', 0.9910273551940918)], [[[367.0, 1413.0], [403.0, 1413.0], [403.0, 1447.0], [367.0, 1447.0]], ('18', 0.9963214993476868)], [[[716.0, 1413.0], [750.0, 1413.0], [750.0, 1444.0], [716.0, 1444.0]], ('15', 0.9990929365158081)], [[[797.0, 1415.0], [839.0, 1415.0], [839.0, 1444.0], [797.0, 1444.0]], ('675', 0.9978494048118591)], [[[866.0, 1413.0], [940.0, 1413.0], [940.0, 1447.0], [866.0, 1447.0]], ('24000', 0.9972342252731323)], [[[984.0, 1417.0], [1006.0, 1417.0], [1006.0, 1444.0], [984.0, 1444.0]], ('2', 0.9958608746528625)], [[[1087.0, 1417.0], [1161.0, 1417.0], [1161.0, 1444.0], [1087.0, 1444.0]], ('558.00', 0.9978144764900208)], [[[1247.0, 1417.0], [1318.0, 1417.0], [1318.0, 1444.0], [1247.0, 1444.0]], ('613.80', 0.9974328875541687)], [[[367.0, 1454.0], [406.0, 1454.0], [406.0, 1486.0], [367.0, 1486.0]], ('19', 0.9967403411865234)], [[[718.0, 1454.0], [750.0, 1454.0], [750.0, 1486.0], [718.0, 1486.0]], ('15', 0.9976208806037903)], [[[856.0, 1454.0], [940.0, 1454.0], [940.0, 1488.0], [856.0, 1488.0]], ('24000', 0.9963455200195312)], [[[1082.0, 1454.0], [1168.0, 1454.0], [1168.0, 1488.0], [1082.0, 1488.0]], ('1141.60', 0.9979168772697449)], [[[797.0, 1456.0], [841.0, 1456.0], [841.0, 1483.0], [797.0, 1483.0]], ('695', 0.9980315566062927)], [[[984.0, 1456.0], [1006.0, 1456.0], [1006.0, 1483.0], [984.0, 1483.0]], ('4', 0.9984129667282104)], [[[1246.0, 1453.0], [1327.0, 1459.0], [1324.0, 1489.0], [1244.0, 1483.0]], ('1255.76', 0.9990840554237366)], [[[453.0, 1493.0], [829.0, 1493.0], [829.0, 1527.0], [453.0, 1527.0]], ('Sub-total (CMAU9079588/C1856699)', 0.9843434691429138)], [[[979.0, 1495.0], [1013.0, 1495.0], [1013.0, 1525.0], [979.0, 1525.0]], ('60', 0.9971225261688232)], [[[1074.0, 1490.0], [1174.0, 1496.0], [1172.0, 1530.0], [1072.0, 1524.0]], ('21311.80', 0.9994810819625854)], [[[1237.0, 1498.0], [1331.0, 1498.0], [1331.0, 1525.0], [1237.0, 1525.0]], ('23442.98', 0.9999295473098755)], [[[1085.0, 1534.0], [1163.0, 1534.0], [1163.0, 1568.0], [1085.0, 1568.0]], ('585.70', 0.9994714260101318)], [[[721.0, 1537.0], [748.0, 1537.0], [748.0, 1561.0], [721.0, 1561.0]], ('15', 0.9995718598365784)], [[[797.0, 1537.0], [841.0, 1537.0], [841.0, 1564.0], [797.0, 1564.0]], ('710', 0.9985612034797668)], [[[868.0, 1537.0], [937.0, 1537.0], [937.0, 1564.0], [868.0, 1564.0]], ('24000', 0.9989832639694214)], [[[986.0, 1537.0], [1006.0, 1537.0], [1006.0, 1566.0], [986.0, 1566.0]], ('2', 0.9993343949317932)], [[[1245.0, 1534.0], [1321.0, 1534.0], [1321.0, 1568.0], [1245.0, 1568.0]], ('644.27', 0.9994063377380371)], [[[379.0, 1544.0], [396.0, 1544.0], [396.0, 1561.0], [379.0, 1561.0]], ('1', 0.9827364683151245)], [[[367.0, 1576.0], [398.0, 1576.0], [398.0, 1607.0], [367.0, 1607.0]], ('2', 0.9923481941223145)], [[[716.0, 1576.0], [750.0, 1576.0], [750.0, 1607.0], [716.0, 1607.0]], ('15', 0.9983305931091309)], [[[797.0, 1576.0], [841.0, 1576.0], [841.0, 1605.0], [797.0, 1605.0]], ('720', 0.9974508881568909)], [[[866.0, 1573.0], [940.0, 1573.0], [940.0, 1607.0], [866.0, 1607.0]], ('24000', 0.9979038238525391)], [[[1082.0, 1576.0], [1168.0, 1576.0], [1168.0, 1610.0], [1082.0, 1610.0]], ('1192.30', 0.999812662601471)], [[[984.0, 1578.0], [1006.0, 1578.0], [1006.0, 1605.0], [984.0, 1605.0]], ('4', 0.9982105493545532)], [[[1242.0, 1576.0], [1328.0, 1576.0], [1328.0, 1610.0], [1242.0, 1610.0]], ('1311.53', 0.9694048166275024)], [[[367.0, 1615.0], [398.0, 1615.0], [398.0, 1649.0], [367.0, 1649.0]], ('3', 0.9984619617462158)], [[[716.0, 1615.0], [750.0, 1615.0], [750.0, 1649.0], [716.0, 1649.0]], ('15', 0.997559666633606)], [[[866.0, 1615.0], [940.0, 1615.0], [940.0, 1649.0], [866.0, 1649.0]], ('24000', 0.999487042427063)], [[[1082.0, 1615.0], [1168.0, 1615.0], [1168.0, 1649.0], [1082.0, 1649.0]], ('1256.00', 0.967262327671051)], [[[799.0, 1617.0], [841.0, 1617.0], [841.0, 1646.0], [799.0, 1646.0]], ('760', 0.9991047978401184)], [[[986.0, 1620.0], [1006.0, 1620.0], [1006.0, 1644.0], [986.0, 1644.0]], ('4', 0.999688982963562)], [[[1242.0, 1615.0], [1328.0, 1615.0], [1328.0, 1649.0], [1242.0, 1649.0]], ('1381.60', 0.9994377493858337)], [[[716.0, 1656.0], [750.0, 1656.0], [750.0, 1688.0], [716.0, 1688.0]], ('15', 0.9982945322990417)], [[[797.0, 1656.0], [841.0, 1656.0], [841.0, 1685.0], [797.0, 1685.0]], ('780', 0.998967170715332)], [[[866.0, 1654.0], [945.0, 1654.0], [945.0, 1688.0], [866.0, 1688.0]], ('24000', 0.9971315264701843)], [[[1085.0, 1656.0], [1168.0, 1656.0], [1168.0, 1690.0], [1085.0, 1690.0]], ('1281.20', 0.9995017051696777)], [[[991.0, 1663.0], [1004.0, 1663.0], [1004.0, 1680.0], [991.0, 1680.0]], ('4', 0.9994377493858337)], [[[1242.0, 1656.0], [1328.0, 1656.0], [1328.0, 1690.0], [1242.0, 1690.0]], ('1409.32', 0.9999558329582214)], [[[868.0, 1692.0], [938.0, 1698.0], [935.0, 1727.0], [865.0, 1721.0]], ('24000', 0.9993073344230652)], [[[1087.0, 1695.0], [1163.0, 1695.0], [1163.0, 1729.0], [1087.0, 1729.0]], ('681.60', 0.9991388916969299)], [[[716.0, 1697.0], [753.0, 1697.0], [753.0, 1727.0], [716.0, 1727.0]], ('15', 0.9991222620010376)], [[[797.0, 1697.0], [841.0, 1697.0], [841.0, 1727.0], [797.0, 1727.0]], ('830', 0.9998154044151306)], [[[371.0, 1700.0], [396.0, 1700.0], [396.0, 1727.0], [371.0, 1727.0]], ('5', 0.9970988035202026)], [[[986.0, 1700.0], [1006.0, 1700.0], [1006.0, 1724.0], [986.0, 1724.0]], ('2', 0.998121440410614)], [[[1244.0, 1692.0], [1322.0, 1698.0], [1319.0, 1732.0], [1241.0, 1726.0]], ('749.76', 0.9964854717254639)], [[[608.0, 1729.0], [659.0, 1729.0], [659.0, 1758.0], [608.0, 1758.0]], ('OA1', 0.9524502754211426)], [[[716.0, 1736.0], [753.0, 1736.0], [753.0, 1768.0], [716.0, 1768.0]], ('15', 0.9987820386886597)], [[[801.0, 1733.0], [843.0, 1739.0], [838.0, 1770.0], [796.0, 1765.0]], ('860', 0.9973941445350647)], [[[866.0, 1736.0], [940.0, 1736.0], [940.0, 1771.0], [866.0, 1771.0]], ('24000', 0.9982591867446899)], [[[1082.0, 1736.0], [1168.0, 1736.0], [1168.0, 1771.0], [1082.0, 1771.0]], ('1776.80', 0.9999293684959412)], [[[365.0, 1742.0], [390.0, 1735.0], [398.0, 1763.0], [373.0, 1770.0]], ('6', 0.9858977794647217)], [[[1245.0, 1736.0], [1328.0, 1736.0], [1328.0, 1771.0], [1245.0, 1771.0]], ('1954.48', 0.9995927810668945)], [[[989.0, 1746.0], [1001.0, 1746.0], [1001.0, 1763.0], [989.0, 1763.0]], ('5', 0.9995310306549072)], [[[588.0, 1758.0], [679.0, 1758.0], [679.0, 1785.0], [588.0, 1785.0]], ('(Outside', 0.9966031312942505)], [[[866.0, 1775.0], [940.0, 1775.0], [940.0, 1810.0], [866.0, 1810.0]], ('24000', 0.9971691966056824)], [[[371.0, 1778.0], [394.0, 1778.0], [394.0, 1805.0], [371.0, 1805.0]], ('7', 0.984216034412384)], [[[799.0, 1778.0], [841.0, 1778.0], [841.0, 1807.0], [799.0, 1807.0]], ('870', 0.9997174143791199)], [[[723.0, 1780.0], [748.0, 1780.0], [748.0, 1805.0], [723.0, 1805.0]], ('15', 0.9995362162590027)], [[[1087.0, 1772.0], [1167.0, 1778.0], [1164.0, 1813.0], [1084.0, 1806.0]], ('1788.50', 0.9990552067756653)], [[[991.0, 1783.0], [1006.0, 1783.0], [1006.0, 1805.0], [991.0, 1805.0]], ('5', 0.9989163875579834)], [[[588.0, 1788.0], [674.0, 1788.0], [674.0, 1812.0], [588.0, 1812.0]], ('treated)', 0.9976070523262024)], [[[1247.0, 1780.0], [1326.0, 1780.0], [1326.0, 1807.0], [1247.0, 1807.0]], ('1967.35', 0.9984211325645447)], [[[868.0, 1816.0], [938.0, 1822.0], [935.0, 1852.0], [865.0, 1845.0]], ('24000', 0.9971963763237)], [[[1082.0, 1817.0], [1168.0, 1817.0], [1168.0, 1851.0], [1082.0, 1851.0]], ('1576.80', 0.9996213912963867)], [[[799.0, 1819.0], [841.0, 1819.0], [841.0, 1848.0], [799.0, 1848.0]], ('960', 0.9964818954467773)], [[[435.0, 1822.0], [561.0, 1822.0], [561.0, 1846.0], [435.0, 1846.0]], ('BOPA FILM', 0.9499514698982239)], [[[723.0, 1822.0], [748.0, 1822.0], [748.0, 1846.0], [723.0, 1846.0]], ('15', 0.999373733997345)], [[[374.0, 1824.0], [396.0, 1824.0], [396.0, 1846.0], [374.0, 1846.0]], ('8', 0.9843610525131226)], [[[1242.0, 1817.0], [1328.0, 1817.0], [1328.0, 1851.0], [1242.0, 1851.0]], ('1734.48', 0.9997270703315735)], [[[718.0, 1858.0], [750.0, 1858.0], [750.0, 1890.0], [718.0, 1890.0]], ('15', 0.9985803365707397)], [[[799.0, 1858.0], [841.0, 1858.0], [841.0, 1887.0], [799.0, 1887.0]], ('980', 0.9968123435974121)], [[[1082.0, 1858.0], [1168.0, 1858.0], [1168.0, 1892.0], [1082.0, 1892.0]], ('1607.20', 0.9286679625511169)], [[[371.0, 1861.0], [396.0, 1861.0], [396.0, 1887.0], [371.0, 1887.0]], ('9', 0.992469847202301)], [[[868.0, 1861.0], [937.0, 1861.0], [937.0, 1887.0], [868.0, 1887.0]], ('24000', 0.9991859197616577)], [[[986.0, 1863.0], [1006.0, 1863.0], [1006.0, 1887.0], [986.0, 1887.0]], ('4', 0.9992473125457764)], [[[1241.0, 1855.0], [1329.0, 1861.0], [1327.0, 1896.0], [1239.0, 1889.0]], ('1767.92', 0.9981465339660645)], [[[367.0, 1900.0], [403.0, 1900.0], [403.0, 1931.0], [367.0, 1931.0]], ('10', 0.9978692531585693)], [[[718.0, 1900.0], [750.0, 1900.0], [750.0, 1931.0], [718.0, 1931.0]], ('15', 0.9975643754005432)], [[[795.0, 1900.0], [849.0, 1900.0], [849.0, 1929.0], [795.0, 1929.0]], ('1050', 0.9991278648376465)], [[[866.0, 1897.0], [940.0, 1897.0], [940.0, 1931.0], [866.0, 1931.0]], ('24000', 0.9814613461494446)], [[[989.0, 1902.0], [1006.0, 1902.0], [1006.0, 1929.0], [989.0, 1929.0]], ('4', 0.9775631427764893)], [[[1085.0, 1902.0], [1166.0, 1902.0], [1166.0, 1929.0], [1085.0, 1929.0]], ('1736.90', 0.9973395466804504)], [[[1247.0, 1902.0], [1326.0, 1902.0], [1326.0, 1929.0], [1247.0, 1929.0]], ('1910.59', 0.9982680082321167)], [[[367.0, 1939.0], [403.0, 1939.0], [403.0, 1970.0], [367.0, 1970.0]], ('11', 0.9988807439804077)], [[[866.0, 1939.0], [940.0, 1939.0], [940.0, 1973.0], [866.0, 1973.0]], ('24000', 0.9178279638290405)], [[[718.0, 1941.0], [753.0, 1941.0], [753.0, 1970.0], [718.0, 1970.0]], ('15', 0.9986507892608643)], [[[792.0, 1941.0], [851.0, 1941.0], [851.0, 1970.0], [792.0, 1970.0]], ('1060', 0.9982338547706604)], [[[986.0, 1943.0], [1006.0, 1943.0], [1006.0, 1970.0], [986.0, 1970.0]], ('4', 0.9987258315086365)], [[[1084.0, 1936.0], [1167.0, 1942.0], [1164.0, 1976.0], [1081.0, 1970.0]], ('1747.10', 0.9981516003608704)], [[[1245.0, 1943.0], [1323.0, 1943.0], [1323.0, 1970.0], [1245.0, 1970.0]], ('1921.81', 0.9961928725242615)], [[[1079.0, 1974.0], [1169.0, 1981.0], [1167.0, 2015.0], [1077.0, 2008.0]], ('3633.50', 0.9988405108451843)], [[[367.0, 1980.0], [403.0, 1980.0], [403.0, 2012.0], [367.0, 2012.0]], ('12', 0.9986196756362915)], [[[866.0, 1980.0], [940.0, 1980.0], [940.0, 2014.0], [866.0, 2014.0]], ('24000', 0.9824212789535522)], [[[723.0, 1982.0], [748.0, 1982.0], [748.0, 2009.0], [723.0, 2009.0]], ('15', 0.9995250701904297)], [[[795.0, 1982.0], [849.0, 1982.0], [849.0, 2009.0], [795.0, 2009.0]], ('1100', 0.9995460510253906)], [[[984.0, 1982.0], [1006.0, 1982.0], [1006.0, 2009.0], [984.0, 2009.0]], ('8', 0.9956455826759338)], [[[1241.0, 1979.0], [1327.0, 1985.0], [1324.0, 2015.0], [1239.0, 2009.0]], ('3996.85', 0.9990717172622681)], [[[608.0, 2021.0], [659.0, 2021.0], [659.0, 2051.0], [608.0, 2051.0]], ('OA2', 0.887977659702301)], [[[799.0, 2034.0], [841.0, 2034.0], [841.0, 2060.0], [799.0, 2060.0]], ('850', 0.9989961981773376)], [[[868.0, 2034.0], [937.0, 2034.0], [937.0, 2060.0], [868.0, 2060.0]], ('24000', 0.9994794726371765)], [[[371.0, 2036.0], [398.0, 2036.0], [398.0, 2060.0], [371.0, 2060.0]], ('13', 0.9993429780006409)], [[[723.0, 2036.0], [750.0, 2036.0], [750.0, 2058.0], [723.0, 2058.0]], ('15', 0.9996671676635742)], [[[986.0, 2036.0], [1006.0, 2036.0], [1006.0, 2060.0], [986.0, 2060.0]], ('4', 0.9991010427474976)], [[[1084.0, 2031.0], [1167.0, 2037.0], [1164.0, 2066.0], [1082.0, 2060.0]], ('1397.90', 0.9993196725845337)], [[[604.0, 2045.0], [675.0, 2051.0], [672.0, 2078.0], [602.0, 2072.0]], ('Both', 0.9945929050445557)], [[[1245.0, 2036.0], [1326.0, 2036.0], [1326.0, 2063.0], [1245.0, 2063.0]], ('1537.69', 0.998302161693573)], [[[603.0, 2077.0], [667.0, 2077.0], [667.0, 2104.0], [603.0, 2104.0]], ('sides', 0.9984813928604126)], [[[799.0, 2094.0], [841.0, 2094.0], [841.0, 2121.0], [799.0, 2121.0]], ('880', 0.9920235276222229)], [[[371.0, 2097.0], [398.0, 2097.0], [398.0, 2121.0], [371.0, 2121.0]], ('14', 0.9996285438537598)], [[[723.0, 2097.0], [750.0, 2097.0], [750.0, 2119.0], [723.0, 2119.0]], ('15', 0.9993046522140503)], [[[868.0, 2089.0], [943.0, 2095.0], [940.0, 2124.0], [865.0, 2118.0]], ('24000', 0.9989680051803589)], [[[984.0, 2097.0], [1006.0, 2097.0], [1006.0, 2124.0], [984.0, 2124.0]], ('2', 0.9973020553588867)], [[[1090.0, 2097.0], [1161.0, 2097.0], [1161.0, 2124.0], [1090.0, 2124.0]], ('727.40', 0.9983720183372498)], [[[1250.0, 2097.0], [1321.0, 2097.0], [1321.0, 2124.0], [1250.0, 2124.0]], ('800.14', 0.9987466931343079)], [[[583.0, 2107.0], [674.0, 2107.0], [674.0, 2131.0], [583.0, 2131.0]], ('treated)', 0.9885703325271606)], [[[455.0, 2141.0], [834.0, 2141.0], [834.0, 2172.0], [455.0, 2172.0]], ('Sub-total (CMAU8246588/C0822401)', 0.9822308421134949)], [[[977.0, 2143.0], [1016.0, 2143.0], [1016.0, 2172.0], [977.0, 2172.0]], ('56', 0.9928613901138306)], [[[1079.0, 2138.0], [1171.0, 2144.0], [1170.0, 2173.0], [1077.0, 2167.0]], ('20988.90', 0.999891996383667)], [[[1237.0, 2146.0], [1331.0, 2146.0], [1331.0, 2172.0], [1237.0, 2172.0]], ('23087.79', 0.998826801776886)]]\n"
          ]
        }
      ]
    },
    {
      "cell_type": "code",
      "source": [
        "boxes=[line[0] for line in output]\n",
        "texts=[line[1][0] for line in output]\n",
        "probabilities=[line[1][1] for line in output]"
      ],
      "metadata": {
        "id": "QMutajTIQ8Lk"
      },
      "execution_count": 54,
      "outputs": []
    },
    {
      "cell_type": "code",
      "source": [
        "image_boxes=image_cv.copy()"
      ],
      "metadata": {
        "id": "TBhN_en-RMtN"
      },
      "execution_count": 55,
      "outputs": []
    },
    {
      "cell_type": "code",
      "source": [
        "for box,text in zip(boxes,texts):\n",
        "  cv2.rectangle(image_boxes,(int(box[0][0]),int(box[0][1])),(int(box[2][0]),int(box[2][1])),(0,0,255),1)\n",
        "  cv2.putText(image_boxes,text,(int(box[0][0]),int(box[0][1])),cv2.FONT_HERSHEY_SIMPLEX,1,(222,0,0),1)"
      ],
      "metadata": {
        "id": "g8t6ScjeRXJj"
      },
      "execution_count": 56,
      "outputs": []
    },
    {
      "cell_type": "code",
      "source": [
        "cv2.imwrite('detections.jpg',image_boxes)"
      ],
      "metadata": {
        "id": "jDyjK98YVVmb",
        "colab": {
          "base_uri": "https://localhost:8080/"
        },
        "outputId": "59d538ff-89dd-446f-d996-6fd4e0f34235"
      },
      "execution_count": 57,
      "outputs": [
        {
          "output_type": "execute_result",
          "data": {
            "text/plain": [
              "True"
            ]
          },
          "metadata": {},
          "execution_count": 57
        }
      ]
    },
    {
      "cell_type": "markdown",
      "source": [
        "### Reconstruction "
      ],
      "metadata": {
        "id": "tk5v27c6bl7Y"
      }
    },
    {
      "cell_type": "code",
      "source": [
        "im=image_cv.copy()"
      ],
      "metadata": {
        "id": "7Mc_BQA6kaC5"
      },
      "execution_count": 58,
      "outputs": []
    },
    {
      "cell_type": "code",
      "source": [
        "horiz_boxes=[]\n",
        "vert_boxes=[]\n",
        "\n",
        "for box in boxes:\n",
        "  x_h,x_v=0,int(box[0][0])\n",
        "  y_h,y_v=int(box[0][1]),0\n",
        "  width_h,width_v=image_width,int(box[2][0]-box[0][0])\n",
        "  height_h,height_v=int(box[2][1]-box[0][1]),image_height\n",
        "                                    \n",
        "  horiz_boxes.append([x_h,y_h,x_h+width_h,y_h+height_h])\n",
        "  vert_boxes.append([x_v,y_v,x_v+width_v,y_v+height_v])\n",
        "\n",
        "  cv2.rectangle(im,(x_h,y_h),(x_h+width_h,y_h+height_h),(255,255,0),1)\n",
        "  cv2.rectangle(im,(x_v,y_v),(x_v+width_v,y_v+height_v),(255,255,0),1)"
      ],
      "metadata": {
        "id": "sf9wAKslboj_"
      },
      "execution_count": 59,
      "outputs": []
    },
    {
      "cell_type": "code",
      "source": [
        "boxes[0]"
      ],
      "metadata": {
        "id": "fPYN6XrUkNWR",
        "colab": {
          "base_uri": "https://localhost:8080/"
        },
        "outputId": "45123899-ec66-4699-9ded-76e7ab873156"
      },
      "execution_count": 60,
      "outputs": [
        {
          "output_type": "execute_result",
          "data": {
            "text/plain": [
              "[[645.0, 224.0], [1188.0, 229.0], [1188.0, 268.0], [644.0, 263.0]]"
            ]
          },
          "metadata": {},
          "execution_count": 60
        }
      ]
    },
    {
      "cell_type": "code",
      "source": [
        "horiz_boxes[0]"
      ],
      "metadata": {
        "id": "z75WVagUkR36",
        "colab": {
          "base_uri": "https://localhost:8080/"
        },
        "outputId": "c0b3866f-36f6-4853-d8f0-8eeb8fb01ca4"
      },
      "execution_count": 61,
      "outputs": [
        {
          "output_type": "execute_result",
          "data": {
            "text/plain": [
              "[0, 224, 1653, 268]"
            ]
          },
          "metadata": {},
          "execution_count": 61
        }
      ]
    },
    {
      "cell_type": "code",
      "source": [
        "cv2.imwrite('horiz_vert.jpg',im)"
      ],
      "metadata": {
        "id": "f0-acPD72EUq",
        "colab": {
          "base_uri": "https://localhost:8080/"
        },
        "outputId": "d610d89e-9ced-42c4-e2cb-848027151f3d"
      },
      "execution_count": 62,
      "outputs": [
        {
          "output_type": "execute_result",
          "data": {
            "text/plain": [
              "True"
            ]
          },
          "metadata": {},
          "execution_count": 62
        }
      ]
    },
    {
      "cell_type": "code",
      "source": [
        "# cv2.imwrite('vert.jpg',im)"
      ],
      "metadata": {
        "id": "mrpvzhCok49F"
      },
      "execution_count": 63,
      "outputs": []
    },
    {
      "cell_type": "code",
      "source": [
        "import tensorflow as tf\n",
        "horiz_out=tf.image.non_max_suppression(horiz_boxes,\n",
        "                                       probabilities,\n",
        "                                       max_output_size=1000,\n",
        "                                       iou_threshold=0.1,\n",
        "                                       score_threshold=float('-inf'),\n",
        "                                       name=None)"
      ],
      "metadata": {
        "id": "IMLf0lk9lgnc"
      },
      "execution_count": 64,
      "outputs": []
    },
    {
      "cell_type": "code",
      "source": [
        "print(horiz_out)"
      ],
      "metadata": {
        "id": "X7Z6y-OBm-uW",
        "colab": {
          "base_uri": "https://localhost:8080/"
        },
        "outputId": "c46d1e4e-8c02-41a9-e20f-ca633ab13170"
      },
      "execution_count": 65,
      "outputs": [
        {
          "output_type": "stream",
          "name": "stdout",
          "text": [
            "tf.Tensor(\n",
            "[201 174 213  94 281  99 153 205 186 232 220 194 265  31 272  44 176 258\n",
            " 137 122 112  42  70 127 238  52  60  13 106 242  76 158 170  83 247 144\n",
            "  23  29  11   8  10   1  20   4   6  15   2   3   0], shape=(49,), dtype=int32)\n"
          ]
        }
      ]
    },
    {
      "cell_type": "code",
      "source": [
        "import numpy as np\n",
        "horiz_lines=np.sort(np.array(horiz_out))\n",
        "print(horiz_lines)"
      ],
      "metadata": {
        "id": "5mkLiWllnDl8",
        "colab": {
          "base_uri": "https://localhost:8080/"
        },
        "outputId": "3a8c0154-2875-47a6-d034-0aadb218397b"
      },
      "execution_count": 66,
      "outputs": [
        {
          "output_type": "stream",
          "name": "stdout",
          "text": [
            "[  0   1   2   3   4   6   8  10  11  13  15  20  23  29  31  42  44  52\n",
            "  60  70  76  83  94  99 106 112 122 127 137 144 153 158 170 174 176 186\n",
            " 194 201 205 213 220 232 238 242 247 258 265 272 281]\n"
          ]
        }
      ]
    },
    {
      "cell_type": "code",
      "source": [
        "in_nms=image_cv.copy()"
      ],
      "metadata": {
        "id": "5vTIiVXBnXw7"
      },
      "execution_count": 67,
      "outputs": []
    },
    {
      "cell_type": "code",
      "source": [
        "for val in horiz_lines:\n",
        "  # print(val)\n",
        "  cv2.rectangle(in_nms,(int(horiz_boxes[val][0]),int(horiz_boxes[val][1])),(int(horiz_boxes[val][2]),int(horiz_boxes[val][3])),(0,0,255),1)"
      ],
      "metadata": {
        "id": "EwijmH09sRFm"
      },
      "execution_count": 68,
      "outputs": []
    },
    {
      "cell_type": "code",
      "source": [
        "cv2.imwrite('im_nms.jpg',in_nms)"
      ],
      "metadata": {
        "id": "9SaUA9CisZRE",
        "colab": {
          "base_uri": "https://localhost:8080/"
        },
        "outputId": "9989f9f5-4992-48cc-a1b6-b06a3611eda3"
      },
      "execution_count": 69,
      "outputs": [
        {
          "output_type": "execute_result",
          "data": {
            "text/plain": [
              "True"
            ]
          },
          "metadata": {},
          "execution_count": 69
        }
      ]
    },
    {
      "cell_type": "code",
      "source": [
        "vert_out=tf.image.non_max_suppression(vert_boxes,\n",
        "                                      probabilities,\n",
        "                                      max_output_size=1000,\n",
        "                                      iou_threshold=0.1,\n",
        "                                      score_threshold=float('-inf'),\n",
        "                                      name=None)"
      ],
      "metadata": {
        "id": "Mio9DL5Fq7hq"
      },
      "execution_count": 70,
      "outputs": []
    },
    {
      "cell_type": "code",
      "source": [
        "vert_lines=np.sort(np.array(vert_out))\n",
        "print(vert_lines)"
      ],
      "metadata": {
        "id": "SZ0A7Vv0qXbH",
        "colab": {
          "base_uri": "https://localhost:8080/"
        },
        "outputId": "b752bb4d-c9b0-435c-c0dc-91e267606eb3"
      },
      "execution_count": 71,
      "outputs": [
        {
          "output_type": "stream",
          "name": "stdout",
          "text": [
            "[ 13 191 194 201 205 213 265 272]\n"
          ]
        }
      ]
    },
    {
      "cell_type": "code",
      "source": [
        "for val in vert_lines:\n",
        "  # print(val)\n",
        "  cv2.rectangle(in_nms,(int(vert_boxes[val][0]),int(vert_boxes[val][1])),(int(vert_boxes[val][2]),int(vert_boxes[val][3])),(0,0,255),1)"
      ],
      "metadata": {
        "id": "cfzq88wwneHq"
      },
      "execution_count": 72,
      "outputs": []
    },
    {
      "cell_type": "code",
      "source": [
        "cv2.imwrite('im_nms1.jpg',in_nms)"
      ],
      "metadata": {
        "id": "jwoJL-D8n7EO",
        "colab": {
          "base_uri": "https://localhost:8080/"
        },
        "outputId": "b219d002-d65e-4201-8b44-373cb116c5e4"
      },
      "execution_count": 73,
      "outputs": [
        {
          "output_type": "execute_result",
          "data": {
            "text/plain": [
              "True"
            ]
          },
          "metadata": {},
          "execution_count": 73
        }
      ]
    },
    {
      "cell_type": "code",
      "source": [
        "print(vert_out)"
      ],
      "metadata": {
        "id": "bX8oHlx4n6xB",
        "colab": {
          "base_uri": "https://localhost:8080/"
        },
        "outputId": "33656f9d-9b45-484e-cea2-700d676f9c75"
      },
      "execution_count": 74,
      "outputs": [
        {
          "output_type": "stream",
          "name": "stdout",
          "text": [
            "tf.Tensor([201 213 205 194 265 272 191  13], shape=(8,), dtype=int32)\n"
          ]
        }
      ]
    },
    {
      "cell_type": "code",
      "source": [
        "print('vert_lines',vert_lines),print('horiz_lines',horiz_lines)"
      ],
      "metadata": {
        "id": "LNgshHWM43ek",
        "colab": {
          "base_uri": "https://localhost:8080/"
        },
        "outputId": "e1eafdb7-da5b-43aa-ee24-cce7af72bc74"
      },
      "execution_count": 75,
      "outputs": [
        {
          "output_type": "stream",
          "name": "stdout",
          "text": [
            "vert_lines [ 13 191 194 201 205 213 265 272]\n",
            "horiz_lines [  0   1   2   3   4   6   8  10  11  13  15  20  23  29  31  42  44  52\n",
            "  60  70  76  83  94  99 106 112 122 127 137 144 153 158 170 174 176 186\n",
            " 194 201 205 213 220 232 238 242 247 258 265 272 281]\n"
          ]
        },
        {
          "output_type": "execute_result",
          "data": {
            "text/plain": [
              "(None, None)"
            ]
          },
          "metadata": {},
          "execution_count": 75
        }
      ]
    },
    {
      "cell_type": "markdown",
      "source": [
        "### Convert to csv"
      ],
      "metadata": {
        "id": "pRU0Pi7tt0P8"
      }
    },
    {
      "cell_type": "code",
      "source": [
        "out_array=[[\"\" for i in range(len(vert_lines))] for j in range(len(horiz_lines))]\n",
        "print(out_array)"
      ],
      "metadata": {
        "id": "urKPwu2Wt2t0",
        "colab": {
          "base_uri": "https://localhost:8080/"
        },
        "outputId": "9c350e4c-8b3c-4dd4-a9ed-60c24747610c"
      },
      "execution_count": 76,
      "outputs": [
        {
          "output_type": "stream",
          "name": "stdout",
          "text": [
            "[['', '', '', '', '', '', '', ''], ['', '', '', '', '', '', '', ''], ['', '', '', '', '', '', '', ''], ['', '', '', '', '', '', '', ''], ['', '', '', '', '', '', '', ''], ['', '', '', '', '', '', '', ''], ['', '', '', '', '', '', '', ''], ['', '', '', '', '', '', '', ''], ['', '', '', '', '', '', '', ''], ['', '', '', '', '', '', '', ''], ['', '', '', '', '', '', '', ''], ['', '', '', '', '', '', '', ''], ['', '', '', '', '', '', '', ''], ['', '', '', '', '', '', '', ''], ['', '', '', '', '', '', '', ''], ['', '', '', '', '', '', '', ''], ['', '', '', '', '', '', '', ''], ['', '', '', '', '', '', '', ''], ['', '', '', '', '', '', '', ''], ['', '', '', '', '', '', '', ''], ['', '', '', '', '', '', '', ''], ['', '', '', '', '', '', '', ''], ['', '', '', '', '', '', '', ''], ['', '', '', '', '', '', '', ''], ['', '', '', '', '', '', '', ''], ['', '', '', '', '', '', '', ''], ['', '', '', '', '', '', '', ''], ['', '', '', '', '', '', '', ''], ['', '', '', '', '', '', '', ''], ['', '', '', '', '', '', '', ''], ['', '', '', '', '', '', '', ''], ['', '', '', '', '', '', '', ''], ['', '', '', '', '', '', '', ''], ['', '', '', '', '', '', '', ''], ['', '', '', '', '', '', '', ''], ['', '', '', '', '', '', '', ''], ['', '', '', '', '', '', '', ''], ['', '', '', '', '', '', '', ''], ['', '', '', '', '', '', '', ''], ['', '', '', '', '', '', '', ''], ['', '', '', '', '', '', '', ''], ['', '', '', '', '', '', '', ''], ['', '', '', '', '', '', '', ''], ['', '', '', '', '', '', '', ''], ['', '', '', '', '', '', '', ''], ['', '', '', '', '', '', '', ''], ['', '', '', '', '', '', '', ''], ['', '', '', '', '', '', '', ''], ['', '', '', '', '', '', '', '']]\n"
          ]
        }
      ]
    },
    {
      "cell_type": "code",
      "source": [
        "print(np.array(out_array).shape)"
      ],
      "metadata": {
        "id": "Ab939_1fuKZL",
        "colab": {
          "base_uri": "https://localhost:8080/"
        },
        "outputId": "c2ca822e-a16a-475e-a602-456bac9cbfb2"
      },
      "execution_count": 77,
      "outputs": [
        {
          "output_type": "stream",
          "name": "stdout",
          "text": [
            "(49, 8)\n"
          ]
        }
      ]
    },
    {
      "cell_type": "code",
      "source": [
        "unordered_boxes=[]\n",
        "\n",
        "for i in vert_lines:\n",
        "  print(vert_boxes[i])\n",
        "  unordered_boxes.append(vert_boxes[i][0])"
      ],
      "metadata": {
        "id": "Xh_3dI8evvM1",
        "colab": {
          "base_uri": "https://localhost:8080/"
        },
        "outputId": "2ed4a071-d7e0-4af4-9d70-8e0ede029044"
      },
      "execution_count": 78,
      "outputs": [
        {
          "output_type": "stream",
          "name": "stdout",
          "text": [
            "[465, 0, 726, 2338]\n",
            "[866, 0, 940, 2338]\n",
            "[986, 0, 1006, 2338]\n",
            "[1242, 0, 1328, 2338]\n",
            "[797, 0, 841, 2338]\n",
            "[1082, 0, 1168, 2338]\n",
            "[723, 0, 750, 2338]\n",
            "[371, 0, 398, 2338]\n"
          ]
        }
      ]
    },
    {
      "cell_type": "code",
      "source": [
        "ordered_boxes=np.argsort(unordered_boxes)\n",
        "print(ordered_boxes)"
      ],
      "metadata": {
        "id": "zLudzFC-v-uA",
        "colab": {
          "base_uri": "https://localhost:8080/"
        },
        "outputId": "c2afc86a-9706-4a36-a4b4-6e454947efd7"
      },
      "execution_count": 79,
      "outputs": [
        {
          "output_type": "stream",
          "name": "stdout",
          "text": [
            "[7 0 6 4 1 2 5 3]\n"
          ]
        }
      ]
    },
    {
      "cell_type": "code",
      "source": [
        "def intersection(box1,box2):\n",
        "  return [box2[0],box1[1],box2[2],box1[3]]"
      ],
      "metadata": {
        "id": "gAKhmV3yu8H0"
      },
      "execution_count": 80,
      "outputs": []
    },
    {
      "cell_type": "code",
      "source": [
        "def iou(box1,box2):\n",
        "  x1=max(box1[0],box2[0])\n",
        "  y1=max(box1[1],box2[1])\n",
        "  x2=min(box1[2],box2[2])\n",
        "  y2=min(box1[3],box2[3])\n",
        "\n",
        "  inter=abs(max((x2-x1,0))*max((y2-y1),0))\n",
        "  if inter==0:\n",
        "    return 0\n",
        "\n",
        "  box1area=abs((box1[2]-box1[0])*(box1[3]-box1[1]))\n",
        "  box2area=abs((box2[2]-box2[0])*(box2[3]-box2[1]))\n",
        "\n",
        "  return inter/float(box1area+box2area-inter)"
      ],
      "metadata": {
        "id": "J1YFlX3xwd2n"
      },
      "execution_count": 81,
      "outputs": []
    },
    {
      "cell_type": "code",
      "source": [
        "for i in range(len(horiz_lines)):\n",
        "  for j in range(len(vert_lines)):\n",
        "    resultant=intersection(horiz_boxes[horiz_lines[i]],vert_boxes[vert_lines[ordered_boxes[j]]])\n",
        "    \n",
        "    for b in range(len(boxes)):\n",
        "      the_box=[boxes[b][0][0],boxes[b][0][1],boxes[b][2][0],boxes[b][2][1]]\n",
        "      if (iou(resultant,the_box)>0.1):\n",
        "        out_array[i][j]=texts[b]\n",
        "        # print(out_array)\n",
        "    # print(resultant)"
      ],
      "metadata": {
        "id": "bL1xRAW9uX7t"
      },
      "execution_count": 82,
      "outputs": []
    },
    {
      "cell_type": "code",
      "source": [
        "out_array"
      ],
      "metadata": {
        "id": "n-DKQ9i44arG",
        "colab": {
          "base_uri": "https://localhost:8080/"
        },
        "outputId": "c997dc57-3269-4a2b-8e72-0cb2fadb9060"
      },
      "execution_count": 83,
      "outputs": [
        {
          "output_type": "execute_result",
          "data": {
            "text/plain": [
              "[['', 'KA', '', '', 'KA', '', 'KA', ''],\n",
              " ['',\n",
              "  'Xiamen Changsu Industrial Corporation Limited',\n",
              "  '',\n",
              "  '',\n",
              "  'Xiamen Changsu Industrial Corporation Limited',\n",
              "  '',\n",
              "  'Xiamen Changsu Industrial Corporation Limited',\n",
              "  ''],\n",
              " ['',\n",
              "  'ADD:No. 268 Wengjiao Road. Xinyang Industrial Zone, Haicang Xiamen. 361026 China',\n",
              "  '',\n",
              "  '',\n",
              "  '',\n",
              "  '',\n",
              "  'ADD:No. 268 Wengjiao Road. Xinyang Industrial Zone, Haicang Xiamen. 361026 China',\n",
              "  ''],\n",
              " ['',\n",
              "  'Tel:+86-592-6800888 Fax:86-592-6806585 http/www.chang-su.com.cn',\n",
              "  '',\n",
              "  '',\n",
              "  'Tel:+86-592-6800888 Fax:86-592-6806585 http/www.chang-su.com.cn',\n",
              "  '',\n",
              "  'Tel:+86-592-6800888 Fax:86-592-6806585 http/www.chang-su.com.cn',\n",
              "  ''],\n",
              " ['', '', '', 'PACKING LIST', 'PACKING LIST', '', '', ''],\n",
              " ['',\n",
              "  'Messrs:Mag Data-S.p.A',\n",
              "  '',\n",
              "  '',\n",
              "  'Invoice No.: CS210746',\n",
              "  '',\n",
              "  'Invoice No.: CS210746',\n",
              "  ''],\n",
              " ['',\n",
              "  '43052 Colorno (Italy)',\n",
              "  '',\n",
              "  '',\n",
              "  'Date: September 14, 2021',\n",
              "  '',\n",
              "  'Date: September 14, 2021',\n",
              "  ''],\n",
              " ['', '43052 Colorno (Italy)', '', '', 'Payment: TT', 'Payment: TT', '', ''],\n",
              " ['',\n",
              "  'Tel. 0039-0521-525320',\n",
              "  '',\n",
              "  '',\n",
              "  'Incoterms: CIF La Spezia, Italy',\n",
              "  '',\n",
              "  'Incoterms: CIF La Spezia, Italy',\n",
              "  ''],\n",
              " ['', 'Fax. 0039-0521-525329', '', '', 'PO No.:1266', 'PO No.:1266', '', ''],\n",
              " ['',\n",
              "  'FROM:XIAMEN,CHINA',\n",
              "  'FROM:XIAMEN,CHINA',\n",
              "  'FROM:XIAMEN,CHINA',\n",
              "  'TO:LA SPEZIA,ITALY',\n",
              "  '',\n",
              "  'TO:LA SPEZIA,ITALY',\n",
              "  ''],\n",
              " ['',\n",
              "  'Type of',\n",
              "  '',\n",
              "  'Specification',\n",
              "  '',\n",
              "  \"Qt'y\",\n",
              "  ' Net Weight',\n",
              "  'Gross Weight'],\n",
              " ['Item', ' Material', '', '', 'L(m)', '', ' Net Weight', ''],\n",
              " ['', ' Material', 'T(m)[W(mm)', 'T(m)[W(mm)', 'L(m)', 'Roll', 'kg', 'kg'],\n",
              " ['1', '', '20', '860', '15000', '4', '1195.70', '1315.27'],\n",
              " ['2', '', '20', '900', '15000', '2', '624.80', '687.28'],\n",
              " ['3', '', '20', '1240', '15000', '2', '850.80', '935.88'],\n",
              " ['4', '', '15', '630', '24000', '4', '1048.30', '1153.13'],\n",
              " ['5', '', '15', '650', '24000', '2', '533.80', '587.18'],\n",
              " ['6', 'OA1', '15', '660', '24000', '6', '1618.80', '1780.68'],\n",
              " ['7', 'treated)', '15', '680', '24000', '4', '1115.10', '1226.61'],\n",
              " ['8', '', '15', '690', '24000', '2', '563.20', '619.52'],\n",
              " ['9', '', '15', '1000', '24000', '6', '2463.70', '2710.07'],\n",
              " ['10', 'BOPAFILM', '15', '1120', '24000', '6', '2769.30', '3046.23'],\n",
              " ['11', '', '15', '1160', '24000', '2', '952.60', '1047.86'],\n",
              " ['12', '', '15', '1280', '24000', '2', '1051.20', '1156.32'],\n",
              " ['13', '', '15', '830', '24000', '4', '1366.30', '1502.93'],\n",
              " ['14', '', '15', '945', '24000', '2', '776.20', '853.82'],\n",
              " ['15', 'OA2', '15', '1040', '24000', '2', '859.20', '945.12'],\n",
              " ['16', 'sides', '15', '1060', '24000', '2', '870.60', '957.66'],\n",
              " ['17', 'treated)', '15', '1160', '24000', '2', '952.60', '1047.86'],\n",
              " ['18', '', '15', '675', '24000', '2', '558.00', '613.80'],\n",
              " ['19', '', '15', '695', '24000', '4', '1141.60', '1255.76'],\n",
              " ['',\n",
              "  'Sub-total (CMAU9079588/C1856699)',\n",
              "  '',\n",
              "  '',\n",
              "  '',\n",
              "  '60',\n",
              "  '21311.80',\n",
              "  '23442.98'],\n",
              " ['1', '', '15', '710', '24000', '2', '585.70', '644.27'],\n",
              " ['2', '', '15', '720', '24000', '4', '1192.30', '1311.53'],\n",
              " ['3', '', '15', '760', '24000', '4', '1256.00', '1381.60'],\n",
              " ['', '', '15', '780', '24000', '4', '1281.20', '1409.32'],\n",
              " ['5', '', '15', '830', '24000', '2', '681.60', '749.76'],\n",
              " ['6', '(Outside', '15', '860', '24000', '5', '1776.80', '1954.48'],\n",
              " ['7', 'treated)', '15', '870', '24000', '5', '1788.50', '1967.35'],\n",
              " ['8', 'BOPA FILM', '15', '960', '24000', '', '1576.80', '1734.48'],\n",
              " ['9', '', '15', '980', '24000', '4', '1607.20', '1767.92'],\n",
              " ['10', '', '15', '1050', '24000', '4', '1736.90', '1910.59'],\n",
              " ['11', '', '15', '1060', '24000', '4', '1747.10', '1921.81'],\n",
              " ['12', '', '15', '1100', '24000', '8', '3633.50', '3996.85'],\n",
              " ['13', 'Both', '15', '850', '24000', '4', '1397.90', '1537.69'],\n",
              " ['14', 'treated)', '15', '880', '24000', '2', '727.40', '800.14'],\n",
              " ['',\n",
              "  'Sub-total (CMAU8246588/C0822401)',\n",
              "  '',\n",
              "  '',\n",
              "  '',\n",
              "  '56',\n",
              "  '20988.90',\n",
              "  '23087.79']]"
            ]
          },
          "metadata": {},
          "execution_count": 83
        }
      ]
    },
    {
      "cell_type": "code",
      "source": [
        "# horiz_boxes"
      ],
      "metadata": {
        "id": "X9tCSfkMumXx"
      },
      "execution_count": 84,
      "outputs": []
    },
    {
      "cell_type": "code",
      "source": [
        "texts"
      ],
      "metadata": {
        "id": "upyY3ysjx8kA",
        "colab": {
          "base_uri": "https://localhost:8080/"
        },
        "outputId": "413c419a-fac8-4fdd-f2a1-127c6fec5e7e"
      },
      "execution_count": 85,
      "outputs": [
        {
          "output_type": "execute_result",
          "data": {
            "text/plain": [
              "['KA',\n",
              " 'Xiamen Changsu Industrial Corporation Limited',\n",
              " 'ADD:No. 268 Wengjiao Road. Xinyang Industrial Zone, Haicang Xiamen. 361026 China',\n",
              " 'Tel:+86-592-6800888 Fax:86-592-6806585 http/www.chang-su.com.cn',\n",
              " 'PACKING LIST',\n",
              " 'Messrs:Mag Data-S.p.A',\n",
              " 'Invoice No.: CS210746',\n",
              " 'Strada della Selva 100/2',\n",
              " 'Date: September 14, 2021',\n",
              " '43052 Colorno (Italy)',\n",
              " 'Payment: TT',\n",
              " 'Tel. 0039-0521-525320',\n",
              " 'Incoterms: CIF La Spezia, Italy',\n",
              " 'Fax. 0039-0521-525329',\n",
              " 'PO No.:1266',\n",
              " 'FROM:XIAMEN,CHINA',\n",
              " 'TO:LA SPEZIA,ITALY',\n",
              " 'Specification',\n",
              " \"Qt'y\",\n",
              " ' Net Weight',\n",
              " 'Gross Weight',\n",
              " 'Type of',\n",
              " 'Item',\n",
              " 'Commodity',\n",
              " ' Material',\n",
              " 'T(m)[W(mm)',\n",
              " 'L(m)',\n",
              " 'Roll',\n",
              " 'kg',\n",
              " 'kg',\n",
              " '20',\n",
              " '860',\n",
              " '15000',\n",
              " '4',\n",
              " '1195.70',\n",
              " '1',\n",
              " '1315.27',\n",
              " '2',\n",
              " '20',\n",
              " '900',\n",
              " '15000',\n",
              " '2',\n",
              " '624.80',\n",
              " '687.28',\n",
              " '20',\n",
              " '1240',\n",
              " '15000',\n",
              " '3',\n",
              " '2',\n",
              " '850.80',\n",
              " '935.88',\n",
              " '1048.30',\n",
              " '24000',\n",
              " '15',\n",
              " '4',\n",
              " '630',\n",
              " '4',\n",
              " '1153.13',\n",
              " '650',\n",
              " '5',\n",
              " '15',\n",
              " '24000',\n",
              " '2',\n",
              " '533.80',\n",
              " '587.18',\n",
              " 'OA1',\n",
              " '24000',\n",
              " '1618.80',\n",
              " '6',\n",
              " '660',\n",
              " '15',\n",
              " '6',\n",
              " '1780.68',\n",
              " '(Outside',\n",
              " '15',\n",
              " '680',\n",
              " '24000',\n",
              " '1115.10',\n",
              " '7',\n",
              " '4',\n",
              " 'treated)',\n",
              " '1226.61',\n",
              " '8',\n",
              " '15',\n",
              " '24000',\n",
              " '563.20',\n",
              " '690',\n",
              " '2',\n",
              " '619.52',\n",
              " '9',\n",
              " '24000',\n",
              " '15',\n",
              " '1000',\n",
              " '6',\n",
              " '2463.70',\n",
              " '2710.07',\n",
              " '10',\n",
              " '15',\n",
              " '24000',\n",
              " '2769.30',\n",
              " 'BOPAFILM',\n",
              " '1120',\n",
              " '6',\n",
              " '3046.23',\n",
              " '24000',\n",
              " '11',\n",
              " '15',\n",
              " '1160',\n",
              " '2',\n",
              " '952.60',\n",
              " '1047.86',\n",
              " '12',\n",
              " '15',\n",
              " '24000',\n",
              " '1051.20',\n",
              " '1280',\n",
              " '2',\n",
              " '1156.32',\n",
              " '15',\n",
              " '13',\n",
              " '830',\n",
              " '24000',\n",
              " '4',\n",
              " '1366.30',\n",
              " '1502.93',\n",
              " '14',\n",
              " '776.20',\n",
              " '15',\n",
              " '945',\n",
              " '24000',\n",
              " '2',\n",
              " '853.82',\n",
              " '15',\n",
              " 'OA2',\n",
              " '1040',\n",
              " '24000',\n",
              " '859.20',\n",
              " '15',\n",
              " '2',\n",
              " '945.12',\n",
              " '(Both',\n",
              " '16',\n",
              " '24000',\n",
              " '1060',\n",
              " '15',\n",
              " '2',\n",
              " '870.60',\n",
              " '957.66',\n",
              " 'sides',\n",
              " '17',\n",
              " '15',\n",
              " '1160',\n",
              " '24000',\n",
              " '952.60',\n",
              " '2',\n",
              " 'treated)',\n",
              " '1047.86',\n",
              " '18',\n",
              " '15',\n",
              " '675',\n",
              " '24000',\n",
              " '2',\n",
              " '558.00',\n",
              " '613.80',\n",
              " '19',\n",
              " '15',\n",
              " '24000',\n",
              " '1141.60',\n",
              " '695',\n",
              " '4',\n",
              " '1255.76',\n",
              " 'Sub-total (CMAU9079588/C1856699)',\n",
              " '60',\n",
              " '21311.80',\n",
              " '23442.98',\n",
              " '585.70',\n",
              " '15',\n",
              " '710',\n",
              " '24000',\n",
              " '2',\n",
              " '644.27',\n",
              " '1',\n",
              " '2',\n",
              " '15',\n",
              " '720',\n",
              " '24000',\n",
              " '1192.30',\n",
              " '4',\n",
              " '1311.53',\n",
              " '3',\n",
              " '15',\n",
              " '24000',\n",
              " '1256.00',\n",
              " '760',\n",
              " '4',\n",
              " '1381.60',\n",
              " '15',\n",
              " '780',\n",
              " '24000',\n",
              " '1281.20',\n",
              " '4',\n",
              " '1409.32',\n",
              " '24000',\n",
              " '681.60',\n",
              " '15',\n",
              " '830',\n",
              " '5',\n",
              " '2',\n",
              " '749.76',\n",
              " 'OA1',\n",
              " '15',\n",
              " '860',\n",
              " '24000',\n",
              " '1776.80',\n",
              " '6',\n",
              " '1954.48',\n",
              " '5',\n",
              " '(Outside',\n",
              " '24000',\n",
              " '7',\n",
              " '870',\n",
              " '15',\n",
              " '1788.50',\n",
              " '5',\n",
              " 'treated)',\n",
              " '1967.35',\n",
              " '24000',\n",
              " '1576.80',\n",
              " '960',\n",
              " 'BOPA FILM',\n",
              " '15',\n",
              " '8',\n",
              " '1734.48',\n",
              " '15',\n",
              " '980',\n",
              " '1607.20',\n",
              " '9',\n",
              " '24000',\n",
              " '4',\n",
              " '1767.92',\n",
              " '10',\n",
              " '15',\n",
              " '1050',\n",
              " '24000',\n",
              " '4',\n",
              " '1736.90',\n",
              " '1910.59',\n",
              " '11',\n",
              " '24000',\n",
              " '15',\n",
              " '1060',\n",
              " '4',\n",
              " '1747.10',\n",
              " '1921.81',\n",
              " '3633.50',\n",
              " '12',\n",
              " '24000',\n",
              " '15',\n",
              " '1100',\n",
              " '8',\n",
              " '3996.85',\n",
              " 'OA2',\n",
              " '850',\n",
              " '24000',\n",
              " '13',\n",
              " '15',\n",
              " '4',\n",
              " '1397.90',\n",
              " 'Both',\n",
              " '1537.69',\n",
              " 'sides',\n",
              " '880',\n",
              " '14',\n",
              " '15',\n",
              " '24000',\n",
              " '2',\n",
              " '727.40',\n",
              " '800.14',\n",
              " 'treated)',\n",
              " 'Sub-total (CMAU8246588/C0822401)',\n",
              " '56',\n",
              " '20988.90',\n",
              " '23087.79']"
            ]
          },
          "metadata": {},
          "execution_count": 85
        }
      ]
    },
    {
      "cell_type": "code",
      "source": [
        "out_array"
      ],
      "metadata": {
        "id": "oVJ07KimyMD5",
        "colab": {
          "base_uri": "https://localhost:8080/"
        },
        "outputId": "e48d8bc1-cad0-4737-d30a-b62e3bac2ace"
      },
      "execution_count": 86,
      "outputs": [
        {
          "output_type": "execute_result",
          "data": {
            "text/plain": [
              "[['', 'KA', '', '', 'KA', '', 'KA', ''],\n",
              " ['',\n",
              "  'Xiamen Changsu Industrial Corporation Limited',\n",
              "  '',\n",
              "  '',\n",
              "  'Xiamen Changsu Industrial Corporation Limited',\n",
              "  '',\n",
              "  'Xiamen Changsu Industrial Corporation Limited',\n",
              "  ''],\n",
              " ['',\n",
              "  'ADD:No. 268 Wengjiao Road. Xinyang Industrial Zone, Haicang Xiamen. 361026 China',\n",
              "  '',\n",
              "  '',\n",
              "  '',\n",
              "  '',\n",
              "  'ADD:No. 268 Wengjiao Road. Xinyang Industrial Zone, Haicang Xiamen. 361026 China',\n",
              "  ''],\n",
              " ['',\n",
              "  'Tel:+86-592-6800888 Fax:86-592-6806585 http/www.chang-su.com.cn',\n",
              "  '',\n",
              "  '',\n",
              "  'Tel:+86-592-6800888 Fax:86-592-6806585 http/www.chang-su.com.cn',\n",
              "  '',\n",
              "  'Tel:+86-592-6800888 Fax:86-592-6806585 http/www.chang-su.com.cn',\n",
              "  ''],\n",
              " ['', '', '', 'PACKING LIST', 'PACKING LIST', '', '', ''],\n",
              " ['',\n",
              "  'Messrs:Mag Data-S.p.A',\n",
              "  '',\n",
              "  '',\n",
              "  'Invoice No.: CS210746',\n",
              "  '',\n",
              "  'Invoice No.: CS210746',\n",
              "  ''],\n",
              " ['',\n",
              "  '43052 Colorno (Italy)',\n",
              "  '',\n",
              "  '',\n",
              "  'Date: September 14, 2021',\n",
              "  '',\n",
              "  'Date: September 14, 2021',\n",
              "  ''],\n",
              " ['', '43052 Colorno (Italy)', '', '', 'Payment: TT', 'Payment: TT', '', ''],\n",
              " ['',\n",
              "  'Tel. 0039-0521-525320',\n",
              "  '',\n",
              "  '',\n",
              "  'Incoterms: CIF La Spezia, Italy',\n",
              "  '',\n",
              "  'Incoterms: CIF La Spezia, Italy',\n",
              "  ''],\n",
              " ['', 'Fax. 0039-0521-525329', '', '', 'PO No.:1266', 'PO No.:1266', '', ''],\n",
              " ['',\n",
              "  'FROM:XIAMEN,CHINA',\n",
              "  'FROM:XIAMEN,CHINA',\n",
              "  'FROM:XIAMEN,CHINA',\n",
              "  'TO:LA SPEZIA,ITALY',\n",
              "  '',\n",
              "  'TO:LA SPEZIA,ITALY',\n",
              "  ''],\n",
              " ['',\n",
              "  'Type of',\n",
              "  '',\n",
              "  'Specification',\n",
              "  '',\n",
              "  \"Qt'y\",\n",
              "  ' Net Weight',\n",
              "  'Gross Weight'],\n",
              " ['Item', ' Material', '', '', 'L(m)', '', ' Net Weight', ''],\n",
              " ['', ' Material', 'T(m)[W(mm)', 'T(m)[W(mm)', 'L(m)', 'Roll', 'kg', 'kg'],\n",
              " ['1', '', '20', '860', '15000', '4', '1195.70', '1315.27'],\n",
              " ['2', '', '20', '900', '15000', '2', '624.80', '687.28'],\n",
              " ['3', '', '20', '1240', '15000', '2', '850.80', '935.88'],\n",
              " ['4', '', '15', '630', '24000', '4', '1048.30', '1153.13'],\n",
              " ['5', '', '15', '650', '24000', '2', '533.80', '587.18'],\n",
              " ['6', 'OA1', '15', '660', '24000', '6', '1618.80', '1780.68'],\n",
              " ['7', 'treated)', '15', '680', '24000', '4', '1115.10', '1226.61'],\n",
              " ['8', '', '15', '690', '24000', '2', '563.20', '619.52'],\n",
              " ['9', '', '15', '1000', '24000', '6', '2463.70', '2710.07'],\n",
              " ['10', 'BOPAFILM', '15', '1120', '24000', '6', '2769.30', '3046.23'],\n",
              " ['11', '', '15', '1160', '24000', '2', '952.60', '1047.86'],\n",
              " ['12', '', '15', '1280', '24000', '2', '1051.20', '1156.32'],\n",
              " ['13', '', '15', '830', '24000', '4', '1366.30', '1502.93'],\n",
              " ['14', '', '15', '945', '24000', '2', '776.20', '853.82'],\n",
              " ['15', 'OA2', '15', '1040', '24000', '2', '859.20', '945.12'],\n",
              " ['16', 'sides', '15', '1060', '24000', '2', '870.60', '957.66'],\n",
              " ['17', 'treated)', '15', '1160', '24000', '2', '952.60', '1047.86'],\n",
              " ['18', '', '15', '675', '24000', '2', '558.00', '613.80'],\n",
              " ['19', '', '15', '695', '24000', '4', '1141.60', '1255.76'],\n",
              " ['',\n",
              "  'Sub-total (CMAU9079588/C1856699)',\n",
              "  '',\n",
              "  '',\n",
              "  '',\n",
              "  '60',\n",
              "  '21311.80',\n",
              "  '23442.98'],\n",
              " ['1', '', '15', '710', '24000', '2', '585.70', '644.27'],\n",
              " ['2', '', '15', '720', '24000', '4', '1192.30', '1311.53'],\n",
              " ['3', '', '15', '760', '24000', '4', '1256.00', '1381.60'],\n",
              " ['', '', '15', '780', '24000', '4', '1281.20', '1409.32'],\n",
              " ['5', '', '15', '830', '24000', '2', '681.60', '749.76'],\n",
              " ['6', '(Outside', '15', '860', '24000', '5', '1776.80', '1954.48'],\n",
              " ['7', 'treated)', '15', '870', '24000', '5', '1788.50', '1967.35'],\n",
              " ['8', 'BOPA FILM', '15', '960', '24000', '', '1576.80', '1734.48'],\n",
              " ['9', '', '15', '980', '24000', '4', '1607.20', '1767.92'],\n",
              " ['10', '', '15', '1050', '24000', '4', '1736.90', '1910.59'],\n",
              " ['11', '', '15', '1060', '24000', '4', '1747.10', '1921.81'],\n",
              " ['12', '', '15', '1100', '24000', '8', '3633.50', '3996.85'],\n",
              " ['13', 'Both', '15', '850', '24000', '4', '1397.90', '1537.69'],\n",
              " ['14', 'treated)', '15', '880', '24000', '2', '727.40', '800.14'],\n",
              " ['',\n",
              "  'Sub-total (CMAU8246588/C0822401)',\n",
              "  '',\n",
              "  '',\n",
              "  '',\n",
              "  '56',\n",
              "  '20988.90',\n",
              "  '23087.79']]"
            ]
          },
          "metadata": {},
          "execution_count": 86
        }
      ]
    },
    {
      "cell_type": "code",
      "source": [
        "import pandas as pd\n",
        "pd.DataFrame(out_array).to_csv('sample.csv')"
      ],
      "metadata": {
        "id": "9ytAHTwFyQaI"
      },
      "execution_count": 87,
      "outputs": []
    },
    {
      "cell_type": "code",
      "source": [
        "df=pd.DataFrame(out_array)\n",
        "df"
      ],
      "metadata": {
        "colab": {
          "base_uri": "https://localhost:8080/",
          "height": 1000
        },
        "id": "4dtXKCJHEqff",
        "outputId": "6b78f51d-7ef5-4974-8a66-807f33702517"
      },
      "execution_count": 88,
      "outputs": [
        {
          "output_type": "execute_result",
          "data": {
            "text/plain": [
              "       0                                                  1  \\\n",
              "0                                                        KA   \n",
              "1             Xiamen Changsu Industrial Corporation Limited   \n",
              "2         ADD:No. 268 Wengjiao Road. Xinyang Industrial ...   \n",
              "3         Tel:+86-592-6800888 Fax:86-592-6806585 http/ww...   \n",
              "4                                                             \n",
              "5                                     Messrs:Mag Data-S.p.A   \n",
              "6                                     43052 Colorno (Italy)   \n",
              "7                                     43052 Colorno (Italy)   \n",
              "8                                     Tel. 0039-0521-525320   \n",
              "9                                     Fax. 0039-0521-525329   \n",
              "10                                        FROM:XIAMEN,CHINA   \n",
              "11                                                  Type of   \n",
              "12  Item                                           Material   \n",
              "13                                                 Material   \n",
              "14     1                                                      \n",
              "15     2                                                      \n",
              "16     3                                                      \n",
              "17     4                                                      \n",
              "18     5                                                      \n",
              "19     6                                                OA1   \n",
              "20     7                                           treated)   \n",
              "21     8                                                      \n",
              "22     9                                                      \n",
              "23    10                                           BOPAFILM   \n",
              "24    11                                                      \n",
              "25    12                                                      \n",
              "26    13                                                      \n",
              "27    14                                                      \n",
              "28    15                                                OA2   \n",
              "29    16                                              sides   \n",
              "30    17                                           treated)   \n",
              "31    18                                                      \n",
              "32    19                                                      \n",
              "33                         Sub-total (CMAU9079588/C1856699)   \n",
              "34     1                                                      \n",
              "35     2                                                      \n",
              "36     3                                                      \n",
              "37                                                            \n",
              "38     5                                                      \n",
              "39     6                                           (Outside   \n",
              "40     7                                           treated)   \n",
              "41     8                                          BOPA FILM   \n",
              "42     9                                                      \n",
              "43    10                                                      \n",
              "44    11                                                      \n",
              "45    12                                                      \n",
              "46    13                                               Both   \n",
              "47    14                                           treated)   \n",
              "48                         Sub-total (CMAU8246588/C0822401)   \n",
              "\n",
              "                    2                  3  \\\n",
              "0                                          \n",
              "1                                          \n",
              "2                                          \n",
              "3                                          \n",
              "4                           PACKING LIST   \n",
              "5                                          \n",
              "6                                          \n",
              "7                                          \n",
              "8                                          \n",
              "9                                          \n",
              "10  FROM:XIAMEN,CHINA  FROM:XIAMEN,CHINA   \n",
              "11                         Specification   \n",
              "12                                         \n",
              "13         T(m)[W(mm)         T(m)[W(mm)   \n",
              "14                 20                860   \n",
              "15                 20                900   \n",
              "16                 20               1240   \n",
              "17                 15                630   \n",
              "18                 15                650   \n",
              "19                 15                660   \n",
              "20                 15                680   \n",
              "21                 15                690   \n",
              "22                 15               1000   \n",
              "23                 15               1120   \n",
              "24                 15               1160   \n",
              "25                 15               1280   \n",
              "26                 15                830   \n",
              "27                 15                945   \n",
              "28                 15               1040   \n",
              "29                 15               1060   \n",
              "30                 15               1160   \n",
              "31                 15                675   \n",
              "32                 15                695   \n",
              "33                                         \n",
              "34                 15                710   \n",
              "35                 15                720   \n",
              "36                 15                760   \n",
              "37                 15                780   \n",
              "38                 15                830   \n",
              "39                 15                860   \n",
              "40                 15                870   \n",
              "41                 15                960   \n",
              "42                 15                980   \n",
              "43                 15               1050   \n",
              "44                 15               1060   \n",
              "45                 15               1100   \n",
              "46                 15                850   \n",
              "47                 15                880   \n",
              "48                                         \n",
              "\n",
              "                                                    4            5  \\\n",
              "0                                                  KA                \n",
              "1       Xiamen Changsu Industrial Corporation Limited                \n",
              "2                                                                    \n",
              "3   Tel:+86-592-6800888 Fax:86-592-6806585 http/ww...                \n",
              "4                                        PACKING LIST                \n",
              "5                               Invoice No.: CS210746                \n",
              "6                            Date: September 14, 2021                \n",
              "7                                         Payment: TT  Payment: TT   \n",
              "8                     Incoterms: CIF La Spezia, Italy                \n",
              "9                                         PO No.:1266  PO No.:1266   \n",
              "10                                 TO:LA SPEZIA,ITALY                \n",
              "11                                                            Qt'y   \n",
              "12                                               L(m)                \n",
              "13                                               L(m)         Roll   \n",
              "14                                              15000            4   \n",
              "15                                              15000            2   \n",
              "16                                              15000            2   \n",
              "17                                              24000            4   \n",
              "18                                              24000            2   \n",
              "19                                              24000            6   \n",
              "20                                              24000            4   \n",
              "21                                              24000            2   \n",
              "22                                              24000            6   \n",
              "23                                              24000            6   \n",
              "24                                              24000            2   \n",
              "25                                              24000            2   \n",
              "26                                              24000            4   \n",
              "27                                              24000            2   \n",
              "28                                              24000            2   \n",
              "29                                              24000            2   \n",
              "30                                              24000            2   \n",
              "31                                              24000            2   \n",
              "32                                              24000            4   \n",
              "33                                                              60   \n",
              "34                                              24000            2   \n",
              "35                                              24000            4   \n",
              "36                                              24000            4   \n",
              "37                                              24000            4   \n",
              "38                                              24000            2   \n",
              "39                                              24000            5   \n",
              "40                                              24000            5   \n",
              "41                                              24000                \n",
              "42                                              24000            4   \n",
              "43                                              24000            4   \n",
              "44                                              24000            4   \n",
              "45                                              24000            8   \n",
              "46                                              24000            4   \n",
              "47                                              24000            2   \n",
              "48                                                              56   \n",
              "\n",
              "                                                    6             7  \n",
              "0                                                  KA                \n",
              "1       Xiamen Changsu Industrial Corporation Limited                \n",
              "2   ADD:No. 268 Wengjiao Road. Xinyang Industrial ...                \n",
              "3   Tel:+86-592-6800888 Fax:86-592-6806585 http/ww...                \n",
              "4                                                                    \n",
              "5                               Invoice No.: CS210746                \n",
              "6                            Date: September 14, 2021                \n",
              "7                                                                    \n",
              "8                     Incoterms: CIF La Spezia, Italy                \n",
              "9                                                                    \n",
              "10                                 TO:LA SPEZIA,ITALY                \n",
              "11                                         Net Weight  Gross Weight  \n",
              "12                                         Net Weight                \n",
              "13                                                 kg            kg  \n",
              "14                                            1195.70       1315.27  \n",
              "15                                             624.80        687.28  \n",
              "16                                             850.80        935.88  \n",
              "17                                            1048.30       1153.13  \n",
              "18                                             533.80        587.18  \n",
              "19                                            1618.80       1780.68  \n",
              "20                                            1115.10       1226.61  \n",
              "21                                             563.20        619.52  \n",
              "22                                            2463.70       2710.07  \n",
              "23                                            2769.30       3046.23  \n",
              "24                                             952.60       1047.86  \n",
              "25                                            1051.20       1156.32  \n",
              "26                                            1366.30       1502.93  \n",
              "27                                             776.20        853.82  \n",
              "28                                             859.20        945.12  \n",
              "29                                             870.60        957.66  \n",
              "30                                             952.60       1047.86  \n",
              "31                                             558.00        613.80  \n",
              "32                                            1141.60       1255.76  \n",
              "33                                           21311.80      23442.98  \n",
              "34                                             585.70        644.27  \n",
              "35                                            1192.30       1311.53  \n",
              "36                                            1256.00       1381.60  \n",
              "37                                            1281.20       1409.32  \n",
              "38                                             681.60        749.76  \n",
              "39                                            1776.80       1954.48  \n",
              "40                                            1788.50       1967.35  \n",
              "41                                            1576.80       1734.48  \n",
              "42                                            1607.20       1767.92  \n",
              "43                                            1736.90       1910.59  \n",
              "44                                            1747.10       1921.81  \n",
              "45                                            3633.50       3996.85  \n",
              "46                                            1397.90       1537.69  \n",
              "47                                             727.40        800.14  \n",
              "48                                           20988.90      23087.79  "
            ],
            "text/html": [
              "\n",
              "  <div id=\"df-9f5463e7-24e4-48bd-9302-8b6ddaf1d42f\">\n",
              "    <div class=\"colab-df-container\">\n",
              "      <div>\n",
              "<style scoped>\n",
              "    .dataframe tbody tr th:only-of-type {\n",
              "        vertical-align: middle;\n",
              "    }\n",
              "\n",
              "    .dataframe tbody tr th {\n",
              "        vertical-align: top;\n",
              "    }\n",
              "\n",
              "    .dataframe thead th {\n",
              "        text-align: right;\n",
              "    }\n",
              "</style>\n",
              "<table border=\"1\" class=\"dataframe\">\n",
              "  <thead>\n",
              "    <tr style=\"text-align: right;\">\n",
              "      <th></th>\n",
              "      <th>0</th>\n",
              "      <th>1</th>\n",
              "      <th>2</th>\n",
              "      <th>3</th>\n",
              "      <th>4</th>\n",
              "      <th>5</th>\n",
              "      <th>6</th>\n",
              "      <th>7</th>\n",
              "    </tr>\n",
              "  </thead>\n",
              "  <tbody>\n",
              "    <tr>\n",
              "      <th>0</th>\n",
              "      <td></td>\n",
              "      <td>KA</td>\n",
              "      <td></td>\n",
              "      <td></td>\n",
              "      <td>KA</td>\n",
              "      <td></td>\n",
              "      <td>KA</td>\n",
              "      <td></td>\n",
              "    </tr>\n",
              "    <tr>\n",
              "      <th>1</th>\n",
              "      <td></td>\n",
              "      <td>Xiamen Changsu Industrial Corporation Limited</td>\n",
              "      <td></td>\n",
              "      <td></td>\n",
              "      <td>Xiamen Changsu Industrial Corporation Limited</td>\n",
              "      <td></td>\n",
              "      <td>Xiamen Changsu Industrial Corporation Limited</td>\n",
              "      <td></td>\n",
              "    </tr>\n",
              "    <tr>\n",
              "      <th>2</th>\n",
              "      <td></td>\n",
              "      <td>ADD:No. 268 Wengjiao Road. Xinyang Industrial ...</td>\n",
              "      <td></td>\n",
              "      <td></td>\n",
              "      <td></td>\n",
              "      <td></td>\n",
              "      <td>ADD:No. 268 Wengjiao Road. Xinyang Industrial ...</td>\n",
              "      <td></td>\n",
              "    </tr>\n",
              "    <tr>\n",
              "      <th>3</th>\n",
              "      <td></td>\n",
              "      <td>Tel:+86-592-6800888 Fax:86-592-6806585 http/ww...</td>\n",
              "      <td></td>\n",
              "      <td></td>\n",
              "      <td>Tel:+86-592-6800888 Fax:86-592-6806585 http/ww...</td>\n",
              "      <td></td>\n",
              "      <td>Tel:+86-592-6800888 Fax:86-592-6806585 http/ww...</td>\n",
              "      <td></td>\n",
              "    </tr>\n",
              "    <tr>\n",
              "      <th>4</th>\n",
              "      <td></td>\n",
              "      <td></td>\n",
              "      <td></td>\n",
              "      <td>PACKING LIST</td>\n",
              "      <td>PACKING LIST</td>\n",
              "      <td></td>\n",
              "      <td></td>\n",
              "      <td></td>\n",
              "    </tr>\n",
              "    <tr>\n",
              "      <th>5</th>\n",
              "      <td></td>\n",
              "      <td>Messrs:Mag Data-S.p.A</td>\n",
              "      <td></td>\n",
              "      <td></td>\n",
              "      <td>Invoice No.: CS210746</td>\n",
              "      <td></td>\n",
              "      <td>Invoice No.: CS210746</td>\n",
              "      <td></td>\n",
              "    </tr>\n",
              "    <tr>\n",
              "      <th>6</th>\n",
              "      <td></td>\n",
              "      <td>43052 Colorno (Italy)</td>\n",
              "      <td></td>\n",
              "      <td></td>\n",
              "      <td>Date: September 14, 2021</td>\n",
              "      <td></td>\n",
              "      <td>Date: September 14, 2021</td>\n",
              "      <td></td>\n",
              "    </tr>\n",
              "    <tr>\n",
              "      <th>7</th>\n",
              "      <td></td>\n",
              "      <td>43052 Colorno (Italy)</td>\n",
              "      <td></td>\n",
              "      <td></td>\n",
              "      <td>Payment: TT</td>\n",
              "      <td>Payment: TT</td>\n",
              "      <td></td>\n",
              "      <td></td>\n",
              "    </tr>\n",
              "    <tr>\n",
              "      <th>8</th>\n",
              "      <td></td>\n",
              "      <td>Tel. 0039-0521-525320</td>\n",
              "      <td></td>\n",
              "      <td></td>\n",
              "      <td>Incoterms: CIF La Spezia, Italy</td>\n",
              "      <td></td>\n",
              "      <td>Incoterms: CIF La Spezia, Italy</td>\n",
              "      <td></td>\n",
              "    </tr>\n",
              "    <tr>\n",
              "      <th>9</th>\n",
              "      <td></td>\n",
              "      <td>Fax. 0039-0521-525329</td>\n",
              "      <td></td>\n",
              "      <td></td>\n",
              "      <td>PO No.:1266</td>\n",
              "      <td>PO No.:1266</td>\n",
              "      <td></td>\n",
              "      <td></td>\n",
              "    </tr>\n",
              "    <tr>\n",
              "      <th>10</th>\n",
              "      <td></td>\n",
              "      <td>FROM:XIAMEN,CHINA</td>\n",
              "      <td>FROM:XIAMEN,CHINA</td>\n",
              "      <td>FROM:XIAMEN,CHINA</td>\n",
              "      <td>TO:LA SPEZIA,ITALY</td>\n",
              "      <td></td>\n",
              "      <td>TO:LA SPEZIA,ITALY</td>\n",
              "      <td></td>\n",
              "    </tr>\n",
              "    <tr>\n",
              "      <th>11</th>\n",
              "      <td></td>\n",
              "      <td>Type of</td>\n",
              "      <td></td>\n",
              "      <td>Specification</td>\n",
              "      <td></td>\n",
              "      <td>Qt'y</td>\n",
              "      <td>Net Weight</td>\n",
              "      <td>Gross Weight</td>\n",
              "    </tr>\n",
              "    <tr>\n",
              "      <th>12</th>\n",
              "      <td>Item</td>\n",
              "      <td>Material</td>\n",
              "      <td></td>\n",
              "      <td></td>\n",
              "      <td>L(m)</td>\n",
              "      <td></td>\n",
              "      <td>Net Weight</td>\n",
              "      <td></td>\n",
              "    </tr>\n",
              "    <tr>\n",
              "      <th>13</th>\n",
              "      <td></td>\n",
              "      <td>Material</td>\n",
              "      <td>T(m)[W(mm)</td>\n",
              "      <td>T(m)[W(mm)</td>\n",
              "      <td>L(m)</td>\n",
              "      <td>Roll</td>\n",
              "      <td>kg</td>\n",
              "      <td>kg</td>\n",
              "    </tr>\n",
              "    <tr>\n",
              "      <th>14</th>\n",
              "      <td>1</td>\n",
              "      <td></td>\n",
              "      <td>20</td>\n",
              "      <td>860</td>\n",
              "      <td>15000</td>\n",
              "      <td>4</td>\n",
              "      <td>1195.70</td>\n",
              "      <td>1315.27</td>\n",
              "    </tr>\n",
              "    <tr>\n",
              "      <th>15</th>\n",
              "      <td>2</td>\n",
              "      <td></td>\n",
              "      <td>20</td>\n",
              "      <td>900</td>\n",
              "      <td>15000</td>\n",
              "      <td>2</td>\n",
              "      <td>624.80</td>\n",
              "      <td>687.28</td>\n",
              "    </tr>\n",
              "    <tr>\n",
              "      <th>16</th>\n",
              "      <td>3</td>\n",
              "      <td></td>\n",
              "      <td>20</td>\n",
              "      <td>1240</td>\n",
              "      <td>15000</td>\n",
              "      <td>2</td>\n",
              "      <td>850.80</td>\n",
              "      <td>935.88</td>\n",
              "    </tr>\n",
              "    <tr>\n",
              "      <th>17</th>\n",
              "      <td>4</td>\n",
              "      <td></td>\n",
              "      <td>15</td>\n",
              "      <td>630</td>\n",
              "      <td>24000</td>\n",
              "      <td>4</td>\n",
              "      <td>1048.30</td>\n",
              "      <td>1153.13</td>\n",
              "    </tr>\n",
              "    <tr>\n",
              "      <th>18</th>\n",
              "      <td>5</td>\n",
              "      <td></td>\n",
              "      <td>15</td>\n",
              "      <td>650</td>\n",
              "      <td>24000</td>\n",
              "      <td>2</td>\n",
              "      <td>533.80</td>\n",
              "      <td>587.18</td>\n",
              "    </tr>\n",
              "    <tr>\n",
              "      <th>19</th>\n",
              "      <td>6</td>\n",
              "      <td>OA1</td>\n",
              "      <td>15</td>\n",
              "      <td>660</td>\n",
              "      <td>24000</td>\n",
              "      <td>6</td>\n",
              "      <td>1618.80</td>\n",
              "      <td>1780.68</td>\n",
              "    </tr>\n",
              "    <tr>\n",
              "      <th>20</th>\n",
              "      <td>7</td>\n",
              "      <td>treated)</td>\n",
              "      <td>15</td>\n",
              "      <td>680</td>\n",
              "      <td>24000</td>\n",
              "      <td>4</td>\n",
              "      <td>1115.10</td>\n",
              "      <td>1226.61</td>\n",
              "    </tr>\n",
              "    <tr>\n",
              "      <th>21</th>\n",
              "      <td>8</td>\n",
              "      <td></td>\n",
              "      <td>15</td>\n",
              "      <td>690</td>\n",
              "      <td>24000</td>\n",
              "      <td>2</td>\n",
              "      <td>563.20</td>\n",
              "      <td>619.52</td>\n",
              "    </tr>\n",
              "    <tr>\n",
              "      <th>22</th>\n",
              "      <td>9</td>\n",
              "      <td></td>\n",
              "      <td>15</td>\n",
              "      <td>1000</td>\n",
              "      <td>24000</td>\n",
              "      <td>6</td>\n",
              "      <td>2463.70</td>\n",
              "      <td>2710.07</td>\n",
              "    </tr>\n",
              "    <tr>\n",
              "      <th>23</th>\n",
              "      <td>10</td>\n",
              "      <td>BOPAFILM</td>\n",
              "      <td>15</td>\n",
              "      <td>1120</td>\n",
              "      <td>24000</td>\n",
              "      <td>6</td>\n",
              "      <td>2769.30</td>\n",
              "      <td>3046.23</td>\n",
              "    </tr>\n",
              "    <tr>\n",
              "      <th>24</th>\n",
              "      <td>11</td>\n",
              "      <td></td>\n",
              "      <td>15</td>\n",
              "      <td>1160</td>\n",
              "      <td>24000</td>\n",
              "      <td>2</td>\n",
              "      <td>952.60</td>\n",
              "      <td>1047.86</td>\n",
              "    </tr>\n",
              "    <tr>\n",
              "      <th>25</th>\n",
              "      <td>12</td>\n",
              "      <td></td>\n",
              "      <td>15</td>\n",
              "      <td>1280</td>\n",
              "      <td>24000</td>\n",
              "      <td>2</td>\n",
              "      <td>1051.20</td>\n",
              "      <td>1156.32</td>\n",
              "    </tr>\n",
              "    <tr>\n",
              "      <th>26</th>\n",
              "      <td>13</td>\n",
              "      <td></td>\n",
              "      <td>15</td>\n",
              "      <td>830</td>\n",
              "      <td>24000</td>\n",
              "      <td>4</td>\n",
              "      <td>1366.30</td>\n",
              "      <td>1502.93</td>\n",
              "    </tr>\n",
              "    <tr>\n",
              "      <th>27</th>\n",
              "      <td>14</td>\n",
              "      <td></td>\n",
              "      <td>15</td>\n",
              "      <td>945</td>\n",
              "      <td>24000</td>\n",
              "      <td>2</td>\n",
              "      <td>776.20</td>\n",
              "      <td>853.82</td>\n",
              "    </tr>\n",
              "    <tr>\n",
              "      <th>28</th>\n",
              "      <td>15</td>\n",
              "      <td>OA2</td>\n",
              "      <td>15</td>\n",
              "      <td>1040</td>\n",
              "      <td>24000</td>\n",
              "      <td>2</td>\n",
              "      <td>859.20</td>\n",
              "      <td>945.12</td>\n",
              "    </tr>\n",
              "    <tr>\n",
              "      <th>29</th>\n",
              "      <td>16</td>\n",
              "      <td>sides</td>\n",
              "      <td>15</td>\n",
              "      <td>1060</td>\n",
              "      <td>24000</td>\n",
              "      <td>2</td>\n",
              "      <td>870.60</td>\n",
              "      <td>957.66</td>\n",
              "    </tr>\n",
              "    <tr>\n",
              "      <th>30</th>\n",
              "      <td>17</td>\n",
              "      <td>treated)</td>\n",
              "      <td>15</td>\n",
              "      <td>1160</td>\n",
              "      <td>24000</td>\n",
              "      <td>2</td>\n",
              "      <td>952.60</td>\n",
              "      <td>1047.86</td>\n",
              "    </tr>\n",
              "    <tr>\n",
              "      <th>31</th>\n",
              "      <td>18</td>\n",
              "      <td></td>\n",
              "      <td>15</td>\n",
              "      <td>675</td>\n",
              "      <td>24000</td>\n",
              "      <td>2</td>\n",
              "      <td>558.00</td>\n",
              "      <td>613.80</td>\n",
              "    </tr>\n",
              "    <tr>\n",
              "      <th>32</th>\n",
              "      <td>19</td>\n",
              "      <td></td>\n",
              "      <td>15</td>\n",
              "      <td>695</td>\n",
              "      <td>24000</td>\n",
              "      <td>4</td>\n",
              "      <td>1141.60</td>\n",
              "      <td>1255.76</td>\n",
              "    </tr>\n",
              "    <tr>\n",
              "      <th>33</th>\n",
              "      <td></td>\n",
              "      <td>Sub-total (CMAU9079588/C1856699)</td>\n",
              "      <td></td>\n",
              "      <td></td>\n",
              "      <td></td>\n",
              "      <td>60</td>\n",
              "      <td>21311.80</td>\n",
              "      <td>23442.98</td>\n",
              "    </tr>\n",
              "    <tr>\n",
              "      <th>34</th>\n",
              "      <td>1</td>\n",
              "      <td></td>\n",
              "      <td>15</td>\n",
              "      <td>710</td>\n",
              "      <td>24000</td>\n",
              "      <td>2</td>\n",
              "      <td>585.70</td>\n",
              "      <td>644.27</td>\n",
              "    </tr>\n",
              "    <tr>\n",
              "      <th>35</th>\n",
              "      <td>2</td>\n",
              "      <td></td>\n",
              "      <td>15</td>\n",
              "      <td>720</td>\n",
              "      <td>24000</td>\n",
              "      <td>4</td>\n",
              "      <td>1192.30</td>\n",
              "      <td>1311.53</td>\n",
              "    </tr>\n",
              "    <tr>\n",
              "      <th>36</th>\n",
              "      <td>3</td>\n",
              "      <td></td>\n",
              "      <td>15</td>\n",
              "      <td>760</td>\n",
              "      <td>24000</td>\n",
              "      <td>4</td>\n",
              "      <td>1256.00</td>\n",
              "      <td>1381.60</td>\n",
              "    </tr>\n",
              "    <tr>\n",
              "      <th>37</th>\n",
              "      <td></td>\n",
              "      <td></td>\n",
              "      <td>15</td>\n",
              "      <td>780</td>\n",
              "      <td>24000</td>\n",
              "      <td>4</td>\n",
              "      <td>1281.20</td>\n",
              "      <td>1409.32</td>\n",
              "    </tr>\n",
              "    <tr>\n",
              "      <th>38</th>\n",
              "      <td>5</td>\n",
              "      <td></td>\n",
              "      <td>15</td>\n",
              "      <td>830</td>\n",
              "      <td>24000</td>\n",
              "      <td>2</td>\n",
              "      <td>681.60</td>\n",
              "      <td>749.76</td>\n",
              "    </tr>\n",
              "    <tr>\n",
              "      <th>39</th>\n",
              "      <td>6</td>\n",
              "      <td>(Outside</td>\n",
              "      <td>15</td>\n",
              "      <td>860</td>\n",
              "      <td>24000</td>\n",
              "      <td>5</td>\n",
              "      <td>1776.80</td>\n",
              "      <td>1954.48</td>\n",
              "    </tr>\n",
              "    <tr>\n",
              "      <th>40</th>\n",
              "      <td>7</td>\n",
              "      <td>treated)</td>\n",
              "      <td>15</td>\n",
              "      <td>870</td>\n",
              "      <td>24000</td>\n",
              "      <td>5</td>\n",
              "      <td>1788.50</td>\n",
              "      <td>1967.35</td>\n",
              "    </tr>\n",
              "    <tr>\n",
              "      <th>41</th>\n",
              "      <td>8</td>\n",
              "      <td>BOPA FILM</td>\n",
              "      <td>15</td>\n",
              "      <td>960</td>\n",
              "      <td>24000</td>\n",
              "      <td></td>\n",
              "      <td>1576.80</td>\n",
              "      <td>1734.48</td>\n",
              "    </tr>\n",
              "    <tr>\n",
              "      <th>42</th>\n",
              "      <td>9</td>\n",
              "      <td></td>\n",
              "      <td>15</td>\n",
              "      <td>980</td>\n",
              "      <td>24000</td>\n",
              "      <td>4</td>\n",
              "      <td>1607.20</td>\n",
              "      <td>1767.92</td>\n",
              "    </tr>\n",
              "    <tr>\n",
              "      <th>43</th>\n",
              "      <td>10</td>\n",
              "      <td></td>\n",
              "      <td>15</td>\n",
              "      <td>1050</td>\n",
              "      <td>24000</td>\n",
              "      <td>4</td>\n",
              "      <td>1736.90</td>\n",
              "      <td>1910.59</td>\n",
              "    </tr>\n",
              "    <tr>\n",
              "      <th>44</th>\n",
              "      <td>11</td>\n",
              "      <td></td>\n",
              "      <td>15</td>\n",
              "      <td>1060</td>\n",
              "      <td>24000</td>\n",
              "      <td>4</td>\n",
              "      <td>1747.10</td>\n",
              "      <td>1921.81</td>\n",
              "    </tr>\n",
              "    <tr>\n",
              "      <th>45</th>\n",
              "      <td>12</td>\n",
              "      <td></td>\n",
              "      <td>15</td>\n",
              "      <td>1100</td>\n",
              "      <td>24000</td>\n",
              "      <td>8</td>\n",
              "      <td>3633.50</td>\n",
              "      <td>3996.85</td>\n",
              "    </tr>\n",
              "    <tr>\n",
              "      <th>46</th>\n",
              "      <td>13</td>\n",
              "      <td>Both</td>\n",
              "      <td>15</td>\n",
              "      <td>850</td>\n",
              "      <td>24000</td>\n",
              "      <td>4</td>\n",
              "      <td>1397.90</td>\n",
              "      <td>1537.69</td>\n",
              "    </tr>\n",
              "    <tr>\n",
              "      <th>47</th>\n",
              "      <td>14</td>\n",
              "      <td>treated)</td>\n",
              "      <td>15</td>\n",
              "      <td>880</td>\n",
              "      <td>24000</td>\n",
              "      <td>2</td>\n",
              "      <td>727.40</td>\n",
              "      <td>800.14</td>\n",
              "    </tr>\n",
              "    <tr>\n",
              "      <th>48</th>\n",
              "      <td></td>\n",
              "      <td>Sub-total (CMAU8246588/C0822401)</td>\n",
              "      <td></td>\n",
              "      <td></td>\n",
              "      <td></td>\n",
              "      <td>56</td>\n",
              "      <td>20988.90</td>\n",
              "      <td>23087.79</td>\n",
              "    </tr>\n",
              "  </tbody>\n",
              "</table>\n",
              "</div>\n",
              "      <button class=\"colab-df-convert\" onclick=\"convertToInteractive('df-9f5463e7-24e4-48bd-9302-8b6ddaf1d42f')\"\n",
              "              title=\"Convert this dataframe to an interactive table.\"\n",
              "              style=\"display:none;\">\n",
              "        \n",
              "  <svg xmlns=\"http://www.w3.org/2000/svg\" height=\"24px\"viewBox=\"0 0 24 24\"\n",
              "       width=\"24px\">\n",
              "    <path d=\"M0 0h24v24H0V0z\" fill=\"none\"/>\n",
              "    <path d=\"M18.56 5.44l.94 2.06.94-2.06 2.06-.94-2.06-.94-.94-2.06-.94 2.06-2.06.94zm-11 1L8.5 8.5l.94-2.06 2.06-.94-2.06-.94L8.5 2.5l-.94 2.06-2.06.94zm10 10l.94 2.06.94-2.06 2.06-.94-2.06-.94-.94-2.06-.94 2.06-2.06.94z\"/><path d=\"M17.41 7.96l-1.37-1.37c-.4-.4-.92-.59-1.43-.59-.52 0-1.04.2-1.43.59L10.3 9.45l-7.72 7.72c-.78.78-.78 2.05 0 2.83L4 21.41c.39.39.9.59 1.41.59.51 0 1.02-.2 1.41-.59l7.78-7.78 2.81-2.81c.8-.78.8-2.07 0-2.86zM5.41 20L4 18.59l7.72-7.72 1.47 1.35L5.41 20z\"/>\n",
              "  </svg>\n",
              "      </button>\n",
              "      \n",
              "  <style>\n",
              "    .colab-df-container {\n",
              "      display:flex;\n",
              "      flex-wrap:wrap;\n",
              "      gap: 12px;\n",
              "    }\n",
              "\n",
              "    .colab-df-convert {\n",
              "      background-color: #E8F0FE;\n",
              "      border: none;\n",
              "      border-radius: 50%;\n",
              "      cursor: pointer;\n",
              "      display: none;\n",
              "      fill: #1967D2;\n",
              "      height: 32px;\n",
              "      padding: 0 0 0 0;\n",
              "      width: 32px;\n",
              "    }\n",
              "\n",
              "    .colab-df-convert:hover {\n",
              "      background-color: #E2EBFA;\n",
              "      box-shadow: 0px 1px 2px rgba(60, 64, 67, 0.3), 0px 1px 3px 1px rgba(60, 64, 67, 0.15);\n",
              "      fill: #174EA6;\n",
              "    }\n",
              "\n",
              "    [theme=dark] .colab-df-convert {\n",
              "      background-color: #3B4455;\n",
              "      fill: #D2E3FC;\n",
              "    }\n",
              "\n",
              "    [theme=dark] .colab-df-convert:hover {\n",
              "      background-color: #434B5C;\n",
              "      box-shadow: 0px 1px 3px 1px rgba(0, 0, 0, 0.15);\n",
              "      filter: drop-shadow(0px 1px 2px rgba(0, 0, 0, 0.3));\n",
              "      fill: #FFFFFF;\n",
              "    }\n",
              "  </style>\n",
              "\n",
              "      <script>\n",
              "        const buttonEl =\n",
              "          document.querySelector('#df-9f5463e7-24e4-48bd-9302-8b6ddaf1d42f button.colab-df-convert');\n",
              "        buttonEl.style.display =\n",
              "          google.colab.kernel.accessAllowed ? 'block' : 'none';\n",
              "\n",
              "        async function convertToInteractive(key) {\n",
              "          const element = document.querySelector('#df-9f5463e7-24e4-48bd-9302-8b6ddaf1d42f');\n",
              "          const dataTable =\n",
              "            await google.colab.kernel.invokeFunction('convertToInteractive',\n",
              "                                                     [key], {});\n",
              "          if (!dataTable) return;\n",
              "\n",
              "          const docLinkHtml = 'Like what you see? Visit the ' +\n",
              "            '<a target=\"_blank\" href=https://colab.research.google.com/notebooks/data_table.ipynb>data table notebook</a>'\n",
              "            + ' to learn more about interactive tables.';\n",
              "          element.innerHTML = '';\n",
              "          dataTable['output_type'] = 'display_data';\n",
              "          await google.colab.output.renderOutput(dataTable, element);\n",
              "          const docLink = document.createElement('div');\n",
              "          docLink.innerHTML = docLinkHtml;\n",
              "          element.appendChild(docLink);\n",
              "        }\n",
              "      </script>\n",
              "    </div>\n",
              "  </div>\n",
              "  "
            ]
          },
          "metadata": {},
          "execution_count": 88
        }
      ]
    }
  ]
}