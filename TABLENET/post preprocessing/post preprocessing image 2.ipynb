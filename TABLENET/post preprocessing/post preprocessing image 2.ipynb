{
  "nbformat": 4,
  "nbformat_minor": 0,
  "metadata": {
    "colab": {
      "name": "Untitled17.ipynb",
      "provenance": []
    },
    "kernelspec": {
      "name": "python3",
      "display_name": "Python 3"
    },
    "language_info": {
      "name": "python"
    },
    "accelerator": "GPU",
    "gpuClass": "standard"
  },
  "cells": [
    {
      "cell_type": "code",
      "execution_count": 161,
      "metadata": {
        "colab": {
          "base_uri": "https://localhost:8080/"
        },
        "id": "0eF4fZzMJeW3",
        "outputId": "affa1939-527c-48d1-dc56-e6818ceafe15"
      },
      "outputs": [
        {
          "output_type": "stream",
          "name": "stdout",
          "text": [
            "Looking in indexes: https://mirror.baidu.com/pypi/simple/, https://us-python.pkg.dev/colab-wheels/public/simple/\n",
            "Requirement already satisfied: paddlepaddle in /usr/local/lib/python3.7/dist-packages (2.3.1)\n",
            "Requirement already satisfied: decorator in /usr/local/lib/python3.7/dist-packages (from paddlepaddle) (4.4.2)\n",
            "Requirement already satisfied: opt-einsum==3.3.0 in /usr/local/lib/python3.7/dist-packages (from paddlepaddle) (3.3.0)\n",
            "Requirement already satisfied: six in /usr/local/lib/python3.7/dist-packages (from paddlepaddle) (1.15.0)\n",
            "Requirement already satisfied: paddle-bfloat==0.1.7 in /usr/local/lib/python3.7/dist-packages (from paddlepaddle) (0.1.7)\n",
            "Requirement already satisfied: protobuf<=3.20.0,>=3.1.0 in /usr/local/lib/python3.7/dist-packages (from paddlepaddle) (3.17.3)\n",
            "Requirement already satisfied: numpy>=1.13 in /usr/local/lib/python3.7/dist-packages (from paddlepaddle) (1.21.6)\n",
            "Requirement already satisfied: astor in /usr/local/lib/python3.7/dist-packages (from paddlepaddle) (0.8.1)\n",
            "Requirement already satisfied: requests>=2.20.0 in /usr/local/lib/python3.7/dist-packages (from paddlepaddle) (2.23.0)\n",
            "Requirement already satisfied: Pillow in /usr/local/lib/python3.7/dist-packages (from paddlepaddle) (7.1.2)\n",
            "Requirement already satisfied: urllib3!=1.25.0,!=1.25.1,<1.26,>=1.21.1 in /usr/local/lib/python3.7/dist-packages (from requests>=2.20.0->paddlepaddle) (1.24.3)\n",
            "Requirement already satisfied: certifi>=2017.4.17 in /usr/local/lib/python3.7/dist-packages (from requests>=2.20.0->paddlepaddle) (2022.6.15)\n",
            "Requirement already satisfied: chardet<4,>=3.0.2 in /usr/local/lib/python3.7/dist-packages (from requests>=2.20.0->paddlepaddle) (3.0.4)\n",
            "Requirement already satisfied: idna<3,>=2.5 in /usr/local/lib/python3.7/dist-packages (from requests>=2.20.0->paddlepaddle) (2.10)\n"
          ]
        }
      ],
      "source": [
        "!pip3 install paddlepaddle -i https://mirror.baidu.com/pypi/simple/"
      ]
    },
    {
      "cell_type": "code",
      "source": [
        "# git clone https://github.com/PaddlePaddle/PaddleOCR.git"
      ],
      "metadata": {
        "id": "f4KFL6dKLYCg"
      },
      "execution_count": 162,
      "outputs": []
    },
    {
      "cell_type": "code",
      "source": [
        "!pip install paddlepaddle-gpu"
      ],
      "metadata": {
        "colab": {
          "base_uri": "https://localhost:8080/"
        },
        "id": "yw4L5A5XMl8Z",
        "outputId": "fbfa3afb-57b9-439a-e7b8-b65c3712cbea"
      },
      "execution_count": 163,
      "outputs": [
        {
          "output_type": "stream",
          "name": "stdout",
          "text": [
            "Looking in indexes: https://pypi.org/simple, https://us-python.pkg.dev/colab-wheels/public/simple/\n",
            "Requirement already satisfied: paddlepaddle-gpu in /usr/local/lib/python3.7/dist-packages (2.3.1)\n",
            "Requirement already satisfied: six in /usr/local/lib/python3.7/dist-packages (from paddlepaddle-gpu) (1.15.0)\n",
            "Requirement already satisfied: numpy>=1.13 in /usr/local/lib/python3.7/dist-packages (from paddlepaddle-gpu) (1.21.6)\n",
            "Requirement already satisfied: protobuf<=3.20.0,>=3.1.0 in /usr/local/lib/python3.7/dist-packages (from paddlepaddle-gpu) (3.17.3)\n",
            "Requirement already satisfied: decorator in /usr/local/lib/python3.7/dist-packages (from paddlepaddle-gpu) (4.4.2)\n",
            "Requirement already satisfied: requests>=2.20.0 in /usr/local/lib/python3.7/dist-packages (from paddlepaddle-gpu) (2.23.0)\n",
            "Requirement already satisfied: paddle-bfloat==0.1.7 in /usr/local/lib/python3.7/dist-packages (from paddlepaddle-gpu) (0.1.7)\n",
            "Requirement already satisfied: astor in /usr/local/lib/python3.7/dist-packages (from paddlepaddle-gpu) (0.8.1)\n",
            "Requirement already satisfied: opt-einsum==3.3.0 in /usr/local/lib/python3.7/dist-packages (from paddlepaddle-gpu) (3.3.0)\n",
            "Requirement already satisfied: Pillow in /usr/local/lib/python3.7/dist-packages (from paddlepaddle-gpu) (7.1.2)\n",
            "Requirement already satisfied: certifi>=2017.4.17 in /usr/local/lib/python3.7/dist-packages (from requests>=2.20.0->paddlepaddle-gpu) (2022.6.15)\n",
            "Requirement already satisfied: urllib3!=1.25.0,!=1.25.1,<1.26,>=1.21.1 in /usr/local/lib/python3.7/dist-packages (from requests>=2.20.0->paddlepaddle-gpu) (1.24.3)\n",
            "Requirement already satisfied: chardet<4,>=3.0.2 in /usr/local/lib/python3.7/dist-packages (from requests>=2.20.0->paddlepaddle-gpu) (3.0.4)\n",
            "Requirement already satisfied: idna<3,>=2.5 in /usr/local/lib/python3.7/dist-packages (from requests>=2.20.0->paddlepaddle-gpu) (2.10)\n"
          ]
        }
      ]
    },
    {
      "cell_type": "code",
      "source": [
        "!pip install paddleocr"
      ],
      "metadata": {
        "colab": {
          "base_uri": "https://localhost:8080/"
        },
        "id": "N_V0D7i2MpR-",
        "outputId": "5a126219-6d87-465a-a979-08942e20515b"
      },
      "execution_count": 164,
      "outputs": [
        {
          "output_type": "stream",
          "name": "stdout",
          "text": [
            "Looking in indexes: https://pypi.org/simple, https://us-python.pkg.dev/colab-wheels/public/simple/\n",
            "Requirement already satisfied: paddleocr in /usr/local/lib/python3.7/dist-packages (2.5.0.3)\n",
            "Requirement already satisfied: openpyxl in /usr/local/lib/python3.7/dist-packages (from paddleocr) (3.0.10)\n",
            "Requirement already satisfied: attrdict in /usr/local/lib/python3.7/dist-packages (from paddleocr) (2.0.1)\n",
            "Requirement already satisfied: premailer in /usr/local/lib/python3.7/dist-packages (from paddleocr) (3.10.0)\n",
            "Requirement already satisfied: opencv-contrib-python==4.4.0.46 in /usr/local/lib/python3.7/dist-packages (from paddleocr) (4.4.0.46)\n",
            "Requirement already satisfied: lxml in /usr/local/lib/python3.7/dist-packages (from paddleocr) (4.9.1)\n",
            "Requirement already satisfied: visualdl in /usr/local/lib/python3.7/dist-packages (from paddleocr) (2.3.0)\n",
            "Requirement already satisfied: imgaug==0.4.0 in /usr/local/lib/python3.7/dist-packages (from paddleocr) (0.4.0)\n",
            "Requirement already satisfied: shapely in /usr/local/lib/python3.7/dist-packages (from paddleocr) (1.8.2)\n",
            "Requirement already satisfied: cython in /usr/local/lib/python3.7/dist-packages (from paddleocr) (0.29.32)\n",
            "Requirement already satisfied: scikit-image in /usr/local/lib/python3.7/dist-packages (from paddleocr) (0.18.3)\n",
            "Requirement already satisfied: python-Levenshtein in /usr/local/lib/python3.7/dist-packages (from paddleocr) (0.12.2)\n",
            "Requirement already satisfied: numpy in /usr/local/lib/python3.7/dist-packages (from paddleocr) (1.21.6)\n",
            "Requirement already satisfied: pyclipper in /usr/local/lib/python3.7/dist-packages (from paddleocr) (1.3.0.post3)\n",
            "Requirement already satisfied: lmdb in /usr/local/lib/python3.7/dist-packages (from paddleocr) (0.99)\n",
            "Requirement already satisfied: tqdm in /usr/local/lib/python3.7/dist-packages (from paddleocr) (4.64.0)\n",
            "Requirement already satisfied: opencv-python in /usr/local/lib/python3.7/dist-packages (from imgaug==0.4.0->paddleocr) (4.6.0.66)\n",
            "Requirement already satisfied: imageio in /usr/local/lib/python3.7/dist-packages (from imgaug==0.4.0->paddleocr) (2.9.0)\n",
            "Requirement already satisfied: matplotlib in /usr/local/lib/python3.7/dist-packages (from imgaug==0.4.0->paddleocr) (3.2.2)\n",
            "Requirement already satisfied: scipy in /usr/local/lib/python3.7/dist-packages (from imgaug==0.4.0->paddleocr) (1.7.3)\n",
            "Requirement already satisfied: Pillow in /usr/local/lib/python3.7/dist-packages (from imgaug==0.4.0->paddleocr) (7.1.2)\n",
            "Requirement already satisfied: six in /usr/local/lib/python3.7/dist-packages (from imgaug==0.4.0->paddleocr) (1.15.0)\n",
            "Requirement already satisfied: tifffile>=2019.7.26 in /usr/local/lib/python3.7/dist-packages (from scikit-image->paddleocr) (2021.11.2)\n",
            "Requirement already satisfied: PyWavelets>=1.1.1 in /usr/local/lib/python3.7/dist-packages (from scikit-image->paddleocr) (1.3.0)\n",
            "Requirement already satisfied: networkx>=2.0 in /usr/local/lib/python3.7/dist-packages (from scikit-image->paddleocr) (2.6.3)\n",
            "Requirement already satisfied: python-dateutil>=2.1 in /usr/local/lib/python3.7/dist-packages (from matplotlib->imgaug==0.4.0->paddleocr) (2.8.2)\n",
            "Requirement already satisfied: cycler>=0.10 in /usr/local/lib/python3.7/dist-packages (from matplotlib->imgaug==0.4.0->paddleocr) (0.11.0)\n",
            "Requirement already satisfied: kiwisolver>=1.0.1 in /usr/local/lib/python3.7/dist-packages (from matplotlib->imgaug==0.4.0->paddleocr) (1.4.4)\n",
            "Requirement already satisfied: pyparsing!=2.0.4,!=2.1.2,!=2.1.6,>=2.0.1 in /usr/local/lib/python3.7/dist-packages (from matplotlib->imgaug==0.4.0->paddleocr) (3.0.9)\n",
            "Requirement already satisfied: typing-extensions in /usr/local/lib/python3.7/dist-packages (from kiwisolver>=1.0.1->matplotlib->imgaug==0.4.0->paddleocr) (4.1.1)\n",
            "Requirement already satisfied: et-xmlfile in /usr/local/lib/python3.7/dist-packages (from openpyxl->paddleocr) (1.1.0)\n",
            "Requirement already satisfied: cssutils in /usr/local/lib/python3.7/dist-packages (from premailer->paddleocr) (2.5.1)\n",
            "Requirement already satisfied: cachetools in /usr/local/lib/python3.7/dist-packages (from premailer->paddleocr) (4.2.4)\n",
            "Requirement already satisfied: cssselect in /usr/local/lib/python3.7/dist-packages (from premailer->paddleocr) (1.1.0)\n",
            "Requirement already satisfied: requests in /usr/local/lib/python3.7/dist-packages (from premailer->paddleocr) (2.23.0)\n",
            "Requirement already satisfied: importlib-metadata in /usr/local/lib/python3.7/dist-packages (from cssutils->premailer->paddleocr) (4.12.0)\n",
            "Requirement already satisfied: zipp>=0.5 in /usr/local/lib/python3.7/dist-packages (from importlib-metadata->cssutils->premailer->paddleocr) (3.8.1)\n",
            "Requirement already satisfied: setuptools in /usr/local/lib/python3.7/dist-packages (from python-Levenshtein->paddleocr) (57.4.0)\n",
            "Requirement already satisfied: idna<3,>=2.5 in /usr/local/lib/python3.7/dist-packages (from requests->premailer->paddleocr) (2.10)\n",
            "Requirement already satisfied: certifi>=2017.4.17 in /usr/local/lib/python3.7/dist-packages (from requests->premailer->paddleocr) (2022.6.15)\n",
            "Requirement already satisfied: chardet<4,>=3.0.2 in /usr/local/lib/python3.7/dist-packages (from requests->premailer->paddleocr) (3.0.4)\n",
            "Requirement already satisfied: urllib3!=1.25.0,!=1.25.1,<1.26,>=1.21.1 in /usr/local/lib/python3.7/dist-packages (from requests->premailer->paddleocr) (1.24.3)\n",
            "Requirement already satisfied: bce-python-sdk in /usr/local/lib/python3.7/dist-packages (from visualdl->paddleocr) (0.8.74)\n",
            "Requirement already satisfied: flask>=1.1.1 in /usr/local/lib/python3.7/dist-packages (from visualdl->paddleocr) (1.1.4)\n",
            "Requirement already satisfied: protobuf>=3.11.0 in /usr/local/lib/python3.7/dist-packages (from visualdl->paddleocr) (3.17.3)\n",
            "Requirement already satisfied: pandas in /usr/local/lib/python3.7/dist-packages (from visualdl->paddleocr) (1.3.5)\n",
            "Requirement already satisfied: Flask-Babel>=1.0.0 in /usr/local/lib/python3.7/dist-packages (from visualdl->paddleocr) (2.0.0)\n",
            "Requirement already satisfied: itsdangerous<2.0,>=0.24 in /usr/local/lib/python3.7/dist-packages (from flask>=1.1.1->visualdl->paddleocr) (1.1.0)\n",
            "Requirement already satisfied: Werkzeug<2.0,>=0.15 in /usr/local/lib/python3.7/dist-packages (from flask>=1.1.1->visualdl->paddleocr) (1.0.1)\n",
            "Requirement already satisfied: Jinja2<3.0,>=2.10.1 in /usr/local/lib/python3.7/dist-packages (from flask>=1.1.1->visualdl->paddleocr) (2.11.3)\n",
            "Requirement already satisfied: click<8.0,>=5.1 in /usr/local/lib/python3.7/dist-packages (from flask>=1.1.1->visualdl->paddleocr) (7.1.2)\n",
            "Requirement already satisfied: pytz in /usr/local/lib/python3.7/dist-packages (from Flask-Babel>=1.0.0->visualdl->paddleocr) (2022.1)\n",
            "Requirement already satisfied: Babel>=2.3 in /usr/local/lib/python3.7/dist-packages (from Flask-Babel>=1.0.0->visualdl->paddleocr) (2.10.3)\n",
            "Requirement already satisfied: MarkupSafe>=0.23 in /usr/local/lib/python3.7/dist-packages (from Jinja2<3.0,>=2.10.1->flask>=1.1.1->visualdl->paddleocr) (2.0.1)\n",
            "Requirement already satisfied: pycryptodome>=3.8.0 in /usr/local/lib/python3.7/dist-packages (from bce-python-sdk->visualdl->paddleocr) (3.15.0)\n",
            "Requirement already satisfied: future>=0.6.0 in /usr/local/lib/python3.7/dist-packages (from bce-python-sdk->visualdl->paddleocr) (0.16.0)\n"
          ]
        }
      ]
    },
    {
      "cell_type": "code",
      "source": [
        "# Importing required functions for inference and visualization.\n",
        "from paddleocr import PaddleOCR,draw_ocr \n",
        "import os\n",
        "import cv2\n",
        "import matplotlib.pyplot as plt\n",
        "%matplotlib inline\n",
        "# ocr = PaddleOCR(use_angle_cls=True)"
      ],
      "metadata": {
        "id": "YzKbh8AvMsTO"
      },
      "execution_count": 165,
      "outputs": []
    },
    {
      "cell_type": "code",
      "source": [
        "# from paddleocr import PaddleOCR,draw_ocr\n",
        "# # Paddleocr supports Chinese, English, French, German, Korean and Japanese.\n",
        "# # You can set the parameter `lang` as `ch`, `en`, `french`, `german`, `korean`, `japan`\n",
        "# # to switch the language model in order.\n",
        "# ocr = PaddleOCR(use_angle_cls=True, lang='en') # need to run only once to download and load model into memory\n",
        "# img_path = '/content/English_text.webp'\n",
        "# result = ocr.ocr(img_path, cls=True)\n",
        "# for line in result:\n",
        "#      print(line)\n",
        "# # draw result\n",
        "# from PIL import Image\n",
        "# image = Image.open(img_path).convert('RGB')\n",
        "# boxes = [line[0] for line in result]\n",
        "# txts = [line[1][0] for line in result]\n",
        "# scores = [line[1][1] for line in result]\n",
        "# im_show = draw_ocr(image, boxes, txts, scores, font_path='/content/PaddleOCR/doc/fonts/simfang.ttf')\n",
        "# im_show = Image.fromarray(im_show)\n",
        "# im_show.save('result.jpg')"
      ],
      "metadata": {
        "id": "XMhm8mliLb2u"
      },
      "execution_count": 166,
      "outputs": []
    },
    {
      "cell_type": "code",
      "source": [
        "from paddleocr import PaddleOCR,draw_ocr\n",
        "ocr=PaddleOCR(lang=\"en\")"
      ],
      "metadata": {
        "colab": {
          "base_uri": "https://localhost:8080/"
        },
        "id": "qSrYsU25PStH",
        "outputId": "a36adeee-836f-41e9-e71e-6006efb380ce"
      },
      "execution_count": 167,
      "outputs": [
        {
          "output_type": "stream",
          "name": "stdout",
          "text": [
            "[2022/08/09 19:28:41] ppocr DEBUG: Namespace(alpha=1.0, benchmark=False, beta=1.0, cls_batch_num=6, cls_image_shape='3, 48, 192', cls_model_dir='/root/.paddleocr/whl/cls/ch_ppocr_mobile_v2.0_cls_infer', cls_thresh=0.9, cpu_threads=10, crop_res_save_dir='./output', det=True, det_algorithm='DB', det_db_box_thresh=0.6, det_db_score_mode='fast', det_db_thresh=0.3, det_db_unclip_ratio=1.5, det_east_cover_thresh=0.1, det_east_nms_thresh=0.2, det_east_score_thresh=0.8, det_fce_box_type='poly', det_limit_side_len=960, det_limit_type='max', det_model_dir='/root/.paddleocr/whl/det/en/en_PP-OCRv3_det_infer', det_pse_box_thresh=0.85, det_pse_box_type='quad', det_pse_min_area=16, det_pse_scale=1, det_pse_thresh=0, det_sast_nms_thresh=0.2, det_sast_polygon=False, det_sast_score_thresh=0.5, draw_img_save_dir='./inference_results', drop_score=0.5, e2e_algorithm='PGNet', e2e_char_dict_path='./ppocr/utils/ic15_dict.txt', e2e_limit_side_len=768, e2e_limit_type='max', e2e_model_dir=None, e2e_pgnet_mode='fast', e2e_pgnet_score_thresh=0.5, e2e_pgnet_valid_set='totaltext', enable_mkldnn=False, fourier_degree=5, gpu_mem=500, help='==SUPPRESS==', image_dir=None, ir_optim=True, label_list=['0', '180'], lang='en', layout=True, layout_label_map=None, layout_path_model='lp://PubLayNet/ppyolov2_r50vd_dcn_365e_publaynet/config', max_batch_size=10, max_text_length=25, min_subgraph_size=15, mode='structure', ocr=True, ocr_version='PP-OCRv3', output='./output', precision='fp32', process_id=0, rec=True, rec_algorithm='SVTR_LCNet', rec_batch_num=6, rec_char_dict_path='/usr/local/lib/python3.7/dist-packages/paddleocr/ppocr/utils/en_dict.txt', rec_image_shape='3, 48, 320', rec_model_dir='/root/.paddleocr/whl/rec/en/en_PP-OCRv3_rec_infer', save_crop_res=False, save_log_path='./log_output/', scales=[8, 16, 32], show_log=True, structure_version='PP-STRUCTURE', table=True, table_char_dict_path=None, table_max_len=488, table_model_dir=None, total_process_num=1, type='ocr', use_angle_cls=False, use_dilation=False, use_gpu=True, use_mp=False, use_onnx=False, use_pdserving=False, use_space_char=True, use_tensorrt=False, vis_font_path='./doc/fonts/simfang.ttf', warmup=False)\n"
          ]
        }
      ]
    },
    {
      "cell_type": "code",
      "source": [
        "image_path='/content/BRIC_S FATT + PL (SI21307931 CHENNAI)page-10.jpg'\n",
        "image_cv=cv2.imread(image_path)\n",
        "image_height=image_cv.shape[0]\n",
        "image_width=image_cv.shape[1]\n",
        "output=ocr.ocr(image_path)"
      ],
      "metadata": {
        "id": "urxZbJAdPgr2",
        "colab": {
          "base_uri": "https://localhost:8080/"
        },
        "outputId": "d59427c5-c293-4106-9fd5-a91008a34f44"
      },
      "execution_count": 168,
      "outputs": [
        {
          "output_type": "stream",
          "name": "stdout",
          "text": [
            "[2022/08/09 19:28:42] ppocr WARNING: Since the angle classifier is not initialized, the angle classifier will not be uesd during the forward process\n",
            "[2022/08/09 19:28:42] ppocr DEBUG: dt_boxes num : 296, elapse : 0.23663616180419922\n",
            "[2022/08/09 19:28:43] ppocr DEBUG: rec_res num  : 296, elapse : 0.5241961479187012\n"
          ]
        }
      ]
    },
    {
      "cell_type": "code",
      "source": [
        "print(output)"
      ],
      "metadata": {
        "id": "UrNs0kapQOTc",
        "colab": {
          "base_uri": "https://localhost:8080/"
        },
        "outputId": "7c146e92-e841-418f-a53a-efbf4511587b"
      },
      "execution_count": 169,
      "outputs": [
        {
          "output_type": "stream",
          "name": "stdout",
          "text": [
            "[[[[1316.0, 75.0], [1341.0, 75.0], [1341.0, 100.0], [1316.0, 100.0]], ('IT', 0.9260329008102417)], [[[368.0, 78.0], [724.0, 78.0], [724.0, 109.0], [368.0, 109.0]], (' Ponza Mezza|una LUNA 006-Blu 35x21x11', 0.976459801197052)], [[[1071.0, 78.0], [1186.0, 78.0], [1186.0, 102.0], [1071.0, 102.0]], ('1 PVC/PU/PL', 0.9999372959136963)], [[[194.0, 80.0], [322.0, 80.0], [322.0, 107.0], [194.0, 107.0]], ('BOZ05800.006', 0.982062816619873)], [[[813.0, 80.0], [955.0, 80.0], [955.0, 104.0], [813.0, 104.0]], ('8016623881362', 0.9999877214431763)], [[[1461.0, 73.0], [1552.0, 73.0], [1552.0, 100.0], [1461.0, 100.0]], ('42022210', 0.9999792575836182)], [[[133.0, 83.0], [157.0, 83.0], [157.0, 104.0], [133.0, 104.0]], ('16', 0.9993696212768555)], [[[1314.0, 100.0], [1346.0, 100.0], [1346.0, 131.0], [1314.0, 131.0]], ('IT', 0.8587839603424072)], [[[1071.0, 102.0], [1186.0, 102.0], [1186.0, 129.0], [1071.0, 129.0]], ('3 PVC/PU/PL', 0.9561151266098022)], [[[813.0, 104.0], [955.0, 104.0], [955.0, 131.0], [813.0, 131.0]], ('8016623710563', 0.9999843239784241)], [[[133.0, 107.0], [157.0, 107.0], [157.0, 131.0], [133.0, 131.0]], ('16', 0.9998672008514404)], [[[194.0, 107.0], [324.0, 107.0], [324.0, 133.0], [194.0, 133.0]], ('BOZ05802.006', 0.9944353103637695)], [[[371.0, 107.0], [715.0, 107.0], [715.0, 131.0], [371.0, 131.0]], ('Ponza Shoulderbag S MARTINA 006 Blue', 0.9852473735809326)], [[[1461.0, 100.0], [1552.0, 100.0], [1552.0, 126.0], [1461.0, 126.0]], ('42022210', 0.9999690055847168)], [[[189.0, 128.0], [322.0, 131.0], [321.0, 158.0], [189.0, 155.0]], ('BOZ05803.001', 0.9991552233695984)], [[[368.0, 129.0], [692.0, 129.0], [692.0, 160.0], [368.0, 160.0]], ('Ponza Shopping LUDOVICA 001 Black', 0.998180627822876)], [[[1316.0, 129.0], [1343.0, 129.0], [1343.0, 153.0], [1316.0, 153.0]], ('IT', 0.9449254274368286)], [[[813.0, 131.0], [955.0, 131.0], [955.0, 158.0], [813.0, 158.0]], ('8016623881690', 0.9999861121177673)], [[[1071.0, 131.0], [1186.0, 131.0], [1186.0, 155.0], [1071.0, 155.0]], ('1 PVC/PU/PL', 0.9984907507896423)], [[[133.0, 133.0], [157.0, 133.0], [157.0, 158.0], [133.0, 158.0]], ('16', 0.99986732006073)], [[[1461.0, 126.0], [1552.0, 126.0], [1552.0, 153.0], [1461.0, 153.0]], ('42022210', 0.9999804496765137)], [[[1311.0, 153.0], [1346.0, 153.0], [1346.0, 182.0], [1311.0, 182.0]], ('IT', 0.9499796628952026)], [[[192.0, 155.0], [322.0, 161.0], [321.0, 187.0], [191.0, 182.0]], ('BOZ05803.025', 0.9983441829681396)], [[[371.0, 155.0], [692.0, 155.0], [692.0, 187.0], [371.0, 187.0]], ('Ponza Shopping LUDOVICA 025-Beige', 0.9920328259468079)], [[[815.0, 158.0], [955.0, 158.0], [955.0, 182.0], [815.0, 182.0]], ('8016623882796', 0.9998166561126709)], [[[1071.0, 158.0], [1186.0, 158.0], [1186.0, 182.0], [1071.0, 182.0]], ('1 PVC/PU/PL', 0.9999322295188904)], [[[133.0, 160.0], [157.0, 160.0], [157.0, 184.0], [133.0, 184.0]], ('16', 0.999738872051239)], [[[1461.0, 153.0], [1552.0, 153.0], [1552.0, 180.0], [1461.0, 180.0]], ('42022210', 0.9999825954437256)], [[[1316.0, 180.0], [1341.0, 180.0], [1341.0, 206.0], [1316.0, 206.0]], ('IT', 0.8793694972991943)], [[[368.0, 182.0], [680.0, 182.0], [680.0, 214.0], [368.0, 214.0]], ('Ponza Shoulderbag EMMA 001 Black', 0.9810642004013062)], [[[813.0, 182.0], [958.0, 182.0], [958.0, 209.0], [813.0, 209.0]], ('8016623725574', 0.9988810420036316)], [[[1071.0, 182.0], [1186.0, 182.0], [1186.0, 206.0], [1071.0, 206.0]], ('3 PVC/PU/PL', 0.9999460577964783)], [[[194.0, 184.0], [322.0, 184.0], [322.0, 211.0], [194.0, 211.0]], ('BOZ05805.001', 0.9998357892036438)], [[[133.0, 187.0], [157.0, 187.0], [157.0, 209.0], [133.0, 209.0]], ('16', 0.9996627569198608)], [[[1461.0, 180.0], [1552.0, 180.0], [1552.0, 206.0], [1461.0, 206.0]], ('42022210', 0.9999831318855286)], [[[368.0, 206.0], [675.0, 206.0], [675.0, 238.0], [368.0, 238.0]], ('Ponza Shoulderbag EMMA 006 Blue', 0.9694622159004211)], [[[194.0, 209.0], [324.0, 209.0], [324.0, 235.0], [194.0, 235.0]], ('BOZ05805.006', 0.979351282119751)], [[[813.0, 209.0], [955.0, 209.0], [955.0, 235.0], [813.0, 235.0]], ('8016623725581', 0.9999744892120361)], [[[1071.0, 209.0], [1186.0, 209.0], [1186.0, 235.0], [1071.0, 235.0]], ('3 PVC/PU/PL', 0.9999574422836304)], [[[1316.0, 209.0], [1343.0, 209.0], [1343.0, 233.0], [1316.0, 233.0]], ('IT', 0.9737823009490967)], [[[133.0, 211.0], [157.0, 211.0], [157.0, 235.0], [133.0, 235.0]], ('16', 0.9995435476303101)], [[[1461.0, 206.0], [1552.0, 206.0], [1552.0, 231.0], [1461.0, 231.0]], ('42022210', 0.9999901652336121)], [[[368.0, 233.0], [715.0, 233.0], [715.0, 265.0], [368.0, 265.0]], ('Ponza Shoulderbag EMMA 020-Bordeaux', 0.9980807900428772)], [[[1316.0, 233.0], [1341.0, 233.0], [1341.0, 257.0], [1316.0, 257.0]], ('IT', 0.8178907632827759)], [[[194.0, 235.0], [324.0, 235.0], [324.0, 262.0], [194.0, 262.0]], ('BOZ0S805.020', 0.9602734446525574)], [[[815.0, 235.0], [958.0, 235.0], [958.0, 260.0], [815.0, 260.0]], ('8016623725598', 0.9999729990959167)], [[[1071.0, 235.0], [1186.0, 235.0], [1186.0, 260.0], [1071.0, 260.0]], ('3 PVC/PU/PL', 0.9999673962593079)], [[[133.0, 238.0], [157.0, 238.0], [157.0, 262.0], [133.0, 262.0]], ('16', 0.9998955726623535)], [[[1461.0, 231.0], [1552.0, 231.0], [1552.0, 257.0], [1461.0, 257.0]], ('42022210', 0.9999719858169556)], [[[813.0, 260.0], [958.0, 260.0], [958.0, 286.0], [813.0, 286.0]], ('8016623605920', 0.9999891519546509)], [[[1071.0, 260.0], [1159.0, 260.0], [1159.0, 286.0], [1071.0, 286.0]], ('1 Leather', 0.9998977184295654)], [[[1316.0, 260.0], [1341.0, 260.0], [1341.0, 284.0], [1316.0, 284.0]], ('IT', 0.8616293668746948)], [[[133.0, 262.0], [157.0, 262.0], [157.0, 286.0], [133.0, 286.0]], ('16', 0.9998453855514526)], [[[194.0, 262.0], [319.0, 262.0], [319.0, 286.0], [194.0, 286.0]], ('BPL05802.098', 0.9979062080383301)], [[[371.0, 262.0], [744.0, 262.0], [744.0, 286.0], [371.0, 286.0]], (' Life Pelle Shoul.bag S MARTINA 098 Leather', 0.982451856136322)], [[[1441.0, 257.0], [1552.0, 257.0], [1552.0, 284.0], [1441.0, 284.0]], ('4202210090', 0.999965488910675)], [[[368.0, 284.0], [631.0, 284.0], [631.0, 316.0], [368.0, 316.0]], ('X-Bag Shoulderbag 207-Mocca', 0.9756837487220764)], [[[194.0, 286.0], [322.0, 286.0], [322.0, 313.0], [194.0, 313.0]], ('BXG45051.207', 0.9994790554046631)], [[[813.0, 286.0], [958.0, 286.0], [958.0, 313.0], [813.0, 313.0]], ('8016623609515', 0.999989926815033)], [[[1071.0, 286.0], [1250.0, 286.0], [1250.0, 313.0], [1071.0, 313.0]], (' 2 Polyamide/Leather', 0.9775794148445129)], [[[1316.0, 286.0], [1348.0, 286.0], [1348.0, 308.0], [1316.0, 308.0]], ('CN', 0.999372124671936)], [[[133.0, 289.0], [157.0, 289.0], [157.0, 313.0], [133.0, 313.0]], ('17', 0.9998894929885864)], [[[1463.0, 284.0], [1552.0, 284.0], [1552.0, 308.0], [1463.0, 308.0]], ('42022290', 0.9999436140060425)], [[[1314.0, 308.0], [1350.0, 308.0], [1350.0, 337.0], [1314.0, 337.0]], ('CN', 0.9986337423324585)], [[[194.0, 313.0], [322.0, 313.0], [322.0, 337.0], [194.0, 337.0]], ('BXG45057.207', 0.9999063014984131)], [[[371.0, 313.0], [629.0, 313.0], [629.0, 337.0], [371.0, 337.0]], ('X-Bag Shoulderbag 207-Mocca', 0.9992170929908752)], [[[815.0, 313.0], [955.0, 313.0], [955.0, 337.0], [815.0, 337.0]], ('8016623616216', 0.9999872446060181)], [[[1071.0, 313.0], [1250.0, 313.0], [1250.0, 340.0], [1071.0, 340.0]], (' 6 Polyamide/Leather', 0.9531062245368958)], [[[135.0, 316.0], [157.0, 316.0], [157.0, 337.0], [135.0, 337.0]], ('17', 0.9991679191589355)], [[[1461.0, 311.0], [1552.0, 311.0], [1552.0, 335.0], [1461.0, 335.0]], ('42022290', 0.9999890923500061)], [[[1314.0, 335.0], [1350.0, 335.0], [1350.0, 364.0], [1314.0, 364.0]], ('CN', 0.9976195096969604)], [[[813.0, 337.0], [955.0, 337.0], [955.0, 364.0], [813.0, 364.0]], ('8016623123684', 0.9999923706054688)], [[[1071.0, 337.0], [1250.0, 337.0], [1250.0, 364.0], [1071.0, 364.0]], (' 2 Polyamide/Leather', 0.9797636866569519)], [[[133.0, 340.0], [157.0, 340.0], [157.0, 362.0], [133.0, 362.0]], ('17', 0.9999160766601562)], [[[192.0, 340.0], [322.0, 340.0], [322.0, 364.0], [192.0, 364.0]], ('BXG45070.207', 0.9999330639839172)], [[[371.0, 340.0], [604.0, 340.0], [604.0, 364.0], [371.0, 364.0]], ('X-Bag Shopping 207-Mocca', 0.9995439648628235)], [[[1461.0, 335.0], [1552.0, 335.0], [1552.0, 362.0], [1461.0, 362.0]], ('42022290', 0.9999828338623047)], [[[368.0, 362.0], [594.0, 362.0], [594.0, 393.0], [368.0, 393.0]], ('X-Bag Shopping 412-Rock', 0.9870976209640503)], [[[133.0, 364.0], [160.0, 364.0], [160.0, 388.0], [133.0, 388.0]], ('17', 0.9999400973320007)], [[[194.0, 364.0], [322.0, 364.0], [322.0, 391.0], [194.0, 391.0]], ('BXG45070.412', 0.9998430609703064)], [[[813.0, 364.0], [958.0, 364.0], [958.0, 391.0], [813.0, 391.0]], ('8016623616230', 0.9999915361404419)], [[[1071.0, 364.0], [1250.0, 364.0], [1250.0, 391.0], [1071.0, 391.0]], (' 2 Polyamide/Leather', 0.9769011735916138)], [[[1316.0, 364.0], [1348.0, 364.0], [1348.0, 386.0], [1316.0, 386.0]], ('CN', 0.9974899888038635)], [[[1461.0, 362.0], [1552.0, 362.0], [1552.0, 388.0], [1461.0, 388.0]], ('42022290', 0.9781572222709656)], [[[133.0, 391.0], [157.0, 391.0], [157.0, 413.0], [133.0, 413.0]], ('17', 0.9999365210533142)], [[[194.0, 391.0], [322.0, 391.0], [322.0, 415.0], [194.0, 415.0]], ('BXG45071.207', 0.9996492862701416)], [[[371.0, 391.0], [665.0, 391.0], [665.0, 415.0], [371.0, 415.0]], ('X-Bag Medium Sportina 207-Mocca', 0.9845610857009888)], [[[815.0, 391.0], [955.0, 391.0], [955.0, 415.0], [815.0, 415.0]], ('8016623115412', 0.9999672174453735)], [[[1071.0, 391.0], [1250.0, 391.0], [1250.0, 415.0], [1071.0, 415.0]], ('2 Polyamide/Leather', 0.9996993541717529)], [[[1316.0, 391.0], [1348.0, 391.0], [1348.0, 413.0], [1316.0, 413.0]], ('CN', 0.9994394779205322)], [[[1461.0, 388.0], [1552.0, 388.0], [1552.0, 415.0], [1461.0, 415.0]], ('42022290', 0.9999785423278809)], [[[189.0, 412.0], [322.0, 415.0], [321.0, 442.0], [189.0, 439.0]], ('BXG45072.412', 0.9898324012756348)], [[[368.0, 410.0], [634.0, 413.0], [633.0, 444.0], [368.0, 442.0]], ('X-Bag Small Sportina 412-Rock', 0.995552659034729)], [[[1314.0, 413.0], [1350.0, 413.0], [1350.0, 442.0], [1314.0, 442.0]], ('CN', 0.9972214102745056)], [[[813.0, 415.0], [955.0, 415.0], [955.0, 442.0], [813.0, 442.0]], ('8016623616254', 0.9999926090240479)], [[[1071.0, 415.0], [1250.0, 415.0], [1250.0, 442.0], [1071.0, 442.0]], (' 3 Polyamide/Leather', 0.9839978218078613)], [[[133.0, 417.0], [157.0, 417.0], [157.0, 439.0], [133.0, 439.0]], ('17', 0.9999644756317139)], [[[1461.0, 413.0], [1552.0, 413.0], [1552.0, 439.0], [1461.0, 439.0]], ('42022290', 0.9999800324440002)], [[[133.0, 442.0], [160.0, 442.0], [160.0, 466.0], [133.0, 466.0]], ('17', 0.9998013377189636)], [[[194.0, 442.0], [319.0, 442.0], [319.0, 468.0], [194.0, 468.0]], ('BXl.43754.207', 0.9777565598487854)], [[[371.0, 442.0], [722.0, 442.0], [722.0, 466.0], [371.0, 466.0]], ('X-Travel City Backpack Piccolo 207-Mocca', 0.9872238039970398)], [[[813.0, 442.0], [955.0, 442.0], [955.0, 468.0], [813.0, 468.0]], ('8016623115467', 0.9999793767929077)], [[[1071.0, 442.0], [1250.0, 442.0], [1250.0, 468.0], [1071.0, 468.0]], (' 5 Polyamide/Leather', 0.9782163500785828)], [[[1316.0, 442.0], [1348.0, 442.0], [1348.0, 464.0], [1316.0, 464.0]], ('CN', 0.9987451434135437)], [[[1461.0, 439.0], [1552.0, 439.0], [1552.0, 466.0], [1461.0, 466.0]], ('42022290', 0.9999802112579346)], [[[1069.0, 463.0], [1250.0, 469.0], [1249.0, 495.0], [1068.0, 490.0]], (' 3 Polyamide/Leather', 0.9749747514724731)], [[[1314.0, 464.0], [1350.0, 464.0], [1350.0, 493.0], [1314.0, 493.0]], ('CN', 0.9987128973007202)], [[[133.0, 468.0], [157.0, 468.0], [157.0, 493.0], [133.0, 493.0]], ('18', 0.9993325471878052)], [[[194.0, 468.0], [322.0, 468.0], [322.0, 493.0], [194.0, 493.0]], ('BXG40606.207', 0.9991397857666016)], [[[368.0, 468.0], [658.0, 468.0], [658.0, 493.0], [368.0, 493.0]], ('X-Bag Urban Travel Kit 207-Mocca', 0.9859689474105835)], [[[815.0, 468.0], [955.0, 468.0], [955.0, 493.0], [815.0, 493.0]], ('8016623123608', 0.9999843239784241)], [[[1461.0, 466.0], [1552.0, 466.0], [1552.0, 493.0], [1461.0, 493.0]], ('42022290', 0.9999837279319763)], [[[368.0, 490.0], [651.0, 490.0], [651.0, 522.0], [368.0, 522.0]], ('X-Bag Urban Travel Kit 412-Rock', 0.9843080639839172)], [[[1314.0, 490.0], [1350.0, 490.0], [1350.0, 519.0], [1314.0, 519.0]], ('CN', 0.9985052347183228)], [[[192.0, 493.0], [322.0, 493.0], [322.0, 519.0], [192.0, 519.0]], ('BXG40606.412', 0.9999317526817322)], [[[813.0, 493.0], [958.0, 493.0], [958.0, 517.0], [813.0, 517.0]], ('8016623609508', 0.9999859929084778)], [[[1071.0, 493.0], [1247.0, 493.0], [1247.0, 519.0], [1071.0, 519.0]], (' 3 Polyamide/Leather', 0.9863215684890747)], [[[133.0, 495.0], [157.0, 495.0], [157.0, 517.0], [133.0, 517.0]], ('18', 0.9993460178375244)], [[[1461.0, 490.0], [1552.0, 490.0], [1552.0, 517.0], [1461.0, 517.0]], ('42022290', 0.9999825954437256)], [[[368.0, 517.0], [631.0, 517.0], [631.0, 549.0], [368.0, 549.0]], ('X-Bag Shoulderbag 207-Mocca', 0.9890574812889099)], [[[1314.0, 517.0], [1350.0, 517.0], [1350.0, 546.0], [1314.0, 546.0]], ('CN', 0.998045802116394)], [[[130.0, 519.0], [157.0, 519.0], [157.0, 544.0], [130.0, 544.0]], ('18', 0.9999436736106873)], [[[192.0, 519.0], [322.0, 519.0], [322.0, 544.0], [192.0, 544.0]], ('BXG45052.207', 0.9999411702156067)], [[[813.0, 519.0], [955.0, 519.0], [955.0, 546.0], [813.0, 546.0]], ('8016623609539', 0.9999857544898987)], [[[1071.0, 519.0], [1250.0, 519.0], [1250.0, 546.0], [1071.0, 546.0]], (' 5 Polyamide/Leather', 0.9568374752998352)], [[[1461.0, 517.0], [1552.0, 517.0], [1552.0, 544.0], [1461.0, 544.0]], ('42022290', 0.9999769330024719)], [[[368.0, 544.0], [621.0, 544.0], [621.0, 575.0], [368.0, 575.0]], ('X-Bag Shoulderbag 412-Rock', 0.9936425685882568)], [[[194.0, 546.0], [322.0, 546.0], [322.0, 570.0], [194.0, 570.0]], ('BXG45052.412', 0.9998512268066406)], [[[813.0, 546.0], [955.0, 546.0], [955.0, 573.0], [813.0, 573.0]], ('8016623616186', 0.9999814629554749)], [[[1071.0, 546.0], [1247.0, 546.0], [1247.0, 573.0], [1071.0, 573.0]], (' 5 Polyamide/Leather', 0.9629780054092407)], [[[1316.0, 546.0], [1348.0, 546.0], [1348.0, 568.0], [1316.0, 568.0]], ('CN', 0.9991483688354492)], [[[1461.0, 544.0], [1552.0, 544.0], [1552.0, 570.0], [1461.0, 570.0]], ('42022290', 0.9999820590019226)], [[[368.0, 568.0], [631.0, 568.0], [631.0, 599.0], [368.0, 599.0]], ('X-Bag Shou!derbag 207-Mocca', 0.9899914860725403)], [[[192.0, 570.0], [322.0, 570.0], [322.0, 595.0], [192.0, 595.0]], ('BXG45056.207', 0.9999735951423645)], [[[813.0, 570.0], [955.0, 570.0], [955.0, 597.0], [813.0, 597.0]], ('8016623616193', 0.9999895095825195)], [[[1071.0, 570.0], [1247.0, 570.0], [1247.0, 597.0], [1071.0, 597.0]], ('6 Polyamide/Leather', 0.9858024716377258)], [[[1314.0, 568.0], [1350.0, 568.0], [1350.0, 597.0], [1314.0, 597.0]], ('CN', 0.9982897043228149)], [[[130.0, 573.0], [157.0, 573.0], [157.0, 595.0], [130.0, 595.0]], ('18', 0.9613638520240784)], [[[1461.0, 570.0], [1552.0, 570.0], [1552.0, 595.0], [1461.0, 595.0]], ('42022290', 0.9999701380729675)], [[[368.0, 595.0], [624.0, 595.0], [624.0, 626.0], [368.0, 626.0]], ('X-Bag Shoulderbag 412-Rock', 0.9967129826545715)], [[[192.0, 597.0], [322.0, 597.0], [322.0, 621.0], [192.0, 621.0]], ('BXG45056.412', 0.9967473149299622)], [[[813.0, 597.0], [955.0, 597.0], [955.0, 624.0], [813.0, 624.0]], ('8016623616209', 0.9999876022338867)], [[[1071.0, 597.0], [1250.0, 597.0], [1250.0, 624.0], [1071.0, 624.0]], ('6 Polyamide/Leather', 0.9870558381080627)], [[[1314.0, 595.0], [1350.0, 595.0], [1350.0, 624.0], [1314.0, 624.0]], ('CN', 0.99847412109375)], [[[1461.0, 597.0], [1552.0, 597.0], [1552.0, 621.0], [1461.0, 621.0]], ('42022290', 0.9999899864196777)], [[[133.0, 621.0], [157.0, 621.0], [157.0, 646.0], [133.0, 646.0]], ('18', 0.9903367757797241)], [[[192.0, 621.0], [322.0, 621.0], [322.0, 648.0], [192.0, 648.0]], ('BXG45072.207', 0.9999513030052185)], [[[368.0, 621.0], [641.0, 621.0], [641.0, 646.0], [368.0, 646.0]], ('X-Bag Small Sportina 207-Mocca', 0.9765983819961548)], [[[810.0, 621.0], [953.0, 621.0], [953.0, 646.0], [810.0, 646.0]], ('8016623115429', 0.9999756217002869)], [[[1071.0, 624.0], [1247.0, 624.0], [1247.0, 648.0], [1071.0, 648.0]], (' 3 Poiyamide/Leather', 0.9626269340515137)], [[[1316.0, 624.0], [1348.0, 624.0], [1348.0, 646.0], [1316.0, 646.0]], ('CN', 0.9983714818954468)], [[[1461.0, 621.0], [1552.0, 621.0], [1552.0, 648.0], [1461.0, 648.0]], ('42022290', 0.9999752640724182)], [[[192.0, 646.0], [322.0, 646.0], [322.0, 672.0], [192.0, 672.0]], ('BXG45057.412', 0.999711275100708)], [[[130.0, 648.0], [157.0, 648.0], [157.0, 672.0], [130.0, 672.0]], ('19', 0.9999238848686218)], [[[371.0, 648.0], [619.0, 648.0], [619.0, 672.0], [371.0, 672.0]], ('X-Bag Shoulderbag 412-Rock', 0.9747158288955688)], [[[813.0, 648.0], [955.0, 648.0], [955.0, 672.0], [813.0, 672.0]], ('8016623616223', 0.9999862909317017)], [[[1071.0, 648.0], [1247.0, 648.0], [1247.0, 675.0], [1071.0, 675.0]], ('6 Poiyamide/Leather', 0.97443026304245)], [[[1314.0, 646.0], [1350.0, 646.0], [1350.0, 675.0], [1314.0, 675.0]], ('CN', 0.9994667768478394)], [[[1461.0, 648.0], [1552.0, 648.0], [1552.0, 672.0], [1461.0, 672.0]], ('42022290', 0.999984860420227)], [[[194.0, 672.0], [322.0, 672.0], [322.0, 699.0], [194.0, 699.0]], ('BXG45282.207', 0.9996206164360046)], [[[369.0, 667.0], [602.0, 670.0], [601.0, 702.0], [368.0, 699.0]], ('X-Bag Handbag 207-Mocca', 0.9832966923713684)], [[[1314.0, 672.0], [1350.0, 672.0], [1350.0, 701.0], [1314.0, 701.0]], ('CN', 0.9992833137512207)], [[[130.0, 675.0], [157.0, 675.0], [157.0, 699.0], [130.0, 699.0]], ('19', 0.9999712705612183)], [[[813.0, 675.0], [955.0, 675.0], [955.0, 699.0], [813.0, 699.0]], ('8016623123752', 0.9999523162841797)], [[[1073.0, 675.0], [1250.0, 675.0], [1250.0, 701.0], [1073.0, 701.0]], ('4 Polyamide/Leather', 0.9856042265892029)], [[[1461.0, 672.0], [1552.0, 672.0], [1552.0, 699.0], [1461.0, 699.0]], ('42022290', 0.9999778270721436)], [[[130.0, 699.0], [157.0, 699.0], [157.0, 723.0], [130.0, 723.0]], ('19', 0.9995501041412354)], [[[192.0, 699.0], [317.0, 699.0], [317.0, 723.0], [192.0, 723.0]], ('BXL43754.412', 0.9997520446777344)], [[[368.0, 694.0], [710.0, 697.0], [709.0, 728.0], [368.0, 726.0]], ('X-Travel City Backpack Piccoto 412-Rock', 0.9663384556770325)], [[[810.0, 699.0], [953.0, 699.0], [953.0, 723.0], [810.0, 723.0]], ('8016623623122', 0.9999640583992004)], [[[1073.0, 701.0], [1247.0, 701.0], [1247.0, 728.0], [1073.0, 728.0]], ('5 Polyamide/Leather', 0.9990853667259216)], [[[1316.0, 701.0], [1348.0, 701.0], [1348.0, 723.0], [1316.0, 723.0]], ('CN', 0.9975875616073608)], [[[1461.0, 699.0], [1552.0, 699.0], [1552.0, 726.0], [1461.0, 726.0]], ('42022290', 0.9999716281890869)], [[[128.0, 721.0], [160.0, 721.0], [160.0, 752.0], [128.0, 752.0]], ('19', 0.9998639822006226)], [[[192.0, 723.0], [319.0, 723.0], [319.0, 750.0], [192.0, 750.0]], ('8XL45059.412', 0.9963023662567139)], [[[368.0, 721.0], [614.0, 723.0], [614.0, 750.0], [368.0, 748.0]], ('X-Travel Backpack 412-Rock', 0.9950729608535767)], [[[813.0, 726.0], [955.0, 726.0], [955.0, 750.0], [813.0, 750.0]], ('8016623623283', 0.9999895691871643)], [[[1071.0, 726.0], [1247.0, 726.0], [1247.0, 752.0], [1071.0, 752.0]], ('6 Polyamide/Leather', 0.9572095274925232)], [[[1314.0, 723.0], [1350.0, 723.0], [1350.0, 752.0], [1314.0, 752.0]], ('CN', 0.9995063543319702)], [[[1461.0, 726.0], [1552.0, 726.0], [1552.0, 750.0], [1461.0, 750.0]], ('42022290', 0.9999781847000122)], [[[192.0, 747.0], [322.0, 750.0], [321.0, 777.0], [191.0, 774.0]], ('BXG45071.207', 0.9964892268180847)], [[[369.0, 745.0], [663.0, 750.0], [663.0, 782.0], [368.0, 777.0]], ('X-Bag Medium Sportina 207-Mocca', 0.9675164818763733)], [[[1314.0, 750.0], [1350.0, 750.0], [1350.0, 779.0], [1314.0, 779.0]], ('CN', 0.9995405673980713)], [[[128.0, 752.0], [157.0, 752.0], [157.0, 774.0], [128.0, 774.0]], ('20', 0.9996311068534851)], [[[813.0, 752.0], [955.0, 752.0], [955.0, 777.0], [813.0, 777.0]], ('8016623115412', 0.9999886751174927)], [[[1073.0, 752.0], [1250.0, 752.0], [1250.0, 779.0], [1073.0, 779.0]], ('1 Polyamide/Leather', 0.9990976452827454)], [[[1462.0, 747.0], [1552.0, 753.0], [1551.0, 780.0], [1460.0, 774.0]], ('42022290', 0.9999284744262695)], [[[369.0, 774.0], [602.0, 777.0], [601.0, 803.0], [368.0, 801.0]], ('X-Travel Holdail 207-Mocca', 0.9762208461761475)], [[[130.0, 777.0], [157.0, 777.0], [157.0, 801.0], [130.0, 801.0]], ('29', 0.951411247253418)], [[[192.0, 777.0], [319.0, 777.0], [319.0, 801.0], [192.0, 801.0]], ('BXL40202.207', 0.9807460904121399)], [[[811.0, 774.0], [955.0, 777.0], [955.0, 804.0], [810.0, 801.0]], ('8016623123776', 0.999983549118042)], [[[1314.0, 777.0], [1350.0, 777.0], [1350.0, 806.0], [1314.0, 806.0]], ('CN', 0.9990891218185425)], [[[1071.0, 779.0], [1247.0, 779.0], [1247.0, 803.0], [1071.0, 803.0]], ('2 Polyamide/Leather', 0.9899693727493286)], [[[1461.0, 777.0], [1549.0, 777.0], [1549.0, 803.0], [1461.0, 803.0]], ('42029291', 0.999678909778595)], [[[189.0, 801.0], [319.0, 801.0], [319.0, 828.0], [189.0, 828.0]], ('6X1.42192.207', 0.9127624034881592)], [[[369.0, 798.0], [602.0, 801.0], [601.0, 828.0], [368.0, 825.0]], ('X-Travel Ho!dall 207-Mocca', 0.9965400695800781)], [[[128.0, 803.0], [157.0, 803.0], [157.0, 825.0], [128.0, 825.0]], ('2(', 0.6666806936264038)], [[[813.0, 803.0], [955.0, 803.0], [955.0, 828.0], [813.0, 828.0]], ('8016623123820', 0.9985023140907288)], [[[1071.0, 803.0], [1247.0, 803.0], [1247.0, 830.0], [1071.0, 830.0]], ('4 Polyamide/Leather', 0.9850977659225464)], [[[1314.0, 801.0], [1350.0, 801.0], [1350.0, 830.0], [1314.0, 830.0]], ('CN', 0.9990597367286682)], [[[1461.0, 803.0], [1549.0, 803.0], [1549.0, 830.0], [1461.0, 830.0]], ('42029291', 0.9591794013977051)], [[[187.0, 825.0], [317.0, 828.0], [316.0, 855.0], [186.0, 852.0]], ('BXI.42192.412', 0.9965996146202087)], [[[368.0, 825.0], [592.0, 828.0], [592.0, 854.0], [368.0, 852.0]], ('X-Travel Ho!dall 412-Rock', 0.9850724935531616)], [[[1069.0, 825.0], [1250.0, 830.0], [1249.0, 857.0], [1068.0, 852.0]], (' 4 Polyamide/Leather', 0.9854324460029602)], [[[1314.0, 828.0], [1350.0, 828.0], [1350.0, 857.0], [1314.0, 857.0]], ('CN', 0.9987120628356934)], [[[128.0, 830.0], [157.0, 830.0], [157.0, 852.0], [128.0, 852.0]], ('20', 0.999129056930542)], [[[813.0, 830.0], [955.0, 830.0], [955.0, 854.0], [813.0, 854.0]], ('8016623620749', 0.9999892711639404)], [[[1455.0, 822.0], [1552.0, 828.0], [1551.0, 857.0], [1453.0, 851.0]], (' 42029291', 0.9851521253585815)], [[[125.0, 852.0], [160.0, 852.0], [160.0, 881.0], [125.0, 881.0]], ('20', 0.9991349577903748)], [[[368.0, 852.0], [624.0, 854.0], [624.0, 881.0], [368.0, 879.0]], ('X-Travet Backpack 207-Mocca', 0.9919039607048035)], [[[811.0, 852.0], [955.0, 854.0], [955.0, 881.0], [810.0, 878.0]], ('8016623623269', 0.9999639987945557)], [[[189.0, 854.0], [319.0, 854.0], [319.0, 879.0], [189.0, 879.0]], ('BXi.45059.207', 0.9680798649787903)], [[[1069.0, 852.0], [1248.0, 857.0], [1247.0, 884.0], [1068.0, 878.0]], (' 2 Polyamide/Leather', 0.9821817278862)], [[[1314.0, 854.0], [1350.0, 854.0], [1350.0, 883.0], [1314.0, 883.0]], ('CN', 0.9980512857437134)], [[[1461.0, 857.0], [1552.0, 857.0], [1552.0, 881.0], [1461.0, 881.0]], ('42022290', 0.9999745488166809)], [[[369.0, 874.0], [619.0, 876.0], [619.0, 908.0], [368.0, 905.0]], ('X-8ag Shoulderbag 412-Rock', 0.9633572101593018)], [[[128.0, 879.0], [155.0, 879.0], [155.0, 903.0], [128.0, 903.0]], ('21', 0.9999482035636902)], [[[189.0, 879.0], [322.0, 879.0], [322.0, 905.0], [189.0, 905.0]], ('BXG45051.412', 0.9998695254325867)], [[[813.0, 881.0], [955.0, 881.0], [955.0, 905.0], [813.0, 905.0]], ('8016623609522', 0.9998120665550232)], [[[1068.0, 878.0], [1248.0, 881.0], [1247.0, 908.0], [1068.0, 905.0]], (' 2 Polyamide/Leather', 0.9840278625488281)], [[[1316.0, 883.0], [1348.0, 883.0], [1348.0, 905.0], [1316.0, 905.0]], ('CN', 0.9985936880111694)], [[[1458.0, 881.0], [1552.0, 881.0], [1552.0, 908.0], [1458.0, 908.0]], ('42022290', 0.9999922513961792)], [[[369.0, 900.0], [619.0, 903.0], [619.0, 935.0], [368.0, 932.0]], ('X-Bag Shoulderbag 412-Rock', 0.9846874475479126)], [[[128.0, 905.0], [155.0, 905.0], [155.0, 930.0], [128.0, 930.0]], ('21', 0.9998821020126343)], [[[192.0, 905.0], [322.0, 905.0], [322.0, 930.0], [192.0, 930.0]], ('BXG45055.412', 0.9999077916145325)], [[[811.0, 903.0], [955.0, 905.0], [955.0, 932.0], [810.0, 929.0]], ('8016623624259', 0.9997951984405518)], [[[1071.0, 908.0], [1247.0, 908.0], [1247.0, 934.0], [1071.0, 934.0]], ('8 Polyamide/Leather', 0.981314480304718)], [[[1314.0, 905.0], [1348.0, 905.0], [1348.0, 934.0], [1314.0, 934.0]], ('CN', 0.9978294968605042)], [[[1458.0, 908.0], [1552.0, 908.0], [1552.0, 934.0], [1458.0, 934.0]], ('42022290', 0.9999862313270569)], [[[366.0, 930.0], [656.0, 930.0], [656.0, 961.0], [366.0, 961.0]], ('X-Bag Medium Sportina 412-Rock', 0.9979479908943176)], [[[128.0, 932.0], [155.0, 932.0], [155.0, 956.0], [128.0, 956.0]], ('21', 0.9999030828475952)], [[[189.0, 932.0], [319.0, 932.0], [319.0, 956.0], [189.0, 956.0]], ('BXG45071.412', 0.999882698059082)], [[[1069.0, 929.0], [1248.0, 935.0], [1247.0, 961.0], [1068.0, 956.0]], (' 3 Polyamide/Leather', 0.9886667132377625)], [[[813.0, 934.0], [953.0, 934.0], [953.0, 959.0], [813.0, 959.0]], ('8016623616247', 0.9999731779098511)], [[[1314.0, 932.0], [1348.0, 932.0], [1348.0, 961.0], [1314.0, 961.0]], ('CN', 0.9985102415084839)], [[[1461.0, 934.0], [1552.0, 934.0], [1552.0, 959.0], [1461.0, 959.0]], ('42022290', 0.9999393224716187)], [[[187.0, 954.0], [319.0, 956.0], [319.0, 983.0], [186.0, 980.0]], ('BXG45282.412', 0.9998998641967773)], [[[128.0, 956.0], [155.0, 956.0], [155.0, 981.0], [128.0, 981.0]], ('21', 0.9997959733009338)], [[[369.0, 954.0], [587.0, 956.0], [587.0, 983.0], [368.0, 981.0]], ('X-Bag Handbag 412-Rock', 0.997779130935669)], [[[1066.0, 956.0], [1248.0, 959.0], [1247.0, 986.0], [1065.0, 983.0]], (' 4 Polyamide/Leather', 0.9975376129150391)], [[[813.0, 959.0], [953.0, 959.0], [953.0, 983.0], [813.0, 983.0]], ('8016623616261', 0.9999886751174927)], [[[1314.0, 961.0], [1346.0, 961.0], [1346.0, 983.0], [1314.0, 983.0]], ('CN', 0.9992280602455139)], [[[1457.0, 956.0], [1552.0, 962.0], [1551.0, 988.0], [1455.0, 982.0]], (' 42022290', 0.9517205357551575)], [[[811.0, 980.0], [955.0, 983.0], [955.0, 1010.0], [810.0, 1007.0]], ('8016623623269', 0.9999729990959167)], [[[368.0, 981.0], [624.0, 981.0], [624.0, 1012.0], [368.0, 1012.0]], ('X-Travel Backpack 207-Mocca', 0.9778045415878296)], [[[128.0, 983.0], [155.0, 983.0], [155.0, 1007.0], [128.0, 1007.0]], ('21', 0.9999935030937195)], [[[189.0, 983.0], [319.0, 983.0], [319.0, 1007.0], [189.0, 1007.0]], ('BXL45059.207', 0.9994499087333679)], [[[1069.0, 980.0], [1248.0, 986.0], [1247.0, 1012.0], [1068.0, 1007.0]], (' 4 Polyamide/Leather', 0.9806994199752808)], [[[1314.0, 983.0], [1348.0, 983.0], [1348.0, 1012.0], [1314.0, 1012.0]], ('CN', 0.9987558126449585)], [[[1461.0, 985.0], [1552.0, 985.0], [1552.0, 1012.0], [1461.0, 1012.0]], ('42022290', 0.9999493360519409)], [[[128.0, 1010.0], [155.0, 1010.0], [155.0, 1032.0], [128.0, 1032.0]], ('22', 0.999829888343811)], [[[189.0, 1007.0], [319.0, 1007.0], [319.0, 1034.0], [189.0, 1034.0]], ('BXG45055.207', 0.9991962909698486)], [[[366.0, 1010.0], [626.0, 1010.0], [626.0, 1034.0], [366.0, 1034.0]], ('X-8ag Shoulderbag 207-Mocca', 0.9791170954704285)], [[[813.0, 1010.0], [953.0, 1010.0], [953.0, 1036.0], [813.0, 1036.0]], ('8016623624242', 0.9995837807655334)], [[[1314.0, 1010.0], [1348.0, 1010.0], [1348.0, 1039.0], [1314.0, 1039.0]], ('CN', 0.9988712072372437)], [[[1071.0, 1012.0], [1247.0, 1012.0], [1247.0, 1036.0], [1071.0, 1036.0]], ('8 Polyamide/Leather', 0.995682954788208)], [[[1458.0, 1010.0], [1552.0, 1010.0], [1552.0, 1036.0], [1458.0, 1036.0]], ('42022290', 0.9999926090240479)], [[[187.0, 1029.0], [317.0, 1034.0], [316.0, 1061.0], [186.0, 1055.0]], ('BXL40202.412', 0.9994657039642334)], [[[128.0, 1034.0], [155.0, 1034.0], [155.0, 1058.0], [128.0, 1058.0]], ('22', 0.999902606010437)], [[[369.0, 1031.0], [589.0, 1034.0], [589.0, 1061.0], [368.0, 1058.0]], ('X-Travel Holdatl 412-Rock', 0.999224066734314)], [[[813.0, 1036.0], [955.0, 1036.0], [955.0, 1061.0], [813.0, 1061.0]], ('8016623616278', 0.9999536275863647)], [[[1068.0, 1036.0], [1247.0, 1036.0], [1247.0, 1063.0], [1068.0, 1063.0]], (' 2 Polyamide/Leather', 0.9685497283935547)], [[[1311.0, 1034.0], [1348.0, 1034.0], [1348.0, 1063.0], [1311.0, 1063.0]], ('CN', 0.9980288743972778)], [[[1456.0, 1036.0], [1547.0, 1036.0], [1547.0, 1063.0], [1456.0, 1063.0]], ('42029291', 0.9998341798782349)], [[[366.0, 1058.0], [582.0, 1061.0], [582.0, 1087.0], [366.0, 1085.0]], ('X-Bag Holdall 207-Mocca', 0.9876505732536316)], [[[811.0, 1058.0], [955.0, 1061.0], [955.0, 1088.0], [810.0, 1085.0]], ('8016623123561', 0.9999799728393555)], [[[125.0, 1061.0], [152.0, 1057.0], [156.0, 1082.0], [128.0, 1086.0]], ('23', 0.9997808933258057)], [[[189.0, 1061.0], [319.0, 1061.0], [319.0, 1085.0], [189.0, 1085.0]], ('BXG40202.207', 0.9970731735229492)], [[[1069.0, 1058.0], [1248.0, 1063.0], [1247.0, 1090.0], [1068.0, 1085.0]], (' 4 Polyamide/Leather', 0.9675796627998352)], [[[1314.0, 1061.0], [1348.0, 1061.0], [1348.0, 1092.0], [1314.0, 1092.0]], ('CN', 0.9986269474029541)], [[[1461.0, 1063.0], [1547.0, 1063.0], [1547.0, 1087.0], [1461.0, 1087.0]], ('42029291', 0.9995174407958984)], [[[125.0, 1082.0], [160.0, 1082.0], [160.0, 1112.0], [125.0, 1112.0]], ('23', 0.9994825124740601)], [[[366.0, 1082.0], [575.0, 1082.0], [575.0, 1114.0], [366.0, 1114.0]], ('X-Bag Holdall 412-Rock', 0.9786832928657532)], [[[189.0, 1085.0], [319.0, 1085.0], [319.0, 1112.0], [189.0, 1112.0]], ('BXG40202.412', 0.9999578595161438)], [[[1068.0, 1085.0], [1248.0, 1087.0], [1247.0, 1114.0], [1068.0, 1111.0]], (' 4 Polyamide/Leather', 0.9831883311271667)], [[[1314.0, 1085.0], [1348.0, 1085.0], [1348.0, 1116.0], [1314.0, 1116.0]], ('CN', 0.9986028075218201)], [[[813.0, 1087.0], [953.0, 1087.0], [953.0, 1114.0], [813.0, 1114.0]], ('8016623609485', 0.9999873042106628)], [[[1457.0, 1082.0], [1547.0, 1088.0], [1546.0, 1117.0], [1455.0, 1111.0]], ('42029291', 0.9998963475227356)], [[[125.0, 1109.0], [160.0, 1109.0], [160.0, 1138.0], [125.0, 1138.0]], ('23', 0.9987157583236694)], [[[366.0, 1109.0], [582.0, 1112.0], [582.0, 1138.0], [366.0, 1136.0]], ('X-Bag Hotdatl 207-Mocca', 0.985643744468689)], [[[811.0, 1109.0], [953.0, 1112.0], [952.0, 1138.0], [810.0, 1136.0]], ('8016623115375', 0.9999818801879883)], [[[189.0, 1112.0], [319.0, 1112.0], [319.0, 1136.0], [189.0, 1136.0]], ('BXG40203.207', 0.9987370371818542)], [[[1066.0, 1109.0], [1248.0, 1114.0], [1247.0, 1141.0], [1065.0, 1136.0]], (' 6 Polyamide/Leather', 0.9688550233840942)], [[[1311.0, 1112.0], [1348.0, 1112.0], [1348.0, 1141.0], [1311.0, 1141.0]], ('CN', 0.9989917278289795)], [[[1458.0, 1114.0], [1547.0, 1114.0], [1547.0, 1141.0], [1458.0, 1141.0]], ('42029291', 0.9998738765716553)], [[[1066.0, 1136.0], [1248.0, 1141.0], [1247.0, 1168.0], [1065.0, 1162.0]], (' 6 Polyamide/Leather', 0.9656826853752136)], [[[128.0, 1138.0], [155.0, 1138.0], [155.0, 1158.0], [128.0, 1158.0]], ('23', 0.9999578595161438)], [[[189.0, 1138.0], [319.0, 1138.0], [319.0, 1163.0], [189.0, 1163.0]], ('BXG40203.412', 0.9999430179595947)], [[[368.0, 1138.0], [570.0, 1138.0], [570.0, 1163.0], [368.0, 1163.0]], ('X-Bag Holdall 412-Rock', 0.9907735586166382)], [[[813.0, 1138.0], [953.0, 1138.0], [953.0, 1165.0], [813.0, 1165.0]], ('8016623609492', 0.9999898076057434)], [[[1311.0, 1138.0], [1348.0, 1138.0], [1348.0, 1167.0], [1311.0, 1167.0]], ('CN', 0.9939161539077759)], [[[1457.0, 1135.0], [1545.0, 1141.0], [1543.0, 1168.0], [1455.0, 1162.0]], ('42029291', 0.9996767044067383)], [[[813.0, 1165.0], [874.0, 1165.0], [874.0, 1192.0], [813.0, 1192.0]], ('Total:', 0.9781362414360046)], [[[1044.0, 1165.0], [1088.0, 1165.0], [1088.0, 1192.0], [1044.0, 1192.0]], ('205', 0.9998628497123718)]]\n"
          ]
        }
      ]
    },
    {
      "cell_type": "code",
      "source": [
        "boxes=[line[0] for line in output]\n",
        "texts=[line[1][0] for line in output]\n",
        "probabilities=[line[1][1] for line in output]"
      ],
      "metadata": {
        "id": "QMutajTIQ8Lk"
      },
      "execution_count": 170,
      "outputs": []
    },
    {
      "cell_type": "code",
      "source": [
        "image_boxes=image_cv.copy()"
      ],
      "metadata": {
        "id": "TBhN_en-RMtN"
      },
      "execution_count": 171,
      "outputs": []
    },
    {
      "cell_type": "code",
      "source": [
        "for box,text in zip(boxes,texts):\n",
        "  cv2.rectangle(image_boxes,(int(box[0][0]),int(box[0][1])),(int(box[2][0]),int(box[2][1])),(0,0,255),1)\n",
        "  cv2.putText(image_boxes,text,(int(box[0][0]),int(box[0][1])),cv2.FONT_HERSHEY_SIMPLEX,1,(222,0,0),1)"
      ],
      "metadata": {
        "id": "g8t6ScjeRXJj"
      },
      "execution_count": 172,
      "outputs": []
    },
    {
      "cell_type": "code",
      "source": [
        "cv2.imwrite('detections.jpg',image_boxes)"
      ],
      "metadata": {
        "id": "jDyjK98YVVmb",
        "colab": {
          "base_uri": "https://localhost:8080/"
        },
        "outputId": "54e1de69-5662-47d8-d2ac-7f4b8da65948"
      },
      "execution_count": 173,
      "outputs": [
        {
          "output_type": "execute_result",
          "data": {
            "text/plain": [
              "True"
            ]
          },
          "metadata": {},
          "execution_count": 173
        }
      ]
    },
    {
      "cell_type": "markdown",
      "source": [
        "### Reconstruction "
      ],
      "metadata": {
        "id": "tk5v27c6bl7Y"
      }
    },
    {
      "cell_type": "code",
      "source": [
        "im=image_cv.copy()"
      ],
      "metadata": {
        "id": "7Mc_BQA6kaC5"
      },
      "execution_count": 174,
      "outputs": []
    },
    {
      "cell_type": "code",
      "source": [
        "horiz_boxes=[]\n",
        "vert_boxes=[]\n",
        "\n",
        "for box in boxes:\n",
        "  x_h,x_v=0,int(box[0][0])\n",
        "  y_h,y_v=int(box[0][1]),0\n",
        "  width_h,width_v=image_width,int(box[2][0]-box[0][0])\n",
        "  height_h,height_v=int(box[2][1]-box[0][1]),image_height\n",
        "                                    \n",
        "  horiz_boxes.append([x_h,y_h,x_h+width_h,y_h+height_h])\n",
        "  vert_boxes.append([x_v,y_v,x_v+width_v,y_v+height_v])\n",
        "\n",
        "  cv2.rectangle(im,(x_h,y_h),(x_h+width_h,y_h+height_h),(255,255,0),1)\n",
        "  cv2.rectangle(im,(x_v,y_v),(x_v+width_v,y_v+height_v),(255,255,0),1)"
      ],
      "metadata": {
        "id": "sf9wAKslboj_"
      },
      "execution_count": 175,
      "outputs": []
    },
    {
      "cell_type": "code",
      "source": [
        "boxes[0]"
      ],
      "metadata": {
        "id": "fPYN6XrUkNWR",
        "colab": {
          "base_uri": "https://localhost:8080/"
        },
        "outputId": "3f8e6baf-e7d0-4fcd-b64b-7d3f1fa47fb5"
      },
      "execution_count": 176,
      "outputs": [
        {
          "output_type": "execute_result",
          "data": {
            "text/plain": [
              "[[1316.0, 75.0], [1341.0, 75.0], [1341.0, 100.0], [1316.0, 100.0]]"
            ]
          },
          "metadata": {},
          "execution_count": 176
        }
      ]
    },
    {
      "cell_type": "code",
      "source": [
        "horiz_boxes[0]"
      ],
      "metadata": {
        "id": "z75WVagUkR36",
        "colab": {
          "base_uri": "https://localhost:8080/"
        },
        "outputId": "39c5f177-790e-4144-e130-33cd61b6231e"
      },
      "execution_count": 177,
      "outputs": [
        {
          "output_type": "execute_result",
          "data": {
            "text/plain": [
              "[0, 75, 1650, 100]"
            ]
          },
          "metadata": {},
          "execution_count": 177
        }
      ]
    },
    {
      "cell_type": "code",
      "source": [
        "cv2.imwrite('horiz_vert.jpg',im)"
      ],
      "metadata": {
        "id": "f0-acPD72EUq",
        "colab": {
          "base_uri": "https://localhost:8080/"
        },
        "outputId": "4ed2586a-64d1-4c61-9c73-751b7d6c7199"
      },
      "execution_count": 178,
      "outputs": [
        {
          "output_type": "execute_result",
          "data": {
            "text/plain": [
              "True"
            ]
          },
          "metadata": {},
          "execution_count": 178
        }
      ]
    },
    {
      "cell_type": "code",
      "source": [
        "# cv2.imwrite('vert.jpg',im)"
      ],
      "metadata": {
        "id": "mrpvzhCok49F"
      },
      "execution_count": 179,
      "outputs": []
    },
    {
      "cell_type": "code",
      "source": [
        "import tensorflow as tf\n",
        "horiz_out=tf.image.non_max_suppression(horiz_boxes,\n",
        "                                       probabilities,\n",
        "                                       max_output_size=1000,\n",
        "                                       iou_threshold=0.1,\n",
        "                                       score_threshold=float('-inf'),\n",
        "                                       name=None)"
      ],
      "metadata": {
        "id": "IMLf0lk9lgnc"
      },
      "execution_count": 180,
      "outputs": []
    },
    {
      "cell_type": "code",
      "source": [
        "print(horiz_out)"
      ],
      "metadata": {
        "id": "X7Z6y-OBm-uW",
        "colab": {
          "base_uri": "https://localhost:8080/"
        },
        "outputId": "a4249685-861c-4f0b-d623-325616af1f35"
      },
      "execution_count": 181,
      "outputs": [
        {
          "output_type": "stream",
          "name": "stdout",
          "text": [
            "tf.Tensor(\n",
            "[245  94 256  71 221  80  41 144  58 289 176 134 206  49  69 184 240   4\n",
            " 276 155 228  17 115 123   9 110 190  34 131 280 104 265  90 165 148 214\n",
            " 233  45 172 260  25 293 199], shape=(43,), dtype=int32)\n"
          ]
        }
      ]
    },
    {
      "cell_type": "code",
      "source": [
        "import numpy as np\n",
        "horiz_lines=np.sort(np.array(horiz_out))\n",
        "print(horiz_lines)"
      ],
      "metadata": {
        "id": "5mkLiWllnDl8",
        "colab": {
          "base_uri": "https://localhost:8080/"
        },
        "outputId": "f9742f06-c608-4185-d8c9-eece7c040fc1"
      },
      "execution_count": 182,
      "outputs": [
        {
          "output_type": "stream",
          "name": "stdout",
          "text": [
            "[  4   9  17  25  34  41  45  49  58  69  71  80  90  94 104 110 115 123\n",
            " 131 134 144 148 155 165 172 176 184 190 199 206 214 221 228 233 240 245\n",
            " 256 260 265 276 280 289 293]\n"
          ]
        }
      ]
    },
    {
      "cell_type": "code",
      "source": [
        "in_nms=image_cv.copy()"
      ],
      "metadata": {
        "id": "5vTIiVXBnXw7"
      },
      "execution_count": 183,
      "outputs": []
    },
    {
      "cell_type": "code",
      "source": [
        "for val in horiz_lines:\n",
        "  # print(val)\n",
        "  cv2.rectangle(in_nms,(int(horiz_boxes[val][0]),int(horiz_boxes[val][1])),(int(horiz_boxes[val][2]),int(horiz_boxes[val][3])),(0,0,255),1)"
      ],
      "metadata": {
        "id": "EwijmH09sRFm"
      },
      "execution_count": 184,
      "outputs": []
    },
    {
      "cell_type": "code",
      "source": [
        "cv2.imwrite('im_nms.jpg',in_nms)"
      ],
      "metadata": {
        "id": "9SaUA9CisZRE",
        "colab": {
          "base_uri": "https://localhost:8080/"
        },
        "outputId": "ceedc739-fd46-4c23-a428-27ffdbdf476c"
      },
      "execution_count": 185,
      "outputs": [
        {
          "output_type": "execute_result",
          "data": {
            "text/plain": [
              "True"
            ]
          },
          "metadata": {},
          "execution_count": 185
        }
      ]
    },
    {
      "cell_type": "code",
      "source": [
        "vert_out=tf.image.non_max_suppression(vert_boxes,\n",
        "                                      probabilities,\n",
        "                                      max_output_size=1000,\n",
        "                                      iou_threshold=0.1,\n",
        "                                      score_threshold=float('-inf'),\n",
        "                                      name=None)"
      ],
      "metadata": {
        "id": "Mio9DL5Fq7hq"
      },
      "execution_count": 186,
      "outputs": []
    },
    {
      "cell_type": "code",
      "source": [
        "vert_lines=np.sort(np.array(vert_out))\n",
        "print(vert_lines)"
      ],
      "metadata": {
        "id": "SZ0A7Vv0qXbH",
        "colab": {
          "base_uri": "https://localhost:8080/"
        },
        "outputId": "1692538d-fbeb-4dcf-fc06-fd92620a614a"
      },
      "execution_count": 187,
      "outputs": [
        {
          "output_type": "stream",
          "name": "stdout",
          "text": [
            "[ 46  75  94 133 182 245 256]\n"
          ]
        }
      ]
    },
    {
      "cell_type": "code",
      "source": [
        "for val in vert_lines:\n",
        "  # print(val)\n",
        "  cv2.rectangle(in_nms,(int(vert_boxes[val][0]),int(vert_boxes[val][1])),(int(vert_boxes[val][2]),int(vert_boxes[val][3])),(0,0,255),1)"
      ],
      "metadata": {
        "id": "cfzq88wwneHq"
      },
      "execution_count": 188,
      "outputs": []
    },
    {
      "cell_type": "code",
      "source": [
        "cv2.imwrite('im_nms1.jpg',in_nms)"
      ],
      "metadata": {
        "id": "jwoJL-D8n7EO",
        "colab": {
          "base_uri": "https://localhost:8080/"
        },
        "outputId": "b98e27d9-3da7-425f-d9a2-41cf6641fcbd"
      },
      "execution_count": 189,
      "outputs": [
        {
          "output_type": "execute_result",
          "data": {
            "text/plain": [
              "True"
            ]
          },
          "metadata": {},
          "execution_count": 189
        }
      ]
    },
    {
      "cell_type": "code",
      "source": [
        "print(vert_out)"
      ],
      "metadata": {
        "id": "bX8oHlx4n6xB",
        "colab": {
          "base_uri": "https://localhost:8080/"
        },
        "outputId": "02bf6834-d3ee-42af-90e4-53d98842d103"
      },
      "execution_count": 190,
      "outputs": [
        {
          "output_type": "stream",
          "name": "stdout",
          "text": [
            "tf.Tensor([245  94 256 133  46  75 182], shape=(7,), dtype=int32)\n"
          ]
        }
      ]
    },
    {
      "cell_type": "code",
      "source": [
        "print('vert_lines',vert_lines),print('horiz_lines',horiz_lines)"
      ],
      "metadata": {
        "id": "LNgshHWM43ek",
        "colab": {
          "base_uri": "https://localhost:8080/"
        },
        "outputId": "4eaa87a8-85e8-48c4-8faa-d3e784d35e66"
      },
      "execution_count": 191,
      "outputs": [
        {
          "output_type": "stream",
          "name": "stdout",
          "text": [
            "vert_lines [ 46  75  94 133 182 245 256]\n",
            "horiz_lines [  4   9  17  25  34  41  45  49  58  69  71  80  90  94 104 110 115 123\n",
            " 131 134 144 148 155 165 172 176 184 190 199 206 214 221 228 233 240 245\n",
            " 256 260 265 276 280 289 293]\n"
          ]
        },
        {
          "output_type": "execute_result",
          "data": {
            "text/plain": [
              "(None, None)"
            ]
          },
          "metadata": {},
          "execution_count": 191
        }
      ]
    },
    {
      "cell_type": "markdown",
      "source": [
        "### Convert to csv"
      ],
      "metadata": {
        "id": "pRU0Pi7tt0P8"
      }
    },
    {
      "cell_type": "code",
      "source": [
        "out_array=[[\"\" for i in range(len(vert_lines))] for j in range(len(horiz_lines))]\n",
        "print(out_array)"
      ],
      "metadata": {
        "id": "urKPwu2Wt2t0",
        "colab": {
          "base_uri": "https://localhost:8080/"
        },
        "outputId": "82590ca2-2df2-4a38-d72c-41f5e4fb536c"
      },
      "execution_count": 192,
      "outputs": [
        {
          "output_type": "stream",
          "name": "stdout",
          "text": [
            "[['', '', '', '', '', '', ''], ['', '', '', '', '', '', ''], ['', '', '', '', '', '', ''], ['', '', '', '', '', '', ''], ['', '', '', '', '', '', ''], ['', '', '', '', '', '', ''], ['', '', '', '', '', '', ''], ['', '', '', '', '', '', ''], ['', '', '', '', '', '', ''], ['', '', '', '', '', '', ''], ['', '', '', '', '', '', ''], ['', '', '', '', '', '', ''], ['', '', '', '', '', '', ''], ['', '', '', '', '', '', ''], ['', '', '', '', '', '', ''], ['', '', '', '', '', '', ''], ['', '', '', '', '', '', ''], ['', '', '', '', '', '', ''], ['', '', '', '', '', '', ''], ['', '', '', '', '', '', ''], ['', '', '', '', '', '', ''], ['', '', '', '', '', '', ''], ['', '', '', '', '', '', ''], ['', '', '', '', '', '', ''], ['', '', '', '', '', '', ''], ['', '', '', '', '', '', ''], ['', '', '', '', '', '', ''], ['', '', '', '', '', '', ''], ['', '', '', '', '', '', ''], ['', '', '', '', '', '', ''], ['', '', '', '', '', '', ''], ['', '', '', '', '', '', ''], ['', '', '', '', '', '', ''], ['', '', '', '', '', '', ''], ['', '', '', '', '', '', ''], ['', '', '', '', '', '', ''], ['', '', '', '', '', '', ''], ['', '', '', '', '', '', ''], ['', '', '', '', '', '', ''], ['', '', '', '', '', '', ''], ['', '', '', '', '', '', ''], ['', '', '', '', '', '', ''], ['', '', '', '', '', '', '']]\n"
          ]
        }
      ]
    },
    {
      "cell_type": "code",
      "source": [
        "print(np.array(out_array).shape)"
      ],
      "metadata": {
        "id": "Ab939_1fuKZL",
        "colab": {
          "base_uri": "https://localhost:8080/"
        },
        "outputId": "d53a7178-f9e4-4fb0-a87a-a6015653ecaa"
      },
      "execution_count": 193,
      "outputs": [
        {
          "output_type": "stream",
          "name": "stdout",
          "text": [
            "(43, 7)\n"
          ]
        }
      ]
    },
    {
      "cell_type": "code",
      "source": [
        "unordered_boxes=[]\n",
        "\n",
        "for i in vert_lines:\n",
        "  print(vert_boxes[i])\n",
        "  unordered_boxes.append(vert_boxes[i][0])"
      ],
      "metadata": {
        "id": "Xh_3dI8evvM1",
        "colab": {
          "base_uri": "https://localhost:8080/"
        },
        "outputId": "e4d14ab0-2928-421e-9dcb-a65b26a6f3d5"
      },
      "execution_count": 194,
      "outputs": [
        {
          "output_type": "stream",
          "name": "stdout",
          "text": [
            "[1071, 0, 1186, 2330]\n",
            "[371, 0, 604, 2330]\n",
            "[813, 0, 955, 2330]\n",
            "[192, 0, 322, 2330]\n",
            "[1314, 0, 1350, 2330]\n",
            "[128, 0, 155, 2330]\n",
            "[1458, 0, 1552, 2330]\n"
          ]
        }
      ]
    },
    {
      "cell_type": "code",
      "source": [
        "ordered_boxes=np.argsort(unordered_boxes)\n",
        "print(ordered_boxes)"
      ],
      "metadata": {
        "id": "zLudzFC-v-uA",
        "colab": {
          "base_uri": "https://localhost:8080/"
        },
        "outputId": "43d23cd2-8669-454b-b130-7640faaf0b33"
      },
      "execution_count": 195,
      "outputs": [
        {
          "output_type": "stream",
          "name": "stdout",
          "text": [
            "[5 3 1 2 0 4 6]\n"
          ]
        }
      ]
    },
    {
      "cell_type": "code",
      "source": [
        "def intersection(box1,box2):\n",
        "  return [box2[0],box1[1],box2[2],box1[3]]"
      ],
      "metadata": {
        "id": "gAKhmV3yu8H0"
      },
      "execution_count": 196,
      "outputs": []
    },
    {
      "cell_type": "code",
      "source": [
        "def iou(box1,box2):\n",
        "  x1=max(box1[0],box2[0])\n",
        "  y1=max(box1[1],box2[1])\n",
        "  x2=min(box1[2],box2[2])\n",
        "  y2=min(box1[3],box2[3])\n",
        "\n",
        "  inter=abs(max((x2-x1,0))*max((y2-y1),0))\n",
        "  if inter==0:\n",
        "    return 0\n",
        "\n",
        "  box1area=abs((box1[2]-box1[0])*(box1[3]-box1[1]))\n",
        "  box2area=abs((box2[2]-box2[0])*(box2[3]-box2[1]))\n",
        "\n",
        "  return inter/float(box1area+box2area-inter)"
      ],
      "metadata": {
        "id": "J1YFlX3xwd2n"
      },
      "execution_count": 197,
      "outputs": []
    },
    {
      "cell_type": "code",
      "source": [
        "for i in range(len(horiz_lines)):\n",
        "  for j in range(len(vert_lines)):\n",
        "    resultant=intersection(horiz_boxes[horiz_lines[i]],vert_boxes[vert_lines[ordered_boxes[j]]])\n",
        "    \n",
        "    for b in range(len(boxes)):\n",
        "      the_box=[boxes[b][0][0],boxes[b][0][1],boxes[b][2][0],boxes[b][2][1]]\n",
        "      if (iou(resultant,the_box)>0.1):\n",
        "        out_array[i][j]=texts[b]\n",
        "        # print(out_array)\n",
        "    # print(resultant)"
      ],
      "metadata": {
        "id": "bL1xRAW9uX7t"
      },
      "execution_count": 198,
      "outputs": []
    },
    {
      "cell_type": "code",
      "source": [
        "out_array"
      ],
      "metadata": {
        "id": "n-DKQ9i44arG",
        "colab": {
          "base_uri": "https://localhost:8080/"
        },
        "outputId": "c42abbd6-21a7-4c23-b1a4-37c2ff07300c"
      },
      "execution_count": 199,
      "outputs": [
        {
          "output_type": "execute_result",
          "data": {
            "text/plain": [
              "[['16',\n",
              "  'BOZ05800.006',\n",
              "  ' Ponza Mezza|una LUNA 006-Blu 35x21x11',\n",
              "  '8016623881362',\n",
              "  '1 PVC/PU/PL',\n",
              "  'IT',\n",
              "  '42022210'],\n",
              " ['16',\n",
              "  'BOZ05802.006',\n",
              "  'Ponza Shoulderbag S MARTINA 006 Blue',\n",
              "  '8016623710563',\n",
              "  '3 PVC/PU/PL',\n",
              "  'IT',\n",
              "  '42022210'],\n",
              " ['16',\n",
              "  'BOZ05803.001',\n",
              "  'Ponza Shopping LUDOVICA 001 Black',\n",
              "  '8016623881690',\n",
              "  '1 PVC/PU/PL',\n",
              "  'IT',\n",
              "  '42022210'],\n",
              " ['16',\n",
              "  'BOZ05803.025',\n",
              "  'Ponza Shopping LUDOVICA 025-Beige',\n",
              "  '8016623882796',\n",
              "  '1 PVC/PU/PL',\n",
              "  'IT',\n",
              "  '42022210'],\n",
              " ['16',\n",
              "  'BOZ05805.001',\n",
              "  'Ponza Shoulderbag EMMA 001 Black',\n",
              "  '8016623725574',\n",
              "  '3 PVC/PU/PL',\n",
              "  'IT',\n",
              "  '42022210'],\n",
              " ['16',\n",
              "  'BOZ05805.006',\n",
              "  'Ponza Shoulderbag EMMA 006 Blue',\n",
              "  '8016623725581',\n",
              "  '3 PVC/PU/PL',\n",
              "  'IT',\n",
              "  '42022210'],\n",
              " ['16',\n",
              "  'BOZ0S805.020',\n",
              "  'Ponza Shoulderbag EMMA 020-Bordeaux',\n",
              "  '8016623725598',\n",
              "  '3 PVC/PU/PL',\n",
              "  'IT',\n",
              "  '42022210'],\n",
              " ['16',\n",
              "  'BPL05802.098',\n",
              "  ' Life Pelle Shoul.bag S MARTINA 098 Leather',\n",
              "  '8016623605920',\n",
              "  '1 Leather',\n",
              "  'IT',\n",
              "  '4202210090'],\n",
              " ['17',\n",
              "  'BXG45051.207',\n",
              "  'X-Bag Shoulderbag 207-Mocca',\n",
              "  '8016623609515',\n",
              "  ' 2 Polyamide/Leather',\n",
              "  'CN',\n",
              "  '42022290'],\n",
              " ['17',\n",
              "  'BXG45057.207',\n",
              "  'X-Bag Shoulderbag 207-Mocca',\n",
              "  '8016623616216',\n",
              "  ' 6 Polyamide/Leather',\n",
              "  'CN',\n",
              "  '42022290'],\n",
              " ['17',\n",
              "  'BXG45070.207',\n",
              "  'X-Bag Shopping 207-Mocca',\n",
              "  '8016623123684',\n",
              "  ' 2 Polyamide/Leather',\n",
              "  'CN',\n",
              "  '42022290'],\n",
              " ['17',\n",
              "  'BXG45070.412',\n",
              "  'X-Bag Shopping 412-Rock',\n",
              "  '8016623616230',\n",
              "  ' 2 Polyamide/Leather',\n",
              "  'CN',\n",
              "  '42022290'],\n",
              " ['17',\n",
              "  'BXG45071.207',\n",
              "  'X-Bag Medium Sportina 207-Mocca',\n",
              "  '8016623115412',\n",
              "  '2 Polyamide/Leather',\n",
              "  'CN',\n",
              "  '42022290'],\n",
              " ['17',\n",
              "  'BXG45072.412',\n",
              "  'X-Bag Small Sportina 412-Rock',\n",
              "  '8016623616254',\n",
              "  ' 3 Polyamide/Leather',\n",
              "  'CN',\n",
              "  '42022290'],\n",
              " ['17',\n",
              "  'BXl.43754.207',\n",
              "  'X-Travel City Backpack Piccolo 207-Mocca',\n",
              "  '8016623115467',\n",
              "  ' 5 Polyamide/Leather',\n",
              "  'CN',\n",
              "  '42022290'],\n",
              " ['18',\n",
              "  'BXG40606.207',\n",
              "  'X-Bag Urban Travel Kit 207-Mocca',\n",
              "  '8016623123608',\n",
              "  ' 3 Polyamide/Leather',\n",
              "  'CN',\n",
              "  '42022290'],\n",
              " ['18',\n",
              "  'BXG40606.412',\n",
              "  'X-Bag Urban Travel Kit 412-Rock',\n",
              "  '8016623609508',\n",
              "  ' 3 Polyamide/Leather',\n",
              "  'CN',\n",
              "  '42022290'],\n",
              " ['18',\n",
              "  'BXG45052.207',\n",
              "  'X-Bag Shoulderbag 207-Mocca',\n",
              "  '8016623609539',\n",
              "  ' 5 Polyamide/Leather',\n",
              "  'CN',\n",
              "  '42022290'],\n",
              " ['',\n",
              "  'BXG45052.412',\n",
              "  'X-Bag Shoulderbag 412-Rock',\n",
              "  '8016623616186',\n",
              "  ' 5 Polyamide/Leather',\n",
              "  'CN',\n",
              "  '42022290'],\n",
              " ['18',\n",
              "  'BXG45056.207',\n",
              "  'X-Bag Shou!derbag 207-Mocca',\n",
              "  '8016623616193',\n",
              "  '6 Polyamide/Leather',\n",
              "  'CN',\n",
              "  '42022290'],\n",
              " ['',\n",
              "  'BXG45056.412',\n",
              "  'X-Bag Shoulderbag 412-Rock',\n",
              "  '8016623616209',\n",
              "  '6 Polyamide/Leather',\n",
              "  'CN',\n",
              "  '42022290'],\n",
              " ['18',\n",
              "  'BXG45072.207',\n",
              "  'X-Bag Small Sportina 207-Mocca',\n",
              "  '8016623115429',\n",
              "  ' 3 Poiyamide/Leather',\n",
              "  'CN',\n",
              "  '42022290'],\n",
              " ['19',\n",
              "  'BXG45057.412',\n",
              "  'X-Bag Shoulderbag 412-Rock',\n",
              "  '8016623616223',\n",
              "  '6 Poiyamide/Leather',\n",
              "  'CN',\n",
              "  '42022290'],\n",
              " ['19',\n",
              "  'BXG45282.207',\n",
              "  'X-Bag Handbag 207-Mocca',\n",
              "  '8016623123752',\n",
              "  '4 Polyamide/Leather',\n",
              "  'CN',\n",
              "  '42022290'],\n",
              " ['19',\n",
              "  'BXL43754.412',\n",
              "  'X-Travel City Backpack Piccoto 412-Rock',\n",
              "  '8016623623122',\n",
              "  '5 Polyamide/Leather',\n",
              "  'CN',\n",
              "  '42022290'],\n",
              " ['19',\n",
              "  '8XL45059.412',\n",
              "  'X-Travel Backpack 412-Rock',\n",
              "  '8016623623283',\n",
              "  '6 Polyamide/Leather',\n",
              "  'CN',\n",
              "  '42022290'],\n",
              " ['20',\n",
              "  'BXG45071.207',\n",
              "  'X-Bag Medium Sportina 207-Mocca',\n",
              "  '8016623115412',\n",
              "  '1 Polyamide/Leather',\n",
              "  'CN',\n",
              "  '42022290'],\n",
              " ['29',\n",
              "  'BXL40202.207',\n",
              "  'X-Travel Ho!dall 207-Mocca',\n",
              "  '8016623123776',\n",
              "  '2 Polyamide/Leather',\n",
              "  'CN',\n",
              "  '42029291'],\n",
              " ['2(',\n",
              "  '6X1.42192.207',\n",
              "  'X-Travel Ho!dall 207-Mocca',\n",
              "  '8016623123820',\n",
              "  '4 Polyamide/Leather',\n",
              "  'CN',\n",
              "  ' 42029291'],\n",
              " ['20',\n",
              "  'BXI.42192.412',\n",
              "  'X-Travel Ho!dall 412-Rock',\n",
              "  '8016623620749',\n",
              "  ' 4 Polyamide/Leather',\n",
              "  'CN',\n",
              "  ' 42029291'],\n",
              " ['20',\n",
              "  'BXi.45059.207',\n",
              "  'X-8ag Shoulderbag 412-Rock',\n",
              "  '8016623623269',\n",
              "  ' 2 Polyamide/Leather',\n",
              "  'CN',\n",
              "  '42022290'],\n",
              " ['21',\n",
              "  'BXG45051.412',\n",
              "  'X-Bag Shoulderbag 412-Rock',\n",
              "  '8016623609522',\n",
              "  ' 2 Polyamide/Leather',\n",
              "  'CN',\n",
              "  '42022290'],\n",
              " ['21',\n",
              "  'BXG45055.412',\n",
              "  'X-Bag Shoulderbag 412-Rock',\n",
              "  '8016623624259',\n",
              "  '8 Polyamide/Leather',\n",
              "  'CN',\n",
              "  '42022290'],\n",
              " ['21',\n",
              "  'BXG45071.412',\n",
              "  'X-Bag Medium Sportina 412-Rock',\n",
              "  '8016623616247',\n",
              "  ' 3 Polyamide/Leather',\n",
              "  'CN',\n",
              "  '42022290'],\n",
              " ['21',\n",
              "  'BXG45282.412',\n",
              "  'X-Bag Handbag 412-Rock',\n",
              "  '8016623616261',\n",
              "  ' 4 Polyamide/Leather',\n",
              "  'CN',\n",
              "  ' 42022290'],\n",
              " ['21',\n",
              "  'BXL45059.207',\n",
              "  'X-Travel Backpack 207-Mocca',\n",
              "  '8016623623269',\n",
              "  ' 4 Polyamide/Leather',\n",
              "  'CN',\n",
              "  '42022290'],\n",
              " ['22',\n",
              "  'BXL40202.412',\n",
              "  'X-8ag Shoulderbag 207-Mocca',\n",
              "  '8016623624242',\n",
              "  '8 Polyamide/Leather',\n",
              "  'CN',\n",
              "  '42022290'],\n",
              " ['22',\n",
              "  'BXL40202.412',\n",
              "  'X-Travel Holdatl 412-Rock',\n",
              "  '8016623616278',\n",
              "  ' 2 Polyamide/Leather',\n",
              "  'CN',\n",
              "  '42029291'],\n",
              " ['23',\n",
              "  'BXG40202.207',\n",
              "  'X-Bag Holdall 207-Mocca',\n",
              "  '8016623123561',\n",
              "  ' 4 Polyamide/Leather',\n",
              "  'CN',\n",
              "  '42029291'],\n",
              " ['23',\n",
              "  'BXG40202.412',\n",
              "  'X-Bag Holdall 412-Rock',\n",
              "  '8016623609485',\n",
              "  ' 4 Polyamide/Leather',\n",
              "  'CN',\n",
              "  '42029291'],\n",
              " ['23',\n",
              "  'BXG40203.207',\n",
              "  'X-Bag Hotdatl 207-Mocca',\n",
              "  '8016623115375',\n",
              "  ' 6 Polyamide/Leather',\n",
              "  'CN',\n",
              "  '42029291'],\n",
              " ['23',\n",
              "  'BXG40203.412',\n",
              "  'X-Bag Holdall 412-Rock',\n",
              "  '8016623609492',\n",
              "  ' 6 Polyamide/Leather',\n",
              "  'CN',\n",
              "  '42029291'],\n",
              " ['', '', '', 'Total:', '205', '', '']]"
            ]
          },
          "metadata": {},
          "execution_count": 199
        }
      ]
    },
    {
      "cell_type": "code",
      "source": [
        "# horiz_boxes"
      ],
      "metadata": {
        "id": "X9tCSfkMumXx"
      },
      "execution_count": 200,
      "outputs": []
    },
    {
      "cell_type": "code",
      "source": [
        "texts"
      ],
      "metadata": {
        "id": "upyY3ysjx8kA",
        "colab": {
          "base_uri": "https://localhost:8080/"
        },
        "outputId": "5afa70ee-f7f3-4e3b-e171-42259d1e43e5"
      },
      "execution_count": 201,
      "outputs": [
        {
          "output_type": "execute_result",
          "data": {
            "text/plain": [
              "['IT',\n",
              " ' Ponza Mezza|una LUNA 006-Blu 35x21x11',\n",
              " '1 PVC/PU/PL',\n",
              " 'BOZ05800.006',\n",
              " '8016623881362',\n",
              " '42022210',\n",
              " '16',\n",
              " 'IT',\n",
              " '3 PVC/PU/PL',\n",
              " '8016623710563',\n",
              " '16',\n",
              " 'BOZ05802.006',\n",
              " 'Ponza Shoulderbag S MARTINA 006 Blue',\n",
              " '42022210',\n",
              " 'BOZ05803.001',\n",
              " 'Ponza Shopping LUDOVICA 001 Black',\n",
              " 'IT',\n",
              " '8016623881690',\n",
              " '1 PVC/PU/PL',\n",
              " '16',\n",
              " '42022210',\n",
              " 'IT',\n",
              " 'BOZ05803.025',\n",
              " 'Ponza Shopping LUDOVICA 025-Beige',\n",
              " '8016623882796',\n",
              " '1 PVC/PU/PL',\n",
              " '16',\n",
              " '42022210',\n",
              " 'IT',\n",
              " 'Ponza Shoulderbag EMMA 001 Black',\n",
              " '8016623725574',\n",
              " '3 PVC/PU/PL',\n",
              " 'BOZ05805.001',\n",
              " '16',\n",
              " '42022210',\n",
              " 'Ponza Shoulderbag EMMA 006 Blue',\n",
              " 'BOZ05805.006',\n",
              " '8016623725581',\n",
              " '3 PVC/PU/PL',\n",
              " 'IT',\n",
              " '16',\n",
              " '42022210',\n",
              " 'Ponza Shoulderbag EMMA 020-Bordeaux',\n",
              " 'IT',\n",
              " 'BOZ0S805.020',\n",
              " '8016623725598',\n",
              " '3 PVC/PU/PL',\n",
              " '16',\n",
              " '42022210',\n",
              " '8016623605920',\n",
              " '1 Leather',\n",
              " 'IT',\n",
              " '16',\n",
              " 'BPL05802.098',\n",
              " ' Life Pelle Shoul.bag S MARTINA 098 Leather',\n",
              " '4202210090',\n",
              " 'X-Bag Shoulderbag 207-Mocca',\n",
              " 'BXG45051.207',\n",
              " '8016623609515',\n",
              " ' 2 Polyamide/Leather',\n",
              " 'CN',\n",
              " '17',\n",
              " '42022290',\n",
              " 'CN',\n",
              " 'BXG45057.207',\n",
              " 'X-Bag Shoulderbag 207-Mocca',\n",
              " '8016623616216',\n",
              " ' 6 Polyamide/Leather',\n",
              " '17',\n",
              " '42022290',\n",
              " 'CN',\n",
              " '8016623123684',\n",
              " ' 2 Polyamide/Leather',\n",
              " '17',\n",
              " 'BXG45070.207',\n",
              " 'X-Bag Shopping 207-Mocca',\n",
              " '42022290',\n",
              " 'X-Bag Shopping 412-Rock',\n",
              " '17',\n",
              " 'BXG45070.412',\n",
              " '8016623616230',\n",
              " ' 2 Polyamide/Leather',\n",
              " 'CN',\n",
              " '42022290',\n",
              " '17',\n",
              " 'BXG45071.207',\n",
              " 'X-Bag Medium Sportina 207-Mocca',\n",
              " '8016623115412',\n",
              " '2 Polyamide/Leather',\n",
              " 'CN',\n",
              " '42022290',\n",
              " 'BXG45072.412',\n",
              " 'X-Bag Small Sportina 412-Rock',\n",
              " 'CN',\n",
              " '8016623616254',\n",
              " ' 3 Polyamide/Leather',\n",
              " '17',\n",
              " '42022290',\n",
              " '17',\n",
              " 'BXl.43754.207',\n",
              " 'X-Travel City Backpack Piccolo 207-Mocca',\n",
              " '8016623115467',\n",
              " ' 5 Polyamide/Leather',\n",
              " 'CN',\n",
              " '42022290',\n",
              " ' 3 Polyamide/Leather',\n",
              " 'CN',\n",
              " '18',\n",
              " 'BXG40606.207',\n",
              " 'X-Bag Urban Travel Kit 207-Mocca',\n",
              " '8016623123608',\n",
              " '42022290',\n",
              " 'X-Bag Urban Travel Kit 412-Rock',\n",
              " 'CN',\n",
              " 'BXG40606.412',\n",
              " '8016623609508',\n",
              " ' 3 Polyamide/Leather',\n",
              " '18',\n",
              " '42022290',\n",
              " 'X-Bag Shoulderbag 207-Mocca',\n",
              " 'CN',\n",
              " '18',\n",
              " 'BXG45052.207',\n",
              " '8016623609539',\n",
              " ' 5 Polyamide/Leather',\n",
              " '42022290',\n",
              " 'X-Bag Shoulderbag 412-Rock',\n",
              " 'BXG45052.412',\n",
              " '8016623616186',\n",
              " ' 5 Polyamide/Leather',\n",
              " 'CN',\n",
              " '42022290',\n",
              " 'X-Bag Shou!derbag 207-Mocca',\n",
              " 'BXG45056.207',\n",
              " '8016623616193',\n",
              " '6 Polyamide/Leather',\n",
              " 'CN',\n",
              " '18',\n",
              " '42022290',\n",
              " 'X-Bag Shoulderbag 412-Rock',\n",
              " 'BXG45056.412',\n",
              " '8016623616209',\n",
              " '6 Polyamide/Leather',\n",
              " 'CN',\n",
              " '42022290',\n",
              " '18',\n",
              " 'BXG45072.207',\n",
              " 'X-Bag Small Sportina 207-Mocca',\n",
              " '8016623115429',\n",
              " ' 3 Poiyamide/Leather',\n",
              " 'CN',\n",
              " '42022290',\n",
              " 'BXG45057.412',\n",
              " '19',\n",
              " 'X-Bag Shoulderbag 412-Rock',\n",
              " '8016623616223',\n",
              " '6 Poiyamide/Leather',\n",
              " 'CN',\n",
              " '42022290',\n",
              " 'BXG45282.207',\n",
              " 'X-Bag Handbag 207-Mocca',\n",
              " 'CN',\n",
              " '19',\n",
              " '8016623123752',\n",
              " '4 Polyamide/Leather',\n",
              " '42022290',\n",
              " '19',\n",
              " 'BXL43754.412',\n",
              " 'X-Travel City Backpack Piccoto 412-Rock',\n",
              " '8016623623122',\n",
              " '5 Polyamide/Leather',\n",
              " 'CN',\n",
              " '42022290',\n",
              " '19',\n",
              " '8XL45059.412',\n",
              " 'X-Travel Backpack 412-Rock',\n",
              " '8016623623283',\n",
              " '6 Polyamide/Leather',\n",
              " 'CN',\n",
              " '42022290',\n",
              " 'BXG45071.207',\n",
              " 'X-Bag Medium Sportina 207-Mocca',\n",
              " 'CN',\n",
              " '20',\n",
              " '8016623115412',\n",
              " '1 Polyamide/Leather',\n",
              " '42022290',\n",
              " 'X-Travel Holdail 207-Mocca',\n",
              " '29',\n",
              " 'BXL40202.207',\n",
              " '8016623123776',\n",
              " 'CN',\n",
              " '2 Polyamide/Leather',\n",
              " '42029291',\n",
              " '6X1.42192.207',\n",
              " 'X-Travel Ho!dall 207-Mocca',\n",
              " '2(',\n",
              " '8016623123820',\n",
              " '4 Polyamide/Leather',\n",
              " 'CN',\n",
              " '42029291',\n",
              " 'BXI.42192.412',\n",
              " 'X-Travel Ho!dall 412-Rock',\n",
              " ' 4 Polyamide/Leather',\n",
              " 'CN',\n",
              " '20',\n",
              " '8016623620749',\n",
              " ' 42029291',\n",
              " '20',\n",
              " 'X-Travet Backpack 207-Mocca',\n",
              " '8016623623269',\n",
              " 'BXi.45059.207',\n",
              " ' 2 Polyamide/Leather',\n",
              " 'CN',\n",
              " '42022290',\n",
              " 'X-8ag Shoulderbag 412-Rock',\n",
              " '21',\n",
              " 'BXG45051.412',\n",
              " '8016623609522',\n",
              " ' 2 Polyamide/Leather',\n",
              " 'CN',\n",
              " '42022290',\n",
              " 'X-Bag Shoulderbag 412-Rock',\n",
              " '21',\n",
              " 'BXG45055.412',\n",
              " '8016623624259',\n",
              " '8 Polyamide/Leather',\n",
              " 'CN',\n",
              " '42022290',\n",
              " 'X-Bag Medium Sportina 412-Rock',\n",
              " '21',\n",
              " 'BXG45071.412',\n",
              " ' 3 Polyamide/Leather',\n",
              " '8016623616247',\n",
              " 'CN',\n",
              " '42022290',\n",
              " 'BXG45282.412',\n",
              " '21',\n",
              " 'X-Bag Handbag 412-Rock',\n",
              " ' 4 Polyamide/Leather',\n",
              " '8016623616261',\n",
              " 'CN',\n",
              " ' 42022290',\n",
              " '8016623623269',\n",
              " 'X-Travel Backpack 207-Mocca',\n",
              " '21',\n",
              " 'BXL45059.207',\n",
              " ' 4 Polyamide/Leather',\n",
              " 'CN',\n",
              " '42022290',\n",
              " '22',\n",
              " 'BXG45055.207',\n",
              " 'X-8ag Shoulderbag 207-Mocca',\n",
              " '8016623624242',\n",
              " 'CN',\n",
              " '8 Polyamide/Leather',\n",
              " '42022290',\n",
              " 'BXL40202.412',\n",
              " '22',\n",
              " 'X-Travel Holdatl 412-Rock',\n",
              " '8016623616278',\n",
              " ' 2 Polyamide/Leather',\n",
              " 'CN',\n",
              " '42029291',\n",
              " 'X-Bag Holdall 207-Mocca',\n",
              " '8016623123561',\n",
              " '23',\n",
              " 'BXG40202.207',\n",
              " ' 4 Polyamide/Leather',\n",
              " 'CN',\n",
              " '42029291',\n",
              " '23',\n",
              " 'X-Bag Holdall 412-Rock',\n",
              " 'BXG40202.412',\n",
              " ' 4 Polyamide/Leather',\n",
              " 'CN',\n",
              " '8016623609485',\n",
              " '42029291',\n",
              " '23',\n",
              " 'X-Bag Hotdatl 207-Mocca',\n",
              " '8016623115375',\n",
              " 'BXG40203.207',\n",
              " ' 6 Polyamide/Leather',\n",
              " 'CN',\n",
              " '42029291',\n",
              " ' 6 Polyamide/Leather',\n",
              " '23',\n",
              " 'BXG40203.412',\n",
              " 'X-Bag Holdall 412-Rock',\n",
              " '8016623609492',\n",
              " 'CN',\n",
              " '42029291',\n",
              " 'Total:',\n",
              " '205']"
            ]
          },
          "metadata": {},
          "execution_count": 201
        }
      ]
    },
    {
      "cell_type": "code",
      "source": [
        "out_array"
      ],
      "metadata": {
        "id": "oVJ07KimyMD5",
        "colab": {
          "base_uri": "https://localhost:8080/"
        },
        "outputId": "311a7cd5-82cb-494e-97d4-7ac4b40401de"
      },
      "execution_count": 202,
      "outputs": [
        {
          "output_type": "execute_result",
          "data": {
            "text/plain": [
              "[['16',\n",
              "  'BOZ05800.006',\n",
              "  ' Ponza Mezza|una LUNA 006-Blu 35x21x11',\n",
              "  '8016623881362',\n",
              "  '1 PVC/PU/PL',\n",
              "  'IT',\n",
              "  '42022210'],\n",
              " ['16',\n",
              "  'BOZ05802.006',\n",
              "  'Ponza Shoulderbag S MARTINA 006 Blue',\n",
              "  '8016623710563',\n",
              "  '3 PVC/PU/PL',\n",
              "  'IT',\n",
              "  '42022210'],\n",
              " ['16',\n",
              "  'BOZ05803.001',\n",
              "  'Ponza Shopping LUDOVICA 001 Black',\n",
              "  '8016623881690',\n",
              "  '1 PVC/PU/PL',\n",
              "  'IT',\n",
              "  '42022210'],\n",
              " ['16',\n",
              "  'BOZ05803.025',\n",
              "  'Ponza Shopping LUDOVICA 025-Beige',\n",
              "  '8016623882796',\n",
              "  '1 PVC/PU/PL',\n",
              "  'IT',\n",
              "  '42022210'],\n",
              " ['16',\n",
              "  'BOZ05805.001',\n",
              "  'Ponza Shoulderbag EMMA 001 Black',\n",
              "  '8016623725574',\n",
              "  '3 PVC/PU/PL',\n",
              "  'IT',\n",
              "  '42022210'],\n",
              " ['16',\n",
              "  'BOZ05805.006',\n",
              "  'Ponza Shoulderbag EMMA 006 Blue',\n",
              "  '8016623725581',\n",
              "  '3 PVC/PU/PL',\n",
              "  'IT',\n",
              "  '42022210'],\n",
              " ['16',\n",
              "  'BOZ0S805.020',\n",
              "  'Ponza Shoulderbag EMMA 020-Bordeaux',\n",
              "  '8016623725598',\n",
              "  '3 PVC/PU/PL',\n",
              "  'IT',\n",
              "  '42022210'],\n",
              " ['16',\n",
              "  'BPL05802.098',\n",
              "  ' Life Pelle Shoul.bag S MARTINA 098 Leather',\n",
              "  '8016623605920',\n",
              "  '1 Leather',\n",
              "  'IT',\n",
              "  '4202210090'],\n",
              " ['17',\n",
              "  'BXG45051.207',\n",
              "  'X-Bag Shoulderbag 207-Mocca',\n",
              "  '8016623609515',\n",
              "  ' 2 Polyamide/Leather',\n",
              "  'CN',\n",
              "  '42022290'],\n",
              " ['17',\n",
              "  'BXG45057.207',\n",
              "  'X-Bag Shoulderbag 207-Mocca',\n",
              "  '8016623616216',\n",
              "  ' 6 Polyamide/Leather',\n",
              "  'CN',\n",
              "  '42022290'],\n",
              " ['17',\n",
              "  'BXG45070.207',\n",
              "  'X-Bag Shopping 207-Mocca',\n",
              "  '8016623123684',\n",
              "  ' 2 Polyamide/Leather',\n",
              "  'CN',\n",
              "  '42022290'],\n",
              " ['17',\n",
              "  'BXG45070.412',\n",
              "  'X-Bag Shopping 412-Rock',\n",
              "  '8016623616230',\n",
              "  ' 2 Polyamide/Leather',\n",
              "  'CN',\n",
              "  '42022290'],\n",
              " ['17',\n",
              "  'BXG45071.207',\n",
              "  'X-Bag Medium Sportina 207-Mocca',\n",
              "  '8016623115412',\n",
              "  '2 Polyamide/Leather',\n",
              "  'CN',\n",
              "  '42022290'],\n",
              " ['17',\n",
              "  'BXG45072.412',\n",
              "  'X-Bag Small Sportina 412-Rock',\n",
              "  '8016623616254',\n",
              "  ' 3 Polyamide/Leather',\n",
              "  'CN',\n",
              "  '42022290'],\n",
              " ['17',\n",
              "  'BXl.43754.207',\n",
              "  'X-Travel City Backpack Piccolo 207-Mocca',\n",
              "  '8016623115467',\n",
              "  ' 5 Polyamide/Leather',\n",
              "  'CN',\n",
              "  '42022290'],\n",
              " ['18',\n",
              "  'BXG40606.207',\n",
              "  'X-Bag Urban Travel Kit 207-Mocca',\n",
              "  '8016623123608',\n",
              "  ' 3 Polyamide/Leather',\n",
              "  'CN',\n",
              "  '42022290'],\n",
              " ['18',\n",
              "  'BXG40606.412',\n",
              "  'X-Bag Urban Travel Kit 412-Rock',\n",
              "  '8016623609508',\n",
              "  ' 3 Polyamide/Leather',\n",
              "  'CN',\n",
              "  '42022290'],\n",
              " ['18',\n",
              "  'BXG45052.207',\n",
              "  'X-Bag Shoulderbag 207-Mocca',\n",
              "  '8016623609539',\n",
              "  ' 5 Polyamide/Leather',\n",
              "  'CN',\n",
              "  '42022290'],\n",
              " ['',\n",
              "  'BXG45052.412',\n",
              "  'X-Bag Shoulderbag 412-Rock',\n",
              "  '8016623616186',\n",
              "  ' 5 Polyamide/Leather',\n",
              "  'CN',\n",
              "  '42022290'],\n",
              " ['18',\n",
              "  'BXG45056.207',\n",
              "  'X-Bag Shou!derbag 207-Mocca',\n",
              "  '8016623616193',\n",
              "  '6 Polyamide/Leather',\n",
              "  'CN',\n",
              "  '42022290'],\n",
              " ['',\n",
              "  'BXG45056.412',\n",
              "  'X-Bag Shoulderbag 412-Rock',\n",
              "  '8016623616209',\n",
              "  '6 Polyamide/Leather',\n",
              "  'CN',\n",
              "  '42022290'],\n",
              " ['18',\n",
              "  'BXG45072.207',\n",
              "  'X-Bag Small Sportina 207-Mocca',\n",
              "  '8016623115429',\n",
              "  ' 3 Poiyamide/Leather',\n",
              "  'CN',\n",
              "  '42022290'],\n",
              " ['19',\n",
              "  'BXG45057.412',\n",
              "  'X-Bag Shoulderbag 412-Rock',\n",
              "  '8016623616223',\n",
              "  '6 Poiyamide/Leather',\n",
              "  'CN',\n",
              "  '42022290'],\n",
              " ['19',\n",
              "  'BXG45282.207',\n",
              "  'X-Bag Handbag 207-Mocca',\n",
              "  '8016623123752',\n",
              "  '4 Polyamide/Leather',\n",
              "  'CN',\n",
              "  '42022290'],\n",
              " ['19',\n",
              "  'BXL43754.412',\n",
              "  'X-Travel City Backpack Piccoto 412-Rock',\n",
              "  '8016623623122',\n",
              "  '5 Polyamide/Leather',\n",
              "  'CN',\n",
              "  '42022290'],\n",
              " ['19',\n",
              "  '8XL45059.412',\n",
              "  'X-Travel Backpack 412-Rock',\n",
              "  '8016623623283',\n",
              "  '6 Polyamide/Leather',\n",
              "  'CN',\n",
              "  '42022290'],\n",
              " ['20',\n",
              "  'BXG45071.207',\n",
              "  'X-Bag Medium Sportina 207-Mocca',\n",
              "  '8016623115412',\n",
              "  '1 Polyamide/Leather',\n",
              "  'CN',\n",
              "  '42022290'],\n",
              " ['29',\n",
              "  'BXL40202.207',\n",
              "  'X-Travel Ho!dall 207-Mocca',\n",
              "  '8016623123776',\n",
              "  '2 Polyamide/Leather',\n",
              "  'CN',\n",
              "  '42029291'],\n",
              " ['2(',\n",
              "  '6X1.42192.207',\n",
              "  'X-Travel Ho!dall 207-Mocca',\n",
              "  '8016623123820',\n",
              "  '4 Polyamide/Leather',\n",
              "  'CN',\n",
              "  ' 42029291'],\n",
              " ['20',\n",
              "  'BXI.42192.412',\n",
              "  'X-Travel Ho!dall 412-Rock',\n",
              "  '8016623620749',\n",
              "  ' 4 Polyamide/Leather',\n",
              "  'CN',\n",
              "  ' 42029291'],\n",
              " ['20',\n",
              "  'BXi.45059.207',\n",
              "  'X-8ag Shoulderbag 412-Rock',\n",
              "  '8016623623269',\n",
              "  ' 2 Polyamide/Leather',\n",
              "  'CN',\n",
              "  '42022290'],\n",
              " ['21',\n",
              "  'BXG45051.412',\n",
              "  'X-Bag Shoulderbag 412-Rock',\n",
              "  '8016623609522',\n",
              "  ' 2 Polyamide/Leather',\n",
              "  'CN',\n",
              "  '42022290'],\n",
              " ['21',\n",
              "  'BXG45055.412',\n",
              "  'X-Bag Shoulderbag 412-Rock',\n",
              "  '8016623624259',\n",
              "  '8 Polyamide/Leather',\n",
              "  'CN',\n",
              "  '42022290'],\n",
              " ['21',\n",
              "  'BXG45071.412',\n",
              "  'X-Bag Medium Sportina 412-Rock',\n",
              "  '8016623616247',\n",
              "  ' 3 Polyamide/Leather',\n",
              "  'CN',\n",
              "  '42022290'],\n",
              " ['21',\n",
              "  'BXG45282.412',\n",
              "  'X-Bag Handbag 412-Rock',\n",
              "  '8016623616261',\n",
              "  ' 4 Polyamide/Leather',\n",
              "  'CN',\n",
              "  ' 42022290'],\n",
              " ['21',\n",
              "  'BXL45059.207',\n",
              "  'X-Travel Backpack 207-Mocca',\n",
              "  '8016623623269',\n",
              "  ' 4 Polyamide/Leather',\n",
              "  'CN',\n",
              "  '42022290'],\n",
              " ['22',\n",
              "  'BXL40202.412',\n",
              "  'X-8ag Shoulderbag 207-Mocca',\n",
              "  '8016623624242',\n",
              "  '8 Polyamide/Leather',\n",
              "  'CN',\n",
              "  '42022290'],\n",
              " ['22',\n",
              "  'BXL40202.412',\n",
              "  'X-Travel Holdatl 412-Rock',\n",
              "  '8016623616278',\n",
              "  ' 2 Polyamide/Leather',\n",
              "  'CN',\n",
              "  '42029291'],\n",
              " ['23',\n",
              "  'BXG40202.207',\n",
              "  'X-Bag Holdall 207-Mocca',\n",
              "  '8016623123561',\n",
              "  ' 4 Polyamide/Leather',\n",
              "  'CN',\n",
              "  '42029291'],\n",
              " ['23',\n",
              "  'BXG40202.412',\n",
              "  'X-Bag Holdall 412-Rock',\n",
              "  '8016623609485',\n",
              "  ' 4 Polyamide/Leather',\n",
              "  'CN',\n",
              "  '42029291'],\n",
              " ['23',\n",
              "  'BXG40203.207',\n",
              "  'X-Bag Hotdatl 207-Mocca',\n",
              "  '8016623115375',\n",
              "  ' 6 Polyamide/Leather',\n",
              "  'CN',\n",
              "  '42029291'],\n",
              " ['23',\n",
              "  'BXG40203.412',\n",
              "  'X-Bag Holdall 412-Rock',\n",
              "  '8016623609492',\n",
              "  ' 6 Polyamide/Leather',\n",
              "  'CN',\n",
              "  '42029291'],\n",
              " ['', '', '', 'Total:', '205', '', '']]"
            ]
          },
          "metadata": {},
          "execution_count": 202
        }
      ]
    },
    {
      "cell_type": "code",
      "source": [
        "import pandas as pd\n",
        "pd.DataFrame(out_array).to_csv('sample.csv')"
      ],
      "metadata": {
        "id": "9ytAHTwFyQaI"
      },
      "execution_count": 203,
      "outputs": []
    },
    {
      "cell_type": "code",
      "source": [
        "df=pd.DataFrame(out_array)\n",
        "df"
      ],
      "metadata": {
        "id": "4dtXKCJHEqff",
        "outputId": "fe0b8690-7151-4847-ca87-0182431cd04b",
        "colab": {
          "base_uri": "https://localhost:8080/",
          "height": 1000
        }
      },
      "execution_count": 204,
      "outputs": [
        {
          "output_type": "execute_result",
          "data": {
            "text/plain": [
              "     0              1                                            2  \\\n",
              "0   16   BOZ05800.006        Ponza Mezza|una LUNA 006-Blu 35x21x11   \n",
              "1   16   BOZ05802.006         Ponza Shoulderbag S MARTINA 006 Blue   \n",
              "2   16   BOZ05803.001            Ponza Shopping LUDOVICA 001 Black   \n",
              "3   16   BOZ05803.025            Ponza Shopping LUDOVICA 025-Beige   \n",
              "4   16   BOZ05805.001             Ponza Shoulderbag EMMA 001 Black   \n",
              "5   16   BOZ05805.006              Ponza Shoulderbag EMMA 006 Blue   \n",
              "6   16   BOZ0S805.020          Ponza Shoulderbag EMMA 020-Bordeaux   \n",
              "7   16   BPL05802.098   Life Pelle Shoul.bag S MARTINA 098 Leather   \n",
              "8   17   BXG45051.207                  X-Bag Shoulderbag 207-Mocca   \n",
              "9   17   BXG45057.207                  X-Bag Shoulderbag 207-Mocca   \n",
              "10  17   BXG45070.207                     X-Bag Shopping 207-Mocca   \n",
              "11  17   BXG45070.412                      X-Bag Shopping 412-Rock   \n",
              "12  17   BXG45071.207              X-Bag Medium Sportina 207-Mocca   \n",
              "13  17   BXG45072.412                X-Bag Small Sportina 412-Rock   \n",
              "14  17  BXl.43754.207     X-Travel City Backpack Piccolo 207-Mocca   \n",
              "15  18   BXG40606.207             X-Bag Urban Travel Kit 207-Mocca   \n",
              "16  18   BXG40606.412              X-Bag Urban Travel Kit 412-Rock   \n",
              "17  18   BXG45052.207                  X-Bag Shoulderbag 207-Mocca   \n",
              "18       BXG45052.412                   X-Bag Shoulderbag 412-Rock   \n",
              "19  18   BXG45056.207                  X-Bag Shou!derbag 207-Mocca   \n",
              "20       BXG45056.412                   X-Bag Shoulderbag 412-Rock   \n",
              "21  18   BXG45072.207               X-Bag Small Sportina 207-Mocca   \n",
              "22  19   BXG45057.412                   X-Bag Shoulderbag 412-Rock   \n",
              "23  19   BXG45282.207                      X-Bag Handbag 207-Mocca   \n",
              "24  19   BXL43754.412      X-Travel City Backpack Piccoto 412-Rock   \n",
              "25  19   8XL45059.412                   X-Travel Backpack 412-Rock   \n",
              "26  20   BXG45071.207              X-Bag Medium Sportina 207-Mocca   \n",
              "27  29   BXL40202.207                   X-Travel Ho!dall 207-Mocca   \n",
              "28  2(  6X1.42192.207                   X-Travel Ho!dall 207-Mocca   \n",
              "29  20  BXI.42192.412                    X-Travel Ho!dall 412-Rock   \n",
              "30  20  BXi.45059.207                   X-8ag Shoulderbag 412-Rock   \n",
              "31  21   BXG45051.412                   X-Bag Shoulderbag 412-Rock   \n",
              "32  21   BXG45055.412                   X-Bag Shoulderbag 412-Rock   \n",
              "33  21   BXG45071.412               X-Bag Medium Sportina 412-Rock   \n",
              "34  21   BXG45282.412                       X-Bag Handbag 412-Rock   \n",
              "35  21   BXL45059.207                  X-Travel Backpack 207-Mocca   \n",
              "36  22   BXL40202.412                  X-8ag Shoulderbag 207-Mocca   \n",
              "37  22   BXL40202.412                    X-Travel Holdatl 412-Rock   \n",
              "38  23   BXG40202.207                      X-Bag Holdall 207-Mocca   \n",
              "39  23   BXG40202.412                       X-Bag Holdall 412-Rock   \n",
              "40  23   BXG40203.207                      X-Bag Hotdatl 207-Mocca   \n",
              "41  23   BXG40203.412                       X-Bag Holdall 412-Rock   \n",
              "42                                                                   \n",
              "\n",
              "                3                     4   5           6  \n",
              "0   8016623881362           1 PVC/PU/PL  IT    42022210  \n",
              "1   8016623710563           3 PVC/PU/PL  IT    42022210  \n",
              "2   8016623881690           1 PVC/PU/PL  IT    42022210  \n",
              "3   8016623882796           1 PVC/PU/PL  IT    42022210  \n",
              "4   8016623725574           3 PVC/PU/PL  IT    42022210  \n",
              "5   8016623725581           3 PVC/PU/PL  IT    42022210  \n",
              "6   8016623725598           3 PVC/PU/PL  IT    42022210  \n",
              "7   8016623605920             1 Leather  IT  4202210090  \n",
              "8   8016623609515   2 Polyamide/Leather  CN    42022290  \n",
              "9   8016623616216   6 Polyamide/Leather  CN    42022290  \n",
              "10  8016623123684   2 Polyamide/Leather  CN    42022290  \n",
              "11  8016623616230   2 Polyamide/Leather  CN    42022290  \n",
              "12  8016623115412   2 Polyamide/Leather  CN    42022290  \n",
              "13  8016623616254   3 Polyamide/Leather  CN    42022290  \n",
              "14  8016623115467   5 Polyamide/Leather  CN    42022290  \n",
              "15  8016623123608   3 Polyamide/Leather  CN    42022290  \n",
              "16  8016623609508   3 Polyamide/Leather  CN    42022290  \n",
              "17  8016623609539   5 Polyamide/Leather  CN    42022290  \n",
              "18  8016623616186   5 Polyamide/Leather  CN    42022290  \n",
              "19  8016623616193   6 Polyamide/Leather  CN    42022290  \n",
              "20  8016623616209   6 Polyamide/Leather  CN    42022290  \n",
              "21  8016623115429   3 Poiyamide/Leather  CN    42022290  \n",
              "22  8016623616223   6 Poiyamide/Leather  CN    42022290  \n",
              "23  8016623123752   4 Polyamide/Leather  CN    42022290  \n",
              "24  8016623623122   5 Polyamide/Leather  CN    42022290  \n",
              "25  8016623623283   6 Polyamide/Leather  CN    42022290  \n",
              "26  8016623115412   1 Polyamide/Leather  CN    42022290  \n",
              "27  8016623123776   2 Polyamide/Leather  CN    42029291  \n",
              "28  8016623123820   4 Polyamide/Leather  CN    42029291  \n",
              "29  8016623620749   4 Polyamide/Leather  CN    42029291  \n",
              "30  8016623623269   2 Polyamide/Leather  CN    42022290  \n",
              "31  8016623609522   2 Polyamide/Leather  CN    42022290  \n",
              "32  8016623624259   8 Polyamide/Leather  CN    42022290  \n",
              "33  8016623616247   3 Polyamide/Leather  CN    42022290  \n",
              "34  8016623616261   4 Polyamide/Leather  CN    42022290  \n",
              "35  8016623623269   4 Polyamide/Leather  CN    42022290  \n",
              "36  8016623624242   8 Polyamide/Leather  CN    42022290  \n",
              "37  8016623616278   2 Polyamide/Leather  CN    42029291  \n",
              "38  8016623123561   4 Polyamide/Leather  CN    42029291  \n",
              "39  8016623609485   4 Polyamide/Leather  CN    42029291  \n",
              "40  8016623115375   6 Polyamide/Leather  CN    42029291  \n",
              "41  8016623609492   6 Polyamide/Leather  CN    42029291  \n",
              "42         Total:                   205                  "
            ],
            "text/html": [
              "\n",
              "  <div id=\"df-fce70f5c-ad57-4bdd-8dac-18d056c09654\">\n",
              "    <div class=\"colab-df-container\">\n",
              "      <div>\n",
              "<style scoped>\n",
              "    .dataframe tbody tr th:only-of-type {\n",
              "        vertical-align: middle;\n",
              "    }\n",
              "\n",
              "    .dataframe tbody tr th {\n",
              "        vertical-align: top;\n",
              "    }\n",
              "\n",
              "    .dataframe thead th {\n",
              "        text-align: right;\n",
              "    }\n",
              "</style>\n",
              "<table border=\"1\" class=\"dataframe\">\n",
              "  <thead>\n",
              "    <tr style=\"text-align: right;\">\n",
              "      <th></th>\n",
              "      <th>0</th>\n",
              "      <th>1</th>\n",
              "      <th>2</th>\n",
              "      <th>3</th>\n",
              "      <th>4</th>\n",
              "      <th>5</th>\n",
              "      <th>6</th>\n",
              "    </tr>\n",
              "  </thead>\n",
              "  <tbody>\n",
              "    <tr>\n",
              "      <th>0</th>\n",
              "      <td>16</td>\n",
              "      <td>BOZ05800.006</td>\n",
              "      <td>Ponza Mezza|una LUNA 006-Blu 35x21x11</td>\n",
              "      <td>8016623881362</td>\n",
              "      <td>1 PVC/PU/PL</td>\n",
              "      <td>IT</td>\n",
              "      <td>42022210</td>\n",
              "    </tr>\n",
              "    <tr>\n",
              "      <th>1</th>\n",
              "      <td>16</td>\n",
              "      <td>BOZ05802.006</td>\n",
              "      <td>Ponza Shoulderbag S MARTINA 006 Blue</td>\n",
              "      <td>8016623710563</td>\n",
              "      <td>3 PVC/PU/PL</td>\n",
              "      <td>IT</td>\n",
              "      <td>42022210</td>\n",
              "    </tr>\n",
              "    <tr>\n",
              "      <th>2</th>\n",
              "      <td>16</td>\n",
              "      <td>BOZ05803.001</td>\n",
              "      <td>Ponza Shopping LUDOVICA 001 Black</td>\n",
              "      <td>8016623881690</td>\n",
              "      <td>1 PVC/PU/PL</td>\n",
              "      <td>IT</td>\n",
              "      <td>42022210</td>\n",
              "    </tr>\n",
              "    <tr>\n",
              "      <th>3</th>\n",
              "      <td>16</td>\n",
              "      <td>BOZ05803.025</td>\n",
              "      <td>Ponza Shopping LUDOVICA 025-Beige</td>\n",
              "      <td>8016623882796</td>\n",
              "      <td>1 PVC/PU/PL</td>\n",
              "      <td>IT</td>\n",
              "      <td>42022210</td>\n",
              "    </tr>\n",
              "    <tr>\n",
              "      <th>4</th>\n",
              "      <td>16</td>\n",
              "      <td>BOZ05805.001</td>\n",
              "      <td>Ponza Shoulderbag EMMA 001 Black</td>\n",
              "      <td>8016623725574</td>\n",
              "      <td>3 PVC/PU/PL</td>\n",
              "      <td>IT</td>\n",
              "      <td>42022210</td>\n",
              "    </tr>\n",
              "    <tr>\n",
              "      <th>5</th>\n",
              "      <td>16</td>\n",
              "      <td>BOZ05805.006</td>\n",
              "      <td>Ponza Shoulderbag EMMA 006 Blue</td>\n",
              "      <td>8016623725581</td>\n",
              "      <td>3 PVC/PU/PL</td>\n",
              "      <td>IT</td>\n",
              "      <td>42022210</td>\n",
              "    </tr>\n",
              "    <tr>\n",
              "      <th>6</th>\n",
              "      <td>16</td>\n",
              "      <td>BOZ0S805.020</td>\n",
              "      <td>Ponza Shoulderbag EMMA 020-Bordeaux</td>\n",
              "      <td>8016623725598</td>\n",
              "      <td>3 PVC/PU/PL</td>\n",
              "      <td>IT</td>\n",
              "      <td>42022210</td>\n",
              "    </tr>\n",
              "    <tr>\n",
              "      <th>7</th>\n",
              "      <td>16</td>\n",
              "      <td>BPL05802.098</td>\n",
              "      <td>Life Pelle Shoul.bag S MARTINA 098 Leather</td>\n",
              "      <td>8016623605920</td>\n",
              "      <td>1 Leather</td>\n",
              "      <td>IT</td>\n",
              "      <td>4202210090</td>\n",
              "    </tr>\n",
              "    <tr>\n",
              "      <th>8</th>\n",
              "      <td>17</td>\n",
              "      <td>BXG45051.207</td>\n",
              "      <td>X-Bag Shoulderbag 207-Mocca</td>\n",
              "      <td>8016623609515</td>\n",
              "      <td>2 Polyamide/Leather</td>\n",
              "      <td>CN</td>\n",
              "      <td>42022290</td>\n",
              "    </tr>\n",
              "    <tr>\n",
              "      <th>9</th>\n",
              "      <td>17</td>\n",
              "      <td>BXG45057.207</td>\n",
              "      <td>X-Bag Shoulderbag 207-Mocca</td>\n",
              "      <td>8016623616216</td>\n",
              "      <td>6 Polyamide/Leather</td>\n",
              "      <td>CN</td>\n",
              "      <td>42022290</td>\n",
              "    </tr>\n",
              "    <tr>\n",
              "      <th>10</th>\n",
              "      <td>17</td>\n",
              "      <td>BXG45070.207</td>\n",
              "      <td>X-Bag Shopping 207-Mocca</td>\n",
              "      <td>8016623123684</td>\n",
              "      <td>2 Polyamide/Leather</td>\n",
              "      <td>CN</td>\n",
              "      <td>42022290</td>\n",
              "    </tr>\n",
              "    <tr>\n",
              "      <th>11</th>\n",
              "      <td>17</td>\n",
              "      <td>BXG45070.412</td>\n",
              "      <td>X-Bag Shopping 412-Rock</td>\n",
              "      <td>8016623616230</td>\n",
              "      <td>2 Polyamide/Leather</td>\n",
              "      <td>CN</td>\n",
              "      <td>42022290</td>\n",
              "    </tr>\n",
              "    <tr>\n",
              "      <th>12</th>\n",
              "      <td>17</td>\n",
              "      <td>BXG45071.207</td>\n",
              "      <td>X-Bag Medium Sportina 207-Mocca</td>\n",
              "      <td>8016623115412</td>\n",
              "      <td>2 Polyamide/Leather</td>\n",
              "      <td>CN</td>\n",
              "      <td>42022290</td>\n",
              "    </tr>\n",
              "    <tr>\n",
              "      <th>13</th>\n",
              "      <td>17</td>\n",
              "      <td>BXG45072.412</td>\n",
              "      <td>X-Bag Small Sportina 412-Rock</td>\n",
              "      <td>8016623616254</td>\n",
              "      <td>3 Polyamide/Leather</td>\n",
              "      <td>CN</td>\n",
              "      <td>42022290</td>\n",
              "    </tr>\n",
              "    <tr>\n",
              "      <th>14</th>\n",
              "      <td>17</td>\n",
              "      <td>BXl.43754.207</td>\n",
              "      <td>X-Travel City Backpack Piccolo 207-Mocca</td>\n",
              "      <td>8016623115467</td>\n",
              "      <td>5 Polyamide/Leather</td>\n",
              "      <td>CN</td>\n",
              "      <td>42022290</td>\n",
              "    </tr>\n",
              "    <tr>\n",
              "      <th>15</th>\n",
              "      <td>18</td>\n",
              "      <td>BXG40606.207</td>\n",
              "      <td>X-Bag Urban Travel Kit 207-Mocca</td>\n",
              "      <td>8016623123608</td>\n",
              "      <td>3 Polyamide/Leather</td>\n",
              "      <td>CN</td>\n",
              "      <td>42022290</td>\n",
              "    </tr>\n",
              "    <tr>\n",
              "      <th>16</th>\n",
              "      <td>18</td>\n",
              "      <td>BXG40606.412</td>\n",
              "      <td>X-Bag Urban Travel Kit 412-Rock</td>\n",
              "      <td>8016623609508</td>\n",
              "      <td>3 Polyamide/Leather</td>\n",
              "      <td>CN</td>\n",
              "      <td>42022290</td>\n",
              "    </tr>\n",
              "    <tr>\n",
              "      <th>17</th>\n",
              "      <td>18</td>\n",
              "      <td>BXG45052.207</td>\n",
              "      <td>X-Bag Shoulderbag 207-Mocca</td>\n",
              "      <td>8016623609539</td>\n",
              "      <td>5 Polyamide/Leather</td>\n",
              "      <td>CN</td>\n",
              "      <td>42022290</td>\n",
              "    </tr>\n",
              "    <tr>\n",
              "      <th>18</th>\n",
              "      <td></td>\n",
              "      <td>BXG45052.412</td>\n",
              "      <td>X-Bag Shoulderbag 412-Rock</td>\n",
              "      <td>8016623616186</td>\n",
              "      <td>5 Polyamide/Leather</td>\n",
              "      <td>CN</td>\n",
              "      <td>42022290</td>\n",
              "    </tr>\n",
              "    <tr>\n",
              "      <th>19</th>\n",
              "      <td>18</td>\n",
              "      <td>BXG45056.207</td>\n",
              "      <td>X-Bag Shou!derbag 207-Mocca</td>\n",
              "      <td>8016623616193</td>\n",
              "      <td>6 Polyamide/Leather</td>\n",
              "      <td>CN</td>\n",
              "      <td>42022290</td>\n",
              "    </tr>\n",
              "    <tr>\n",
              "      <th>20</th>\n",
              "      <td></td>\n",
              "      <td>BXG45056.412</td>\n",
              "      <td>X-Bag Shoulderbag 412-Rock</td>\n",
              "      <td>8016623616209</td>\n",
              "      <td>6 Polyamide/Leather</td>\n",
              "      <td>CN</td>\n",
              "      <td>42022290</td>\n",
              "    </tr>\n",
              "    <tr>\n",
              "      <th>21</th>\n",
              "      <td>18</td>\n",
              "      <td>BXG45072.207</td>\n",
              "      <td>X-Bag Small Sportina 207-Mocca</td>\n",
              "      <td>8016623115429</td>\n",
              "      <td>3 Poiyamide/Leather</td>\n",
              "      <td>CN</td>\n",
              "      <td>42022290</td>\n",
              "    </tr>\n",
              "    <tr>\n",
              "      <th>22</th>\n",
              "      <td>19</td>\n",
              "      <td>BXG45057.412</td>\n",
              "      <td>X-Bag Shoulderbag 412-Rock</td>\n",
              "      <td>8016623616223</td>\n",
              "      <td>6 Poiyamide/Leather</td>\n",
              "      <td>CN</td>\n",
              "      <td>42022290</td>\n",
              "    </tr>\n",
              "    <tr>\n",
              "      <th>23</th>\n",
              "      <td>19</td>\n",
              "      <td>BXG45282.207</td>\n",
              "      <td>X-Bag Handbag 207-Mocca</td>\n",
              "      <td>8016623123752</td>\n",
              "      <td>4 Polyamide/Leather</td>\n",
              "      <td>CN</td>\n",
              "      <td>42022290</td>\n",
              "    </tr>\n",
              "    <tr>\n",
              "      <th>24</th>\n",
              "      <td>19</td>\n",
              "      <td>BXL43754.412</td>\n",
              "      <td>X-Travel City Backpack Piccoto 412-Rock</td>\n",
              "      <td>8016623623122</td>\n",
              "      <td>5 Polyamide/Leather</td>\n",
              "      <td>CN</td>\n",
              "      <td>42022290</td>\n",
              "    </tr>\n",
              "    <tr>\n",
              "      <th>25</th>\n",
              "      <td>19</td>\n",
              "      <td>8XL45059.412</td>\n",
              "      <td>X-Travel Backpack 412-Rock</td>\n",
              "      <td>8016623623283</td>\n",
              "      <td>6 Polyamide/Leather</td>\n",
              "      <td>CN</td>\n",
              "      <td>42022290</td>\n",
              "    </tr>\n",
              "    <tr>\n",
              "      <th>26</th>\n",
              "      <td>20</td>\n",
              "      <td>BXG45071.207</td>\n",
              "      <td>X-Bag Medium Sportina 207-Mocca</td>\n",
              "      <td>8016623115412</td>\n",
              "      <td>1 Polyamide/Leather</td>\n",
              "      <td>CN</td>\n",
              "      <td>42022290</td>\n",
              "    </tr>\n",
              "    <tr>\n",
              "      <th>27</th>\n",
              "      <td>29</td>\n",
              "      <td>BXL40202.207</td>\n",
              "      <td>X-Travel Ho!dall 207-Mocca</td>\n",
              "      <td>8016623123776</td>\n",
              "      <td>2 Polyamide/Leather</td>\n",
              "      <td>CN</td>\n",
              "      <td>42029291</td>\n",
              "    </tr>\n",
              "    <tr>\n",
              "      <th>28</th>\n",
              "      <td>2(</td>\n",
              "      <td>6X1.42192.207</td>\n",
              "      <td>X-Travel Ho!dall 207-Mocca</td>\n",
              "      <td>8016623123820</td>\n",
              "      <td>4 Polyamide/Leather</td>\n",
              "      <td>CN</td>\n",
              "      <td>42029291</td>\n",
              "    </tr>\n",
              "    <tr>\n",
              "      <th>29</th>\n",
              "      <td>20</td>\n",
              "      <td>BXI.42192.412</td>\n",
              "      <td>X-Travel Ho!dall 412-Rock</td>\n",
              "      <td>8016623620749</td>\n",
              "      <td>4 Polyamide/Leather</td>\n",
              "      <td>CN</td>\n",
              "      <td>42029291</td>\n",
              "    </tr>\n",
              "    <tr>\n",
              "      <th>30</th>\n",
              "      <td>20</td>\n",
              "      <td>BXi.45059.207</td>\n",
              "      <td>X-8ag Shoulderbag 412-Rock</td>\n",
              "      <td>8016623623269</td>\n",
              "      <td>2 Polyamide/Leather</td>\n",
              "      <td>CN</td>\n",
              "      <td>42022290</td>\n",
              "    </tr>\n",
              "    <tr>\n",
              "      <th>31</th>\n",
              "      <td>21</td>\n",
              "      <td>BXG45051.412</td>\n",
              "      <td>X-Bag Shoulderbag 412-Rock</td>\n",
              "      <td>8016623609522</td>\n",
              "      <td>2 Polyamide/Leather</td>\n",
              "      <td>CN</td>\n",
              "      <td>42022290</td>\n",
              "    </tr>\n",
              "    <tr>\n",
              "      <th>32</th>\n",
              "      <td>21</td>\n",
              "      <td>BXG45055.412</td>\n",
              "      <td>X-Bag Shoulderbag 412-Rock</td>\n",
              "      <td>8016623624259</td>\n",
              "      <td>8 Polyamide/Leather</td>\n",
              "      <td>CN</td>\n",
              "      <td>42022290</td>\n",
              "    </tr>\n",
              "    <tr>\n",
              "      <th>33</th>\n",
              "      <td>21</td>\n",
              "      <td>BXG45071.412</td>\n",
              "      <td>X-Bag Medium Sportina 412-Rock</td>\n",
              "      <td>8016623616247</td>\n",
              "      <td>3 Polyamide/Leather</td>\n",
              "      <td>CN</td>\n",
              "      <td>42022290</td>\n",
              "    </tr>\n",
              "    <tr>\n",
              "      <th>34</th>\n",
              "      <td>21</td>\n",
              "      <td>BXG45282.412</td>\n",
              "      <td>X-Bag Handbag 412-Rock</td>\n",
              "      <td>8016623616261</td>\n",
              "      <td>4 Polyamide/Leather</td>\n",
              "      <td>CN</td>\n",
              "      <td>42022290</td>\n",
              "    </tr>\n",
              "    <tr>\n",
              "      <th>35</th>\n",
              "      <td>21</td>\n",
              "      <td>BXL45059.207</td>\n",
              "      <td>X-Travel Backpack 207-Mocca</td>\n",
              "      <td>8016623623269</td>\n",
              "      <td>4 Polyamide/Leather</td>\n",
              "      <td>CN</td>\n",
              "      <td>42022290</td>\n",
              "    </tr>\n",
              "    <tr>\n",
              "      <th>36</th>\n",
              "      <td>22</td>\n",
              "      <td>BXL40202.412</td>\n",
              "      <td>X-8ag Shoulderbag 207-Mocca</td>\n",
              "      <td>8016623624242</td>\n",
              "      <td>8 Polyamide/Leather</td>\n",
              "      <td>CN</td>\n",
              "      <td>42022290</td>\n",
              "    </tr>\n",
              "    <tr>\n",
              "      <th>37</th>\n",
              "      <td>22</td>\n",
              "      <td>BXL40202.412</td>\n",
              "      <td>X-Travel Holdatl 412-Rock</td>\n",
              "      <td>8016623616278</td>\n",
              "      <td>2 Polyamide/Leather</td>\n",
              "      <td>CN</td>\n",
              "      <td>42029291</td>\n",
              "    </tr>\n",
              "    <tr>\n",
              "      <th>38</th>\n",
              "      <td>23</td>\n",
              "      <td>BXG40202.207</td>\n",
              "      <td>X-Bag Holdall 207-Mocca</td>\n",
              "      <td>8016623123561</td>\n",
              "      <td>4 Polyamide/Leather</td>\n",
              "      <td>CN</td>\n",
              "      <td>42029291</td>\n",
              "    </tr>\n",
              "    <tr>\n",
              "      <th>39</th>\n",
              "      <td>23</td>\n",
              "      <td>BXG40202.412</td>\n",
              "      <td>X-Bag Holdall 412-Rock</td>\n",
              "      <td>8016623609485</td>\n",
              "      <td>4 Polyamide/Leather</td>\n",
              "      <td>CN</td>\n",
              "      <td>42029291</td>\n",
              "    </tr>\n",
              "    <tr>\n",
              "      <th>40</th>\n",
              "      <td>23</td>\n",
              "      <td>BXG40203.207</td>\n",
              "      <td>X-Bag Hotdatl 207-Mocca</td>\n",
              "      <td>8016623115375</td>\n",
              "      <td>6 Polyamide/Leather</td>\n",
              "      <td>CN</td>\n",
              "      <td>42029291</td>\n",
              "    </tr>\n",
              "    <tr>\n",
              "      <th>41</th>\n",
              "      <td>23</td>\n",
              "      <td>BXG40203.412</td>\n",
              "      <td>X-Bag Holdall 412-Rock</td>\n",
              "      <td>8016623609492</td>\n",
              "      <td>6 Polyamide/Leather</td>\n",
              "      <td>CN</td>\n",
              "      <td>42029291</td>\n",
              "    </tr>\n",
              "    <tr>\n",
              "      <th>42</th>\n",
              "      <td></td>\n",
              "      <td></td>\n",
              "      <td></td>\n",
              "      <td>Total:</td>\n",
              "      <td>205</td>\n",
              "      <td></td>\n",
              "      <td></td>\n",
              "    </tr>\n",
              "  </tbody>\n",
              "</table>\n",
              "</div>\n",
              "      <button class=\"colab-df-convert\" onclick=\"convertToInteractive('df-fce70f5c-ad57-4bdd-8dac-18d056c09654')\"\n",
              "              title=\"Convert this dataframe to an interactive table.\"\n",
              "              style=\"display:none;\">\n",
              "        \n",
              "  <svg xmlns=\"http://www.w3.org/2000/svg\" height=\"24px\"viewBox=\"0 0 24 24\"\n",
              "       width=\"24px\">\n",
              "    <path d=\"M0 0h24v24H0V0z\" fill=\"none\"/>\n",
              "    <path d=\"M18.56 5.44l.94 2.06.94-2.06 2.06-.94-2.06-.94-.94-2.06-.94 2.06-2.06.94zm-11 1L8.5 8.5l.94-2.06 2.06-.94-2.06-.94L8.5 2.5l-.94 2.06-2.06.94zm10 10l.94 2.06.94-2.06 2.06-.94-2.06-.94-.94-2.06-.94 2.06-2.06.94z\"/><path d=\"M17.41 7.96l-1.37-1.37c-.4-.4-.92-.59-1.43-.59-.52 0-1.04.2-1.43.59L10.3 9.45l-7.72 7.72c-.78.78-.78 2.05 0 2.83L4 21.41c.39.39.9.59 1.41.59.51 0 1.02-.2 1.41-.59l7.78-7.78 2.81-2.81c.8-.78.8-2.07 0-2.86zM5.41 20L4 18.59l7.72-7.72 1.47 1.35L5.41 20z\"/>\n",
              "  </svg>\n",
              "      </button>\n",
              "      \n",
              "  <style>\n",
              "    .colab-df-container {\n",
              "      display:flex;\n",
              "      flex-wrap:wrap;\n",
              "      gap: 12px;\n",
              "    }\n",
              "\n",
              "    .colab-df-convert {\n",
              "      background-color: #E8F0FE;\n",
              "      border: none;\n",
              "      border-radius: 50%;\n",
              "      cursor: pointer;\n",
              "      display: none;\n",
              "      fill: #1967D2;\n",
              "      height: 32px;\n",
              "      padding: 0 0 0 0;\n",
              "      width: 32px;\n",
              "    }\n",
              "\n",
              "    .colab-df-convert:hover {\n",
              "      background-color: #E2EBFA;\n",
              "      box-shadow: 0px 1px 2px rgba(60, 64, 67, 0.3), 0px 1px 3px 1px rgba(60, 64, 67, 0.15);\n",
              "      fill: #174EA6;\n",
              "    }\n",
              "\n",
              "    [theme=dark] .colab-df-convert {\n",
              "      background-color: #3B4455;\n",
              "      fill: #D2E3FC;\n",
              "    }\n",
              "\n",
              "    [theme=dark] .colab-df-convert:hover {\n",
              "      background-color: #434B5C;\n",
              "      box-shadow: 0px 1px 3px 1px rgba(0, 0, 0, 0.15);\n",
              "      filter: drop-shadow(0px 1px 2px rgba(0, 0, 0, 0.3));\n",
              "      fill: #FFFFFF;\n",
              "    }\n",
              "  </style>\n",
              "\n",
              "      <script>\n",
              "        const buttonEl =\n",
              "          document.querySelector('#df-fce70f5c-ad57-4bdd-8dac-18d056c09654 button.colab-df-convert');\n",
              "        buttonEl.style.display =\n",
              "          google.colab.kernel.accessAllowed ? 'block' : 'none';\n",
              "\n",
              "        async function convertToInteractive(key) {\n",
              "          const element = document.querySelector('#df-fce70f5c-ad57-4bdd-8dac-18d056c09654');\n",
              "          const dataTable =\n",
              "            await google.colab.kernel.invokeFunction('convertToInteractive',\n",
              "                                                     [key], {});\n",
              "          if (!dataTable) return;\n",
              "\n",
              "          const docLinkHtml = 'Like what you see? Visit the ' +\n",
              "            '<a target=\"_blank\" href=https://colab.research.google.com/notebooks/data_table.ipynb>data table notebook</a>'\n",
              "            + ' to learn more about interactive tables.';\n",
              "          element.innerHTML = '';\n",
              "          dataTable['output_type'] = 'display_data';\n",
              "          await google.colab.output.renderOutput(dataTable, element);\n",
              "          const docLink = document.createElement('div');\n",
              "          docLink.innerHTML = docLinkHtml;\n",
              "          element.appendChild(docLink);\n",
              "        }\n",
              "      </script>\n",
              "    </div>\n",
              "  </div>\n",
              "  "
            ]
          },
          "metadata": {},
          "execution_count": 204
        }
      ]
    }
  ]
}