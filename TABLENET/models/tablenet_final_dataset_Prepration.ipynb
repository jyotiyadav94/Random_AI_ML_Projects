version https://git-lfs.github.com/spec/v1
oid sha256:c7ea188244e3b0ea75263fb648b474e28738afad8eb599e9fc7b2c65c1a67d8e
size 1199335
