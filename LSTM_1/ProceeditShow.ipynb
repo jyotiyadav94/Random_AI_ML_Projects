{
  "nbformat": 4,
  "nbformat_minor": 0,
  "metadata": {
    "kernelspec": {
      "display_name": "Python 3",
      "language": "python",
      "name": "python3"
    },
    "language_info": {
      "codemirror_mode": {
        "name": "ipython",
        "version": 3
      },
      "file_extension": ".py",
      "mimetype": "text/x-python",
      "name": "python",
      "nbconvert_exporter": "python",
      "pygments_lexer": "ipython3",
      "version": "3.6.9"
    },
    "colab": {
      "name": "ProceeditShow.ipynb",
      "provenance": []
    }
  },
  "cells": [
    {
      "cell_type": "markdown",
      "metadata": {
        "id": "VYtIMZgRYZH0"
      },
      "source": [
        "###Import the Necessary Libraries"
      ]
    },
    {
      "cell_type": "code",
      "metadata": {
        "id": "cBgQ2b0YSV0k"
      },
      "source": [
        "import numpy as np\n",
        "import matplotlib.pyplot as plt\n",
        "import pandas as pd\n",
        "from sklearn.preprocessing import MinMaxScaler\n",
        "plt.style.use(\"ggplot\")\n",
        "\n",
        "from keras.models import Sequential\n",
        "from keras.layers import LSTM, Dense, Dropout\n",
        "import tensorflow as tf\n",
        "from tensorflow.keras import optimizers\n",
        "\n",
        "### Create the Stacked LSTM model\n",
        "from tensorflow.keras.models import Sequential\n",
        "from tensorflow.keras.layers import Dense\n",
        "from tensorflow.keras.layers import LSTM\n",
        "import math\n",
        "from sklearn.metrics import mean_squared_error,r2_score"
      ],
      "execution_count": 245,
      "outputs": []
    },
    {
      "cell_type": "markdown",
      "metadata": {
        "id": "gJUiAo2FSLVA"
      },
      "source": [
        "### Preprocessing Data"
      ]
    },
    {
      "cell_type": "code",
      "metadata": {
        "id": "mxy0PjM3SLVM"
      },
      "source": [
        "df = pd.read_csv(\"BTC-USD.csv\",sep=',\\s+', delimiter=',', encoding=\"utf-8\", skipinitialspace=True)"
      ],
      "execution_count": 246,
      "outputs": []
    },
    {
      "cell_type": "code",
      "metadata": {
        "colab": {
          "base_uri": "https://localhost:8080/",
          "height": 203
        },
        "id": "EoQEo-3ZSLVR",
        "outputId": "96289a64-e2b0-42c9-9a75-302fccc02980"
      },
      "source": [
        "df.head()"
      ],
      "execution_count": 247,
      "outputs": [
        {
          "output_type": "execute_result",
          "data": {
            "text/html": [
              "<div>\n",
              "<style scoped>\n",
              "    .dataframe tbody tr th:only-of-type {\n",
              "        vertical-align: middle;\n",
              "    }\n",
              "\n",
              "    .dataframe tbody tr th {\n",
              "        vertical-align: top;\n",
              "    }\n",
              "\n",
              "    .dataframe thead th {\n",
              "        text-align: right;\n",
              "    }\n",
              "</style>\n",
              "<table border=\"1\" class=\"dataframe\">\n",
              "  <thead>\n",
              "    <tr style=\"text-align: right;\">\n",
              "      <th></th>\n",
              "      <th>Date</th>\n",
              "      <th>Open</th>\n",
              "      <th>High</th>\n",
              "      <th>Low</th>\n",
              "      <th>Close</th>\n",
              "      <th>Adj Close</th>\n",
              "      <th>Volume</th>\n",
              "    </tr>\n",
              "  </thead>\n",
              "  <tbody>\n",
              "    <tr>\n",
              "      <th>0</th>\n",
              "      <td>17-09-2014</td>\n",
              "      <td>465.864014</td>\n",
              "      <td>468.174011</td>\n",
              "      <td>452.421997</td>\n",
              "      <td>457.334015</td>\n",
              "      <td>457.334015</td>\n",
              "      <td>21056800.0</td>\n",
              "    </tr>\n",
              "    <tr>\n",
              "      <th>1</th>\n",
              "      <td>18-09-2014</td>\n",
              "      <td>456.859985</td>\n",
              "      <td>456.859985</td>\n",
              "      <td>413.104004</td>\n",
              "      <td>424.440002</td>\n",
              "      <td>424.440002</td>\n",
              "      <td>34483200.0</td>\n",
              "    </tr>\n",
              "    <tr>\n",
              "      <th>2</th>\n",
              "      <td>19-09-2014</td>\n",
              "      <td>424.102997</td>\n",
              "      <td>427.834991</td>\n",
              "      <td>384.532013</td>\n",
              "      <td>394.795990</td>\n",
              "      <td>394.795990</td>\n",
              "      <td>37919700.0</td>\n",
              "    </tr>\n",
              "    <tr>\n",
              "      <th>3</th>\n",
              "      <td>20-09-2014</td>\n",
              "      <td>394.673004</td>\n",
              "      <td>423.295990</td>\n",
              "      <td>389.882996</td>\n",
              "      <td>408.903992</td>\n",
              "      <td>408.903992</td>\n",
              "      <td>36863600.0</td>\n",
              "    </tr>\n",
              "    <tr>\n",
              "      <th>4</th>\n",
              "      <td>21-09-2014</td>\n",
              "      <td>408.084991</td>\n",
              "      <td>412.425995</td>\n",
              "      <td>393.181000</td>\n",
              "      <td>398.821014</td>\n",
              "      <td>398.821014</td>\n",
              "      <td>26580100.0</td>\n",
              "    </tr>\n",
              "  </tbody>\n",
              "</table>\n",
              "</div>"
            ],
            "text/plain": [
              "         Date        Open        High  ...       Close   Adj Close      Volume\n",
              "0  17-09-2014  465.864014  468.174011  ...  457.334015  457.334015  21056800.0\n",
              "1  18-09-2014  456.859985  456.859985  ...  424.440002  424.440002  34483200.0\n",
              "2  19-09-2014  424.102997  427.834991  ...  394.795990  394.795990  37919700.0\n",
              "3  20-09-2014  394.673004  423.295990  ...  408.903992  408.903992  36863600.0\n",
              "4  21-09-2014  408.084991  412.425995  ...  398.821014  398.821014  26580100.0\n",
              "\n",
              "[5 rows x 7 columns]"
            ]
          },
          "metadata": {},
          "execution_count": 247
        }
      ]
    },
    {
      "cell_type": "code",
      "metadata": {
        "colab": {
          "base_uri": "https://localhost:8080/",
          "height": 203
        },
        "id": "jUyi9mFPSLVU",
        "outputId": "dda8707c-f9ef-45c2-8612-c89d2f40f6db"
      },
      "source": [
        "df.tail()"
      ],
      "execution_count": 248,
      "outputs": [
        {
          "output_type": "execute_result",
          "data": {
            "text/html": [
              "<div>\n",
              "<style scoped>\n",
              "    .dataframe tbody tr th:only-of-type {\n",
              "        vertical-align: middle;\n",
              "    }\n",
              "\n",
              "    .dataframe tbody tr th {\n",
              "        vertical-align: top;\n",
              "    }\n",
              "\n",
              "    .dataframe thead th {\n",
              "        text-align: right;\n",
              "    }\n",
              "</style>\n",
              "<table border=\"1\" class=\"dataframe\">\n",
              "  <thead>\n",
              "    <tr style=\"text-align: right;\">\n",
              "      <th></th>\n",
              "      <th>Date</th>\n",
              "      <th>Open</th>\n",
              "      <th>High</th>\n",
              "      <th>Low</th>\n",
              "      <th>Close</th>\n",
              "      <th>Adj Close</th>\n",
              "      <th>Volume</th>\n",
              "    </tr>\n",
              "  </thead>\n",
              "  <tbody>\n",
              "    <tr>\n",
              "      <th>2551</th>\n",
              "      <td>11-09-2021</td>\n",
              "      <td>44869.83984</td>\n",
              "      <td>45969.29297</td>\n",
              "      <td>44818.26563</td>\n",
              "      <td>45201.45703</td>\n",
              "      <td>45201.45703</td>\n",
              "      <td>3.449984e+10</td>\n",
              "    </tr>\n",
              "    <tr>\n",
              "      <th>2552</th>\n",
              "      <td>12-09-2021</td>\n",
              "      <td>45206.62891</td>\n",
              "      <td>46364.87891</td>\n",
              "      <td>44790.46094</td>\n",
              "      <td>46063.26953</td>\n",
              "      <td>46063.26953</td>\n",
              "      <td>2.788198e+10</td>\n",
              "    </tr>\n",
              "    <tr>\n",
              "      <th>2553</th>\n",
              "      <td>13-09-2021</td>\n",
              "      <td>46057.21484</td>\n",
              "      <td>46598.67969</td>\n",
              "      <td>43591.32031</td>\n",
              "      <td>44963.07422</td>\n",
              "      <td>44963.07422</td>\n",
              "      <td>4.096994e+10</td>\n",
              "    </tr>\n",
              "    <tr>\n",
              "      <th>2554</th>\n",
              "      <td>14-09-2021</td>\n",
              "      <td>44960.05078</td>\n",
              "      <td>47218.12500</td>\n",
              "      <td>44752.33203</td>\n",
              "      <td>47092.49219</td>\n",
              "      <td>47092.49219</td>\n",
              "      <td>3.865215e+10</td>\n",
              "    </tr>\n",
              "    <tr>\n",
              "      <th>2555</th>\n",
              "      <td>15-09-2021</td>\n",
              "      <td>47134.28125</td>\n",
              "      <td>47861.94922</td>\n",
              "      <td>46773.32813</td>\n",
              "      <td>47707.02734</td>\n",
              "      <td>47707.02734</td>\n",
              "      <td>3.088304e+10</td>\n",
              "    </tr>\n",
              "  </tbody>\n",
              "</table>\n",
              "</div>"
            ],
            "text/plain": [
              "            Date         Open  ...    Adj Close        Volume\n",
              "2551  11-09-2021  44869.83984  ...  45201.45703  3.449984e+10\n",
              "2552  12-09-2021  45206.62891  ...  46063.26953  2.788198e+10\n",
              "2553  13-09-2021  46057.21484  ...  44963.07422  4.096994e+10\n",
              "2554  14-09-2021  44960.05078  ...  47092.49219  3.865215e+10\n",
              "2555  15-09-2021  47134.28125  ...  47707.02734  3.088304e+10\n",
              "\n",
              "[5 rows x 7 columns]"
            ]
          },
          "metadata": {},
          "execution_count": 248
        }
      ]
    },
    {
      "cell_type": "code",
      "metadata": {
        "colab": {
          "base_uri": "https://localhost:8080/",
          "height": 417
        },
        "id": "9YW7g-FCS2qF",
        "outputId": "9a8045a2-c864-4751-d90b-07e12e825706"
      },
      "source": [
        "df.drop(['Close'],axis=1)"
      ],
      "execution_count": 249,
      "outputs": [
        {
          "output_type": "execute_result",
          "data": {
            "text/html": [
              "<div>\n",
              "<style scoped>\n",
              "    .dataframe tbody tr th:only-of-type {\n",
              "        vertical-align: middle;\n",
              "    }\n",
              "\n",
              "    .dataframe tbody tr th {\n",
              "        vertical-align: top;\n",
              "    }\n",
              "\n",
              "    .dataframe thead th {\n",
              "        text-align: right;\n",
              "    }\n",
              "</style>\n",
              "<table border=\"1\" class=\"dataframe\">\n",
              "  <thead>\n",
              "    <tr style=\"text-align: right;\">\n",
              "      <th></th>\n",
              "      <th>Date</th>\n",
              "      <th>Open</th>\n",
              "      <th>High</th>\n",
              "      <th>Low</th>\n",
              "      <th>Adj Close</th>\n",
              "      <th>Volume</th>\n",
              "    </tr>\n",
              "  </thead>\n",
              "  <tbody>\n",
              "    <tr>\n",
              "      <th>0</th>\n",
              "      <td>17-09-2014</td>\n",
              "      <td>465.864014</td>\n",
              "      <td>468.174011</td>\n",
              "      <td>452.421997</td>\n",
              "      <td>457.334015</td>\n",
              "      <td>2.105680e+07</td>\n",
              "    </tr>\n",
              "    <tr>\n",
              "      <th>1</th>\n",
              "      <td>18-09-2014</td>\n",
              "      <td>456.859985</td>\n",
              "      <td>456.859985</td>\n",
              "      <td>413.104004</td>\n",
              "      <td>424.440002</td>\n",
              "      <td>3.448320e+07</td>\n",
              "    </tr>\n",
              "    <tr>\n",
              "      <th>2</th>\n",
              "      <td>19-09-2014</td>\n",
              "      <td>424.102997</td>\n",
              "      <td>427.834991</td>\n",
              "      <td>384.532013</td>\n",
              "      <td>394.795990</td>\n",
              "      <td>3.791970e+07</td>\n",
              "    </tr>\n",
              "    <tr>\n",
              "      <th>3</th>\n",
              "      <td>20-09-2014</td>\n",
              "      <td>394.673004</td>\n",
              "      <td>423.295990</td>\n",
              "      <td>389.882996</td>\n",
              "      <td>408.903992</td>\n",
              "      <td>3.686360e+07</td>\n",
              "    </tr>\n",
              "    <tr>\n",
              "      <th>4</th>\n",
              "      <td>21-09-2014</td>\n",
              "      <td>408.084991</td>\n",
              "      <td>412.425995</td>\n",
              "      <td>393.181000</td>\n",
              "      <td>398.821014</td>\n",
              "      <td>2.658010e+07</td>\n",
              "    </tr>\n",
              "    <tr>\n",
              "      <th>...</th>\n",
              "      <td>...</td>\n",
              "      <td>...</td>\n",
              "      <td>...</td>\n",
              "      <td>...</td>\n",
              "      <td>...</td>\n",
              "      <td>...</td>\n",
              "    </tr>\n",
              "    <tr>\n",
              "      <th>2551</th>\n",
              "      <td>11-09-2021</td>\n",
              "      <td>44869.839840</td>\n",
              "      <td>45969.292970</td>\n",
              "      <td>44818.265630</td>\n",
              "      <td>45201.457030</td>\n",
              "      <td>3.449984e+10</td>\n",
              "    </tr>\n",
              "    <tr>\n",
              "      <th>2552</th>\n",
              "      <td>12-09-2021</td>\n",
              "      <td>45206.628910</td>\n",
              "      <td>46364.878910</td>\n",
              "      <td>44790.460940</td>\n",
              "      <td>46063.269530</td>\n",
              "      <td>2.788198e+10</td>\n",
              "    </tr>\n",
              "    <tr>\n",
              "      <th>2553</th>\n",
              "      <td>13-09-2021</td>\n",
              "      <td>46057.214840</td>\n",
              "      <td>46598.679690</td>\n",
              "      <td>43591.320310</td>\n",
              "      <td>44963.074220</td>\n",
              "      <td>4.096994e+10</td>\n",
              "    </tr>\n",
              "    <tr>\n",
              "      <th>2554</th>\n",
              "      <td>14-09-2021</td>\n",
              "      <td>44960.050780</td>\n",
              "      <td>47218.125000</td>\n",
              "      <td>44752.332030</td>\n",
              "      <td>47092.492190</td>\n",
              "      <td>3.865215e+10</td>\n",
              "    </tr>\n",
              "    <tr>\n",
              "      <th>2555</th>\n",
              "      <td>15-09-2021</td>\n",
              "      <td>47134.281250</td>\n",
              "      <td>47861.949220</td>\n",
              "      <td>46773.328130</td>\n",
              "      <td>47707.027340</td>\n",
              "      <td>3.088304e+10</td>\n",
              "    </tr>\n",
              "  </tbody>\n",
              "</table>\n",
              "<p>2556 rows × 6 columns</p>\n",
              "</div>"
            ],
            "text/plain": [
              "            Date          Open  ...     Adj Close        Volume\n",
              "0     17-09-2014    465.864014  ...    457.334015  2.105680e+07\n",
              "1     18-09-2014    456.859985  ...    424.440002  3.448320e+07\n",
              "2     19-09-2014    424.102997  ...    394.795990  3.791970e+07\n",
              "3     20-09-2014    394.673004  ...    408.903992  3.686360e+07\n",
              "4     21-09-2014    408.084991  ...    398.821014  2.658010e+07\n",
              "...          ...           ...  ...           ...           ...\n",
              "2551  11-09-2021  44869.839840  ...  45201.457030  3.449984e+10\n",
              "2552  12-09-2021  45206.628910  ...  46063.269530  2.788198e+10\n",
              "2553  13-09-2021  46057.214840  ...  44963.074220  4.096994e+10\n",
              "2554  14-09-2021  44960.050780  ...  47092.492190  3.865215e+10\n",
              "2555  15-09-2021  47134.281250  ...  47707.027340  3.088304e+10\n",
              "\n",
              "[2556 rows x 6 columns]"
            ]
          },
          "metadata": {},
          "execution_count": 249
        }
      ]
    },
    {
      "cell_type": "code",
      "metadata": {
        "id": "WndqYjbgSLVX"
      },
      "source": [
        "df1=df.reset_index()['Adj Close']"
      ],
      "execution_count": 250,
      "outputs": []
    },
    {
      "cell_type": "code",
      "metadata": {
        "colab": {
          "base_uri": "https://localhost:8080/"
        },
        "id": "7kZ-mcXGUKFA",
        "outputId": "69ef7d73-1dcc-4292-f4bf-5f84eaf5e037"
      },
      "source": [
        "df1.isnull().sum()"
      ],
      "execution_count": 251,
      "outputs": [
        {
          "output_type": "execute_result",
          "data": {
            "text/plain": [
              "4"
            ]
          },
          "metadata": {},
          "execution_count": 251
        }
      ]
    },
    {
      "cell_type": "code",
      "metadata": {
        "id": "VxhspI0zUXZT"
      },
      "source": [
        "df1 = df1.dropna()"
      ],
      "execution_count": 252,
      "outputs": []
    },
    {
      "cell_type": "code",
      "metadata": {
        "colab": {
          "base_uri": "https://localhost:8080/"
        },
        "id": "D-YFDu_4UaPt",
        "outputId": "e42c716e-b515-41fe-df99-9e78fca2d262"
      },
      "source": [
        "df1.isnull().sum()"
      ],
      "execution_count": 253,
      "outputs": [
        {
          "output_type": "execute_result",
          "data": {
            "text/plain": [
              "0"
            ]
          },
          "metadata": {},
          "execution_count": 253
        }
      ]
    },
    {
      "cell_type": "code",
      "metadata": {
        "colab": {
          "base_uri": "https://localhost:8080/"
        },
        "id": "rpCcWtttSLVZ",
        "outputId": "d5192b54-2750-4687-8959-dbafc93190a4"
      },
      "source": [
        "df1"
      ],
      "execution_count": 254,
      "outputs": [
        {
          "output_type": "execute_result",
          "data": {
            "text/plain": [
              "0         457.334015\n",
              "1         424.440002\n",
              "2         394.795990\n",
              "3         408.903992\n",
              "4         398.821014\n",
              "            ...     \n",
              "2551    45201.457030\n",
              "2552    46063.269530\n",
              "2553    44963.074220\n",
              "2554    47092.492190\n",
              "2555    47707.027340\n",
              "Name: Adj Close, Length: 2552, dtype: float64"
            ]
          },
          "metadata": {},
          "execution_count": 254
        }
      ]
    },
    {
      "cell_type": "code",
      "metadata": {
        "colab": {
          "base_uri": "https://localhost:8080/",
          "height": 447
        },
        "id": "VIw9gWh4SLVa",
        "outputId": "828b64a9-23d6-45bf-e199-87165991969a"
      },
      "source": [
        "import matplotlib.pyplot as plt\n",
        "plt.plot(df1)"
      ],
      "execution_count": 255,
      "outputs": [
        {
          "output_type": "execute_result",
          "data": {
            "text/plain": [
              "[<matplotlib.lines.Line2D at 0x7fc70a2ce2d0>]"
            ]
          },
          "metadata": {},
          "execution_count": 255
        },
        {
          "output_type": "display_data",
          "data": {
            "image/png": "[encoded data removed]",
            "text/plain": [
              "<Figure size 640x480 with 1 Axes>"
            ]
          },
          "metadata": {}
        }
      ]
    },
    {
      "cell_type": "code",
      "metadata": {
        "id": "hal-HpVuSLVc"
      },
      "source": [
        "### LSTM are sensitive to the scale of the data. so we apply MinMax scaler "
      ],
      "execution_count": 256,
      "outputs": []
    },
    {
      "cell_type": "markdown",
      "metadata": {
        "id": "G3cji9s9Yv_A"
      },
      "source": [
        "### Normalization Using MinMax Scaling"
      ]
    },
    {
      "cell_type": "code",
      "metadata": {
        "id": "jnPeWvj8SLVf"
      },
      "source": [
        "from sklearn.preprocessing import MinMaxScaler\n",
        "scaler=MinMaxScaler(feature_range=(0,1))\n",
        "df1=scaler.fit_transform(np.array(df1).reshape(-1,1))"
      ],
      "execution_count": 257,
      "outputs": []
    },
    {
      "cell_type": "code",
      "metadata": {
        "colab": {
          "base_uri": "https://localhost:8080/"
        },
        "id": "gY2kcMDFSLVg",
        "outputId": "0ba39eb2-6c13-48ef-ad56-84ec9583dff4"
      },
      "source": [
        "print(df1)"
      ],
      "execution_count": 258,
      "outputs": [
        {
          "output_type": "stream",
          "name": "stdout",
          "text": [
            "[[0.00440947]\n",
            " [0.00389002]\n",
            " [0.0034219 ]\n",
            " ...\n",
            " [0.70722023]\n",
            " [0.74084685]\n",
            " [0.75055126]]\n"
          ]
        }
      ]
    },
    {
      "cell_type": "code",
      "metadata": {
        "id": "Ie5posHrSLVh"
      },
      "source": [
        "##splitting dataset into train and test split\n",
        "training_size=int(len(df1)*0.80)\n",
        "test_size=len(df1)-training_size\n",
        "train_data,test_data=df1[0:training_size,:],df1[training_size:len(df1),:1]"
      ],
      "execution_count": 283,
      "outputs": []
    },
    {
      "cell_type": "code",
      "metadata": {
        "colab": {
          "base_uri": "https://localhost:8080/"
        },
        "id": "ybIJoBRbSLVi",
        "outputId": "12789fc7-a5a3-4a4c-b775-97765c732341"
      },
      "source": [
        "training_size,test_size"
      ],
      "execution_count": 284,
      "outputs": [
        {
          "output_type": "execute_result",
          "data": {
            "text/plain": [
              "(2041, 511)"
            ]
          },
          "metadata": {},
          "execution_count": 284
        }
      ]
    },
    {
      "cell_type": "code",
      "metadata": {
        "colab": {
          "base_uri": "https://localhost:8080/"
        },
        "id": "9s6I2bhzSLVj",
        "outputId": "42d56704-d5fd-4f1b-efb7-edb501c4dfb3"
      },
      "source": [
        "train_data"
      ],
      "execution_count": 285,
      "outputs": [
        {
          "output_type": "execute_result",
          "data": {
            "text/plain": [
              "array([[0.00440947],\n",
              "       [0.00389002],\n",
              "       [0.0034219 ],\n",
              "       ...,\n",
              "       [0.10957224],\n",
              "       [0.11179664],\n",
              "       [0.11071903]])"
            ]
          },
          "metadata": {},
          "execution_count": 285
        }
      ]
    },
    {
      "cell_type": "markdown",
      "metadata": {
        "id": "oPmWJp63Y5pL"
      },
      "source": [
        "### Preparing the dataset"
      ]
    },
    {
      "cell_type": "code",
      "metadata": {
        "id": "7NYhpMeZSLVk"
      },
      "source": [
        "# convert an array of values into a dataset matrix\n",
        "def create_dataset(dataset, time_step=1):\n",
        "\tdataX, dataY = [], []\n",
        "\tfor i in range(len(dataset)-time_step-1):\n",
        "\t\ta = dataset[i:(i+time_step), 0]   ###i=0, 0,1,2,3-----99   100 \n",
        "\t\tdataX.append(a)\n",
        "\t\tdataY.append(dataset[i + time_step, 0])\n",
        "\treturn numpy.array(dataX), numpy.array(dataY)"
      ],
      "execution_count": 286,
      "outputs": []
    },
    {
      "cell_type": "code",
      "metadata": {
        "id": "c43fpALNSLVl"
      },
      "source": [
        "# reshape into X=t,t+1,t+2,t+3 and Y=t+4\n",
        "time_step = 20\n",
        "X_train, y_train = create_dataset(train_data, time_step)\n",
        "X_test, ytest = create_dataset(test_data, time_step)"
      ],
      "execution_count": 287,
      "outputs": []
    },
    {
      "cell_type": "code",
      "metadata": {
        "colab": {
          "base_uri": "https://localhost:8080/"
        },
        "id": "wQSJvcoBSLVl",
        "outputId": "efd11a13-b957-437b-d714-6b9ddc1e5331"
      },
      "source": [
        "print(X_train.shape), print(y_train.shape)"
      ],
      "execution_count": 288,
      "outputs": [
        {
          "output_type": "stream",
          "name": "stdout",
          "text": [
            "(2020, 20)\n",
            "(2020,)\n"
          ]
        },
        {
          "output_type": "execute_result",
          "data": {
            "text/plain": [
              "(None, None)"
            ]
          },
          "metadata": {},
          "execution_count": 288
        }
      ]
    },
    {
      "cell_type": "code",
      "metadata": {
        "colab": {
          "base_uri": "https://localhost:8080/"
        },
        "id": "5ls4M-IxSLVn",
        "outputId": "39a51629-5e1c-4462-ad6c-d87e1574bcb0"
      },
      "source": [
        "print(X_test.shape), print(ytest.shape)"
      ],
      "execution_count": 289,
      "outputs": [
        {
          "output_type": "stream",
          "name": "stdout",
          "text": [
            "(490, 20)\n",
            "(490,)\n"
          ]
        },
        {
          "output_type": "execute_result",
          "data": {
            "text/plain": [
              "(None, None)"
            ]
          },
          "metadata": {},
          "execution_count": 289
        }
      ]
    },
    {
      "cell_type": "code",
      "metadata": {
        "id": "vLrFpx1fSLVn"
      },
      "source": [
        "# reshape input to be [samples, time steps, features] which is required for LSTM\n",
        "X_train =X_train.reshape(X_train.shape[0],X_train.shape[1] , 1)\n",
        "X_test = X_test.reshape(X_test.shape[0],X_test.shape[1] , 1)"
      ],
      "execution_count": 290,
      "outputs": []
    },
    {
      "cell_type": "markdown",
      "metadata": {
        "id": "TaLQ2DGwY92B"
      },
      "source": [
        "### Modelling"
      ]
    },
    {
      "cell_type": "code",
      "metadata": {
        "colab": {
          "base_uri": "https://localhost:8080/"
        },
        "id": "6Zj7LpwISLVp",
        "outputId": "0195a844-c700-4a94-fda9-43233e2b9692"
      },
      "source": [
        "model=Sequential()\n",
        "# model.add(LSTM(50,return_sequences=True,input_shape=(100,1)))\n",
        "# model.add(LSTM(50,return_sequences=True))\n",
        "# model.add(LSTM(50))\n",
        "# model.add(Dense(1))\n",
        "\n",
        "#adding layers to the model\n",
        "model.add(LSTM(128,input_shape=(100,1),return_sequences=True))\n",
        "model.add(LSTM(32,return_sequences = True))\n",
        "model.add(LSTM(32))\n",
        "model.add(Dense(64))\n",
        "model.add(Dense(1))\n",
        "\n",
        "#compiling model\n",
        "lr=1e-3\n",
        "model.compile(loss='mean_squared_error',optimizer = optimizers.Adam(lr = lr),metrics=['accuracy'])\n"
      ],
      "execution_count": 303,
      "outputs": [
        {
          "output_type": "stream",
          "name": "stderr",
          "text": [
            "/usr/local/lib/python3.7/dist-packages/keras/optimizer_v2/optimizer_v2.py:356: UserWarning: The `lr` argument is deprecated, use `learning_rate` instead.\n",
            "  \"The `lr` argument is deprecated, use `learning_rate` instead.\")\n"
          ]
        }
      ]
    },
    {
      "cell_type": "code",
      "metadata": {
        "colab": {
          "base_uri": "https://localhost:8080/"
        },
        "id": "VZq1wMBhSLVp",
        "outputId": "de004fac-6431-4630-af47-d244be2627dc"
      },
      "source": [
        "model.summary()"
      ],
      "execution_count": 304,
      "outputs": [
        {
          "output_type": "stream",
          "name": "stdout",
          "text": [
            "Model: \"sequential_11\"\n",
            "_________________________________________________________________\n",
            "Layer (type)                 Output Shape              Param #   \n",
            "=================================================================\n",
            "lstm_30 (LSTM)               (None, 100, 128)          66560     \n",
            "_________________________________________________________________\n",
            "lstm_31 (LSTM)               (None, 100, 32)           20608     \n",
            "_________________________________________________________________\n",
            "lstm_32 (LSTM)               (None, 32)                8320      \n",
            "_________________________________________________________________\n",
            "dense_10 (Dense)             (None, 64)                2112      \n",
            "_________________________________________________________________\n",
            "dense_11 (Dense)             (None, 1)                 65        \n",
            "=================================================================\n",
            "Total params: 97,665\n",
            "Trainable params: 97,665\n",
            "Non-trainable params: 0\n",
            "_________________________________________________________________\n"
          ]
        }
      ]
    },
    {
      "cell_type": "markdown",
      "metadata": {
        "id": "oge2cN_hZA9y"
      },
      "source": [
        "###Model fitting"
      ]
    },
    {
      "cell_type": "code",
      "metadata": {
        "colab": {
          "base_uri": "https://localhost:8080/"
        },
        "id": "4nfb85q4SLVr",
        "outputId": "f4c1224e-093d-402d-c84b-e6d98c086761"
      },
      "source": [
        "res=model.fit(X_train,y_train,validation_data=(X_test,ytest),epochs=100,batch_size=64,verbose=1)"
      ],
      "execution_count": 305,
      "outputs": [
        {
          "output_type": "stream",
          "name": "stdout",
          "text": [
            "Epoch 1/100\n",
            "WARNING:tensorflow:Model was constructed with shape (None, 100, 1) for input KerasTensor(type_spec=TensorSpec(shape=(None, 100, 1), dtype=tf.float32, name='lstm_30_input'), name='lstm_30_input', description=\"created by layer 'lstm_30_input'\"), but it was called on an input with incompatible shape (None, 20, 1).\n",
            "WARNING:tensorflow:Model was constructed with shape (None, 100, 1) for input KerasTensor(type_spec=TensorSpec(shape=(None, 100, 1), dtype=tf.float32, name='lstm_30_input'), name='lstm_30_input', description=\"created by layer 'lstm_30_input'\"), but it was called on an input with incompatible shape (None, 20, 1).\n",
            "32/32 [==============================] - ETA: 0s - loss: 0.0011 - accuracy: 4.9505e-04WARNING:tensorflow:Model was constructed with shape (None, 100, 1) for input KerasTensor(type_spec=TensorSpec(shape=(None, 100, 1), dtype=tf.float32, name='lstm_30_input'), name='lstm_30_input', description=\"created by layer 'lstm_30_input'\"), but it was called on an input with incompatible shape (None, 20, 1).\n",
            "32/32 [==============================] - 7s 99ms/step - loss: 0.0011 - accuracy: 4.9505e-04 - val_loss: 0.0049 - val_accuracy: 0.0020\n",
            "Epoch 2/100\n",
            "32/32 [==============================] - 2s 64ms/step - loss: 1.8414e-04 - accuracy: 4.9505e-04 - val_loss: 0.0128 - val_accuracy: 0.0020\n",
            "Epoch 3/100\n",
            "32/32 [==============================] - 2s 65ms/step - loss: 1.6965e-04 - accuracy: 4.9505e-04 - val_loss: 0.0189 - val_accuracy: 0.0020\n",
            "Epoch 4/100\n",
            "32/32 [==============================] - 2s 64ms/step - loss: 1.6790e-04 - accuracy: 4.9505e-04 - val_loss: 0.0206 - val_accuracy: 0.0020\n",
            "Epoch 5/100\n",
            "32/32 [==============================] - 2s 64ms/step - loss: 1.4286e-04 - accuracy: 4.9505e-04 - val_loss: 0.0140 - val_accuracy: 0.0020\n",
            "Epoch 6/100\n",
            "32/32 [==============================] - 2s 64ms/step - loss: 1.3031e-04 - accuracy: 4.9505e-04 - val_loss: 0.0251 - val_accuracy: 0.0020\n",
            "Epoch 7/100\n",
            "32/32 [==============================] - 2s 63ms/step - loss: 1.3276e-04 - accuracy: 4.9505e-04 - val_loss: 0.0177 - val_accuracy: 0.0020\n",
            "Epoch 8/100\n",
            "32/32 [==============================] - 2s 64ms/step - loss: 1.1334e-04 - accuracy: 4.9505e-04 - val_loss: 0.0197 - val_accuracy: 0.0020\n",
            "Epoch 9/100\n",
            "32/32 [==============================] - 2s 64ms/step - loss: 1.0143e-04 - accuracy: 4.9505e-04 - val_loss: 0.0194 - val_accuracy: 0.0020\n",
            "Epoch 10/100\n",
            "32/32 [==============================] - 2s 64ms/step - loss: 9.4827e-05 - accuracy: 4.9505e-04 - val_loss: 0.0222 - val_accuracy: 0.0020\n",
            "Epoch 11/100\n",
            "32/32 [==============================] - 2s 64ms/step - loss: 1.2087e-04 - accuracy: 4.9505e-04 - val_loss: 0.0149 - val_accuracy: 0.0020\n",
            "Epoch 12/100\n",
            "32/32 [==============================] - 2s 65ms/step - loss: 9.4087e-05 - accuracy: 4.9505e-04 - val_loss: 0.0158 - val_accuracy: 0.0020\n",
            "Epoch 13/100\n",
            "32/32 [==============================] - 2s 65ms/step - loss: 9.3415e-05 - accuracy: 4.9505e-04 - val_loss: 0.0179 - val_accuracy: 0.0020\n",
            "Epoch 14/100\n",
            "32/32 [==============================] - 2s 65ms/step - loss: 8.4218e-05 - accuracy: 4.9505e-04 - val_loss: 0.0162 - val_accuracy: 0.0020\n",
            "Epoch 15/100\n",
            "32/32 [==============================] - 2s 65ms/step - loss: 9.1100e-05 - accuracy: 4.9505e-04 - val_loss: 0.0166 - val_accuracy: 0.0020\n",
            "Epoch 16/100\n",
            "32/32 [==============================] - 2s 65ms/step - loss: 1.0909e-04 - accuracy: 4.9505e-04 - val_loss: 0.0151 - val_accuracy: 0.0020\n",
            "Epoch 17/100\n",
            "32/32 [==============================] - 2s 65ms/step - loss: 9.3492e-05 - accuracy: 4.9505e-04 - val_loss: 0.0177 - val_accuracy: 0.0020\n",
            "Epoch 18/100\n",
            "32/32 [==============================] - 2s 65ms/step - loss: 7.5588e-05 - accuracy: 4.9505e-04 - val_loss: 0.0067 - val_accuracy: 0.0020\n",
            "Epoch 19/100\n",
            "32/32 [==============================] - 2s 64ms/step - loss: 7.8579e-05 - accuracy: 4.9505e-04 - val_loss: 0.0094 - val_accuracy: 0.0020\n",
            "Epoch 20/100\n",
            "32/32 [==============================] - 2s 64ms/step - loss: 8.1844e-05 - accuracy: 4.9505e-04 - val_loss: 0.0110 - val_accuracy: 0.0020\n",
            "Epoch 21/100\n",
            "32/32 [==============================] - 2s 64ms/step - loss: 8.2780e-05 - accuracy: 4.9505e-04 - val_loss: 0.0092 - val_accuracy: 0.0020\n",
            "Epoch 22/100\n",
            "32/32 [==============================] - 2s 66ms/step - loss: 8.7053e-05 - accuracy: 4.9505e-04 - val_loss: 0.0111 - val_accuracy: 0.0020\n",
            "Epoch 23/100\n",
            "32/32 [==============================] - 2s 66ms/step - loss: 6.8818e-05 - accuracy: 4.9505e-04 - val_loss: 0.0107 - val_accuracy: 0.0020\n",
            "Epoch 24/100\n",
            "32/32 [==============================] - 2s 65ms/step - loss: 8.2707e-05 - accuracy: 4.9505e-04 - val_loss: 0.0093 - val_accuracy: 0.0020\n",
            "Epoch 25/100\n",
            "32/32 [==============================] - 2s 66ms/step - loss: 7.9978e-05 - accuracy: 4.9505e-04 - val_loss: 0.0041 - val_accuracy: 0.0020\n",
            "Epoch 26/100\n",
            "32/32 [==============================] - 2s 65ms/step - loss: 7.0679e-05 - accuracy: 4.9505e-04 - val_loss: 0.0092 - val_accuracy: 0.0020\n",
            "Epoch 27/100\n",
            "32/32 [==============================] - 2s 66ms/step - loss: 7.2685e-05 - accuracy: 4.9505e-04 - val_loss: 0.0050 - val_accuracy: 0.0020\n",
            "Epoch 28/100\n",
            "32/32 [==============================] - 2s 64ms/step - loss: 6.0794e-05 - accuracy: 4.9505e-04 - val_loss: 0.0068 - val_accuracy: 0.0020\n",
            "Epoch 29/100\n",
            "32/32 [==============================] - 2s 64ms/step - loss: 5.8275e-05 - accuracy: 4.9505e-04 - val_loss: 0.0107 - val_accuracy: 0.0020\n",
            "Epoch 30/100\n",
            "32/32 [==============================] - 2s 64ms/step - loss: 5.8031e-05 - accuracy: 4.9505e-04 - val_loss: 0.0100 - val_accuracy: 0.0020\n",
            "Epoch 31/100\n",
            "32/32 [==============================] - 2s 64ms/step - loss: 5.6459e-05 - accuracy: 4.9505e-04 - val_loss: 0.0079 - val_accuracy: 0.0020\n",
            "Epoch 32/100\n",
            "32/32 [==============================] - 2s 66ms/step - loss: 5.6536e-05 - accuracy: 4.9505e-04 - val_loss: 0.0081 - val_accuracy: 0.0020\n",
            "Epoch 33/100\n",
            "32/32 [==============================] - 2s 64ms/step - loss: 5.9993e-05 - accuracy: 4.9505e-04 - val_loss: 0.0098 - val_accuracy: 0.0020\n",
            "Epoch 34/100\n",
            "32/32 [==============================] - 2s 65ms/step - loss: 5.6313e-05 - accuracy: 4.9505e-04 - val_loss: 0.0060 - val_accuracy: 0.0020\n",
            "Epoch 35/100\n",
            "32/32 [==============================] - 2s 64ms/step - loss: 5.9546e-05 - accuracy: 4.9505e-04 - val_loss: 0.0087 - val_accuracy: 0.0020\n",
            "Epoch 36/100\n",
            "32/32 [==============================] - 2s 64ms/step - loss: 5.7937e-05 - accuracy: 4.9505e-04 - val_loss: 0.0059 - val_accuracy: 0.0020\n",
            "Epoch 37/100\n",
            "32/32 [==============================] - 2s 65ms/step - loss: 5.9012e-05 - accuracy: 4.9505e-04 - val_loss: 0.0085 - val_accuracy: 0.0020\n",
            "Epoch 38/100\n",
            "32/32 [==============================] - 2s 64ms/step - loss: 5.3954e-05 - accuracy: 4.9505e-04 - val_loss: 0.0077 - val_accuracy: 0.0020\n",
            "Epoch 39/100\n",
            "32/32 [==============================] - 2s 65ms/step - loss: 5.1664e-05 - accuracy: 4.9505e-04 - val_loss: 0.0037 - val_accuracy: 0.0020\n",
            "Epoch 40/100\n",
            "32/32 [==============================] - 2s 65ms/step - loss: 5.1354e-05 - accuracy: 4.9505e-04 - val_loss: 0.0043 - val_accuracy: 0.0020\n",
            "Epoch 41/100\n",
            "32/32 [==============================] - 2s 65ms/step - loss: 4.8917e-05 - accuracy: 4.9505e-04 - val_loss: 0.0064 - val_accuracy: 0.0020\n",
            "Epoch 42/100\n",
            "32/32 [==============================] - 2s 64ms/step - loss: 4.5937e-05 - accuracy: 4.9505e-04 - val_loss: 0.0051 - val_accuracy: 0.0020\n",
            "Epoch 43/100\n",
            "32/32 [==============================] - 2s 65ms/step - loss: 4.7771e-05 - accuracy: 4.9505e-04 - val_loss: 0.0079 - val_accuracy: 0.0020\n",
            "Epoch 44/100\n",
            "32/32 [==============================] - 2s 65ms/step - loss: 4.3863e-05 - accuracy: 4.9505e-04 - val_loss: 0.0054 - val_accuracy: 0.0020\n",
            "Epoch 45/100\n",
            "32/32 [==============================] - 2s 65ms/step - loss: 4.4725e-05 - accuracy: 4.9505e-04 - val_loss: 0.0093 - val_accuracy: 0.0020\n",
            "Epoch 46/100\n",
            "32/32 [==============================] - 2s 66ms/step - loss: 4.3772e-05 - accuracy: 4.9505e-04 - val_loss: 0.0058 - val_accuracy: 0.0020\n",
            "Epoch 47/100\n",
            "32/32 [==============================] - 2s 65ms/step - loss: 4.4870e-05 - accuracy: 4.9505e-04 - val_loss: 0.0055 - val_accuracy: 0.0020\n",
            "Epoch 48/100\n",
            "32/32 [==============================] - 2s 65ms/step - loss: 4.3383e-05 - accuracy: 4.9505e-04 - val_loss: 0.0038 - val_accuracy: 0.0020\n",
            "Epoch 49/100\n",
            "32/32 [==============================] - 2s 65ms/step - loss: 3.8435e-05 - accuracy: 4.9505e-04 - val_loss: 0.0051 - val_accuracy: 0.0020\n",
            "Epoch 50/100\n",
            "32/32 [==============================] - 2s 65ms/step - loss: 4.3720e-05 - accuracy: 4.9505e-04 - val_loss: 0.0027 - val_accuracy: 0.0020\n",
            "Epoch 51/100\n",
            "32/32 [==============================] - 2s 66ms/step - loss: 3.7484e-05 - accuracy: 4.9505e-04 - val_loss: 0.0035 - val_accuracy: 0.0020\n",
            "Epoch 52/100\n",
            "32/32 [==============================] - 2s 65ms/step - loss: 3.7501e-05 - accuracy: 4.9505e-04 - val_loss: 0.0042 - val_accuracy: 0.0020\n",
            "Epoch 53/100\n",
            "32/32 [==============================] - 2s 65ms/step - loss: 4.0463e-05 - accuracy: 4.9505e-04 - val_loss: 0.0032 - val_accuracy: 0.0020\n",
            "Epoch 54/100\n",
            "32/32 [==============================] - 2s 65ms/step - loss: 3.8239e-05 - accuracy: 4.9505e-04 - val_loss: 0.0044 - val_accuracy: 0.0020\n",
            "Epoch 55/100\n",
            "32/32 [==============================] - 2s 65ms/step - loss: 3.4213e-05 - accuracy: 4.9505e-04 - val_loss: 0.0049 - val_accuracy: 0.0020\n",
            "Epoch 56/100\n",
            "32/32 [==============================] - 2s 65ms/step - loss: 4.0000e-05 - accuracy: 4.9505e-04 - val_loss: 0.0020 - val_accuracy: 0.0020\n",
            "Epoch 57/100\n",
            "32/32 [==============================] - 2s 64ms/step - loss: 3.8434e-05 - accuracy: 4.9505e-04 - val_loss: 0.0040 - val_accuracy: 0.0020\n",
            "Epoch 58/100\n",
            "32/32 [==============================] - 2s 65ms/step - loss: 4.5712e-05 - accuracy: 4.9505e-04 - val_loss: 0.0040 - val_accuracy: 0.0020\n",
            "Epoch 59/100\n",
            "32/32 [==============================] - 2s 65ms/step - loss: 3.2798e-05 - accuracy: 4.9505e-04 - val_loss: 0.0024 - val_accuracy: 0.0020\n",
            "Epoch 60/100\n",
            "32/32 [==============================] - 2s 65ms/step - loss: 3.2588e-05 - accuracy: 4.9505e-04 - val_loss: 0.0062 - val_accuracy: 0.0020\n",
            "Epoch 61/100\n",
            "32/32 [==============================] - 2s 66ms/step - loss: 2.9931e-05 - accuracy: 4.9505e-04 - val_loss: 0.0033 - val_accuracy: 0.0020\n",
            "Epoch 62/100\n",
            "32/32 [==============================] - 2s 65ms/step - loss: 3.0854e-05 - accuracy: 4.9505e-04 - val_loss: 0.0041 - val_accuracy: 0.0020\n",
            "Epoch 63/100\n",
            "32/32 [==============================] - 2s 66ms/step - loss: 3.1996e-05 - accuracy: 4.9505e-04 - val_loss: 0.0036 - val_accuracy: 0.0020\n",
            "Epoch 64/100\n",
            "32/32 [==============================] - 2s 64ms/step - loss: 2.7623e-05 - accuracy: 4.9505e-04 - val_loss: 0.0023 - val_accuracy: 0.0020\n",
            "Epoch 65/100\n",
            "32/32 [==============================] - 2s 65ms/step - loss: 3.2198e-05 - accuracy: 4.9505e-04 - val_loss: 0.0047 - val_accuracy: 0.0020\n",
            "Epoch 66/100\n",
            "32/32 [==============================] - 2s 66ms/step - loss: 2.9628e-05 - accuracy: 4.9505e-04 - val_loss: 0.0038 - val_accuracy: 0.0020\n",
            "Epoch 67/100\n",
            "32/32 [==============================] - 2s 66ms/step - loss: 2.8568e-05 - accuracy: 4.9505e-04 - val_loss: 0.0032 - val_accuracy: 0.0020\n",
            "Epoch 68/100\n",
            "32/32 [==============================] - 2s 65ms/step - loss: 3.0065e-05 - accuracy: 4.9505e-04 - val_loss: 0.0035 - val_accuracy: 0.0020\n",
            "Epoch 69/100\n",
            "32/32 [==============================] - 2s 67ms/step - loss: 2.7013e-05 - accuracy: 4.9505e-04 - val_loss: 9.7672e-04 - val_accuracy: 0.0020\n",
            "Epoch 70/100\n",
            "32/32 [==============================] - 2s 65ms/step - loss: 3.1416e-05 - accuracy: 4.9505e-04 - val_loss: 0.0014 - val_accuracy: 0.0020\n",
            "Epoch 71/100\n",
            "32/32 [==============================] - 2s 65ms/step - loss: 3.1313e-05 - accuracy: 4.9505e-04 - val_loss: 0.0026 - val_accuracy: 0.0020\n",
            "Epoch 72/100\n",
            "32/32 [==============================] - 2s 65ms/step - loss: 3.2607e-05 - accuracy: 4.9505e-04 - val_loss: 0.0029 - val_accuracy: 0.0020\n",
            "Epoch 73/100\n",
            "32/32 [==============================] - 2s 66ms/step - loss: 2.9151e-05 - accuracy: 4.9505e-04 - val_loss: 0.0038 - val_accuracy: 0.0020\n",
            "Epoch 74/100\n",
            "32/32 [==============================] - 2s 65ms/step - loss: 2.7156e-05 - accuracy: 4.9505e-04 - val_loss: 0.0034 - val_accuracy: 0.0020\n",
            "Epoch 75/100\n",
            "32/32 [==============================] - 2s 66ms/step - loss: 3.3269e-05 - accuracy: 4.9505e-04 - val_loss: 0.0011 - val_accuracy: 0.0020\n",
            "Epoch 76/100\n",
            "32/32 [==============================] - 2s 65ms/step - loss: 2.6782e-05 - accuracy: 4.9505e-04 - val_loss: 0.0031 - val_accuracy: 0.0020\n",
            "Epoch 77/100\n",
            "32/32 [==============================] - 2s 65ms/step - loss: 2.6696e-05 - accuracy: 4.9505e-04 - val_loss: 0.0019 - val_accuracy: 0.0020\n",
            "Epoch 78/100\n",
            "32/32 [==============================] - 2s 65ms/step - loss: 2.5553e-05 - accuracy: 4.9505e-04 - val_loss: 0.0039 - val_accuracy: 0.0020\n",
            "Epoch 79/100\n",
            "32/32 [==============================] - 2s 65ms/step - loss: 2.8532e-05 - accuracy: 4.9505e-04 - val_loss: 0.0012 - val_accuracy: 0.0020\n",
            "Epoch 80/100\n",
            "32/32 [==============================] - 2s 66ms/step - loss: 2.7767e-05 - accuracy: 4.9505e-04 - val_loss: 0.0030 - val_accuracy: 0.0020\n",
            "Epoch 81/100\n",
            "32/32 [==============================] - 2s 65ms/step - loss: 2.4009e-05 - accuracy: 4.9505e-04 - val_loss: 0.0021 - val_accuracy: 0.0020\n",
            "Epoch 82/100\n",
            "32/32 [==============================] - 2s 66ms/step - loss: 2.5158e-05 - accuracy: 4.9505e-04 - val_loss: 0.0021 - val_accuracy: 0.0020\n",
            "Epoch 83/100\n",
            "32/32 [==============================] - 2s 66ms/step - loss: 2.6388e-05 - accuracy: 4.9505e-04 - val_loss: 0.0017 - val_accuracy: 0.0020\n",
            "Epoch 84/100\n",
            "32/32 [==============================] - 2s 66ms/step - loss: 2.6930e-05 - accuracy: 4.9505e-04 - val_loss: 0.0015 - val_accuracy: 0.0020\n",
            "Epoch 85/100\n",
            "32/32 [==============================] - 2s 66ms/step - loss: 2.3880e-05 - accuracy: 4.9505e-04 - val_loss: 0.0020 - val_accuracy: 0.0020\n",
            "Epoch 86/100\n",
            "32/32 [==============================] - 2s 66ms/step - loss: 2.7058e-05 - accuracy: 4.9505e-04 - val_loss: 0.0023 - val_accuracy: 0.0020\n",
            "Epoch 87/100\n",
            "32/32 [==============================] - 2s 66ms/step - loss: 2.9372e-05 - accuracy: 4.9505e-04 - val_loss: 0.0023 - val_accuracy: 0.0020\n",
            "Epoch 88/100\n",
            "32/32 [==============================] - 2s 66ms/step - loss: 2.7398e-05 - accuracy: 4.9505e-04 - val_loss: 0.0021 - val_accuracy: 0.0020\n",
            "Epoch 89/100\n",
            "32/32 [==============================] - 2s 66ms/step - loss: 2.4359e-05 - accuracy: 4.9505e-04 - val_loss: 0.0013 - val_accuracy: 0.0020\n",
            "Epoch 90/100\n",
            "32/32 [==============================] - 2s 66ms/step - loss: 2.5388e-05 - accuracy: 4.9505e-04 - val_loss: 0.0019 - val_accuracy: 0.0020\n",
            "Epoch 91/100\n",
            "32/32 [==============================] - 2s 66ms/step - loss: 2.5449e-05 - accuracy: 4.9505e-04 - val_loss: 0.0021 - val_accuracy: 0.0020\n",
            "Epoch 92/100\n",
            "32/32 [==============================] - 2s 64ms/step - loss: 2.2932e-05 - accuracy: 4.9505e-04 - val_loss: 0.0016 - val_accuracy: 0.0020\n",
            "Epoch 93/100\n",
            "32/32 [==============================] - 2s 65ms/step - loss: 2.3654e-05 - accuracy: 4.9505e-04 - val_loss: 0.0022 - val_accuracy: 0.0020\n",
            "Epoch 94/100\n",
            "32/32 [==============================] - 2s 65ms/step - loss: 2.3641e-05 - accuracy: 4.9505e-04 - val_loss: 0.0037 - val_accuracy: 0.0020\n",
            "Epoch 95/100\n",
            "32/32 [==============================] - 2s 65ms/step - loss: 3.0817e-05 - accuracy: 4.9505e-04 - val_loss: 9.8140e-04 - val_accuracy: 0.0020\n",
            "Epoch 96/100\n",
            "32/32 [==============================] - 2s 65ms/step - loss: 2.8699e-05 - accuracy: 4.9505e-04 - val_loss: 0.0026 - val_accuracy: 0.0020\n",
            "Epoch 97/100\n",
            "32/32 [==============================] - 2s 65ms/step - loss: 2.2989e-05 - accuracy: 4.9505e-04 - val_loss: 0.0014 - val_accuracy: 0.0020\n",
            "Epoch 98/100\n",
            "32/32 [==============================] - 2s 66ms/step - loss: 2.4579e-05 - accuracy: 4.9505e-04 - val_loss: 0.0012 - val_accuracy: 0.0020\n",
            "Epoch 99/100\n",
            "32/32 [==============================] - 2s 65ms/step - loss: 2.8800e-05 - accuracy: 4.9505e-04 - val_loss: 0.0015 - val_accuracy: 0.0020\n",
            "Epoch 100/100\n",
            "32/32 [==============================] - 2s 65ms/step - loss: 2.1903e-05 - accuracy: 4.9505e-04 - val_loss: 0.0017 - val_accuracy: 0.0020\n"
          ]
        }
      ]
    },
    {
      "cell_type": "code",
      "metadata": {
        "colab": {
          "base_uri": "https://localhost:8080/",
          "height": 813
        },
        "id": "W3bu868dsIXO",
        "outputId": "085782d1-b134-49fe-9bc3-6b772e14bc28"
      },
      "source": [
        "def visualize_training_results(results):\n",
        "    \"\"\"\n",
        "    Plots the loss and accuracy for the training and testing data\n",
        "    \"\"\"\n",
        "    history = results.history\n",
        "    plt.figure(figsize=(12,4))\n",
        "    plt.plot(history['val_loss'])\n",
        "    plt.plot(history['loss'])\n",
        "    plt.legend(['val_loss', 'loss'])\n",
        "    plt.title('Loss')\n",
        "    plt.xlabel('Epochs')\n",
        "    plt.ylabel('Loss')\n",
        "    plt.show()\n",
        "    \n",
        "    plt.figure(figsize=(12,4))\n",
        "    plt.plot(history['val_accuracy'])\n",
        "    plt.plot(history['accuracy'])\n",
        "    plt.legend(['val_accuracy', 'accuracy'])\n",
        "    plt.title('Accuracy')\n",
        "    plt.xlabel('Epochs')\n",
        "    plt.ylabel('Accuracy')\n",
        "    plt.show()\n",
        "\n",
        "visualize_training_results(res)"
      ],
      "execution_count": 306,
      "outputs": [
        {
          "output_type": "display_data",
          "data": {
            "image/png": "[encoded data removed]",
            "text/plain": [
              "<Figure size 1200x400 with 1 Axes>"
            ]
          },
          "metadata": {}
        },
        {
          "output_type": "display_data",
          "data": {
            "image/png": "[encoded data removed]",
            "text/plain": [
              "<Figure size 1200x400 with 1 Axes>"
            ]
          },
          "metadata": {}
        }
      ]
    },
    {
      "cell_type": "code",
      "metadata": {
        "colab": {
          "base_uri": "https://localhost:8080/"
        },
        "id": "h4wkJVb7SLVt",
        "outputId": "0c837328-3922-44db-92f5-e71369089705"
      },
      "source": [
        "### Lets Do the prediction and check performance metrics\n",
        "train_predict=model.predict(X_train)\n",
        "test_predict=model.predict(X_test)"
      ],
      "execution_count": 307,
      "outputs": [
        {
          "output_type": "stream",
          "name": "stdout",
          "text": [
            "WARNING:tensorflow:Model was constructed with shape (None, 100, 1) for input KerasTensor(type_spec=TensorSpec(shape=(None, 100, 1), dtype=tf.float32, name='lstm_30_input'), name='lstm_30_input', description=\"created by layer 'lstm_30_input'\"), but it was called on an input with incompatible shape (None, 20, 1).\n"
          ]
        }
      ]
    },
    {
      "cell_type": "code",
      "metadata": {
        "id": "bWmlq16rSLVt"
      },
      "source": [
        "##Transformback to original form\n",
        "train_predict=scaler.inverse_transform(train_predict)\n",
        "test_predict=scaler.inverse_transform(test_predict)"
      ],
      "execution_count": 308,
      "outputs": []
    },
    {
      "cell_type": "markdown",
      "metadata": {
        "id": "JxVP8CveZH1A"
      },
      "source": [
        "### Performance metrics"
      ]
    },
    {
      "cell_type": "code",
      "metadata": {
        "colab": {
          "base_uri": "https://localhost:8080/"
        },
        "id": "WnrKisPuSLVu",
        "outputId": "ac18ce39-6226-463b-ba97-ac699a757cb7"
      },
      "source": [
        "### Calculate RMSE performance metrics\n",
        "math.sqrt(mean_squared_error(y_train,train_predict))"
      ],
      "execution_count": 309,
      "outputs": [
        {
          "output_type": "execute_result",
          "data": {
            "text/plain": [
              "5645.051807661884"
            ]
          },
          "metadata": {},
          "execution_count": 309
        }
      ]
    },
    {
      "cell_type": "code",
      "metadata": {
        "colab": {
          "base_uri": "https://localhost:8080/"
        },
        "id": "lQ3rK7nDSLVv",
        "outputId": "e95e2317-cca6-48f1-9af1-fb2883f5ad7f"
      },
      "source": [
        "### Test Data RMSE\n",
        "math.sqrt(mean_squared_error(ytest,test_predict))"
      ],
      "execution_count": 310,
      "outputs": [
        {
          "output_type": "execute_result",
          "data": {
            "text/plain": [
              "32464.665990395897"
            ]
          },
          "metadata": {},
          "execution_count": 310
        }
      ]
    },
    {
      "cell_type": "code",
      "metadata": {
        "colab": {
          "base_uri": "https://localhost:8080/"
        },
        "id": "xz-eC-mIXphb",
        "outputId": "ecd987e8-ae34-45fb-9a5a-c7514dca8289"
      },
      "source": [
        "#R2 Score Metrics for training data \n",
        "r2_score(y_train, train_predict)"
      ],
      "execution_count": 311,
      "outputs": [
        {
          "output_type": "execute_result",
          "data": {
            "text/plain": [
              "-8041081221.015406"
            ]
          },
          "metadata": {},
          "execution_count": 311
        }
      ]
    },
    {
      "cell_type": "code",
      "metadata": {
        "colab": {
          "base_uri": "https://localhost:8080/"
        },
        "id": "DrE-C85OYIlp",
        "outputId": "70158872-3950-43b1-a73c-0a6d42e6bdfc"
      },
      "source": [
        "#R2 Score Metrics for testing data \n",
        "r2_score(ytest, test_predict)"
      ],
      "execution_count": 312,
      "outputs": [
        {
          "output_type": "execute_result",
          "data": {
            "text/plain": [
              "-13734592122.724792"
            ]
          },
          "metadata": {},
          "execution_count": 312
        }
      ]
    },
    {
      "cell_type": "markdown",
      "metadata": {
        "id": "PMZ6cNB9mGDs"
      },
      "source": [
        "###Plotting the graph"
      ]
    },
    {
      "cell_type": "code",
      "metadata": {
        "colab": {
          "base_uri": "https://localhost:8080/",
          "height": 430
        },
        "id": "mHVjurcQSLVw",
        "outputId": "3e119e94-4e80-4524-a273-992eb3581f00"
      },
      "source": [
        "# ### Plotting \n",
        "# # shift train predictions for plotting\n",
        "# look_back=20\n",
        "# trainPredictPlot = numpy.empty_like(df1)\n",
        "# trainPredictPlot[:, :] = np.nan\n",
        "# trainPredictPlot[look_back:len(train_predict)+look_back, :] = train_predict\n",
        "\n",
        "# # shift test predictions for plotting\n",
        "# testPredictPlot = numpy.empty_like(df1)\n",
        "# testPredictPlot[:, :] = numpy.nan\n",
        "# testPredictPlot[len(train_predict)+(look_back*2)+1:len(df1)-1, :] = test_predict\n",
        "\n",
        "# # plot baseline and predictions\n",
        "# plt.plot(scaler.inverse_transform(df1))\n",
        "# plt.plot(trainPredictPlot)\n",
        "# plt.plot(testPredictPlot)\n",
        "# plt.show()"
      ],
      "execution_count": 301,
      "outputs": [
        {
          "output_type": "display_data",
          "data": {
            "image/png": "[encoded data removed]",
            "text/plain": [
              "<Figure size 640x480 with 1 Axes>"
            ]
          },
          "metadata": {}
        }
      ]
    },
    {
      "cell_type": "code",
      "metadata": {
        "colab": {
          "base_uri": "https://localhost:8080/"
        },
        "id": "TijI1qDiSLVx",
        "outputId": "5d4fe7da-cdd8-45d9-fab7-51582d9a8980"
      },
      "source": [
        "# len(test_data)"
      ],
      "execution_count": 278,
      "outputs": [
        {
          "output_type": "execute_result",
          "data": {
            "text/plain": [
              "894"
            ]
          },
          "metadata": {},
          "execution_count": 278
        }
      ]
    },
    {
      "cell_type": "code",
      "metadata": {
        "colab": {
          "base_uri": "https://localhost:8080/"
        },
        "id": "V29MgykNSLVx",
        "outputId": "f37c6549-394c-40a0-9ba4-078f3cfc63b2"
      },
      "source": [
        "# x_input=test_data[len(test_data)-100:].reshape(1,-1)\n",
        "# x_input.shape\n"
      ],
      "execution_count": 279,
      "outputs": [
        {
          "output_type": "execute_result",
          "data": {
            "text/plain": [
              "(1, 100)"
            ]
          },
          "metadata": {},
          "execution_count": 279
        }
      ]
    },
    {
      "cell_type": "code",
      "metadata": {
        "id": "Dcf3BGC6SLVy"
      },
      "source": [
        "# temp_input=list(x_input)\n",
        "# temp_input=temp_input[0].tolist()"
      ],
      "execution_count": 280,
      "outputs": []
    },
    {
      "cell_type": "code",
      "metadata": {
        "id": "_AcLf_l5SLVz"
      },
      "source": [
        "# temp_input"
      ],
      "execution_count": null,
      "outputs": []
    },
    {
      "cell_type": "markdown",
      "metadata": {
        "id": "rKYViwyNmLkC"
      },
      "source": [
        "### Prediction for Next 10 days"
      ]
    },
    {
      "cell_type": "code",
      "metadata": {
        "id": "TXPLTuOBSLV0"
      },
      "source": [
        "# # demonstrate prediction for next 10 days\n",
        "# from numpy import array\n",
        "\n",
        "# lst_output=[]\n",
        "# n_steps=100\n",
        "# i=0\n",
        "# while(i<30):\n",
        "    \n",
        "#     if(len(temp_input)>100):\n",
        "#         #print(temp_input)\n",
        "#         x_input=np.array(temp_input[1:])\n",
        "#         print(\"{} day input {}\".format(i,x_input))\n",
        "#         x_input=x_input.reshape(1,-1)\n",
        "#         x_input = x_input.reshape((1, n_steps, 1))\n",
        "#         #print(x_input)\n",
        "#         yhat = model.predict(x_input, verbose=0)\n",
        "#         print(\"{} day output {}\".format(i,yhat))\n",
        "#         temp_input.extend(yhat[0].tolist())\n",
        "#         temp_input=temp_input[1:]\n",
        "#         #print(temp_input)\n",
        "#         lst_output.extend(yhat.tolist())\n",
        "#         i=i+1\n",
        "#     else:\n",
        "#         x_input = x_input.reshape((1, n_steps,1))\n",
        "#         yhat = model.predict(x_input, verbose=0)\n",
        "#         print(yhat[0])\n",
        "#         temp_input.extend(yhat[0].tolist())\n",
        "#         print(len(temp_input))\n",
        "#         lst_output.extend(yhat.tolist())\n",
        "#         i=i+1\n",
        "    \n",
        "\n",
        "# print(lst_output)"
      ],
      "execution_count": null,
      "outputs": []
    }
  ]
}