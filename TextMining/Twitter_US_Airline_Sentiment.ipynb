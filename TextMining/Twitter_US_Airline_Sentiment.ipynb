{
  "nbformat": 4,
  "nbformat_minor": 0,
  "metadata": {
    "colab": {
      "name": "Twitter US Airline Sentiment.ipynb",
      "provenance": [],
      "collapsed_sections": []
    },
    "kernelspec": {
      "name": "python3",
      "display_name": "Python 3"
    },
    "language_info": {
      "name": "python"
    }
  },
  "cells": [
    {
      "cell_type": "markdown",
      "source": [
        "#Twitter US Airline Sentiment"
      ],
      "metadata": {
        "id": "yh2sQbBl-GZJ"
      }
    },
    {
      "cell_type": "markdown",
      "source": [
        "https://towardsdatascience.com/sentiment-analysis-with-text-mining-13dd2b33de27\n",
        "\n",
        "\n",
        "https://www.kaggle.com/crowdflower/twitter-airline-sentiment"
      ],
      "metadata": {
        "id": "RZ8jTdcxTxkA"
      }
    },
    {
      "cell_type": "code",
      "source": [
        "!pip3 install emoji"
      ],
      "metadata": {
        "colab": {
          "base_uri": "https://localhost:8080/"
        },
        "id": "Ox3FjpVyNZ33",
        "outputId": "bf0265b7-cd1b-45a1-9893-69c289be4b21"
      },
      "execution_count": 2,
      "outputs": [
        {
          "output_type": "stream",
          "name": "stdout",
          "text": [
            "Collecting emoji\n",
            "  Downloading emoji-1.6.1.tar.gz (170 kB)\n",
            "\u001b[?25l\r\u001b[K     |██                              | 10 kB 21.2 MB/s eta 0:00:01\r\u001b[K     |███▉                            | 20 kB 25.7 MB/s eta 0:00:01\r\u001b[K     |█████▉                          | 30 kB 15.9 MB/s eta 0:00:01\r\u001b[K     |███████▊                        | 40 kB 10.9 MB/s eta 0:00:01\r\u001b[K     |█████████▋                      | 51 kB 4.8 MB/s eta 0:00:01\r\u001b[K     |███████████▋                    | 61 kB 5.1 MB/s eta 0:00:01\r\u001b[K     |█████████████▌                  | 71 kB 4.5 MB/s eta 0:00:01\r\u001b[K     |███████████████▍                | 81 kB 5.0 MB/s eta 0:00:01\r\u001b[K     |█████████████████▍              | 92 kB 5.1 MB/s eta 0:00:01\r\u001b[K     |███████████████████▎            | 102 kB 4.5 MB/s eta 0:00:01\r\u001b[K     |█████████████████████▏          | 112 kB 4.5 MB/s eta 0:00:01\r\u001b[K     |███████████████████████▏        | 122 kB 4.5 MB/s eta 0:00:01\r\u001b[K     |█████████████████████████       | 133 kB 4.5 MB/s eta 0:00:01\r\u001b[K     |███████████████████████████     | 143 kB 4.5 MB/s eta 0:00:01\r\u001b[K     |█████████████████████████████   | 153 kB 4.5 MB/s eta 0:00:01\r\u001b[K     |██████████████████████████████▉ | 163 kB 4.5 MB/s eta 0:00:01\r\u001b[K     |████████████████████████████████| 170 kB 4.5 MB/s \n",
            "\u001b[?25hBuilding wheels for collected packages: emoji\n",
            "  Building wheel for emoji (setup.py) ... \u001b[?25l\u001b[?25hdone\n",
            "  Created wheel for emoji: filename=emoji-1.6.1-py3-none-any.whl size=169314 sha256=025a60fcc98ece2ea062fcf0db9acdb84f87fe40e5fd5c0d0b99dc0efd52f147\n",
            "  Stored in directory: /root/.cache/pip/wheels/ea/5f/d3/03d313ddb3c2a1a427bb4690f1621eea60fe6f2a30cc95940f\n",
            "Successfully built emoji\n",
            "Installing collected packages: emoji\n",
            "Successfully installed emoji-1.6.1\n"
          ]
        }
      ]
    },
    {
      "cell_type": "code",
      "execution_count": 3,
      "metadata": {
        "colab": {
          "base_uri": "https://localhost:8080/"
        },
        "id": "-qMm4gAZ903l",
        "outputId": "ec522176-e252-415e-c9cd-cc4caa93395d"
      },
      "outputs": [
        {
          "output_type": "stream",
          "name": "stderr",
          "text": [
            "/usr/local/lib/python3.7/dist-packages/ipykernel_launcher.py:3: FutureWarning: Passing a negative integer is deprecated in version 1.0 and will not be supported in future version. Instead, use None to not limit the column width.\n",
            "  This is separate from the ipykernel package so we can avoid doing imports until\n"
          ]
        },
        {
          "output_type": "stream",
          "name": "stdout",
          "text": [
            "[nltk_data] Downloading package stopwords to /root/nltk_data...\n",
            "[nltk_data]   Unzipping corpora/stopwords.zip.\n"
          ]
        },
        {
          "output_type": "execute_result",
          "data": {
            "text/plain": [
              "True"
            ]
          },
          "metadata": {},
          "execution_count": 3
        }
      ],
      "source": [
        "import numpy as np \n",
        "import pandas as pd \n",
        "pd.set_option('display.max_colwidth', -1)\n",
        "from time import time\n",
        "import re\n",
        "import string\n",
        "import os\n",
        "import emoji\n",
        "from pprint import pprint\n",
        "import collections\n",
        "import matplotlib.pyplot as plt\n",
        "import seaborn as sns\n",
        "sns.set(style=\"darkgrid\")\n",
        "sns.set(font_scale=1.3)\n",
        "from sklearn.base import BaseEstimator, TransformerMixin\n",
        "from sklearn.feature_extraction.text import CountVectorizer\n",
        "from sklearn.feature_extraction.text import TfidfVectorizer\n",
        "from sklearn.model_selection import GridSearchCV\n",
        "from sklearn.model_selection import train_test_split\n",
        "from sklearn.pipeline import Pipeline, FeatureUnion\n",
        "from sklearn.metrics import classification_report\n",
        "from sklearn.naive_bayes import MultinomialNB\n",
        "from sklearn.linear_model import LogisticRegression\n",
        "# from sklearn.externals import joblib\n",
        "import gensim\n",
        "from nltk.corpus import stopwords\n",
        "from nltk.stem import PorterStemmer\n",
        "from nltk.tokenize import word_tokenize\n",
        "import warnings\n",
        "warnings.filterwarnings('ignore')\n",
        "np.random.seed(37)\n",
        "import nltk\n",
        "nltk.download('stopwords')"
      ]
    },
    {
      "cell_type": "markdown",
      "source": [
        "#Loading the dataset"
      ],
      "metadata": {
        "id": "wQuoZXmf-461"
      }
    },
    {
      "cell_type": "code",
      "source": [
        "df=pd.read_csv('Tweets.csv')"
      ],
      "metadata": {
        "id": "BVsSQm_h-Tbu"
      },
      "execution_count": 7,
      "outputs": []
    },
    {
      "cell_type": "code",
      "source": [
        "df.head()"
      ],
      "metadata": {
        "colab": {
          "base_uri": "https://localhost:8080/",
          "height": 642
        },
        "id": "-bkRlUQ5--Cv",
        "outputId": "f4532ffb-beb3-4891-dc94-6799566c81d5"
      },
      "execution_count": 8,
      "outputs": [
        {
          "output_type": "execute_result",
          "data": {
            "text/html": [
              "<div>\n",
              "<style scoped>\n",
              "    .dataframe tbody tr th:only-of-type {\n",
              "        vertical-align: middle;\n",
              "    }\n",
              "\n",
              "    .dataframe tbody tr th {\n",
              "        vertical-align: top;\n",
              "    }\n",
              "\n",
              "    .dataframe thead th {\n",
              "        text-align: right;\n",
              "    }\n",
              "</style>\n",
              "<table border=\"1\" class=\"dataframe\">\n",
              "  <thead>\n",
              "    <tr style=\"text-align: right;\">\n",
              "      <th></th>\n",
              "      <th>tweet_id</th>\n",
              "      <th>airline_sentiment</th>\n",
              "      <th>airline_sentiment_confidence</th>\n",
              "      <th>negativereason</th>\n",
              "      <th>negativereason_confidence</th>\n",
              "      <th>airline</th>\n",
              "      <th>airline_sentiment_gold</th>\n",
              "      <th>name</th>\n",
              "      <th>negativereason_gold</th>\n",
              "      <th>retweet_count</th>\n",
              "      <th>text</th>\n",
              "      <th>tweet_coord</th>\n",
              "      <th>tweet_created</th>\n",
              "      <th>tweet_location</th>\n",
              "      <th>user_timezone</th>\n",
              "    </tr>\n",
              "  </thead>\n",
              "  <tbody>\n",
              "    <tr>\n",
              "      <th>0</th>\n",
              "      <td>570306133677760513</td>\n",
              "      <td>neutral</td>\n",
              "      <td>1.0000</td>\n",
              "      <td>NaN</td>\n",
              "      <td>NaN</td>\n",
              "      <td>Virgin America</td>\n",
              "      <td>NaN</td>\n",
              "      <td>cairdin</td>\n",
              "      <td>NaN</td>\n",
              "      <td>0</td>\n",
              "      <td>@VirginAmerica What @dhepburn said.</td>\n",
              "      <td>NaN</td>\n",
              "      <td>2015-02-24 11:35:52 -0800</td>\n",
              "      <td>NaN</td>\n",
              "      <td>Eastern Time (US &amp; Canada)</td>\n",
              "    </tr>\n",
              "    <tr>\n",
              "      <th>1</th>\n",
              "      <td>570301130888122368</td>\n",
              "      <td>positive</td>\n",
              "      <td>0.3486</td>\n",
              "      <td>NaN</td>\n",
              "      <td>0.0000</td>\n",
              "      <td>Virgin America</td>\n",
              "      <td>NaN</td>\n",
              "      <td>jnardino</td>\n",
              "      <td>NaN</td>\n",
              "      <td>0</td>\n",
              "      <td>@VirginAmerica plus you've added commercials to the experience... tacky.</td>\n",
              "      <td>NaN</td>\n",
              "      <td>2015-02-24 11:15:59 -0800</td>\n",
              "      <td>NaN</td>\n",
              "      <td>Pacific Time (US &amp; Canada)</td>\n",
              "    </tr>\n",
              "    <tr>\n",
              "      <th>2</th>\n",
              "      <td>570301083672813571</td>\n",
              "      <td>neutral</td>\n",
              "      <td>0.6837</td>\n",
              "      <td>NaN</td>\n",
              "      <td>NaN</td>\n",
              "      <td>Virgin America</td>\n",
              "      <td>NaN</td>\n",
              "      <td>yvonnalynn</td>\n",
              "      <td>NaN</td>\n",
              "      <td>0</td>\n",
              "      <td>@VirginAmerica I didn't today... Must mean I need to take another trip!</td>\n",
              "      <td>NaN</td>\n",
              "      <td>2015-02-24 11:15:48 -0800</td>\n",
              "      <td>Lets Play</td>\n",
              "      <td>Central Time (US &amp; Canada)</td>\n",
              "    </tr>\n",
              "    <tr>\n",
              "      <th>3</th>\n",
              "      <td>570301031407624196</td>\n",
              "      <td>negative</td>\n",
              "      <td>1.0000</td>\n",
              "      <td>Bad Flight</td>\n",
              "      <td>0.7033</td>\n",
              "      <td>Virgin America</td>\n",
              "      <td>NaN</td>\n",
              "      <td>jnardino</td>\n",
              "      <td>NaN</td>\n",
              "      <td>0</td>\n",
              "      <td>@VirginAmerica it's really aggressive to blast obnoxious \"entertainment\" in your guests' faces &amp;amp; they have little recourse</td>\n",
              "      <td>NaN</td>\n",
              "      <td>2015-02-24 11:15:36 -0800</td>\n",
              "      <td>NaN</td>\n",
              "      <td>Pacific Time (US &amp; Canada)</td>\n",
              "    </tr>\n",
              "    <tr>\n",
              "      <th>4</th>\n",
              "      <td>570300817074462722</td>\n",
              "      <td>negative</td>\n",
              "      <td>1.0000</td>\n",
              "      <td>Can't Tell</td>\n",
              "      <td>1.0000</td>\n",
              "      <td>Virgin America</td>\n",
              "      <td>NaN</td>\n",
              "      <td>jnardino</td>\n",
              "      <td>NaN</td>\n",
              "      <td>0</td>\n",
              "      <td>@VirginAmerica and it's a really big bad thing about it</td>\n",
              "      <td>NaN</td>\n",
              "      <td>2015-02-24 11:14:45 -0800</td>\n",
              "      <td>NaN</td>\n",
              "      <td>Pacific Time (US &amp; Canada)</td>\n",
              "    </tr>\n",
              "  </tbody>\n",
              "</table>\n",
              "</div>"
            ],
            "text/plain": [
              "             tweet_id  ...               user_timezone\n",
              "0  570306133677760513  ...  Eastern Time (US & Canada)\n",
              "1  570301130888122368  ...  Pacific Time (US & Canada)\n",
              "2  570301083672813571  ...  Central Time (US & Canada)\n",
              "3  570301031407624196  ...  Pacific Time (US & Canada)\n",
              "4  570300817074462722  ...  Pacific Time (US & Canada)\n",
              "\n",
              "[5 rows x 15 columns]"
            ]
          },
          "metadata": {},
          "execution_count": 8
        }
      ]
    },
    {
      "cell_type": "code",
      "source": [
        "df=df.reindex(np.random.permutation(df.index))\n",
        "df=df[['text','airline_sentiment']]\n",
        "\n",
        "type(df)"
      ],
      "metadata": {
        "colab": {
          "base_uri": "https://localhost:8080/"
        },
        "id": "PDwM3BX1_CZg",
        "outputId": "054aed19-1388-444b-b482-8b7cea0e7de5"
      },
      "execution_count": 9,
      "outputs": [
        {
          "output_type": "execute_result",
          "data": {
            "text/plain": [
              "pandas.core.frame.DataFrame"
            ]
          },
          "metadata": {},
          "execution_count": 9
        }
      ]
    },
    {
      "cell_type": "code",
      "source": [
        "df"
      ],
      "metadata": {
        "colab": {
          "base_uri": "https://localhost:8080/",
          "height": 423
        },
        "id": "_sVIo_drFnxv",
        "outputId": "cf00a352-f262-4737-8d1f-c975ddb283b6"
      },
      "execution_count": 10,
      "outputs": [
        {
          "output_type": "execute_result",
          "data": {
            "text/html": [
              "<div>\n",
              "<style scoped>\n",
              "    .dataframe tbody tr th:only-of-type {\n",
              "        vertical-align: middle;\n",
              "    }\n",
              "\n",
              "    .dataframe tbody tr th {\n",
              "        vertical-align: top;\n",
              "    }\n",
              "\n",
              "    .dataframe thead th {\n",
              "        text-align: right;\n",
              "    }\n",
              "</style>\n",
              "<table border=\"1\" class=\"dataframe\">\n",
              "  <thead>\n",
              "    <tr style=\"text-align: right;\">\n",
              "      <th></th>\n",
              "      <th>text</th>\n",
              "      <th>airline_sentiment</th>\n",
              "    </tr>\n",
              "  </thead>\n",
              "  <tbody>\n",
              "    <tr>\n",
              "      <th>2052</th>\n",
              "      <td>@united 1k member broken seat back broken tv broken light lost bag  gee thnx. UA922 awesome job</td>\n",
              "      <td>negative</td>\n",
              "    </tr>\n",
              "    <tr>\n",
              "      <th>3804</th>\n",
              "      <td>@united please help! Left my iPad Air 2 on my flight from NYC to Paris yesterday and can’t get in touch with anyone locally. What to do?</td>\n",
              "      <td>neutral</td>\n",
              "    </tr>\n",
              "    <tr>\n",
              "      <th>645</th>\n",
              "      <td>@united A Tourist Wonder: Super Tides and Tide of the Century at French and U.K coasts: http://t.co/gXdqORtsS0</td>\n",
              "      <td>neutral</td>\n",
              "    </tr>\n",
              "    <tr>\n",
              "      <th>3409</th>\n",
              "      <td>@united @perfectomobile You really shouldn't use the word 'crashing.' Just sayin'.</td>\n",
              "      <td>neutral</td>\n",
              "    </tr>\n",
              "    <tr>\n",
              "      <th>5242</th>\n",
              "      <td>@SouthwestAir I just wanna say you're incredible for sending people to see their idols. Sooooo kind and amazing💖 #DestinationDragons</td>\n",
              "      <td>positive</td>\n",
              "    </tr>\n",
              "    <tr>\n",
              "      <th>...</th>\n",
              "      <td>...</td>\n",
              "      <td>...</td>\n",
              "    </tr>\n",
              "    <tr>\n",
              "      <th>4118</th>\n",
              "      <td>@united Yesterday, I'm sorted now.</td>\n",
              "      <td>neutral</td>\n",
              "    </tr>\n",
              "    <tr>\n",
              "      <th>988</th>\n",
              "      <td>@united done</td>\n",
              "      <td>neutral</td>\n",
              "    </tr>\n",
              "    <tr>\n",
              "      <th>9036</th>\n",
              "      <td>@USAirways I left my personal stuff on US4551 from PHL-BOS about an hour ago. Went baggage, was told plane left to call 800#</td>\n",
              "      <td>neutral</td>\n",
              "    </tr>\n",
              "    <tr>\n",
              "      <th>4459</th>\n",
              "      <td>@SouthwestAir: Tried for VIP Live in The Vineyard but yr site went down, by the time I got in 2 redeem pts those packages gone.</td>\n",
              "      <td>negative</td>\n",
              "    </tr>\n",
              "    <tr>\n",
              "      <th>1935</th>\n",
              "      <td>@united, more lies... http://t.co/BEqoTLNugc</td>\n",
              "      <td>negative</td>\n",
              "    </tr>\n",
              "  </tbody>\n",
              "</table>\n",
              "<p>9155 rows × 2 columns</p>\n",
              "</div>"
            ],
            "text/plain": [
              "                                                                                                                                          text airline_sentiment\n",
              "2052  @united 1k member broken seat back broken tv broken light lost bag  gee thnx. UA922 awesome job                                           negative        \n",
              "3804  @united please help! Left my iPad Air 2 on my flight from NYC to Paris yesterday and can’t get in touch with anyone locally. What to do?  neutral         \n",
              "645   @united A Tourist Wonder: Super Tides and Tide of the Century at French and U.K coasts: http://t.co/gXdqORtsS0                            neutral         \n",
              "3409  @united @perfectomobile You really shouldn't use the word 'crashing.' Just sayin'.                                                        neutral         \n",
              "5242  @SouthwestAir I just wanna say you're incredible for sending people to see their idols. Sooooo kind and amazing💖 #DestinationDragons      positive        \n",
              "...                                                                                                                                    ...           ...        \n",
              "4118  @united Yesterday, I'm sorted now.                                                                                                        neutral         \n",
              "988   @united done                                                                                                                              neutral         \n",
              "9036  @USAirways I left my personal stuff on US4551 from PHL-BOS about an hour ago. Went baggage, was told plane left to call 800#              neutral         \n",
              "4459  @SouthwestAir: Tried for VIP Live in The Vineyard but yr site went down, by the time I got in 2 redeem pts those packages gone.           negative        \n",
              "1935  @united, more lies... http://t.co/BEqoTLNugc                                                                                              negative        \n",
              "\n",
              "[9155 rows x 2 columns]"
            ]
          },
          "metadata": {},
          "execution_count": 10
        }
      ]
    },
    {
      "cell_type": "markdown",
      "source": [
        "#EDA"
      ],
      "metadata": {
        "id": "D8Rubsmz_nQG"
      }
    },
    {
      "cell_type": "code",
      "source": [
        "# Unique values of sentiment\n",
        "df['airline_sentiment'].unique()"
      ],
      "metadata": {
        "colab": {
          "base_uri": "https://localhost:8080/"
        },
        "id": "uIx8qs_r7D1D",
        "outputId": "2ebd43ec-37c2-4b87-f7b3-8ae3b1293738"
      },
      "execution_count": 39,
      "outputs": [
        {
          "output_type": "execute_result",
          "data": {
            "text/plain": [
              "array(['negative', 'neutral', 'positive'], dtype=object)"
            ]
          },
          "metadata": {},
          "execution_count": 39
        }
      ]
    },
    {
      "cell_type": "code",
      "source": [
        "# Unique values of sentiment plot\n",
        "\n",
        "ax = sns.countplot(x=\"airline_sentiment\", data=df)"
      ],
      "metadata": {
        "colab": {
          "base_uri": "https://localhost:8080/",
          "height": 292
        },
        "id": "WvTgdgTi_ksb",
        "outputId": "794d3baf-ac9c-419e-8c56-247906f7b3a5"
      },
      "execution_count": 40,
      "outputs": [
        {
          "output_type": "display_data",
          "data": {
            "image/png": "[encoded data removed]",
            "text/plain": [
              "<Figure size 432x288 with 1 Axes>"
            ]
          },
          "metadata": {}
        }
      ]
    },
    {
      "cell_type": "markdown",
      "source": [
        "It is clearly observed from the above that the classes are imbalanced. We can visualize with the factorplotof the seaborn package"
      ],
      "metadata": {
        "id": "KIFXfyTQE3MH"
      }
    },
    {
      "cell_type": "markdown",
      "source": [
        "#Input Variables"
      ],
      "metadata": {
        "id": "bhdY8RraFgSO"
      }
    },
    {
      "cell_type": "code",
      "source": [
        "df['text']"
      ],
      "metadata": {
        "colab": {
          "base_uri": "https://localhost:8080/"
        },
        "id": "3Kt7shsRFa2X",
        "outputId": "6035b4fd-4d9c-49ab-e7ba-8404989cc81e"
      },
      "execution_count": 12,
      "outputs": [
        {
          "output_type": "execute_result",
          "data": {
            "text/plain": [
              "2052    @united 1k member broken seat back broken tv broken light lost bag  gee thnx. UA922 awesome job                                         \n",
              "3804    @united please help! Left my iPad Air 2 on my flight from NYC to Paris yesterday and can’t get in touch with anyone locally. What to do?\n",
              "645     @united A Tourist Wonder: Super Tides and Tide of the Century at French and U.K coasts: http://t.co/gXdqORtsS0                          \n",
              "3409    @united @perfectomobile You really shouldn't use the word 'crashing.' Just sayin'.                                                      \n",
              "5242    @SouthwestAir I just wanna say you're incredible for sending people to see their idols. Sooooo kind and amazing💖 #DestinationDragons    \n",
              "                                                                        ...                                                                     \n",
              "4118    @united Yesterday, I'm sorted now.                                                                                                      \n",
              "988     @united done                                                                                                                            \n",
              "9036    @USAirways I left my personal stuff on US4551 from PHL-BOS about an hour ago. Went baggage, was told plane left to call 800#            \n",
              "4459    @SouthwestAir: Tried for VIP Live in The Vineyard but yr site went down, by the time I got in 2 redeem pts those packages gone.         \n",
              "1935    @united, more lies... http://t.co/BEqoTLNugc                                                                                            \n",
              "Name: text, Length: 9155, dtype: object"
            ]
          },
          "metadata": {},
          "execution_count": 12
        }
      ]
    },
    {
      "cell_type": "markdown",
      "source": [
        "Let's analyse the text variable for that we create a class textcounts"
      ],
      "metadata": {
        "id": "Q3Lhf8HuGvom"
      }
    },
    {
      "cell_type": "code",
      "source": [
        "class TextCounts(BaseEstimator,TransformerMixin):\n",
        "  #It is a common function to count the regex\n",
        "  def count_regex(self,pattern,tweet):\n",
        "    return len(re.findall(pattern,tweet))\n",
        "  \n",
        "  #fit method is used when specific operations need to be done on the train data, but not on the test data\n",
        "  # def fit(self,X,y=None,**fit_params):\n",
        "  #   return self\n",
        "  \n",
        "  def transform(self,X,**transform_params):\n",
        "    count_words=X.apply(lambda x:self.count_regex(r'\\w+',x))\n",
        "    count_mentions=X.apply(lambda x:self.count_regex(r'@\\w+',x))\n",
        "    count_hashtags=X.apply(lambda x:self.count_regex(r'#\\w+',x))\n",
        "    count_capital_words=X.apply(lambda x:self.count_regex(r'\\b[A-Z]{2,}\\b', x))\n",
        "    count_excl_quest_marks = X.apply(lambda x: self.count_regex(r'!|\\?', x))\n",
        "    count_urls = X.apply(lambda x: self.count_regex(r'http.?://[^\\s]+[\\s]?', x))\n",
        "    count_emojis = X.apply(lambda x: emoji.demojize(x)).apply(lambda x: self.count_regex(r':[a-z_&]+:', x))\n",
        "\n",
        "    df=pd.DataFrame({'count_words':count_words,\n",
        "                     'count_mentions':count_mentions,\n",
        "                     'count_hashtags':count_hashtags,\n",
        "                     'count_capital_words':count_capital_words,\n",
        "                     'count_excl_quest_marks':count_excl_quest_marks,\n",
        "                     'count_urls':count_urls,\n",
        "                     'count_emojis':count_emojis})\n",
        "    return df\n",
        "\n",
        "tc=TextCounts()\n",
        "df_eda=tc.fit_transform(df.text)\n",
        "df_eda['airline_sentiment'] = df.airline_sentiment\n",
        "\n"
      ],
      "metadata": {
        "id": "Uxe02mb5GUpB"
      },
      "execution_count": 13,
      "outputs": []
    },
    {
      "cell_type": "code",
      "source": [
        "df_eda"
      ],
      "metadata": {
        "colab": {
          "base_uri": "https://localhost:8080/",
          "height": 649
        },
        "id": "1Fdpn9aN5rBS",
        "outputId": "a773c05a-b2a7-41f1-ac4f-9d7ab028c57f"
      },
      "execution_count": 38,
      "outputs": [
        {
          "output_type": "execute_result",
          "data": {
            "text/html": [
              "<div>\n",
              "<style scoped>\n",
              "    .dataframe tbody tr th:only-of-type {\n",
              "        vertical-align: middle;\n",
              "    }\n",
              "\n",
              "    .dataframe tbody tr th {\n",
              "        vertical-align: top;\n",
              "    }\n",
              "\n",
              "    .dataframe thead th {\n",
              "        text-align: right;\n",
              "    }\n",
              "</style>\n",
              "<table border=\"1\" class=\"dataframe\">\n",
              "  <thead>\n",
              "    <tr style=\"text-align: right;\">\n",
              "      <th></th>\n",
              "      <th>count_words</th>\n",
              "      <th>count_mentions</th>\n",
              "      <th>count_hashtags</th>\n",
              "      <th>count_capital_words</th>\n",
              "      <th>count_excl_quest_marks</th>\n",
              "      <th>count_urls</th>\n",
              "      <th>count_emojis</th>\n",
              "      <th>airline_sentiment</th>\n",
              "      <th>cleanText</th>\n",
              "    </tr>\n",
              "  </thead>\n",
              "  <tbody>\n",
              "    <tr>\n",
              "      <th>2052</th>\n",
              "      <td>17</td>\n",
              "      <td>1</td>\n",
              "      <td>0</td>\n",
              "      <td>0</td>\n",
              "      <td>0</td>\n",
              "      <td>0</td>\n",
              "      <td>0</td>\n",
              "      <td>negative</td>\n",
              "      <td>nite member broken seat back broken tv broken light lost bag gee thnx ua awesom job</td>\n",
              "    </tr>\n",
              "    <tr>\n",
              "      <th>3804</th>\n",
              "      <td>28</td>\n",
              "      <td>1</td>\n",
              "      <td>0</td>\n",
              "      <td>1</td>\n",
              "      <td>2</td>\n",
              "      <td>0</td>\n",
              "      <td>0</td>\n",
              "      <td>neutral</td>\n",
              "      <td>nite pleas help left ipad air flight nyc pari yesterday can’t get touch anyon local</td>\n",
              "    </tr>\n",
              "    <tr>\n",
              "      <th>645</th>\n",
              "      <td>21</td>\n",
              "      <td>1</td>\n",
              "      <td>0</td>\n",
              "      <td>0</td>\n",
              "      <td>0</td>\n",
              "      <td>1</td>\n",
              "      <td>0</td>\n",
              "      <td>neutral</td>\n",
              "      <td>nite tourist wonder super tide tide centuri french coast</td>\n",
              "    </tr>\n",
              "    <tr>\n",
              "      <th>3409</th>\n",
              "      <td>12</td>\n",
              "      <td>2</td>\n",
              "      <td>0</td>\n",
              "      <td>0</td>\n",
              "      <td>0</td>\n",
              "      <td>0</td>\n",
              "      <td>0</td>\n",
              "      <td>neutral</td>\n",
              "      <td>nite erfectomobil realli use word crash sayin</td>\n",
              "    </tr>\n",
              "    <tr>\n",
              "      <th>5242</th>\n",
              "      <td>20</td>\n",
              "      <td>1</td>\n",
              "      <td>1</td>\n",
              "      <td>0</td>\n",
              "      <td>0</td>\n",
              "      <td>0</td>\n",
              "      <td>1</td>\n",
              "      <td>positive</td>\n",
              "      <td>outhwestair wanna say incred send peopl see idol sooooo kind amazing💖 destinationdragon</td>\n",
              "    </tr>\n",
              "    <tr>\n",
              "      <th>...</th>\n",
              "      <td>...</td>\n",
              "      <td>...</td>\n",
              "      <td>...</td>\n",
              "      <td>...</td>\n",
              "      <td>...</td>\n",
              "      <td>...</td>\n",
              "      <td>...</td>\n",
              "      <td>...</td>\n",
              "      <td>...</td>\n",
              "    </tr>\n",
              "    <tr>\n",
              "      <th>4118</th>\n",
              "      <td>6</td>\n",
              "      <td>1</td>\n",
              "      <td>0</td>\n",
              "      <td>0</td>\n",
              "      <td>0</td>\n",
              "      <td>0</td>\n",
              "      <td>0</td>\n",
              "      <td>neutral</td>\n",
              "      <td>nite yesterday sort</td>\n",
              "    </tr>\n",
              "    <tr>\n",
              "      <th>988</th>\n",
              "      <td>2</td>\n",
              "      <td>1</td>\n",
              "      <td>0</td>\n",
              "      <td>0</td>\n",
              "      <td>0</td>\n",
              "      <td>0</td>\n",
              "      <td>0</td>\n",
              "      <td>neutral</td>\n",
              "      <td>nite done</td>\n",
              "    </tr>\n",
              "    <tr>\n",
              "      <th>9036</th>\n",
              "      <td>24</td>\n",
              "      <td>1</td>\n",
              "      <td>0</td>\n",
              "      <td>2</td>\n",
              "      <td>0</td>\n",
              "      <td>0</td>\n",
              "      <td>0</td>\n",
              "      <td>neutral</td>\n",
              "      <td>sairway left person stuff us phl bo hour ago went baggag told plane left call</td>\n",
              "    </tr>\n",
              "    <tr>\n",
              "      <th>4459</th>\n",
              "      <td>25</td>\n",
              "      <td>1</td>\n",
              "      <td>0</td>\n",
              "      <td>1</td>\n",
              "      <td>0</td>\n",
              "      <td>0</td>\n",
              "      <td>0</td>\n",
              "      <td>negative</td>\n",
              "      <td>outhwestair tri vip live vineyard yr site went time got redeem pt packag gone</td>\n",
              "    </tr>\n",
              "    <tr>\n",
              "      <th>1935</th>\n",
              "      <td>7</td>\n",
              "      <td>1</td>\n",
              "      <td>0</td>\n",
              "      <td>0</td>\n",
              "      <td>0</td>\n",
              "      <td>1</td>\n",
              "      <td>0</td>\n",
              "      <td>negative</td>\n",
              "      <td>nite lie</td>\n",
              "    </tr>\n",
              "  </tbody>\n",
              "</table>\n",
              "<p>9155 rows × 9 columns</p>\n",
              "</div>"
            ],
            "text/plain": [
              "      count_words  ...                                                                                cleanText\n",
              "2052  17           ...  nite member broken seat back broken tv broken light lost bag gee thnx ua awesom job    \n",
              "3804  28           ...  nite pleas help left ipad air flight nyc pari yesterday can’t get touch anyon local    \n",
              "645   21           ...  nite tourist wonder super tide tide centuri french coast                               \n",
              "3409  12           ...  nite erfectomobil realli use word crash sayin                                          \n",
              "5242  20           ...  outhwestair wanna say incred send peopl see idol sooooo kind amazing💖 destinationdragon\n",
              "...   ..           ...                                                                                      ...\n",
              "4118  6            ...  nite yesterday sort                                                                    \n",
              "988   2            ...  nite done                                                                              \n",
              "9036  24           ...  sairway left person stuff us phl bo hour ago went baggag told plane left call          \n",
              "4459  25           ...  outhwestair tri vip live vineyard yr site went time got redeem pt packag gone          \n",
              "1935  7            ...  nite lie                                                                               \n",
              "\n",
              "[9155 rows x 9 columns]"
            ]
          },
          "metadata": {},
          "execution_count": 38
        }
      ]
    },
    {
      "cell_type": "code",
      "source": [
        "df.columns"
      ],
      "metadata": {
        "colab": {
          "base_uri": "https://localhost:8080/"
        },
        "id": "IoS4NsrD2SOq",
        "outputId": "f6f67f61-da9c-4655-fa89-c390cb1c981a"
      },
      "execution_count": 35,
      "outputs": [
        {
          "output_type": "execute_result",
          "data": {
            "text/plain": [
              "Index(['text', 'airline_sentiment'], dtype='object')"
            ]
          },
          "metadata": {},
          "execution_count": 35
        }
      ]
    },
    {
      "cell_type": "markdown",
      "source": [
        "#cleaning"
      ],
      "metadata": {
        "id": "0YuPF8K6RWvl"
      }
    },
    {
      "cell_type": "code",
      "source": [
        "class cleanText(BaseEstimator,TransformerMixin):\n",
        "  def remove_mentions(self,input_text):\n",
        "    return re.sub(r'@\\w','',input_text)\n",
        "  \n",
        "  def remove_urls(self,input_text):\n",
        "    return re.sub(r'http.?://[^\\s]+[\\s]?', '', input_text)\n",
        "  \n",
        "  def emoji_oneword(self, input_text):\n",
        "    return input_text.replace('_','')\n",
        "\n",
        "  def remove_punctuation(self, input_text):\n",
        "    punct = string.punctuation\n",
        "    trantab = str.maketrans(punct, len(punct)*' ')\n",
        "    # Every punctuation symbol will be replaced by a space\n",
        "    return input_text.translate(trantab)\n",
        "\n",
        "  def remove_digits(self,input_text):\n",
        "    return re.sub('\\d+','',input_text)\n",
        "  \n",
        "  def to_lower(self,input_text):\n",
        "    return input_text.lower()\n",
        "  \n",
        "  def remove_stopwords(self,input_text):\n",
        "    stopwords_list = stopwords.words('english')\n",
        "    whitelist = [\"n't\", \"not\", \"no\"]\n",
        "    words = input_text.split() \n",
        "    clean_words = [word for word in words if (word not in stopwords_list or word in whitelist) and len(word) > 1] \n",
        "    return \" \".join(clean_words) \n",
        "\n",
        "\n",
        "  def stemming(self, input_text):\n",
        "    porter = PorterStemmer()\n",
        "    words = input_text.split() \n",
        "    stemmed_words = [porter.stem(word) for word in words]\n",
        "    return \" \".join(stemmed_words)\n",
        "\n",
        "\n",
        "  def fit(self,X,y=None,**fit_params):\n",
        "    return self\n",
        "  \n",
        "  def transform(self,X,**transform_params):\n",
        "    clean_X=X.apply(self.remove_mentions).apply(self.remove_urls).apply(self.emoji_oneword).apply(self.remove_punctuation).apply(self.remove_digits).apply(self.to_lower).apply(self.remove_stopwords).apply(self.stemming)\n",
        "    return clean_X"
      ],
      "metadata": {
        "id": "IAg4YQ8YRX_G"
      },
      "execution_count": 14,
      "outputs": []
    },
    {
      "cell_type": "code",
      "source": [
        "ct=cleanText()\n",
        "sr_clean=ct.fit_transform(df.text)\n",
        "sr_clean.head(5)"
      ],
      "metadata": {
        "colab": {
          "base_uri": "https://localhost:8080/"
        },
        "id": "7ArlIPeUTwJ3",
        "outputId": "c7f5298e-0763-4f39-82c6-23ef53edc664"
      },
      "execution_count": 15,
      "outputs": [
        {
          "output_type": "execute_result",
          "data": {
            "text/plain": [
              "2052    nite member broken seat back broken tv broken light lost bag gee thnx ua awesom job    \n",
              "3804    nite pleas help left ipad air flight nyc pari yesterday can’t get touch anyon local    \n",
              "645     nite tourist wonder super tide tide centuri french coast                               \n",
              "3409    nite erfectomobil realli use word crash sayin                                          \n",
              "5242    outhwestair wanna say incred send peopl see idol sooooo kind amazing💖 destinationdragon\n",
              "Name: text, dtype: object"
            ]
          },
          "metadata": {},
          "execution_count": 15
        }
      ]
    },
    {
      "cell_type": "markdown",
      "source": [
        "#placeholder text"
      ],
      "metadata": {
        "id": "Zfn7-KnTU7zH"
      }
    },
    {
      "cell_type": "code",
      "source": [
        "empty_clean = sr_clean == ''\n",
        "print('{} records have no words left after text cleaning'.format(sr_clean[empty_clean].count()))\n",
        "sr_clean.loc[empty_clean] = '[no_text]'"
      ],
      "metadata": {
        "colab": {
          "base_uri": "https://localhost:8080/"
        },
        "id": "c96tnIcvU-WH",
        "outputId": "b2308e94-2ec2-49fa-a733-da3770ebe64d"
      },
      "execution_count": 16,
      "outputs": [
        {
          "output_type": "stream",
          "name": "stdout",
          "text": [
            "0 records have no words left after text cleaning\n"
          ]
        }
      ]
    },
    {
      "cell_type": "code",
      "source": [
        "cv = CountVectorizer()\n",
        "bow = cv.fit_transform(sr_clean)\n",
        "word_freq = dict(zip(cv.get_feature_names(), np.asarray(bow.sum(axis=0)).ravel()))\n",
        "word_counter = collections.Counter(word_freq)\n",
        "word_counter_df = pd.DataFrame(word_counter.most_common(20), columns = ['word', 'freq'])\n",
        "fig, ax = plt.subplots(figsize=(12, 10))\n",
        "sns.barplot(x=\"word\", y=\"freq\", data=word_counter_df, palette=\"PuBuGn_d\", ax=ax)\n",
        "plt.show();"
      ],
      "metadata": {
        "colab": {
          "base_uri": "https://localhost:8080/",
          "height": 617
        },
        "id": "PyrCqyDVW3ft",
        "outputId": "d7d1076d-12c6-4525-990c-a63acb32b807"
      },
      "execution_count": 17,
      "outputs": [
        {
          "output_type": "display_data",
          "data": {
            "image/png": "[encoded data removed]",
            "text/plain": [
              "<Figure size 864x720 with 1 Axes>"
            ]
          },
          "metadata": {}
        }
      ]
    },
    {
      "cell_type": "markdown",
      "source": [
        "#Creating test data"
      ],
      "metadata": {
        "id": "BP7EqQQuX9ex"
      }
    },
    {
      "cell_type": "code",
      "source": [
        "df_model=df_eda\n",
        "df_model['clean_text']=sr_clean\n",
        "df_model.columns.to_list()"
      ],
      "metadata": {
        "colab": {
          "base_uri": "https://localhost:8080/"
        },
        "id": "7-gCfhwLX_OW",
        "outputId": "4614ae96-4110-4cb8-b107-7c0b7c8ae2b2"
      },
      "execution_count": 66,
      "outputs": [
        {
          "output_type": "execute_result",
          "data": {
            "text/plain": [
              "['count_words',\n",
              " 'count_mentions',\n",
              " 'count_hashtags',\n",
              " 'count_capital_words',\n",
              " 'count_excl_quest_marks',\n",
              " 'count_urls',\n",
              " 'count_emojis',\n",
              " 'airline_sentiment',\n",
              " 'cleanText',\n",
              " 'clean_text']"
            ]
          },
          "metadata": {},
          "execution_count": 66
        }
      ]
    },
    {
      "cell_type": "code",
      "source": [
        "df_model.head(5)"
      ],
      "metadata": {
        "colab": {
          "base_uri": "https://localhost:8080/",
          "height": 573
        },
        "id": "QFJuMAG0Zz4G",
        "outputId": "2b58ba88-0619-4cbb-d784-b0c7875bb412"
      },
      "execution_count": 76,
      "outputs": [
        {
          "output_type": "execute_result",
          "data": {
            "text/html": [
              "<div>\n",
              "<style scoped>\n",
              "    .dataframe tbody tr th:only-of-type {\n",
              "        vertical-align: middle;\n",
              "    }\n",
              "\n",
              "    .dataframe tbody tr th {\n",
              "        vertical-align: top;\n",
              "    }\n",
              "\n",
              "    .dataframe thead th {\n",
              "        text-align: right;\n",
              "    }\n",
              "</style>\n",
              "<table border=\"1\" class=\"dataframe\">\n",
              "  <thead>\n",
              "    <tr style=\"text-align: right;\">\n",
              "      <th></th>\n",
              "      <th>count_words</th>\n",
              "      <th>count_mentions</th>\n",
              "      <th>count_hashtags</th>\n",
              "      <th>count_capital_words</th>\n",
              "      <th>count_excl_quest_marks</th>\n",
              "      <th>count_urls</th>\n",
              "      <th>count_emojis</th>\n",
              "      <th>airline_sentiment</th>\n",
              "      <th>cleanText</th>\n",
              "      <th>clean_text</th>\n",
              "    </tr>\n",
              "  </thead>\n",
              "  <tbody>\n",
              "    <tr>\n",
              "      <th>2052</th>\n",
              "      <td>17</td>\n",
              "      <td>1</td>\n",
              "      <td>0</td>\n",
              "      <td>0</td>\n",
              "      <td>0</td>\n",
              "      <td>0</td>\n",
              "      <td>0</td>\n",
              "      <td>negative</td>\n",
              "      <td>nite member broken seat back broken tv broken light lost bag gee thnx ua awesom job</td>\n",
              "      <td>nite member broken seat back broken tv broken light lost bag gee thnx ua awesom job</td>\n",
              "    </tr>\n",
              "    <tr>\n",
              "      <th>3804</th>\n",
              "      <td>28</td>\n",
              "      <td>1</td>\n",
              "      <td>0</td>\n",
              "      <td>1</td>\n",
              "      <td>2</td>\n",
              "      <td>0</td>\n",
              "      <td>0</td>\n",
              "      <td>neutral</td>\n",
              "      <td>nite pleas help left ipad air flight nyc pari yesterday can’t get touch anyon local</td>\n",
              "      <td>nite pleas help left ipad air flight nyc pari yesterday can’t get touch anyon local</td>\n",
              "    </tr>\n",
              "    <tr>\n",
              "      <th>645</th>\n",
              "      <td>21</td>\n",
              "      <td>1</td>\n",
              "      <td>0</td>\n",
              "      <td>0</td>\n",
              "      <td>0</td>\n",
              "      <td>1</td>\n",
              "      <td>0</td>\n",
              "      <td>neutral</td>\n",
              "      <td>nite tourist wonder super tide tide centuri french coast</td>\n",
              "      <td>nite tourist wonder super tide tide centuri french coast</td>\n",
              "    </tr>\n",
              "    <tr>\n",
              "      <th>3409</th>\n",
              "      <td>12</td>\n",
              "      <td>2</td>\n",
              "      <td>0</td>\n",
              "      <td>0</td>\n",
              "      <td>0</td>\n",
              "      <td>0</td>\n",
              "      <td>0</td>\n",
              "      <td>neutral</td>\n",
              "      <td>nite erfectomobil realli use word crash sayin</td>\n",
              "      <td>nite erfectomobil realli use word crash sayin</td>\n",
              "    </tr>\n",
              "    <tr>\n",
              "      <th>5242</th>\n",
              "      <td>20</td>\n",
              "      <td>1</td>\n",
              "      <td>1</td>\n",
              "      <td>0</td>\n",
              "      <td>0</td>\n",
              "      <td>0</td>\n",
              "      <td>1</td>\n",
              "      <td>positive</td>\n",
              "      <td>outhwestair wanna say incred send peopl see idol sooooo kind amazing💖 destinationdragon</td>\n",
              "      <td>outhwestair wanna say incred send peopl see idol sooooo kind amazing💖 destinationdragon</td>\n",
              "    </tr>\n",
              "  </tbody>\n",
              "</table>\n",
              "</div>"
            ],
            "text/plain": [
              "      count_words  ...                                                                               clean_text\n",
              "2052  17           ...  nite member broken seat back broken tv broken light lost bag gee thnx ua awesom job    \n",
              "3804  28           ...  nite pleas help left ipad air flight nyc pari yesterday can’t get touch anyon local    \n",
              "645   21           ...  nite tourist wonder super tide tide centuri french coast                               \n",
              "3409  12           ...  nite erfectomobil realli use word crash sayin                                          \n",
              "5242  20           ...  outhwestair wanna say incred send peopl see idol sooooo kind amazing💖 destinationdragon\n",
              "\n",
              "[5 rows x 10 columns]"
            ]
          },
          "metadata": {},
          "execution_count": 76
        }
      ]
    },
    {
      "cell_type": "code",
      "source": [
        "class ColumnExtractor(TransformerMixin, BaseEstimator):\n",
        "    def __init__(self, cols):\n",
        "        self.cols = cols\n",
        "    def transform(self, X, **transform_params):\n",
        "        return X[self.cols]\n",
        "    def fit(self, X, y=None, **fit_params):\n",
        "        return self\n",
        "X_train, X_test, y_train, y_test = train_test_split(df_model.drop('airline_sentiment', axis=1), df_model.airline_sentiment, test_size=0.1, random_state=37)"
      ],
      "metadata": {
        "id": "fkm2PUipbEOA"
      },
      "execution_count": 68,
      "outputs": []
    },
    {
      "cell_type": "code",
      "source": [
        "X_train"
      ],
      "metadata": {
        "id": "UR0kxZmDBl-S"
      },
      "execution_count": null,
      "outputs": []
    },
    {
      "cell_type": "code",
      "source": [
        "def grid_vect(clf,parameters_clf,X_train,X_test,parameters_text=None,vect=None,is_w2v=False):\n",
        "   textcountscols = ['count_capital_words','count_emojis','count_excl_quest_marks','count_hashtags','count_mentions','count_urls','count_words']\n",
        "   size=50\n",
        "   if is_w2v:\n",
        "      w2vcols=[]\n",
        "      for i in range(size):\n",
        "        w2vcols.append(i)\n",
        "      features=FeatureUnion([('textcounts',ColumnExtractor(cols=textcountscols)),('w2v', ColumnExtractor(cols=w2vcols))], n_jobs=-1)\n",
        "   else:\n",
        "      features=FeatureUnion([('textcounts', ColumnExtractor(cols=textcountscols)), ('pipe', Pipeline([('cleantext', ColumnExtractor(cols='clean_text')), ('vect', vect)]))] , n_jobs=-1)\n",
        "    \n",
        "      pipeline=Pipeline([('features',features),('clf',clf)])\n",
        "\n",
        "    # Join the parameters dictionaries together\n",
        "      parameters = dict()\n",
        "      if parameters_text:\n",
        "        parameters.update(parameters_text)\n",
        "      parameters.update(parameters_clf)\n",
        "\n",
        "      grid_search = GridSearchCV(pipeline, parameters, n_jobs=-1, verbose=1, cv=5)\n",
        "\n",
        "      print(\"Performing grid search...\")\n",
        "      print(\"pipeline:\", [name for name, _ in pipeline.steps])\n",
        "      print(\"parameters:\")\n",
        "      print(parameters)\n",
        "\n",
        "      t0 = time()\n",
        "      grid_search.fit(X_train, y_train)\n",
        "      print(\"done in %0.3fs\" % (time() - t0))\n",
        "      print()\n",
        "      print(\"Best CV score: %0.3f\" % grid_search.best_score_)\n",
        "\n",
        "\n",
        "      print(\"Best parameters set:\")\n",
        "      best_parameters = grid_search.best_estimator_.get_params()\n",
        "      for param_name in sorted(parameters.keys()):\n",
        "          print(\"\\t%s: %r\" % (param_name, best_parameters[param_name]))\n",
        "          \n",
        "      print(\"Test score with best_estimator_: %0.3f\" % grid_search.best_estimator_.score(X_test, y_test))\n",
        "      print(\"\\n\")\n",
        "\n",
        "      \n",
        "      print(\"Classification Report Test Data\")\n",
        "      print(classification_report(y_test, grid_search.best_estimator_.predict(X_test)))\n",
        "                          \n",
        "      return grid_search     \n"
      ],
      "metadata": {
        "id": "F8ZpuMvAypED"
      },
      "execution_count": 103,
      "outputs": []
    },
    {
      "cell_type": "code",
      "source": [
        "# Parameter grid settings for the vectorizers (Count and TFIDF)\n",
        "parameters_vect = {\n",
        "    'features__pipe__vect__max_df': (0.25, 0.5, 0.75),\n",
        "    'features__pipe__vect__ngram_range': ((1, 1), (1, 2)),\n",
        "    'features__pipe__vect__min_df': (1,2)\n",
        "}\n",
        "# Parameter grid settings for MultinomialNB\n",
        "parameters_mnb = {\n",
        "    'clf__alpha': (0.25, 0.5, 0.75)\n",
        "}\n",
        "# Parameter grid settings for LogisticRegression\n",
        "parameters_logreg = {\n",
        "    'clf__C': (0.25, 0.5, 1.0),\n",
        "    'clf__penalty': ('l1', 'l2')\n",
        "}\n"
      ],
      "metadata": {
        "id": "QDhbf7H4y4Uu"
      },
      "execution_count": 70,
      "outputs": []
    },
    {
      "cell_type": "code",
      "source": [
        "mnb = MultinomialNB()\n",
        "logreg = LogisticRegression()"
      ],
      "metadata": {
        "id": "boG4Yjb1-HX5"
      },
      "execution_count": 71,
      "outputs": []
    },
    {
      "cell_type": "markdown",
      "source": [
        "#CountVectorizer"
      ],
      "metadata": {
        "id": "W_IBgNDe-P9s"
      }
    },
    {
      "cell_type": "markdown",
      "source": [
        "https://towardsdatascience.com/basics-of-countvectorizer-e26677900f9c\n",
        "\n",
        "CountVectorizer is a great tool provided by the scikit-learn library in Python. It is used to transform a given text into a vector on the basis of the frequency (count) of each word that occurs in the entire text. This is helpful when we have multiple such texts, and we wish to convert each word in each text into vectors (for using in further text analysis)."
      ],
      "metadata": {
        "id": "GYbLmvYIJuHi"
      }
    },
    {
      "cell_type": "code",
      "source": [
        "import joblib"
      ],
      "metadata": {
        "id": "q_A8G_6G-98b"
      },
      "execution_count": 73,
      "outputs": []
    },
    {
      "cell_type": "code",
      "source": [
        "countvect = CountVectorizer()\n",
        "\n",
        "# MultinomialNB\n",
        "best_mnb_countvect = grid_vect(mnb, parameters_mnb, X_train, X_test, parameters_text=parameters_vect, vect=countvect)\n",
        "joblib.dump(best_mnb_countvect, '/content/best_mnb_countvect.pkl')\n",
        "\n",
        "# LogisticRegression\n",
        "best_logreg_countvect = grid_vect(logreg, parameters_logreg, X_train, X_test, parameters_text=parameters_vect, vect=countvect)\n",
        "joblib.dump(best_logreg_countvect, '/content/best_logreg_countvect.pkl')"
      ],
      "metadata": {
        "colab": {
          "base_uri": "https://localhost:8080/"
        },
        "id": "mZp7OLvl-KMk",
        "outputId": "ff408974-0ece-49fd-9158-e95752e749f8"
      },
      "execution_count": 75,
      "outputs": [
        {
          "output_type": "stream",
          "name": "stdout",
          "text": [
            "Performing grid search...\n",
            "pipeline: ['features', 'clf']\n",
            "parameters:\n",
            "{'features__pipe__vect__max_df': (0.25, 0.5, 0.75), 'features__pipe__vect__ngram_range': ((1, 1), (1, 2)), 'features__pipe__vect__min_df': (1, 2), 'clf__alpha': (0.25, 0.5, 0.75)}\n",
            "Fitting 5 folds for each of 36 candidates, totalling 180 fits\n",
            "done in 42.247s\n",
            "\n",
            "Best CV score: 0.757\n",
            "Best parameters set:\n",
            "\tclf__alpha: 0.5\n",
            "\tfeatures__pipe__vect__max_df: 0.5\n",
            "\tfeatures__pipe__vect__min_df: 2\n",
            "\tfeatures__pipe__vect__ngram_range: (1, 2)\n",
            "Test score with best_estimator_: 0.750\n",
            "\n",
            "\n",
            "Classification Report Test Data\n",
            "              precision    recall  f1-score   support\n",
            "\n",
            "    negative       0.78      0.88      0.83       497\n",
            "     neutral       0.63      0.54      0.58       229\n",
            "    positive       0.78      0.67      0.72       190\n",
            "\n",
            "    accuracy                           0.75       916\n",
            "   macro avg       0.73      0.70      0.71       916\n",
            "weighted avg       0.74      0.75      0.74       916\n",
            "\n",
            "Performing grid search...\n",
            "pipeline: ['features', 'clf']\n",
            "parameters:\n",
            "{'features__pipe__vect__max_df': (0.25, 0.5, 0.75), 'features__pipe__vect__ngram_range': ((1, 1), (1, 2)), 'features__pipe__vect__min_df': (1, 2), 'clf__C': (0.25, 0.5, 1.0), 'clf__penalty': ('l1', 'l2')}\n",
            "Fitting 5 folds for each of 72 candidates, totalling 360 fits\n",
            "done in 228.296s\n",
            "\n",
            "Best CV score: 0.764\n",
            "Best parameters set:\n",
            "\tclf__C: 0.25\n",
            "\tclf__penalty: 'l2'\n",
            "\tfeatures__pipe__vect__max_df: 0.25\n",
            "\tfeatures__pipe__vect__min_df: 1\n",
            "\tfeatures__pipe__vect__ngram_range: (1, 2)\n",
            "Test score with best_estimator_: 0.738\n",
            "\n",
            "\n",
            "Classification Report Test Data\n",
            "              precision    recall  f1-score   support\n",
            "\n",
            "    negative       0.79      0.87      0.83       497\n",
            "     neutral       0.59      0.52      0.55       229\n",
            "    positive       0.75      0.64      0.69       190\n",
            "\n",
            "    accuracy                           0.74       916\n",
            "   macro avg       0.71      0.68      0.69       916\n",
            "weighted avg       0.73      0.74      0.73       916\n",
            "\n"
          ]
        },
        {
          "output_type": "execute_result",
          "data": {
            "text/plain": [
              "['/content/best_logreg_countvect.pkl']"
            ]
          },
          "metadata": {},
          "execution_count": 75
        }
      ]
    },
    {
      "cell_type": "markdown",
      "source": [
        "#TF-IDF Vectorizer"
      ],
      "metadata": {
        "id": "R6afl9TB-TDa"
      }
    },
    {
      "cell_type": "markdown",
      "source": [
        "https://medium.com/@cmukesh8688/tf-idf-vectorizer-scikit-learn-dbc0244a911a\n",
        "\n"
      ],
      "metadata": {
        "id": "xGeU3L4VK9q3"
      }
    },
    {
      "cell_type": "code",
      "source": [
        "tfidfvect = TfidfVectorizer()\n",
        "# MultinomialNB\n",
        "best_mnb_tfidf = grid_vect(mnb, parameters_mnb, X_train, X_test, parameters_text=parameters_vect, vect=tfidfvect)\n",
        "joblib.dump(best_mnb_tfidf, '/content/best_mnb_tfidf.pkl')\n",
        "\n",
        "# LogisticRegression\n",
        "best_logreg_tfidf = grid_vect(logreg, parameters_logreg, X_train, X_test, parameters_text=parameters_vect, vect=tfidfvect)\n",
        "joblib.dump(best_logreg_tfidf, '/content/best_logreg_tfidf.pkl')"
      ],
      "metadata": {
        "colab": {
          "base_uri": "https://localhost:8080/"
        },
        "id": "LyAC8a8d-MkH",
        "outputId": "cd32561c-355a-46b7-e8a5-b66aa993404c"
      },
      "execution_count": 82,
      "outputs": [
        {
          "output_type": "stream",
          "name": "stdout",
          "text": [
            "Performing grid search...\n",
            "pipeline: ['features', 'clf']\n",
            "parameters:\n",
            "{'features__pipe__vect__max_df': (0.25, 0.5, 0.75), 'features__pipe__vect__ngram_range': ((1, 1), (1, 2)), 'features__pipe__vect__min_df': (1, 2), 'clf__alpha': (0.25, 0.5, 0.75)}\n",
            "Fitting 5 folds for each of 36 candidates, totalling 180 fits\n",
            "done in 43.674s\n",
            "\n",
            "Best CV score: 0.736\n",
            "Best parameters set:\n",
            "\tclf__alpha: 0.25\n",
            "\tfeatures__pipe__vect__max_df: 0.25\n",
            "\tfeatures__pipe__vect__min_df: 2\n",
            "\tfeatures__pipe__vect__ngram_range: (1, 2)\n",
            "Test score with best_estimator_: 0.711\n",
            "\n",
            "\n",
            "Classification Report Test Data\n",
            "              precision    recall  f1-score   support\n",
            "\n",
            "    negative       0.71      0.93      0.81       497\n",
            "     neutral       0.64      0.38      0.48       229\n",
            "    positive       0.79      0.53      0.63       190\n",
            "\n",
            "    accuracy                           0.71       916\n",
            "   macro avg       0.71      0.61      0.64       916\n",
            "weighted avg       0.71      0.71      0.69       916\n",
            "\n",
            "Performing grid search...\n",
            "pipeline: ['features', 'clf']\n",
            "parameters:\n",
            "{'features__pipe__vect__max_df': (0.25, 0.5, 0.75), 'features__pipe__vect__ngram_range': ((1, 1), (1, 2)), 'features__pipe__vect__min_df': (1, 2), 'clf__C': (0.25, 0.5, 1.0), 'clf__penalty': ('l1', 'l2')}\n",
            "Fitting 5 folds for each of 72 candidates, totalling 360 fits\n",
            "done in 225.647s\n",
            "\n",
            "Best CV score: 0.736\n",
            "Best parameters set:\n",
            "\tclf__C: 1.0\n",
            "\tclf__penalty: 'l2'\n",
            "\tfeatures__pipe__vect__max_df: 0.25\n",
            "\tfeatures__pipe__vect__min_df: 2\n",
            "\tfeatures__pipe__vect__ngram_range: (1, 1)\n",
            "Test score with best_estimator_: 0.716\n",
            "\n",
            "\n",
            "Classification Report Test Data\n",
            "              precision    recall  f1-score   support\n",
            "\n",
            "    negative       0.75      0.90      0.82       497\n",
            "     neutral       0.59      0.46      0.51       229\n",
            "    positive       0.76      0.54      0.63       190\n",
            "\n",
            "    accuracy                           0.72       916\n",
            "   macro avg       0.70      0.63      0.65       916\n",
            "weighted avg       0.71      0.72      0.70       916\n",
            "\n"
          ]
        },
        {
          "output_type": "execute_result",
          "data": {
            "text/plain": [
              "['/content/best_logreg_tfidf.pkl']"
            ]
          },
          "metadata": {},
          "execution_count": 82
        }
      ]
    },
    {
      "cell_type": "markdown",
      "source": [
        "#Word2Vec"
      ],
      "metadata": {
        "id": "8MBR0oKJ-Umv"
      }
    },
    {
      "cell_type": "code",
      "source": [
        "import nltk\n",
        "nltk.download('punkt')"
      ],
      "metadata": {
        "colab": {
          "base_uri": "https://localhost:8080/"
        },
        "id": "Fw5dvsAIJpKj",
        "outputId": "c8479d85-b91a-4ada-bf87-d68426066aea"
      },
      "execution_count": 84,
      "outputs": [
        {
          "output_type": "stream",
          "name": "stdout",
          "text": [
            "[nltk_data] Downloading package punkt to /root/nltk_data...\n",
            "[nltk_data]   Unzipping tokenizers/punkt.zip.\n"
          ]
        },
        {
          "output_type": "execute_result",
          "data": {
            "text/plain": [
              "True"
            ]
          },
          "metadata": {},
          "execution_count": 84
        }
      ]
    },
    {
      "cell_type": "code",
      "source": [
        "SIZE = 50\n",
        "X_train['clean_text_wordlist'] = X_train.clean_text.apply(lambda x : word_tokenize(x))\n",
        "X_test['clean_text_wordlist'] = X_test.clean_text.apply(lambda x : word_tokenize(x))\n",
        "model = gensim.models.Word2Vec(X_train.clean_text_wordlist, min_count=1, size=SIZE, window=5, workers=4)\n",
        "model.most_similar('plane', topn=3)"
      ],
      "metadata": {
        "colab": {
          "base_uri": "https://localhost:8080/"
        },
        "id": "6etKE8wz-WdZ",
        "outputId": "7d31100b-6558-43d5-c4ff-a9cf89cdd7ee"
      },
      "execution_count": 92,
      "outputs": [
        {
          "output_type": "execute_result",
          "data": {
            "text/plain": [
              "[('still', 0.999826967716217),\n",
              " ('arriv', 0.999825656414032),\n",
              " ('time', 0.999823808670044)]"
            ]
          },
          "metadata": {},
          "execution_count": 92
        }
      ]
    },
    {
      "cell_type": "code",
      "source": [
        "def compute_avg_w2v_vector(w2v_dict, tweet):\n",
        "    list_of_word_vectors = [w2v_dict[w] for w in tweet if w in w2v_dict.vocab.keys()]\n",
        "    \n",
        "    if len(list_of_word_vectors) == 0:\n",
        "        result = [0.0]*SIZE\n",
        "    else:\n",
        "        result = np.sum(list_of_word_vectors, axis=0) / len(list_of_word_vectors)\n",
        "        \n",
        "    return result\n",
        "X_train_w2v = X_train['clean_text_wordlist'].apply(lambda x: compute_avg_w2v_vector(model.wv, x))\n",
        "X_test_w2v = X_test['clean_text_wordlist'].apply(lambda x: compute_avg_w2v_vector(model.wv, x))"
      ],
      "metadata": {
        "id": "88iwHyL3-ZsJ"
      },
      "execution_count": 93,
      "outputs": []
    },
    {
      "cell_type": "code",
      "source": [
        "X_train_w2v = pd.DataFrame(X_train_w2v.values.tolist(), index= X_train.index)\n",
        "X_test_w2v = pd.DataFrame(X_test_w2v.values.tolist(), index= X_test.index)\n",
        "\n",
        "# Concatenate with the TextCounts variables\n",
        "X_train_w2v = pd.concat([X_train_w2v, X_train.drop(['clean_text', 'clean_text_wordlist'], axis=1)], axis=1)\n",
        "X_test_w2v = pd.concat([X_test_w2v, X_test.drop(['clean_text', 'clean_text_wordlist'], axis=1)], axis=1)"
      ],
      "metadata": {
        "id": "0BkWuXfC-bmz"
      },
      "execution_count": 94,
      "outputs": []
    },
    {
      "cell_type": "code",
      "source": [
        "best_logreg_w2v = grid_vect(logreg, parameters_logreg, X_train_w2v, X_test_w2v, is_w2v=True)\n",
        "joblib.dump(best_logreg_w2v, '/content/best_logreg_w2v.pkl')"
      ],
      "metadata": {
        "colab": {
          "base_uri": "https://localhost:8080/"
        },
        "id": "AdSH526d-c8a",
        "outputId": "83263d9f-a205-47a0-c96e-ad748e0da140"
      },
      "execution_count": 104,
      "outputs": [
        {
          "output_type": "execute_result",
          "data": {
            "text/plain": [
              "['/content/best_logreg_w2v.pkl']"
            ]
          },
          "metadata": {},
          "execution_count": 104
        }
      ]
    },
    {
      "cell_type": "markdown",
      "source": [
        "#Apply the best model on new tweets"
      ],
      "metadata": {
        "id": "rDzbHF3p_tBv"
      }
    },
    {
      "cell_type": "code",
      "source": [
        "textcountscols = ['count_capital_words','count_emojis','count_excl_quest_marks','count_hashtags','count_mentions','count_urls','count_words']\n",
        "features = FeatureUnion([('textcounts', ColumnExtractor(cols=textcountscols)), ('pipe', Pipeline([('cleantext', ColumnExtractor(cols='clean_text')), ('vect', CountVectorizer(max_df=0.5, min_df=1, ngram_range=(1,2)))]))], n_jobs=-1)\n",
        "pipeline = Pipeline([('features', features), ('clf', LogisticRegression(C=1.0, penalty='l2'))])\n",
        "best_model = pipeline.fit(df_model.drop('airline_sentiment', axis=1), df_model.airline_sentiment)\n",
        "\n",
        "# Applying on new positive tweets\n",
        "new_positive_tweets = pd.Series([\"Thank you @VirginAmerica for you amazing customer support team on Tuesday 11/28 at @EWRairport and returning my lost bag in less than 24h! #efficiencyiskey #virginamerica\"\n",
        ",\"Love flying with you guys ask these years. Sad that this will be the last trip 😂 @VirginAmerica #LuxuryTravel\"\n",
        ",\"Wow @VirginAmerica main cabin select is the way to fly!! This plane is nice and clean & I have tons of legroom! Wahoo! NYC bound! ✈️\"])\n",
        "df_counts_pos = tc.transform(new_positive_tweets)\n",
        "df_clean_pos = ct.transform(new_positive_tweets)\n",
        "df_model_pos = df_counts_pos\n",
        "df_model_pos['clean_text'] = df_clean_pos\n",
        "best_model.predict(df_model_pos).tolist()"
      ],
      "metadata": {
        "colab": {
          "base_uri": "https://localhost:8080/"
        },
        "id": "_Pt4cJY6_wo1",
        "outputId": "9b043304-4e0d-441d-9037-d28b8f45ad72"
      },
      "execution_count": 106,
      "outputs": [
        {
          "output_type": "execute_result",
          "data": {
            "text/plain": [
              "['positive', 'positive', 'positive']"
            ]
          },
          "metadata": {},
          "execution_count": 106
        }
      ]
    },
    {
      "cell_type": "code",
      "source": [
        "# Applying on new negative tweets\n",
        "new_negative_tweets = pd.Series([\"@VirginAmerica shocked my initially with the service, but then went on to shock me further with no response to what my complaint was. #unacceptable @Delta @richardbranson\"\n",
        ",\"@VirginAmerica this morning I was forced to repack a suitcase w a medical device because it was barely overweight - wasn't even given an option to pay extra. My spouses suitcase then burst at the seam with the added device and had to be taped shut. Awful experience so far!\"\n",
        ",\"Board airplane home. Computer issue. Get off plane, traverse airport to gate on opp side. Get on new plane hour later. Plane too heavy. 8 volunteers get off plane. Ohhh the adventure of travel ✈️ @VirginAmerica\"])\n",
        "df_counts_neg = tc.transform(new_negative_tweets)\n",
        "df_clean_neg = ct.transform(new_negative_tweets)\n",
        "df_model_neg = df_counts_neg\n",
        "df_model_neg['clean_text'] = df_clean_neg\n",
        "best_model.predict(df_model_neg).tolist()"
      ],
      "metadata": {
        "colab": {
          "base_uri": "https://localhost:8080/"
        },
        "id": "WIXHlOVGO4iL",
        "outputId": "f6220d57-e3d2-449f-9f92-7e92c7e4baea"
      },
      "execution_count": 107,
      "outputs": [
        {
          "output_type": "execute_result",
          "data": {
            "text/plain": [
              "['negative', 'negative', 'negative']"
            ]
          },
          "metadata": {},
          "execution_count": 107
        }
      ]
    }
  ]
}