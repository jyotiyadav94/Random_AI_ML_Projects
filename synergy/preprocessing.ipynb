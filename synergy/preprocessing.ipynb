{
  "nbformat": 4,
  "nbformat_minor": 0,
  "metadata": {
    "colab": {
      "name": "preprocessing.ipynb",
      "provenance": []
    },
    "kernelspec": {
      "name": "python3",
      "display_name": "Python 3"
    },
    "language_info": {
      "name": "python"
    }
  },
  "cells": [
    {
      "cell_type": "code",
      "execution_count": 8,
      "metadata": {
        "colab": {
          "base_uri": "https://localhost:8080/"
        },
        "id": "xpZLK63ruikr",
        "outputId": "1f860ca4-617f-46e7-9888-119c3e647017"
      },
      "outputs": [
        {
          "output_type": "execute_result",
          "data": {
            "text/plain": [
              "True"
            ]
          },
          "metadata": {},
          "execution_count": 8
        }
      ],
      "source": [
        "import os\n",
        "from typing import Tuple\n",
        "\n",
        "import cv2\n",
        "import numpy as np\n",
        "\n",
        "\n",
        "def image_binarization(image: np.ndarray) -> np.ndarray:\n",
        "    if len(image.shape) > 2:  # convert to gray scale if not in gray scale\n",
        "        image = cv2.cvtColor(image, cv2.COLOR_BGR2GRAY)\n",
        "    out_binary = cv2.threshold(noise_removal(image), 0, 255, cv2.THRESH_OTSU)[1]\n",
        "    return out_binary\n",
        "\n",
        "\n",
        "def noise_removal(image: np.ndarray) -> np.ndarray:\n",
        "    if len(image.shape) > 2:  # convert to gray scale if not in gray scale\n",
        "        image = cv2.cvtColor(image, cv2.COLOR_BGR2GRAY)\n",
        "    se = cv2.getStructuringElement(cv2.MORPH_RECT, (8, 8))\n",
        "    bg = cv2.morphologyEx(image, cv2.MORPH_DILATE, se)\n",
        "    out_gray = cv2.divide(image, bg, scale=255)\n",
        "    return out_gray\n",
        "\n",
        "\n",
        "def denoising(image: np.ndarray):\n",
        "    return cv2.fastNlMeansDenoisingColored(image, None, 10, 10, 7, 21)\n",
        "\n",
        "\n",
        "def unsharp_mask(\n",
        "    image: np.ndarray,\n",
        "    kernel_size: Tuple[int, int] = (5, 5),\n",
        "    sigma: float = 1.0,\n",
        "    amount: float = 1.0,\n",
        "    threshold: int = 0,\n",
        "):\n",
        "    blurred = cv2.GaussianBlur(image, kernel_size, sigma)\n",
        "    sharpened = float(amount + 1) * image - float(amount) * blurred\n",
        "    sharpened = np.maximum(sharpened, np.zeros(sharpened.shape))\n",
        "    sharpened = np.minimum(sharpened, 255 * np.ones(sharpened.shape))\n",
        "    sharpened = sharpened.round().astype(np.uint8)\n",
        "    if threshold > 0:\n",
        "        low_contrast_mask = np.absolute(image - blurred) < threshold\n",
        "        np.copyto(sharpened, image, where=low_contrast_mask)\n",
        "    return sharpened\n",
        "\n",
        "\n",
        "image = cv2.imread(os.path.join(\"examples\", \"1.jpg\"))\n",
        "im_bin = image_binarization(image)\n",
        "out_gray = noise_removal(image)\n",
        "\n",
        "# print(im_bin)\n",
        "# print(out_gray)\n",
        "\n",
        "speckle = cv2.imread(os.path.join(\"examples\", \"1.jpg\"))\n",
        "speckle = denoising(speckle)\n",
        "\n",
        "blurry = cv2.imread(os.path.join(\"examples\", \"1.jpg\"))\n",
        "blurry = unsharp_mask(blurry)\n",
        "\n",
        "cv2.imwrite(\"im_bin.png\", im_bin)\n",
        "cv2.imwrite(\"out_gray.png\", out_gray)\n",
        "cv2.imwrite(\"un_speckle.png\", speckle)\n",
        "cv2.imwrite(\"un_blurry.png\", blurry)"
      ]
    }
  ]
}