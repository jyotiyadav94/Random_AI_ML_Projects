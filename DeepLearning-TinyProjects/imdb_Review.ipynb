{
  "nbformat": 4,
  "nbformat_minor": 0,
  "metadata": {
    "colab": {
      "name": "imdb_Review.ipynb",
      "provenance": []
    },
    "kernelspec": {
      "name": "python3",
      "display_name": "Python 3"
    },
    "language_info": {
      "name": "python"
    }
  },
  "cells": [
    {
      "cell_type": "markdown",
      "metadata": {
        "id": "zrqb6KlyZT8t"
      },
      "source": [
        "In this notebook we shall focus on overfitting, demonstrating the phenomenon and studying techniques to address it. \n",
        "The dataset we shall use is the IMDB movie reviews dataset, composed of 25,000 movies reviews, labeled by sentiment (positive/negative).\n",
        "\n",
        "To prevent overfitting, the best solution is to use more training data. When that is not a,viable possibility, \n",
        "you can try to use regularization techniques, constraining the quantity and quality of information stored by the model. \n",
        "If a network can only afford to memorize a small number of patterns, the optimization process will force it to focus on \n",
        "the most prominent ones, which have a better chance of generalizing well."
      ]
    },
    {
      "cell_type": "code",
      "metadata": {
        "id": "jhOc55m4XKLa"
      },
      "source": [
        "from keras.layers import Input,Dense\n",
        "from keras.models import Model\n",
        "from keras.datasets import imdb\n",
        "import matplotlib.pyplot as plt\n",
        "import numpy as np"
      ],
      "execution_count": 24,
      "outputs": []
    },
    {
      "cell_type": "markdown",
      "metadata": {
        "id": "VcCizwBFZY1U"
      },
      "source": [
        " Let us load the dataset. In keras, the dataset is preprocessed, and each review is encoded as a sequence of word indexes (integers). \n",
        " For convenience, words are indexed by overall frequency in the dataset, so that for instance the integer \\\"3\\\" encodes the 3rd most frequent word in the data."
      ]
    },
    {
      "cell_type": "code",
      "metadata": {
        "colab": {
          "base_uri": "https://localhost:8080/"
        },
        "id": "L96fKU6FXyTH",
        "outputId": "8b262d04-9964-4e53-dbf4-3c752b393499"
      },
      "source": [
        "num_words=500\n",
        "(x_train,y_train),(x_test,y_test)=imdb.load_data(path=\"imdb.npz\",num_words=num_words)"
      ],
      "execution_count": 25,
      "outputs": [
        {
          "output_type": "stream",
          "text": [
            "<string>:6: VisibleDeprecationWarning: Creating an ndarray from ragged nested sequences (which is a list-or-tuple of lists-or-tuples-or ndarrays with different lengths or shapes) is deprecated. If you meant to do this, you must specify 'dtype=object' when creating the ndarray\n",
            "/usr/local/lib/python3.7/dist-packages/tensorflow/python/keras/datasets/imdb.py:159: VisibleDeprecationWarning: Creating an ndarray from ragged nested sequences (which is a list-or-tuple of lists-or-tuples-or ndarrays with different lengths or shapes) is deprecated. If you meant to do this, you must specify 'dtype=object' when creating the ndarray\n",
            "  x_train, y_train = np.array(xs[:idx]), np.array(labels[:idx])\n",
            "/usr/local/lib/python3.7/dist-packages/tensorflow/python/keras/datasets/imdb.py:160: VisibleDeprecationWarning: Creating an ndarray from ragged nested sequences (which is a list-or-tuple of lists-or-tuples-or ndarrays with different lengths or shapes) is deprecated. If you meant to do this, you must specify 'dtype=object' when creating the ndarray\n",
            "  x_test, y_test = np.array(xs[idx:]), np.array(labels[idx:])\n"
          ],
          "name": "stderr"
        }
      ]
    },
    {
      "cell_type": "markdown",
      "metadata": {
        "id": "Dj3IWYEqZh8M"
      },
      "source": [
        "Let's look at the encoding of the first review"
      ]
    },
    {
      "cell_type": "code",
      "metadata": {
        "colab": {
          "base_uri": "https://localhost:8080/"
        },
        "id": "JakCHYC_YDg8",
        "outputId": "e04d7d26-4e03-459f-a6be-e10c898f3cb0"
      },
      "source": [
        "print(len(x_train[0]))\n",
        "print(len(x_train[1]))"
      ],
      "execution_count": 26,
      "outputs": [
        {
          "output_type": "stream",
          "text": [
            "218\n",
            "189\n"
          ],
          "name": "stdout"
        }
      ]
    },
    {
      "cell_type": "markdown",
      "metadata": {
        "id": "3XL0KaHkZuJn"
      },
      "source": [
        "This representation has a variable length dimension, that is not very stuitable for a neural network.\n",
        "Let us transform it into a multi_hot encoding of of dimension equal to num_words. In this representation, a word gets index 1 if it appears in the document. It is essentially a bag-of-words encoding."
      ]
    },
    {
      "cell_type": "code",
      "metadata": {
        "id": "sHKDFLNWZxxb"
      },
      "source": [
        "def multi_hot_sequences(sequences, dimension):\n",
        "  multi_hot = np.zeros((len(sequences),dimension))\n",
        "  for i in range(0,len(sequences)):\n",
        "    multi_hot[i, sequences[i]] = 1\n",
        "    return multi_hot\n",
        "x_train = multi_hot_sequences(x_train, num_words)\n",
        "x_test = multi_hot_sequences(x_test, num_words)"
      ],
      "execution_count": 27,
      "outputs": []
    },
    {
      "cell_type": "markdown",
      "metadata": {
        "id": "8LA5PWEQaC7e"
      },
      "source": [
        "Let us have a look at the initial part of the encoding for the first review."
      ]
    },
    {
      "cell_type": "code",
      "metadata": {
        "colab": {
          "base_uri": "https://localhost:8080/"
        },
        "id": "GhHDsPcIaFXz",
        "outputId": "7685e801-22bd-4188-f904-60dddff21aa9"
      },
      "source": [
        "print(x_train[0,0:30])"
      ],
      "execution_count": 28,
      "outputs": [
        {
          "output_type": "stream",
          "text": [
            "[0. 1. 1. 0. 1. 1. 1. 1. 1. 1. 0. 0. 1. 1. 1. 1. 1. 1. 1. 1. 0. 1. 1. 0.\n",
            " 0. 1. 1. 0. 1. 0.]\n"
          ],
          "name": "stdout"
        }
      ]
    },
    {
      "cell_type": "markdown",
      "metadata": {
        "id": "AyjcQ6V9cuan"
      },
      "source": [
        "We now define our first model, that is just a concatenation of three dense layers."
      ]
    },
    {
      "cell_type": "code",
      "metadata": {
        "colab": {
          "base_uri": "https://localhost:8080/"
        },
        "id": "KLbhpNA-cy2g",
        "outputId": "01055b20-1d84-4421-cba3-9e0c9f8fe0c0"
      },
      "source": [
        "seq=Input(shape=(num_words,))\n",
        "x=Dense(64,activation='relu')(seq)\n",
        "x=Dense(16,activation='relu')(x)\n",
        "x=Dense(1,activation='sigmoid')(x)\n",
        "\n",
        "base_model=Model(seq,x)\n",
        "base_model.summary()"
      ],
      "execution_count": 29,
      "outputs": [
        {
          "output_type": "stream",
          "text": [
            "Model: \"model_2\"\n",
            "_________________________________________________________________\n",
            "Layer (type)                 Output Shape              Param #   \n",
            "=================================================================\n",
            "input_3 (InputLayer)         [(None, 500)]             0         \n",
            "_________________________________________________________________\n",
            "dense_6 (Dense)              (None, 64)                32064     \n",
            "_________________________________________________________________\n",
            "dense_7 (Dense)              (None, 16)                1040      \n",
            "_________________________________________________________________\n",
            "dense_8 (Dense)              (None, 1)                 17        \n",
            "=================================================================\n",
            "Total params: 33,121\n",
            "Trainable params: 33,121\n",
            "Non-trainable params: 0\n",
            "_________________________________________________________________\n"
          ],
          "name": "stdout"
        }
      ]
    },
    {
      "cell_type": "markdown",
      "metadata": {
        "id": "YSm--z1HgQ5E"
      },
      "source": [
        "We compile the model using adam as optimizer, and binary crossentropy (log likelyhood) as loss function. The fit function returns a history of the training, that can be later inspected. In addition to the loss function, that is the canonical metric used for training, we also ask the model to keep trace of accuracy."
      ]
    },
    {
      "cell_type": "code",
      "metadata": {
        "id": "iC5zMxUDgSso"
      },
      "source": [
        "base_model.compile(optimizer='adam',loss='binary_crossentropy',metrics=['accuracy'])"
      ],
      "execution_count": 30,
      "outputs": []
    },
    {
      "cell_type": "code",
      "metadata": {
        "colab": {
          "base_uri": "https://localhost:8080/"
        },
        "id": "lfvY9zgbGvrJ",
        "outputId": "32fec9b3-3e00-4516-d179-51c8ed7ca04f"
      },
      "source": [
        "base_history=base_model.fit(x_train,y_train,epochs=6,batch_size=512,validation_data=(x_test,y_test),verbose=1)"
      ],
      "execution_count": 31,
      "outputs": [
        {
          "output_type": "stream",
          "text": [
            "Epoch 1/6\n",
            "49/49 [==============================] - 1s 11ms/step - loss: 0.6932 - accuracy: 0.4920 - val_loss: 0.6932 - val_accuracy: 0.5000\n",
            "Epoch 2/6\n",
            "49/49 [==============================] - 0s 8ms/step - loss: 0.6931 - accuracy: 0.5054 - val_loss: 0.6932 - val_accuracy: 0.5000\n",
            "Epoch 3/6\n",
            "49/49 [==============================] - 0s 8ms/step - loss: 0.6931 - accuracy: 0.5022 - val_loss: 0.6932 - val_accuracy: 0.5000\n",
            "Epoch 4/6\n",
            "49/49 [==============================] - 0s 8ms/step - loss: 0.6931 - accuracy: 0.5024 - val_loss: 0.6932 - val_accuracy: 0.5000\n",
            "Epoch 5/6\n",
            "49/49 [==============================] - 0s 8ms/step - loss: 0.6931 - accuracy: 0.5029 - val_loss: 0.6932 - val_accuracy: 0.5000\n",
            "Epoch 6/6\n",
            "49/49 [==============================] - 0s 8ms/step - loss: 0.6931 - accuracy: 0.5010 - val_loss: 0.6932 - val_accuracy: 0.5000\n"
          ],
          "name": "stdout"
        }
      ]
    },
    {
      "cell_type": "markdown",
      "metadata": {
        "id": "rAG7Q3eVILm4"
      },
      "source": [
        "Let us see the keys available in our history"
      ]
    },
    {
      "cell_type": "code",
      "metadata": {
        "colab": {
          "base_uri": "https://localhost:8080/"
        },
        "id": "TFQU8Wd8IP5i",
        "outputId": "0780fbfb-897c-4585-c3dc-99e601208446"
      },
      "source": [
        "print(base_history.history.keys())"
      ],
      "execution_count": 32,
      "outputs": [
        {
          "output_type": "stream",
          "text": [
            "dict_keys(['loss', 'accuracy', 'val_loss', 'val_accuracy'])\n"
          ],
          "name": "stdout"
        }
      ]
    },
    {
      "cell_type": "markdown",
      "metadata": {
        "id": "D6B9qVFlJZfw"
      },
      "source": [
        "The following function allows us to plot the results\n",
        "Here we are overfitting with the training set because the same improvement in not reflected on the test set Because the  loss function of the test set is the same"
      ]
    },
    {
      "cell_type": "code",
      "metadata": {
        "colab": {
          "base_uri": "https://localhost:8080/",
          "height": 552
        },
        "id": "eNkRLko9JeIr",
        "outputId": "09d840b7-4ccf-4e31-f519-cb9fe997217d"
      },
      "source": [
        "def plot_history(model_history,keys):\n",
        "  m,val_m = keys\n",
        "  plt.plot(model_history.history[m]),\n",
        "  plt.plot(model_history.history[val_m]),\n",
        "  plt.ylabel(m),\n",
        "  plt.xlabel('epoch'),\n",
        "  plt.legend(['train', 'test'], loc='upper left'),\n",
        "  plt.show(),\n",
        "plot_history(base_history,['accuracy','val_accuracy']),\n",
        "plot_history(base_history,['loss','val_loss'])"
      ],
      "execution_count": 33,
      "outputs": [
        {
          "output_type": "display_data",
          "data": {
            "image/png": "[encoded data removed]",
            "text/plain": [
              "<Figure size 432x288 with 1 Axes>"
            ]
          },
          "metadata": {
            "tags": [],
            "needs_background": "light"
          }
        },
        {
          "output_type": "display_data",
          "data": {
            "image/png": "[encoded data removed]",
            "text/plain": [
              "<Figure size 432x288 with 1 Axes>"
            ]
          },
          "metadata": {
            "tags": [],
            "needs_background": "light"
          }
        }
      ]
    },
    {
      "cell_type": "markdown",
      "metadata": {
        "id": "9W88KqR5LZXZ"
      },
      "source": [
        "Weight Regularization"
      ]
    },
    {
      "cell_type": "markdown",
      "metadata": {
        "id": "46xip7-3LuYS"
      },
      "source": [
        "Now we modify our base model adding regularizers.\n",
        "A common way to mitigate overfitting is to reduce the complexity of the network by forcing its weights to only take small values, \n",
        "making the distribution of weights more “regular”. This is called “weight regularization”, and it is done by adding to the loss function of \n",
        "the network an additional cost associated with having large weights."
      ]
    },
    {
      "cell_type": "markdown",
      "metadata": {
        "id": "Fgnb-GamMNcL"
      },
      "source": [
        "Regularization technicques occur on the weights not on the biases \n",
        "You can have other types of regularization also such as activation of the layer\n",
        "Here we are using L2 regularization"
      ]
    },
    {
      "cell_type": "code",
      "metadata": {
        "id": "nl-qszC8Lsns"
      },
      "source": [
        "from keras import regularizers\n",
        "seq = Input(shape=(num_words,))\n",
        "x = Dense(64, activation='relu', kernel_regularizer=regularizers.l2(0.005))(seq)\n",
        "x = Dense(16, activation='relu',kernel_regularizer=regularizers.l2(0.005))(x)\n",
        "x = Dense(1, activation='sigmoid')(x)\n",
        "l2reg_model = Model(seq, x)"
      ],
      "execution_count": 34,
      "outputs": []
    },
    {
      "cell_type": "code",
      "metadata": {
        "id": "oA7TTxvNMs1F"
      },
      "source": [
        "l2reg_model.compile(optimizer='adam',loss='binary_crossentropy',metrics=['accuracy'])"
      ],
      "execution_count": 35,
      "outputs": []
    },
    {
      "cell_type": "code",
      "metadata": {
        "colab": {
          "base_uri": "https://localhost:8080/"
        },
        "id": "wySekJcJM4JU",
        "outputId": "30e5ff02-bf65-40ee-87c7-25a0e6bb1e98"
      },
      "source": [
        "l2reg_history=l2reg_model.fit(x_train,y_test,epochs=5,batch_size=512,validation_data=(x_test,y_test),verbose=2)"
      ],
      "execution_count": 36,
      "outputs": [
        {
          "output_type": "stream",
          "text": [
            "Epoch 1/5\n",
            "49/49 - 1s - loss: 1.0772 - accuracy: 0.4977 - val_loss: 0.8673 - val_accuracy: 0.5000\n",
            "Epoch 2/5\n",
            "49/49 - 0s - loss: 0.7917 - accuracy: 0.5000 - val_loss: 0.7435 - val_accuracy: 0.5000\n",
            "Epoch 3/5\n",
            "49/49 - 0s - loss: 0.7260 - accuracy: 0.4953 - val_loss: 0.7139 - val_accuracy: 0.5000\n",
            "Epoch 4/5\n",
            "49/49 - 0s - loss: 0.7080 - accuracy: 0.5000 - val_loss: 0.7032 - val_accuracy: 0.5000\n",
            "Epoch 5/5\n",
            "49/49 - 0s - loss: 0.7004 - accuracy: 0.4972 - val_loss: 0.6980 - val_accuracy: 0.5000\n"
          ],
          "name": "stdout"
        }
      ]
    },
    {
      "cell_type": "markdown",
      "metadata": {
        "id": "DKeaGNHXNpxg"
      },
      "source": [
        "Here we see the loss function decreases slightly for both the traing and testing set"
      ]
    },
    {
      "cell_type": "code",
      "metadata": {
        "colab": {
          "base_uri": "https://localhost:8080/",
          "height": 541
        },
        "id": "F6_DuNRONUJe",
        "outputId": "31f45163-fe2c-4c6b-ba26-01cd30fec968"
      },
      "source": [
        "plot_history(l2reg_history,['accuracy','val_accuracy'])\n",
        "plot_history(l2reg_history,['loss','val_loss'])"
      ],
      "execution_count": 38,
      "outputs": [
        {
          "output_type": "display_data",
          "data": {
            "image/png": "[encoded data removed]",
            "text/plain": [
              "<Figure size 432x288 with 1 Axes>"
            ]
          },
          "metadata": {
            "tags": [],
            "needs_background": "light"
          }
        },
        {
          "output_type": "display_data",
          "data": {
            "image/png": "[encoded data removed]",
            "text/plain": [
              "<Figure size 432x288 with 1 Axes>"
            ]
          },
          "metadata": {
            "tags": [],
            "needs_background": "light"
          }
        }
      ]
    },
    {
      "cell_type": "markdown",
      "metadata": {
        "id": "kdfeDRo2OG-4"
      },
      "source": [
        "DropOut"
      ]
    },
    {
      "cell_type": "markdown",
      "metadata": {
        "id": "_oMn-owaONVR"
      },
      "source": [
        "Dropout is an alternativeregularization techniques for neural networks. It consists of randomly “dropping out” (i.e. set to zero) a number of output features of the layer during training.\n",
        "At test time, no units are dropped out, but the layer’s output values are scaled down by a factor equal to the dropout rate, so as to balance for the fact that more units are active than at training time."
      ]
    },
    {
      "cell_type": "code",
      "metadata": {
        "id": "eIJBbThxOIGO"
      },
      "source": [
        "from keras.layers import Dropout\n",
        "from keras import optimizers"
      ],
      "execution_count": 42,
      "outputs": []
    },
    {
      "cell_type": "markdown",
      "metadata": {
        "id": "E87N2TjVOaru"
      },
      "source": [
        "Let’s add a couple of dropout layers in our IMDB network and see how it performs."
      ]
    },
    {
      "cell_type": "code",
      "metadata": {
        "id": "yDOUYI1sOcWF"
      },
      "source": [
        "seq = Input(shape=(num_words,))\n",
        "x = Dense(64, activation='relu')(seq)\n",
        "x = Dropout(0.5)(x)\n",
        "x = Dense(16, activation='relu')(x)\n",
        "x = Dropout(0.5)(x)\n",
        "x = Dense(1, activation='sigmoid')(x)\n",
        "dropout_model = Model(seq, x)"
      ],
      "execution_count": 44,
      "outputs": []
    },
    {
      "cell_type": "code",
      "metadata": {
        "id": "3rfUldxIPDga"
      },
      "source": [
        "dropout_model.compile(optimizer='adam',loss='binary_crossentropy',metrics=['accuracy'])"
      ],
      "execution_count": 45,
      "outputs": []
    },
    {
      "cell_type": "code",
      "metadata": {
        "colab": {
          "base_uri": "https://localhost:8080/"
        },
        "id": "rynhtWzzPNXg",
        "outputId": "884842b4-c0ef-45be-f80e-a729c822731f"
      },
      "source": [
        "dropout_model.summary()"
      ],
      "execution_count": 47,
      "outputs": [
        {
          "output_type": "stream",
          "text": [
            "Model: \"model_4\"\n",
            "_________________________________________________________________\n",
            "Layer (type)                 Output Shape              Param #   \n",
            "=================================================================\n",
            "input_8 (InputLayer)         [(None, 500)]             0         \n",
            "_________________________________________________________________\n",
            "dense_15 (Dense)             (None, 64)                32064     \n",
            "_________________________________________________________________\n",
            "dropout (Dropout)            (None, 64)                0         \n",
            "_________________________________________________________________\n",
            "dense_16 (Dense)             (None, 16)                1040      \n",
            "_________________________________________________________________\n",
            "dropout_1 (Dropout)          (None, 16)                0         \n",
            "_________________________________________________________________\n",
            "dense_17 (Dense)             (None, 1)                 17        \n",
            "=================================================================\n",
            "Total params: 33,121\n",
            "Trainable params: 33,121\n",
            "Non-trainable params: 0\n",
            "_________________________________________________________________\n"
          ],
          "name": "stdout"
        }
      ]
    },
    {
      "cell_type": "code",
      "metadata": {
        "colab": {
          "base_uri": "https://localhost:8080/"
        },
        "id": "IlXX7Oy0PeOD",
        "outputId": "63c3582a-82f1-4d78-c921-7ad438e771cc"
      },
      "source": [
        "dropout_history=dropout_model.fit(x_train,y_train,epochs=5,batch_size=512,validation_data=(x_test,y_test),verbose=1 )"
      ],
      "execution_count": 48,
      "outputs": [
        {
          "output_type": "stream",
          "text": [
            "Epoch 1/5\n",
            "49/49 [==============================] - 1s 11ms/step - loss: 0.6932 - accuracy: 0.4981 - val_loss: 0.6931 - val_accuracy: 0.5000\n",
            "Epoch 2/5\n",
            "49/49 [==============================] - 0s 8ms/step - loss: 0.6932 - accuracy: 0.4931 - val_loss: 0.6931 - val_accuracy: 0.5000\n",
            "Epoch 3/5\n",
            "49/49 [==============================] - 0s 8ms/step - loss: 0.6931 - accuracy: 0.5028 - val_loss: 0.6931 - val_accuracy: 0.5000\n",
            "Epoch 4/5\n",
            "49/49 [==============================] - 0s 8ms/step - loss: 0.6932 - accuracy: 0.4959 - val_loss: 0.6931 - val_accuracy: 0.5000\n",
            "Epoch 5/5\n",
            "49/49 [==============================] - 0s 8ms/step - loss: 0.6931 - accuracy: 0.5008 - val_loss: 0.6932 - val_accuracy: 0.5000\n"
          ],
          "name": "stdout"
        }
      ]
    },
    {
      "cell_type": "code",
      "metadata": {
        "colab": {
          "base_uri": "https://localhost:8080/",
          "height": 554
        },
        "id": "T0cU6NtRQRyP",
        "outputId": "31c802fa-fd5c-47f2-b98d-7e509584bf11"
      },
      "source": [
        "plot_history(dropout_history,['accuracy','val_accuracy'])\n",
        "plot_history(dropout_history,['loss','val_loss'])"
      ],
      "execution_count": 52,
      "outputs": [
        {
          "output_type": "display_data",
          "data": {
            "image/png": "[encoded data removed]",
            "text/plain": [
              "<Figure size 432x288 with 1 Axes>"
            ]
          },
          "metadata": {
            "tags": [],
            "needs_background": "light"
          }
        },
        {
          "output_type": "display_data",
          "data": {
            "image/png": "[encoded data removed]",
            "text/plain": [
              "<Figure size 432x288 with 1 Axes>"
            ]
          },
          "metadata": {
            "tags": [],
            "needs_background": "light"
          }
        }
      ]
    },
    {
      "cell_type": "code",
      "metadata": {
        "id": "AgUrxWACQ2wX"
      },
      "source": [
        "seq = Input(shape=(num_words,))\n",
        "x = Dense(64, activation='relu', kernel_regularizer=regularizers.l2(0.005))(seq)\n",
        "x = Dropout(0.5)(x)\n",
        "x = Dense(16, activation='relu', kernel_regularizer=regularizers.l2(0.005))(x)\n",
        "x = Dropout(0.5)(x)\n",
        "x = Dense(1, activation='sigmoid')(x)\n",
        "mixed_model = Model(seq, x)"
      ],
      "execution_count": 54,
      "outputs": []
    },
    {
      "cell_type": "code",
      "metadata": {
        "id": "6YR5FNpiRCzS"
      },
      "source": [
        "adam=optimizers.Adam(lr=0.001)\n",
        "mixed_model.compile(optimizer='adam',loss='binary_crossentropy',metrics=['accuracy'])"
      ],
      "execution_count": 55,
      "outputs": []
    },
    {
      "cell_type": "code",
      "metadata": {
        "colab": {
          "base_uri": "https://localhost:8080/"
        },
        "id": "6Ch7FC2BRTKv",
        "outputId": "07770368-f1d0-479b-f33c-07952b3a8bd7"
      },
      "source": [
        "mixed_history=mixed_model.fit(x_train,y_train,epochs=5,batch_size=512,validation_data=(x_test,y_test),verbose=1 )"
      ],
      "execution_count": 56,
      "outputs": [
        {
          "output_type": "stream",
          "text": [
            "Epoch 1/5\n",
            "49/49 [==============================] - 1s 12ms/step - loss: 1.2134 - accuracy: 0.4991 - val_loss: 0.8710 - val_accuracy: 0.5000\n",
            "Epoch 2/5\n",
            "49/49 [==============================] - 0s 8ms/step - loss: 0.8263 - accuracy: 0.5013 - val_loss: 0.7454 - val_accuracy: 0.5000\n",
            "Epoch 3/5\n",
            "49/49 [==============================] - 0s 9ms/step - loss: 0.7351 - accuracy: 0.5001 - val_loss: 0.7148 - val_accuracy: 0.5000\n",
            "Epoch 4/5\n",
            "49/49 [==============================] - 0s 8ms/step - loss: 0.7114 - accuracy: 0.5006 - val_loss: 0.7036 - val_accuracy: 0.5000\n",
            "Epoch 5/5\n",
            "49/49 [==============================] - 0s 8ms/step - loss: 0.7020 - accuracy: 0.5018 - val_loss: 0.6982 - val_accuracy: 0.5000\n"
          ],
          "name": "stdout"
        }
      ]
    },
    {
      "cell_type": "markdown",
      "metadata": {
        "id": "DDjt8OPTRlpR"
      },
      "source": [
        "Early Stopping"
      ]
    },
    {
      "cell_type": "markdown",
      "metadata": {
        "id": "zPyYgiPYRsXL"
      },
      "source": [
        "Early stopping is a method that allows you to stop training as soon as the model performance stops improving on the validation dataset.\n",
        "This requires that a validation set must be provided to the fit() function.Early stopping can be simply implemented in keras using callbacks.A callback is a function taht is called at specific stages of the training procedure: start/end of epochs, start end of minibatches, etc.You can use callbacks to get a view on internal states and statistics of the model during training. A list of callbacks can be passed to the .fit() function using the keyword argument \\\"callbacks\\"
      ]
    },
    {
      "cell_type": "markdown",
      "metadata": {
        "id": "AZwB-0KuSh-W"
      },
      "source": [
        "Early stopping is a technicque in which our loss function is not iimproving anymore\n",
        "There are generally two ways of doing this\n",
        "1. keras\n",
        "2. do not use fit function anymore u can use the random batch \n",
        "or ALternatively use callbacks ,callbacks are the functions automatically used by the system during training\n",
        "\n"
      ]
    },
    {
      "cell_type": "markdown",
      "metadata": {
        "id": "nuh79faCURGm"
      },
      "source": [
        "ModelCheckpoint - It is a checkpoint which is saving the checkpoint of the model basically the weights \n",
        "i.e the states of the optmizers,learning rate \n",
        "\n",
        "We can replace the old checkpoint if the previous one is better \n",
        "checkpoint takes lot of memory"
      ]
    },
    {
      "cell_type": "code",
      "metadata": {
        "colab": {
          "base_uri": "https://localhost:8080/",
          "height": 757
        },
        "id": "n8K3w92sR45k",
        "outputId": "abfe3d3c-de5c-4a9c-8aac-47514e8c6bdb"
      },
      "source": [
        "from keras.callbacks import EarlyStopping, ModelCheckpoint\n",
        "import os\n",
        "\n",
        "saveDir = os.path.join(os.getcwd(), 'saved_models')\n",
        "if not os.path.isdir(saveDir):\n",
        "  os.makedirs(saveDir)\n",
        "\n",
        "mixed_model.load_weights(saveDir + 'Cifar10_to256.hdf5')\n",
        "es_cb = EarlyStopping(monitor='val_loss', patience=3, verbose=1, mode='auto')\n",
        "chkpt = saveDir + 'Cifar10_to256.hdf5'\n",
        "cp_cb = ModelCheckpoint(filepath = chkpt, monitor='val_loss', verbose=1, save_best_only=True, mode='auto')"
      ],
      "execution_count": 58,
      "outputs": [
        {
          "output_type": "error",
          "ename": "OSError",
          "evalue": "ignored",
          "traceback": [
            "\u001b[0;31m---------------------------------------------------------------------------\u001b[0m",
            "\u001b[0;31mOSError\u001b[0m                                   Traceback (most recent call last)",
            "\u001b[0;32m<ipython-input-58-78e5b9656c40>\u001b[0m in \u001b[0;36m<module>\u001b[0;34m()\u001b[0m\n\u001b[1;32m      6\u001b[0m   \u001b[0mos\u001b[0m\u001b[0;34m.\u001b[0m\u001b[0mmakedirs\u001b[0m\u001b[0;34m(\u001b[0m\u001b[0msaveDir\u001b[0m\u001b[0;34m)\u001b[0m\u001b[0;34m\u001b[0m\u001b[0;34m\u001b[0m\u001b[0m\n\u001b[1;32m      7\u001b[0m \u001b[0;34m\u001b[0m\u001b[0m\n\u001b[0;32m----> 8\u001b[0;31m \u001b[0mmixed_model\u001b[0m\u001b[0;34m.\u001b[0m\u001b[0mload_weights\u001b[0m\u001b[0;34m(\u001b[0m\u001b[0msaveDir\u001b[0m \u001b[0;34m+\u001b[0m \u001b[0;34m'Cifar10_to256.hdf5'\u001b[0m\u001b[0;34m)\u001b[0m\u001b[0;34m\u001b[0m\u001b[0;34m\u001b[0m\u001b[0m\n\u001b[0m\u001b[1;32m      9\u001b[0m \u001b[0mes_cb\u001b[0m \u001b[0;34m=\u001b[0m \u001b[0mEarlyStopping\u001b[0m\u001b[0;34m(\u001b[0m\u001b[0mmonitor\u001b[0m\u001b[0;34m=\u001b[0m\u001b[0;34m'val_loss'\u001b[0m\u001b[0;34m,\u001b[0m \u001b[0mpatience\u001b[0m\u001b[0;34m=\u001b[0m\u001b[0;36m3\u001b[0m\u001b[0;34m,\u001b[0m \u001b[0mverbose\u001b[0m\u001b[0;34m=\u001b[0m\u001b[0;36m1\u001b[0m\u001b[0;34m,\u001b[0m \u001b[0mmode\u001b[0m\u001b[0;34m=\u001b[0m\u001b[0;34m'auto'\u001b[0m\u001b[0;34m)\u001b[0m\u001b[0;34m\u001b[0m\u001b[0;34m\u001b[0m\u001b[0m\n\u001b[1;32m     10\u001b[0m \u001b[0mchkpt\u001b[0m \u001b[0;34m=\u001b[0m \u001b[0msaveDir\u001b[0m \u001b[0;34m+\u001b[0m \u001b[0;34m'Cifar10_to256.hdf5'\u001b[0m\u001b[0;34m\u001b[0m\u001b[0;34m\u001b[0m\u001b[0m\n",
            "\u001b[0;32m/usr/local/lib/python3.7/dist-packages/tensorflow/python/keras/engine/training.py\u001b[0m in \u001b[0;36mload_weights\u001b[0;34m(self, filepath, by_name, skip_mismatch, options)\u001b[0m\n\u001b[1;32m   2225\u001b[0m           'first, then load the weights.')\n\u001b[1;32m   2226\u001b[0m     \u001b[0mself\u001b[0m\u001b[0;34m.\u001b[0m\u001b[0m_assert_weights_created\u001b[0m\u001b[0;34m(\u001b[0m\u001b[0;34m)\u001b[0m\u001b[0;34m\u001b[0m\u001b[0;34m\u001b[0m\u001b[0m\n\u001b[0;32m-> 2227\u001b[0;31m     \u001b[0;32mwith\u001b[0m \u001b[0mh5py\u001b[0m\u001b[0;34m.\u001b[0m\u001b[0mFile\u001b[0m\u001b[0;34m(\u001b[0m\u001b[0mfilepath\u001b[0m\u001b[0;34m,\u001b[0m \u001b[0;34m'r'\u001b[0m\u001b[0;34m)\u001b[0m \u001b[0;32mas\u001b[0m \u001b[0mf\u001b[0m\u001b[0;34m:\u001b[0m\u001b[0;34m\u001b[0m\u001b[0;34m\u001b[0m\u001b[0m\n\u001b[0m\u001b[1;32m   2228\u001b[0m       \u001b[0;32mif\u001b[0m \u001b[0;34m'layer_names'\u001b[0m \u001b[0;32mnot\u001b[0m \u001b[0;32min\u001b[0m \u001b[0mf\u001b[0m\u001b[0;34m.\u001b[0m\u001b[0mattrs\u001b[0m \u001b[0;32mand\u001b[0m \u001b[0;34m'model_weights'\u001b[0m \u001b[0;32min\u001b[0m \u001b[0mf\u001b[0m\u001b[0;34m:\u001b[0m\u001b[0;34m\u001b[0m\u001b[0;34m\u001b[0m\u001b[0m\n\u001b[1;32m   2229\u001b[0m         \u001b[0mf\u001b[0m \u001b[0;34m=\u001b[0m \u001b[0mf\u001b[0m\u001b[0;34m[\u001b[0m\u001b[0;34m'model_weights'\u001b[0m\u001b[0;34m]\u001b[0m\u001b[0;34m\u001b[0m\u001b[0;34m\u001b[0m\u001b[0m\n",
            "\u001b[0;32m/usr/local/lib/python3.7/dist-packages/h5py/_hl/files.py\u001b[0m in \u001b[0;36m__init__\u001b[0;34m(self, name, mode, driver, libver, userblock_size, swmr, rdcc_nslots, rdcc_nbytes, rdcc_w0, track_order, **kwds)\u001b[0m\n\u001b[1;32m    406\u001b[0m                 fid = make_fid(name, mode, userblock_size,\n\u001b[1;32m    407\u001b[0m                                \u001b[0mfapl\u001b[0m\u001b[0;34m,\u001b[0m \u001b[0mfcpl\u001b[0m\u001b[0;34m=\u001b[0m\u001b[0mmake_fcpl\u001b[0m\u001b[0;34m(\u001b[0m\u001b[0mtrack_order\u001b[0m\u001b[0;34m=\u001b[0m\u001b[0mtrack_order\u001b[0m\u001b[0;34m)\u001b[0m\u001b[0;34m,\u001b[0m\u001b[0;34m\u001b[0m\u001b[0;34m\u001b[0m\u001b[0m\n\u001b[0;32m--> 408\u001b[0;31m                                swmr=swmr)\n\u001b[0m\u001b[1;32m    409\u001b[0m \u001b[0;34m\u001b[0m\u001b[0m\n\u001b[1;32m    410\u001b[0m             \u001b[0;32mif\u001b[0m \u001b[0misinstance\u001b[0m\u001b[0;34m(\u001b[0m\u001b[0mlibver\u001b[0m\u001b[0;34m,\u001b[0m \u001b[0mtuple\u001b[0m\u001b[0;34m)\u001b[0m\u001b[0;34m:\u001b[0m\u001b[0;34m\u001b[0m\u001b[0;34m\u001b[0m\u001b[0m\n",
            "\u001b[0;32m/usr/local/lib/python3.7/dist-packages/h5py/_hl/files.py\u001b[0m in \u001b[0;36mmake_fid\u001b[0;34m(name, mode, userblock_size, fapl, fcpl, swmr)\u001b[0m\n\u001b[1;32m    171\u001b[0m         \u001b[0;32mif\u001b[0m \u001b[0mswmr\u001b[0m \u001b[0;32mand\u001b[0m \u001b[0mswmr_support\u001b[0m\u001b[0;34m:\u001b[0m\u001b[0;34m\u001b[0m\u001b[0;34m\u001b[0m\u001b[0m\n\u001b[1;32m    172\u001b[0m             \u001b[0mflags\u001b[0m \u001b[0;34m|=\u001b[0m \u001b[0mh5f\u001b[0m\u001b[0;34m.\u001b[0m\u001b[0mACC_SWMR_READ\u001b[0m\u001b[0;34m\u001b[0m\u001b[0;34m\u001b[0m\u001b[0m\n\u001b[0;32m--> 173\u001b[0;31m         \u001b[0mfid\u001b[0m \u001b[0;34m=\u001b[0m \u001b[0mh5f\u001b[0m\u001b[0;34m.\u001b[0m\u001b[0mopen\u001b[0m\u001b[0;34m(\u001b[0m\u001b[0mname\u001b[0m\u001b[0;34m,\u001b[0m \u001b[0mflags\u001b[0m\u001b[0;34m,\u001b[0m \u001b[0mfapl\u001b[0m\u001b[0;34m=\u001b[0m\u001b[0mfapl\u001b[0m\u001b[0;34m)\u001b[0m\u001b[0;34m\u001b[0m\u001b[0;34m\u001b[0m\u001b[0m\n\u001b[0m\u001b[1;32m    174\u001b[0m     \u001b[0;32melif\u001b[0m \u001b[0mmode\u001b[0m \u001b[0;34m==\u001b[0m \u001b[0;34m'r+'\u001b[0m\u001b[0;34m:\u001b[0m\u001b[0;34m\u001b[0m\u001b[0;34m\u001b[0m\u001b[0m\n\u001b[1;32m    175\u001b[0m         \u001b[0mfid\u001b[0m \u001b[0;34m=\u001b[0m \u001b[0mh5f\u001b[0m\u001b[0;34m.\u001b[0m\u001b[0mopen\u001b[0m\u001b[0;34m(\u001b[0m\u001b[0mname\u001b[0m\u001b[0;34m,\u001b[0m \u001b[0mh5f\u001b[0m\u001b[0;34m.\u001b[0m\u001b[0mACC_RDWR\u001b[0m\u001b[0;34m,\u001b[0m \u001b[0mfapl\u001b[0m\u001b[0;34m=\u001b[0m\u001b[0mfapl\u001b[0m\u001b[0;34m)\u001b[0m\u001b[0;34m\u001b[0m\u001b[0;34m\u001b[0m\u001b[0m\n",
            "\u001b[0;32mh5py/_objects.pyx\u001b[0m in \u001b[0;36mh5py._objects.with_phil.wrapper\u001b[0;34m()\u001b[0m\n",
            "\u001b[0;32mh5py/_objects.pyx\u001b[0m in \u001b[0;36mh5py._objects.with_phil.wrapper\u001b[0;34m()\u001b[0m\n",
            "\u001b[0;32mh5py/h5f.pyx\u001b[0m in \u001b[0;36mh5py.h5f.open\u001b[0;34m()\u001b[0m\n",
            "\u001b[0;31mOSError\u001b[0m: Unable to open file (unable to open file: name = '/content/saved_modelsCifar10_to256.hdf5', errno = 2, error message = 'No such file or directory', flags = 0, o_flags = 0)"
          ]
        }
      ]
    },
    {
      "cell_type": "code",
      "metadata": {
        "colab": {
          "base_uri": "https://localhost:8080/",
          "height": 195
        },
        "id": "bv2r4N9AU6Ub",
        "outputId": "f88c26b3-5644-44d9-88d5-d6154543765e"
      },
      "source": [
        "mixed_model.fit(x_train, y_train,\n",
        "batch_size=512, #batch_size,\\n\",\n",
        "epochs= 20,verbose=1,validation_data=(x_test,y_test),callbacks=[es_cb, cp_cb],shuffle=True)"
      ],
      "execution_count": 59,
      "outputs": [
        {
          "output_type": "error",
          "ename": "NameError",
          "evalue": "ignored",
          "traceback": [
            "\u001b[0;31m---------------------------------------------------------------------------\u001b[0m",
            "\u001b[0;31mNameError\u001b[0m                                 Traceback (most recent call last)",
            "\u001b[0;32m<ipython-input-59-602b00cddcf5>\u001b[0m in \u001b[0;36m<module>\u001b[0;34m()\u001b[0m\n\u001b[1;32m      1\u001b[0m mixed_model.fit(x_train, y_train,\n\u001b[1;32m      2\u001b[0m \u001b[0mbatch_size\u001b[0m\u001b[0;34m=\u001b[0m\u001b[0;36m512\u001b[0m\u001b[0;34m,\u001b[0m \u001b[0;31m#batch_size,\\n\",\u001b[0m\u001b[0;34m\u001b[0m\u001b[0;34m\u001b[0m\u001b[0m\n\u001b[0;32m----> 3\u001b[0;31m epochs= 20,verbose=1,validation_data=(x_test,y_test),callbacks=[es_cb, cp_cb],shuffle=True)\n\u001b[0m",
            "\u001b[0;31mNameError\u001b[0m: name 'es_cb' is not defined"
          ]
        }
      ]
    },
    {
      "cell_type": "code",
      "metadata": {
        "colab": {
          "base_uri": "https://localhost:8080/",
          "height": 128
        },
        "id": "1xK-6-z5VLJt",
        "outputId": "6e923399-6a26-4e97-e405-7b9708558395"
      },
      "source": [
        "loss,acc = mixed_model.evaluate(x_test,y_test)\n",
        "print(\\\"test loss = \\\", loss)\n",
        "print(\\\"test accuracy = \\\", acc)"
      ],
      "execution_count": 60,
      "outputs": [
        {
          "output_type": "error",
          "ename": "SyntaxError",
          "evalue": "ignored",
          "traceback": [
            "\u001b[0;36m  File \u001b[0;32m\"<ipython-input-60-3eef0e11fb2e>\"\u001b[0;36m, line \u001b[0;32m2\u001b[0m\n\u001b[0;31m    print(\\\"test loss = \\\", loss)\u001b[0m\n\u001b[0m                                 ^\u001b[0m\n\u001b[0;31mSyntaxError\u001b[0m\u001b[0;31m:\u001b[0m unexpected character after line continuation character\n"
          ]
        }
      ]
    },
    {
      "cell_type": "markdown",
      "metadata": {
        "id": "i2H0yjG9WIPk"
      },
      "source": [
        "We can see here after 5th epoch our loss function still didn't improve \n",
        "But at some point again it started to improve and we save the checkpoint there after thatit didn't improve with three consecutive numbers so we stop at the eight epoch"
      ]
    }
  ]
}