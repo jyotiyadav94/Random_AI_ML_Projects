{
  "nbformat": 4,
  "nbformat_minor": 0,
  "metadata": {
    "colab": {
      "name": "MyFirstNN.ipynb",
      "provenance": []
    },
    "kernelspec": {
      "name": "python3",
      "display_name": "Python 3"
    },
    "language_info": {
      "name": "python"
    }
  },
  "cells": [
    {
      "cell_type": "code",
      "metadata": {
        "id": "Uib49M8cywvM"
      },
      "source": [
        "#\"This is a very simple example of neural network. Its purpose is to approximate an unknown single valued function using a dense deep network. \\n\",\n",
        "#\"The user is invited to play with it, modifying:\\n\",\n",
        "#\"1. the hidden function\\n\",\n",
        "#\"2. the number of layers and neurons per layer\\n\",\n",
        "#\"3. activation functions, number of epochs, and so on.\""
      ],
      "execution_count": null,
      "outputs": []
    },
    {
      "cell_type": "code",
      "metadata": {
        "id": "WWvemv16y-b2"
      },
      "source": [
        "from keras.layers import Input,Dense\n",
        "# Input and dense - dense layer is usually called the linear layer in pytorch\n",
        "from keras.models import Model\n",
        "# Model \n",
        "import numpy as np \n",
        "import matplotlib.pyplot as plt"
      ],
      "execution_count": null,
      "outputs": []
    },
    {
      "cell_type": "code",
      "metadata": {
        "id": "Wg_qxr9OzWPI"
      },
      "source": [
        "#\\\"myhiddenfunction\\\" is the definition of the function you want to approximate by means of a neural network (NN). \n",
        "#The definition is hidden to the NN, who can only access it as a blackbox, to get training samples. \\n\",\n",
        "#\"This is implemented by means of a generator (a special kind of function), taking in input a number (batchsize) and \n",
        "#returning a pair of input output vectors of length batchsize. Each input is a random number in the interval [-pi,pi] and \n",
        "#the output is computed by means of myhiddenfunction.\""
      ],
      "execution_count": null,
      "outputs": []
    },
    {
      "cell_type": "code",
      "metadata": {
        "id": "fGMMZZu93wTm"
      },
      "source": [
        "#the functionality  of the hidden function can be anything you can change it \n",
        "def myhidden(x):\n",
        "  return (np.sin(x)**2+np.cos(x)/3+1)/3\n",
        "\n",
        "#generator is a function which is going t o be passed to the neural network during the training phase \n",
        "# It is going to randomly generate the training sample with the batchhsize \n",
        "def generator(batchsize):\n",
        "  while True:\n",
        "    inputs=np.random.uniform(low=np.pi,high=np.pi,size=batchsize)\n",
        "    outputs=np.zeros(batchsize)\n",
        "    for i in range(0,batchsize):\n",
        "      outputs[i]=myhidden(inputs[i])\n",
        "    yield (inputs,outputs)"
      ],
      "execution_count": null,
      "outputs": []
    },
    {
      "cell_type": "code",
      "metadata": {
        "colab": {
          "base_uri": "https://localhost:8080/"
        },
        "id": "hRwTPd-m9W3i",
        "outputId": "b00e7ea5-ccde-4b42-85cd-ebfce3be06ed"
      },
      "source": [
        "print(next(generator(5)))"
      ],
      "execution_count": null,
      "outputs": [
        {
          "output_type": "stream",
          "text": [
            "(array([3.14159265, 3.14159265, 3.14159265, 3.14159265, 3.14159265]), array([0.22222222, 0.22222222, 0.22222222, 0.22222222, 0.22222222]))\n"
          ],
          "name": "stdout"
        }
      ]
    },
    {
      "cell_type": "code",
      "metadata": {
        "id": "oxWnr7mZ93DN"
      },
      "source": [
        "#Input(shape=(1)) This is the input layer 1 \n",
        "#x we have 20 output layer with the first dense layer \n",
        "# Then we have a second dense layer \n",
        "\n",
        "myfirstlayer=Dense(20,activation='relu')\n",
        "\n",
        "input_layer=Input(shape=(1,))\n",
        "x=myfirstlayer(input_layer)\n",
        "x=Dense(20,activation='relu')(x)\n",
        "#20 we specify the number of output neurons \n",
        "x=Dense(20,activation='relu')(x)\n",
        "output_layer=Dense(1,activation='relu')(x)\n",
        "\n",
        "mymodel=Model(input_layer,output_layer)"
      ],
      "execution_count": null,
      "outputs": []
    },
    {
      "cell_type": "code",
      "metadata": {
        "colab": {
          "base_uri": "https://localhost:8080/"
        },
        "id": "F0GBUAu--_Sv",
        "outputId": "19c3e9da-1738-4ca7-c2f2-241c6d3135c5"
      },
      "source": [
        "mymodel.summary()"
      ],
      "execution_count": null,
      "outputs": [
        {
          "output_type": "stream",
          "text": [
            "Model: \"model_1\"\n",
            "_________________________________________________________________\n",
            "Layer (type)                 Output Shape              Param #   \n",
            "=================================================================\n",
            "input_2 (InputLayer)         [(None, 1)]               0         \n",
            "_________________________________________________________________\n",
            "dense_4 (Dense)              (None, 20)                40        \n",
            "_________________________________________________________________\n",
            "dense_5 (Dense)              (None, 20)                420       \n",
            "_________________________________________________________________\n",
            "dense_6 (Dense)              (None, 20)                420       \n",
            "_________________________________________________________________\n",
            "dense_7 (Dense)              (None, 1)                 21        \n",
            "=================================================================\n",
            "Total params: 901\n",
            "Trainable params: 901\n",
            "Non-trainable params: 0\n",
            "_________________________________________________________________\n"
          ],
          "name": "stdout"
        }
      ]
    },
    {
      "cell_type": "markdown",
      "metadata": {
        "id": "slxkuahzVOmN"
      },
      "source": [
        "In NN not all the parameters are trainable some are not trainable \n",
        "Try to be sure you correctly understand the number of learning parameters for each layer.For a dense layer with n inputs and m outputs neurons you have n*m weights +biass.For instance for 20-to 30 layer we have 20*30+30=630 parameters"
      ]
    },
    {
      "cell_type": "code",
      "metadata": {
        "id": "_KiiZMt6YRc6"
      },
      "source": [
        "mymodel.compile(optimizer='adam',loss='mse')"
      ],
      "execution_count": null,
      "outputs": []
    },
    {
      "cell_type": "code",
      "metadata": {
        "colab": {
          "base_uri": "https://localhost:8080/"
        },
        "id": "GQN013uRYjZm",
        "outputId": "08598d17-283e-4078-d068-d673f758dabb"
      },
      "source": [
        "batchsize=64\n",
        "mymodel.fit_generator(generator(batchsize),steps_per_epoch=1000,epochs=10)\n",
        "#we say we are fitting the model when we have trained the model on a trained set\n",
        "# https://diamondage.com/2017/06/03/what-does-it-mean-to-fit-a-model-anyway/ "
      ],
      "execution_count": null,
      "outputs": [
        {
          "output_type": "stream",
          "text": [
            "/usr/local/lib/python3.7/dist-packages/tensorflow/python/keras/engine/training.py:1844: UserWarning: `Model.fit_generator` is deprecated and will be removed in a future version. Please use `Model.fit`, which supports generators.\n",
            "  warnings.warn('`Model.fit_generator` is deprecated and '\n"
          ],
          "name": "stderr"
        },
        {
          "output_type": "stream",
          "text": [
            "Epoch 1/10\n",
            "1000/1000 [==============================] - 2s 2ms/step - loss: 2.7114e-05\n",
            "Epoch 2/10\n",
            "1000/1000 [==============================] - 2s 2ms/step - loss: 2.2204e-16\n",
            "Epoch 3/10\n",
            "1000/1000 [==============================] - 2s 2ms/step - loss: 2.2204e-16\n",
            "Epoch 4/10\n",
            "1000/1000 [==============================] - 2s 2ms/step - loss: 3.6139e-06\n",
            "Epoch 5/10\n",
            "1000/1000 [==============================] - 2s 2ms/step - loss: 1.6413e-16\n",
            "Epoch 6/10\n",
            "1000/1000 [==============================] - 2s 2ms/step - loss: 0.0000e+00\n",
            "Epoch 7/10\n",
            "1000/1000 [==============================] - 2s 2ms/step - loss: 0.0000e+00\n",
            "Epoch 8/10\n",
            "1000/1000 [==============================] - 2s 2ms/step - loss: 0.0000e+00\n",
            "Epoch 9/10\n",
            "1000/1000 [==============================] - 2s 2ms/step - loss: 0.0000e+00\n",
            "Epoch 10/10\n",
            "1000/1000 [==============================] - 2s 2ms/step - loss: 0.0000e+00\n"
          ],
          "name": "stdout"
        },
        {
          "output_type": "execute_result",
          "data": {
            "text/plain": [
              "<tensorflow.python.keras.callbacks.History at 0x7fcdb2d9ac10>"
            ]
          },
          "metadata": {
            "tags": []
          },
          "execution_count": 17
        }
      ]
    },
    {
      "cell_type": "code",
      "metadata": {
        "id": "bORzuJivcKCh"
      },
      "source": [
        "#If everything is working correctly the loss should decrease during the training \n",
        "# if it doesn't it means for some reason your model is not learning \n",
        "# we are finally ready to check the result of the approximation .We plot the hidden function in red and the approximation computed by te netwrk in blue "
      ],
      "execution_count": null,
      "outputs": []
    },
    {
      "cell_type": "code",
      "metadata": {
        "colab": {
          "base_uri": "https://localhost:8080/",
          "height": 266
        },
        "id": "xELG5KmlcjaD",
        "outputId": "fbc868b6-1971-4563-a9a0-51b5d1e0577e"
      },
      "source": [
        "x=np.arange(-np.pi,np.pi,0.05)\n",
        "y=[myhidden(a) for a in x]\n",
        "z=[z[0] for z in mymodel.predict(np.array(x))]\n",
        "plt.plot(x,y,'r',x,z,'b')\n",
        "plt.show()"
      ],
      "execution_count": null,
      "outputs": [
        {
          "output_type": "display_data",
          "data": {
            "image/png": "[encoded data removed]",
            "text/plain": [
              "<Figure size 432x288 with 1 Axes>"
            ]
          },
          "metadata": {
            "tags": [],
            "needs_background": "light"
          }
        }
      ]
    }
  ]
}