{
  "nbformat": 4,
  "nbformat_minor": 0,
  "metadata": {
    "colab": {
      "name": "Untitled20.ipynb",
      "provenance": []
    },
    "kernelspec": {
      "name": "python3",
      "display_name": "Python 3"
    },
    "language_info": {
      "name": "python"
    }
  },
  "cells": [
    {
      "cell_type": "markdown",
      "source": [
        "#Understanding Pytorch Loss Functions:The maths and algorithms"
      ],
      "metadata": {
        "id": "V1uy4tm6kHuw"
      }
    },
    {
      "cell_type": "markdown",
      "source": [
        "Just like humans machine learns from its past mistakes.These mistakes are formally termed as losses and are computed by a function (i.e loss function).If the prediction of a machine learning algorithm is further from the ground truth, then the loss function will appear to be large and vice versa, Thus the objective of any learning process would be to miniize such losses so that the resulting output would be closesly match the real-world labels."
      ],
      "metadata": {
        "id": "eiOxRyjjkSuu"
      }
    },
    {
      "cell_type": "markdown",
      "source": [
        "##Regression Loss Functions"
      ],
      "metadata": {
        "id": "b9sHuJ7QlM22"
      }
    },
    {
      "cell_type": "markdown",
      "source": [
        "### Mean Absolute Error (L1 Loss)"
      ],
      "metadata": {
        "id": "acpqfIvqlQAr"
      }
    },
    {
      "cell_type": "code",
      "source": [
        "import numpy as np\n",
        "\n",
        "y_pred=np.array([0.000, 0.100, 0.200])\n",
        "y_true=np.array([0.000, 0.200, 0.250])\n",
        "\n",
        "#Defining Mean Absolute Error Loss function\n",
        "def mae(pred,true):\n",
        "  #get abolsute difference\n",
        "  difference=pred-true\n",
        "  absolute_difference =np.absolute(difference)\n",
        "\n",
        "  #get the mean\n",
        "  mean_absolute_error=absolute_difference.mean()\n",
        "  return mean_absolute_error\n",
        "\n",
        "mae_value = mae(y_pred, y_true)\n",
        "print (\"MAE error is: \" + str(mae_value))"
      ],
      "metadata": {
        "colab": {
          "base_uri": "https://localhost:8080/"
        },
        "id": "7l_V5bHilX1K",
        "outputId": "03c706f5-f5c9-45da-de72-9819a5561699"
      },
      "execution_count": 5,
      "outputs": [
        {
          "output_type": "stream",
          "name": "stdout",
          "text": [
            "MAE error is: 0.049999999999999996\n"
          ]
        }
      ]
    },
    {
      "cell_type": "markdown",
      "source": [
        "## PyTorch Implementation: MAE"
      ],
      "metadata": {
        "id": "bOnAIep8mR34"
      }
    },
    {
      "cell_type": "code",
      "source": [
        "import torch\n",
        "mae_loss = torch.nn.L1Loss()\n",
        "input = torch.randn(2, 3, requires_grad=True)\n",
        "target = torch.randn(2, 3)\n",
        "output = mae_loss(input, target)\n",
        "output.backward()"
      ],
      "metadata": {
        "id": "AWzIe2cLmUF0"
      },
      "execution_count": 6,
      "outputs": []
    },
    {
      "cell_type": "markdown",
      "source": [
        "## Mean-Squared Error (L2 Loss)"
      ],
      "metadata": {
        "id": "sIuicYzLmY2Q"
      }
    },
    {
      "cell_type": "code",
      "execution_count": 1,
      "metadata": {
        "colab": {
          "base_uri": "https://localhost:8080/"
        },
        "id": "gRoOibgZhsCW",
        "outputId": "4461cfdf-a377-4190-b6ef-3503612010fb"
      },
      "outputs": [
        {
          "output_type": "stream",
          "name": "stdout",
          "text": [
            "MSE error is:0.004166666666666667\n"
          ]
        }
      ],
      "source": [
        "import numpy as np\n",
        "\n",
        "y_pred=np.array([0.000, 0.100, 0.200])\n",
        "y_true=np.array([0.000, 0.200, 0.250])\n",
        "\n",
        "#defining mean squared error loss function\n",
        "def mse(pred,true):\n",
        "  differences=pred-true\n",
        "  squared_differences=differences**2\n",
        "\n",
        "  #get the mean\n",
        "  mean_squared_error=squared_differences.mean()\n",
        "  return mean_squared_error\n",
        "\n",
        "mse_value=mse(y_pred,y_true)\n",
        "print('MSE error is:'+str(mse_value))"
      ]
    },
    {
      "cell_type": "code",
      "source": [
        "import torch\n",
        "mse_loss = torch.nn.MSELoss()\n",
        "input = torch.randn(2, 3, requires_grad=True)\n",
        "target = torch.randn(2, 3)\n",
        "output = mse_loss(input, target)\n",
        "output.backward()"
      ],
      "metadata": {
        "id": "UzZ5DhDomcJ_"
      },
      "execution_count": 7,
      "outputs": []
    },
    {
      "cell_type": "markdown",
      "source": [
        "## Binary cross entrophy"
      ],
      "metadata": {
        "id": "GMFBHzRZiv-p"
      }
    },
    {
      "cell_type": "code",
      "source": [
        "import numpy as np\n",
        "\n",
        "y_pred=np.array([0.1880, 0.4137, 0.2285])\n",
        "y_true=np.array([0.0, 1.0, 0.0]) #2 labels: (0,1)\n",
        "\n",
        "def BCE(y_pred,y_true):\n",
        "  total_bce_loss=np.sum(-y_true*np.log(y_pred)-(1-y_true)*np.log(1-y_pred))\n",
        "  # Get the mean BCE loss\n",
        "  num_of_samples = y_pred.shape[0]\n",
        "  mean_bce_loss = total_bce_loss / num_of_samples\n",
        "  return mean_bce_loss\n",
        "\n",
        "bce_value=BCE(y_pred, y_true)\n",
        "print (\"BCE error is: \" + str(bce_value))"
      ],
      "metadata": {
        "colab": {
          "base_uri": "https://localhost:8080/"
        },
        "id": "k5j0XYnSiyEG",
        "outputId": "cd5fb405-3a6e-42bb-d77a-321662f8a59e"
      },
      "execution_count": 2,
      "outputs": [
        {
          "output_type": "stream",
          "name": "stdout",
          "text": [
            "BCE error is: 0.4500959171713839\n"
          ]
        }
      ]
    },
    {
      "cell_type": "code",
      "source": [
        "import torch\n",
        "bce_loss = torch.nn.BCELoss()\n",
        "sigmoid = torch.nn.Sigmoid() # Ensuring inputs are between 0 and 1\n",
        "input = torch.randn(3, requires_grad=True)\n",
        "target = torch.empty(3).random_(2)\n",
        "output = bce_loss(sigmoid(input), target)\n",
        "output.backward()"
      ],
      "metadata": {
        "id": "SXUVbMKtmf_f"
      },
      "execution_count": 8,
      "outputs": []
    },
    {
      "cell_type": "markdown",
      "source": [
        "## Categorical Cross Entropy (ie. Negative Log-Likelihood + Log Softmax)\n"
      ],
      "metadata": {
        "id": "lNNTxsEGj3dp"
      }
    },
    {
      "cell_type": "code",
      "source": [
        "import numpy as np\n",
        "y_pred = np.array([0.1880, 0.4137, 0.2285])\n",
        "y_true = np.array([0.0, 1.0, 0.0])\n",
        "def CCE(y_pred, y_true):\n",
        "    total_cce_loss = np.sum(-y_true * np.log(y_pred) - (1 - y_true) * np.log(1 - y_pred))\n",
        "    # Get the mean CCE loss\n",
        "    num_of_samples = y_pred.shape[0]\n",
        "    mean_cce_loss = total_cce_loss / num_of_samples\n",
        "    \n",
        "    return mean_cce_loss\n",
        "cce_value = CCE(y_pred, y_true)\n",
        "print (\"CCE error is: \" + str(cce_value))"
      ],
      "metadata": {
        "colab": {
          "base_uri": "https://localhost:8080/"
        },
        "id": "AMNAxHzdj4Xw",
        "outputId": "62aaf441-b0ae-458d-9392-4d30ba598ea6"
      },
      "execution_count": 3,
      "outputs": [
        {
          "output_type": "stream",
          "name": "stdout",
          "text": [
            "CCE error is: 0.4500959171713839\n"
          ]
        }
      ]
    },
    {
      "cell_type": "code",
      "source": [
        "# import torch\n",
        "# cce_loss = torch.nn.CrossEntropyLoss()\n",
        "# input = torch.randn(2,3, requires_grad=True)\n",
        "# target = torch.empty(2).random_(3) #3 different classes\n",
        "# output = cce_loss(input, target)\n",
        "# output.backward()"
      ],
      "metadata": {
        "id": "7R1Zb4ZQmiOt"
      },
      "execution_count": 10,
      "outputs": []
    }
  ]
}