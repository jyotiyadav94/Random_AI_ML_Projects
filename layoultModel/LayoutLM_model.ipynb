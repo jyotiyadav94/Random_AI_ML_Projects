{
  "nbformat": 4,
  "nbformat_minor": 0,
  "metadata": {
    "colab": {
      "name": "LayoutLM model.ipynb",
      "provenance": []
    },
    "kernelspec": {
      "name": "python3",
      "display_name": "Python 3"
    },
    "language_info": {
      "name": "python"
    }
  },
  "cells": [
    {
      "cell_type": "code",
      "execution_count": 1,
      "metadata": {
        "colab": {
          "base_uri": "https://localhost:8080/"
        },
        "id": "SFiDFkck_Kj4",
        "outputId": "83bfe219-e88a-46f2-c186-23a8427f93c2"
      },
      "outputs": [
        {
          "output_type": "stream",
          "name": "stdout",
          "text": [
            "rm: cannot remove 'unilm': No such file or directory\n",
            "Cloning into 'unilm'...\n",
            "remote: Enumerating objects: 4248, done.\u001b[K\n",
            "remote: Total 4248 (delta 0), reused 0 (delta 0), pack-reused 4248\u001b[K\n",
            "Receiving objects: 100% (4248/4248), 7.29 MiB | 22.15 MiB/s, done.\n",
            "Resolving deltas: 100% (2087/2087), done.\n",
            "Looking in indexes: https://pypi.org/simple, https://us-python.pkg.dev/colab-wheels/public/simple/\n",
            "Processing ./unilm/layoutlm\n",
            "\u001b[33m  DEPRECATION: A future pip version will change local packages to be built in-place without first copying to a temporary directory. We recommend you use --use-feature=in-tree-build to test your packages with this new behavior before it becomes the default.\n",
            "   pip 21.3 will remove support for this functionality. You can find discussion regarding this at https://github.com/pypa/pip/issues/7555.\u001b[0m\n",
            "Collecting transformers==2.9.0\n",
            "  Downloading transformers-2.9.0-py3-none-any.whl (635 kB)\n",
            "\u001b[K     |████████████████████████████████| 635 kB 8.5 MB/s \n",
            "\u001b[?25hCollecting tensorboardX==2.0\n",
            "  Downloading tensorboardX-2.0-py2.py3-none-any.whl (195 kB)\n",
            "\u001b[K     |████████████████████████████████| 195 kB 53.0 MB/s \n",
            "\u001b[?25hCollecting lxml==4.5.1\n",
            "  Downloading lxml-4.5.1-cp37-cp37m-manylinux1_x86_64.whl (5.5 MB)\n",
            "\u001b[K     |████████████████████████████████| 5.5 MB 1.3 MB/s \n",
            "\u001b[?25hCollecting seqeval==0.0.12\n",
            "  Downloading seqeval-0.0.12.tar.gz (21 kB)\n",
            "Requirement already satisfied: Pillow==7.1.2 in /usr/local/lib/python3.7/dist-packages (from layoutlm==0.0) (7.1.2)\n",
            "Requirement already satisfied: numpy>=1.14.0 in /usr/local/lib/python3.7/dist-packages (from seqeval==0.0.12->layoutlm==0.0) (1.21.6)\n",
            "Requirement already satisfied: Keras>=2.2.4 in /usr/local/lib/python3.7/dist-packages (from seqeval==0.0.12->layoutlm==0.0) (2.8.0)\n",
            "Requirement already satisfied: six in /usr/local/lib/python3.7/dist-packages (from tensorboardX==2.0->layoutlm==0.0) (1.15.0)\n",
            "Requirement already satisfied: protobuf>=3.8.0 in /usr/local/lib/python3.7/dist-packages (from tensorboardX==2.0->layoutlm==0.0) (3.17.3)\n",
            "Requirement already satisfied: tqdm>=4.27 in /usr/local/lib/python3.7/dist-packages (from transformers==2.9.0->layoutlm==0.0) (4.64.0)\n",
            "Collecting sentencepiece\n",
            "  Downloading sentencepiece-0.1.96-cp37-cp37m-manylinux_2_17_x86_64.manylinux2014_x86_64.whl (1.2 MB)\n",
            "\u001b[K     |████████████████████████████████| 1.2 MB 43.5 MB/s \n",
            "\u001b[?25hRequirement already satisfied: requests in /usr/local/lib/python3.7/dist-packages (from transformers==2.9.0->layoutlm==0.0) (2.23.0)\n",
            "Collecting sacremoses\n",
            "  Downloading sacremoses-0.0.53.tar.gz (880 kB)\n",
            "\u001b[K     |████████████████████████████████| 880 kB 43.4 MB/s \n",
            "\u001b[?25hCollecting tokenizers==0.7.0\n",
            "  Downloading tokenizers-0.7.0-cp37-cp37m-manylinux1_x86_64.whl (5.6 MB)\n",
            "\u001b[K     |████████████████████████████████| 5.6 MB 36.1 MB/s \n",
            "\u001b[?25hRequirement already satisfied: regex!=2019.12.17 in /usr/local/lib/python3.7/dist-packages (from transformers==2.9.0->layoutlm==0.0) (2019.12.20)\n",
            "Requirement already satisfied: filelock in /usr/local/lib/python3.7/dist-packages (from transformers==2.9.0->layoutlm==0.0) (3.7.0)\n",
            "Requirement already satisfied: chardet<4,>=3.0.2 in /usr/local/lib/python3.7/dist-packages (from requests->transformers==2.9.0->layoutlm==0.0) (3.0.4)\n",
            "Requirement already satisfied: urllib3!=1.25.0,!=1.25.1,<1.26,>=1.21.1 in /usr/local/lib/python3.7/dist-packages (from requests->transformers==2.9.0->layoutlm==0.0) (1.24.3)\n",
            "Requirement already satisfied: idna<3,>=2.5 in /usr/local/lib/python3.7/dist-packages (from requests->transformers==2.9.0->layoutlm==0.0) (2.10)\n",
            "Requirement already satisfied: certifi>=2017.4.17 in /usr/local/lib/python3.7/dist-packages (from requests->transformers==2.9.0->layoutlm==0.0) (2022.5.18.1)\n",
            "Requirement already satisfied: click in /usr/local/lib/python3.7/dist-packages (from sacremoses->transformers==2.9.0->layoutlm==0.0) (7.1.2)\n",
            "Requirement already satisfied: joblib in /usr/local/lib/python3.7/dist-packages (from sacremoses->transformers==2.9.0->layoutlm==0.0) (1.1.0)\n",
            "Building wheels for collected packages: layoutlm, seqeval, sacremoses\n",
            "  Building wheel for layoutlm (setup.py) ... \u001b[?25l\u001b[?25hdone\n",
            "  Created wheel for layoutlm: filename=layoutlm-0.0-py3-none-any.whl size=11487 sha256=e4782bc136e03533a1287b7e03cca62858ebc18431ff093eef88499b703a9679\n",
            "  Stored in directory: /tmp/pip-ephem-wheel-cache-3yihjzxl/wheels/ce/83/11/541e5dad69eb41732abc7eaa2efde047a655aaae9c6df0fe15\n",
            "  Building wheel for seqeval (setup.py) ... \u001b[?25l\u001b[?25hdone\n",
            "  Created wheel for seqeval: filename=seqeval-0.0.12-py3-none-any.whl size=7435 sha256=9ff34d822a35194fb7bcace8d6699606a6be01edf7f6a0cd5d6f38a96f237cc8\n",
            "  Stored in directory: /root/.cache/pip/wheels/dc/cc/62/a3b81f92d35a80e39eb9b2a9d8b31abac54c02b21b2d466edc\n",
            "  Building wheel for sacremoses (setup.py) ... \u001b[?25l\u001b[?25hdone\n",
            "  Created wheel for sacremoses: filename=sacremoses-0.0.53-py3-none-any.whl size=895260 sha256=97af93cce65b5b0c0ea20daf2a266223dab6fef238a4ffffd1d725a56a93267f\n",
            "  Stored in directory: /root/.cache/pip/wheels/87/39/dd/a83eeef36d0bf98e7a4d1933a4ad2d660295a40613079bafc9\n",
            "Successfully built layoutlm seqeval sacremoses\n",
            "Installing collected packages: tokenizers, sentencepiece, sacremoses, transformers, tensorboardX, seqeval, lxml, layoutlm\n",
            "  Attempting uninstall: lxml\n",
            "    Found existing installation: lxml 4.2.6\n",
            "    Uninstalling lxml-4.2.6:\n",
            "      Successfully uninstalled lxml-4.2.6\n",
            "Successfully installed layoutlm-0.0 lxml-4.5.1 sacremoses-0.0.53 sentencepiece-0.1.96 seqeval-0.0.12 tensorboardX-2.0 tokenizers-0.7.0 transformers-2.9.0\n"
          ]
        }
      ],
      "source": [
        "! rm -r unilm\n",
        "! git clone -b remove_torch_save https://github.com/NielsRogge/unilm.git\n",
        "! cd unilm/layoutlm\n",
        "! pip install unilm/layoutlm"
      ]
    },
    {
      "cell_type": "code",
      "source": [
        "! rm -r transformers\n",
        "! git clone https://github.com/huggingface/transformers.git\n",
        "! cd transformers\n",
        "! pip install ./transformers"
      ],
      "metadata": {
        "colab": {
          "base_uri": "https://localhost:8080/"
        },
        "id": "GVo7TIdg_M11",
        "outputId": "ad939b79-9bad-46f9-e682-2128f5525f0a"
      },
      "execution_count": 2,
      "outputs": [
        {
          "output_type": "stream",
          "name": "stdout",
          "text": [
            "rm: cannot remove 'transformers': No such file or directory\n",
            "Cloning into 'transformers'...\n",
            "remote: Enumerating objects: 97301, done.\u001b[K\n",
            "remote: Counting objects: 100% (97/97), done.\u001b[K\n",
            "remote: Compressing objects: 100% (83/83), done.\u001b[K\n",
            "remote: Total 97301 (delta 36), reused 39 (delta 7), pack-reused 97204\u001b[K\n",
            "Receiving objects: 100% (97301/97301), 90.04 MiB | 24.15 MiB/s, done.\n",
            "Resolving deltas: 100% (71555/71555), done.\n",
            "Looking in indexes: https://pypi.org/simple, https://us-python.pkg.dev/colab-wheels/public/simple/\n",
            "Processing ./transformers\n",
            "\u001b[33m  DEPRECATION: A future pip version will change local packages to be built in-place without first copying to a temporary directory. We recommend you use --use-feature=in-tree-build to test your packages with this new behavior before it becomes the default.\n",
            "   pip 21.3 will remove support for this functionality. You can find discussion regarding this at https://github.com/pypa/pip/issues/7555.\u001b[0m\n",
            "  Installing build dependencies ... \u001b[?25l\u001b[?25hdone\n",
            "  Getting requirements to build wheel ... \u001b[?25l\u001b[?25hdone\n",
            "    Preparing wheel metadata ... \u001b[?25l\u001b[?25hdone\n",
            "Collecting pyyaml>=5.1\n",
            "  Downloading PyYAML-6.0-cp37-cp37m-manylinux_2_5_x86_64.manylinux1_x86_64.manylinux_2_12_x86_64.manylinux2010_x86_64.whl (596 kB)\n",
            "\u001b[K     |████████████████████████████████| 596 kB 7.7 MB/s \n",
            "\u001b[?25hRequirement already satisfied: filelock in /usr/local/lib/python3.7/dist-packages (from transformers==4.20.0.dev0) (3.7.0)\n",
            "Requirement already satisfied: packaging>=20.0 in /usr/local/lib/python3.7/dist-packages (from transformers==4.20.0.dev0) (21.3)\n",
            "Requirement already satisfied: tqdm>=4.27 in /usr/local/lib/python3.7/dist-packages (from transformers==4.20.0.dev0) (4.64.0)\n",
            "Collecting huggingface-hub<1.0,>=0.1.0\n",
            "  Downloading huggingface_hub-0.7.0-py3-none-any.whl (86 kB)\n",
            "\u001b[K     |████████████████████████████████| 86 kB 5.5 MB/s \n",
            "\u001b[?25hRequirement already satisfied: requests in /usr/local/lib/python3.7/dist-packages (from transformers==4.20.0.dev0) (2.23.0)\n",
            "Requirement already satisfied: numpy>=1.17 in /usr/local/lib/python3.7/dist-packages (from transformers==4.20.0.dev0) (1.21.6)\n",
            "Collecting tokenizers!=0.11.3,<0.13,>=0.11.1\n",
            "  Downloading tokenizers-0.12.1-cp37-cp37m-manylinux_2_12_x86_64.manylinux2010_x86_64.whl (6.6 MB)\n",
            "\u001b[K     |████████████████████████████████| 6.6 MB 43.2 MB/s \n",
            "\u001b[?25hRequirement already satisfied: importlib-metadata in /usr/local/lib/python3.7/dist-packages (from transformers==4.20.0.dev0) (4.11.4)\n",
            "Requirement already satisfied: regex!=2019.12.17 in /usr/local/lib/python3.7/dist-packages (from transformers==4.20.0.dev0) (2019.12.20)\n",
            "Requirement already satisfied: typing-extensions>=3.7.4.3 in /usr/local/lib/python3.7/dist-packages (from huggingface-hub<1.0,>=0.1.0->transformers==4.20.0.dev0) (4.2.0)\n",
            "Requirement already satisfied: pyparsing!=3.0.5,>=2.0.2 in /usr/local/lib/python3.7/dist-packages (from packaging>=20.0->transformers==4.20.0.dev0) (3.0.9)\n",
            "Requirement already satisfied: zipp>=0.5 in /usr/local/lib/python3.7/dist-packages (from importlib-metadata->transformers==4.20.0.dev0) (3.8.0)\n",
            "Requirement already satisfied: chardet<4,>=3.0.2 in /usr/local/lib/python3.7/dist-packages (from requests->transformers==4.20.0.dev0) (3.0.4)\n",
            "Requirement already satisfied: idna<3,>=2.5 in /usr/local/lib/python3.7/dist-packages (from requests->transformers==4.20.0.dev0) (2.10)\n",
            "Requirement already satisfied: certifi>=2017.4.17 in /usr/local/lib/python3.7/dist-packages (from requests->transformers==4.20.0.dev0) (2022.5.18.1)\n",
            "Requirement already satisfied: urllib3!=1.25.0,!=1.25.1,<1.26,>=1.21.1 in /usr/local/lib/python3.7/dist-packages (from requests->transformers==4.20.0.dev0) (1.24.3)\n",
            "Building wheels for collected packages: transformers\n",
            "  Building wheel for transformers (PEP 517) ... \u001b[?25l\u001b[?25hdone\n",
            "  Created wheel for transformers: filename=transformers-4.20.0.dev0-py3-none-any.whl size=4341271 sha256=b07519aad88509ad86a6b86284bff77dc425249ffa43ebafed1ce6a7dfb7d6a9\n",
            "  Stored in directory: /tmp/pip-ephem-wheel-cache-b_c6th5w/wheels/49/62/f4/6730819eed4e6468662b1519bf3bf46419b2335990c77f8767\n",
            "Successfully built transformers\n",
            "Installing collected packages: pyyaml, tokenizers, huggingface-hub, transformers\n",
            "  Attempting uninstall: pyyaml\n",
            "    Found existing installation: PyYAML 3.13\n",
            "    Uninstalling PyYAML-3.13:\n",
            "      Successfully uninstalled PyYAML-3.13\n",
            "  Attempting uninstall: tokenizers\n",
            "    Found existing installation: tokenizers 0.7.0\n",
            "    Uninstalling tokenizers-0.7.0:\n",
            "      Successfully uninstalled tokenizers-0.7.0\n",
            "  Attempting uninstall: transformers\n",
            "    Found existing installation: transformers 2.9.0\n",
            "    Uninstalling transformers-2.9.0:\n",
            "      Successfully uninstalled transformers-2.9.0\n",
            "\u001b[31mERROR: pip's dependency resolver does not currently take into account all the packages that are installed. This behaviour is the source of the following dependency conflicts.\n",
            "layoutlm 0.0 requires transformers==2.9.0, but you have transformers 4.20.0.dev0 which is incompatible.\u001b[0m\n",
            "Successfully installed huggingface-hub-0.7.0 pyyaml-6.0 tokenizers-0.12.1 transformers-4.20.0.dev0\n"
          ]
        }
      ]
    },
    {
      "cell_type": "code",
      "source": [
        "import os\n",
        "import subprocess\n",
        "\n",
        "os.chdir('/content/unilm/layoutlm/examples/seq_labeling/')\n",
        "subprocess.run('./preprocess.sh') "
      ],
      "metadata": {
        "colab": {
          "base_uri": "https://localhost:8080/"
        },
        "id": "_iXqfOThB0YY",
        "outputId": "187194e2-40a3-49b1-adac-9a4192875daa"
      },
      "execution_count": 3,
      "outputs": [
        {
          "output_type": "execute_result",
          "data": {
            "text/plain": [
              "CompletedProcess(args='./preprocess.sh', returncode=0)"
            ]
          },
          "metadata": {},
          "execution_count": 3
        }
      ]
    },
    {
      "cell_type": "code",
      "source": [
        "!pip install /content/unilm/layoutlm"
      ],
      "metadata": {
        "colab": {
          "base_uri": "https://localhost:8080/"
        },
        "id": "2ZA9gpf2mrmq",
        "outputId": "da994c34-3963-483b-b252-3e6ff1ab4a9d"
      },
      "execution_count": 4,
      "outputs": [
        {
          "output_type": "stream",
          "name": "stdout",
          "text": [
            "Looking in indexes: https://pypi.org/simple, https://us-python.pkg.dev/colab-wheels/public/simple/\n",
            "Processing /content/unilm/layoutlm\n",
            "\u001b[33m  DEPRECATION: A future pip version will change local packages to be built in-place without first copying to a temporary directory. We recommend you use --use-feature=in-tree-build to test your packages with this new behavior before it becomes the default.\n",
            "   pip 21.3 will remove support for this functionality. You can find discussion regarding this at https://github.com/pypa/pip/issues/7555.\u001b[0m\n",
            "Collecting transformers==2.9.0\n",
            "  Using cached transformers-2.9.0-py3-none-any.whl (635 kB)\n",
            "Requirement already satisfied: tensorboardX==2.0 in /usr/local/lib/python3.7/dist-packages (from layoutlm==0.0) (2.0)\n",
            "Requirement already satisfied: lxml==4.5.1 in /usr/local/lib/python3.7/dist-packages (from layoutlm==0.0) (4.5.1)\n",
            "Requirement already satisfied: seqeval==0.0.12 in /usr/local/lib/python3.7/dist-packages (from layoutlm==0.0) (0.0.12)\n",
            "Requirement already satisfied: Pillow==7.1.2 in /usr/local/lib/python3.7/dist-packages (from layoutlm==0.0) (7.1.2)\n",
            "Requirement already satisfied: numpy>=1.14.0 in /usr/local/lib/python3.7/dist-packages (from seqeval==0.0.12->layoutlm==0.0) (1.21.6)\n",
            "Requirement already satisfied: Keras>=2.2.4 in /usr/local/lib/python3.7/dist-packages (from seqeval==0.0.12->layoutlm==0.0) (2.8.0)\n",
            "Requirement already satisfied: protobuf>=3.8.0 in /usr/local/lib/python3.7/dist-packages (from tensorboardX==2.0->layoutlm==0.0) (3.17.3)\n",
            "Requirement already satisfied: six in /usr/local/lib/python3.7/dist-packages (from tensorboardX==2.0->layoutlm==0.0) (1.15.0)\n",
            "Collecting tokenizers==0.7.0\n",
            "  Using cached tokenizers-0.7.0-cp37-cp37m-manylinux1_x86_64.whl (5.6 MB)\n",
            "Requirement already satisfied: sentencepiece in /usr/local/lib/python3.7/dist-packages (from transformers==2.9.0->layoutlm==0.0) (0.1.96)\n",
            "Requirement already satisfied: requests in /usr/local/lib/python3.7/dist-packages (from transformers==2.9.0->layoutlm==0.0) (2.23.0)\n",
            "Requirement already satisfied: sacremoses in /usr/local/lib/python3.7/dist-packages (from transformers==2.9.0->layoutlm==0.0) (0.0.53)\n",
            "Requirement already satisfied: filelock in /usr/local/lib/python3.7/dist-packages (from transformers==2.9.0->layoutlm==0.0) (3.7.0)\n",
            "Requirement already satisfied: tqdm>=4.27 in /usr/local/lib/python3.7/dist-packages (from transformers==2.9.0->layoutlm==0.0) (4.64.0)\n",
            "Requirement already satisfied: regex!=2019.12.17 in /usr/local/lib/python3.7/dist-packages (from transformers==2.9.0->layoutlm==0.0) (2019.12.20)\n",
            "Requirement already satisfied: idna<3,>=2.5 in /usr/local/lib/python3.7/dist-packages (from requests->transformers==2.9.0->layoutlm==0.0) (2.10)\n",
            "Requirement already satisfied: chardet<4,>=3.0.2 in /usr/local/lib/python3.7/dist-packages (from requests->transformers==2.9.0->layoutlm==0.0) (3.0.4)\n",
            "Requirement already satisfied: certifi>=2017.4.17 in /usr/local/lib/python3.7/dist-packages (from requests->transformers==2.9.0->layoutlm==0.0) (2022.5.18.1)\n",
            "Requirement already satisfied: urllib3!=1.25.0,!=1.25.1,<1.26,>=1.21.1 in /usr/local/lib/python3.7/dist-packages (from requests->transformers==2.9.0->layoutlm==0.0) (1.24.3)\n",
            "Requirement already satisfied: joblib in /usr/local/lib/python3.7/dist-packages (from sacremoses->transformers==2.9.0->layoutlm==0.0) (1.1.0)\n",
            "Requirement already satisfied: click in /usr/local/lib/python3.7/dist-packages (from sacremoses->transformers==2.9.0->layoutlm==0.0) (7.1.2)\n",
            "Building wheels for collected packages: layoutlm\n",
            "  Building wheel for layoutlm (setup.py) ... \u001b[?25l\u001b[?25hdone\n",
            "  Created wheel for layoutlm: filename=layoutlm-0.0-py3-none-any.whl size=11487 sha256=46844be62e79a854911e886028368d63b17479ce236b876a90321fc6ba516d9e\n",
            "  Stored in directory: /tmp/pip-ephem-wheel-cache-lwrfrlko/wheels/ce/83/11/541e5dad69eb41732abc7eaa2efde047a655aaae9c6df0fe15\n",
            "Successfully built layoutlm\n",
            "Installing collected packages: tokenizers, transformers, layoutlm\n",
            "  Attempting uninstall: tokenizers\n",
            "    Found existing installation: tokenizers 0.12.1\n",
            "    Uninstalling tokenizers-0.12.1:\n",
            "      Successfully uninstalled tokenizers-0.12.1\n",
            "  Attempting uninstall: transformers\n",
            "    Found existing installation: transformers 4.20.0.dev0\n",
            "    Uninstalling transformers-4.20.0.dev0:\n",
            "      Successfully uninstalled transformers-4.20.0.dev0\n",
            "  Attempting uninstall: layoutlm\n",
            "    Found existing installation: layoutlm 0.0\n",
            "    Uninstalling layoutlm-0.0:\n",
            "      Successfully uninstalled layoutlm-0.0\n",
            "Successfully installed layoutlm-0.0 tokenizers-0.7.0 transformers-2.9.0\n"
          ]
        }
      ]
    },
    {
      "cell_type": "code",
      "source": [
        "! python /content/unilm/layoutlm/examples/seq_labeling/run_seq_labeling.py --data_dir data \\\n",
        "                            --model_type layoutlm \\\n",
        "                            --model_name_or_path /kaggle/input/layoutlm/layoutlm-base-uncased \\\n",
        "                            --do_lower_case \\\n",
        "                            --max_seq_length 512 \\\n",
        "                            --do_train \\\n",
        "                            --num_train_epochs 60 \\\n",
        "                            --logging_steps 10 \\\n",
        "                            --save_steps -1 \\\n",
        "                            --overwrite_output_dir \\\n",
        "                            --output_dir output \\\n",
        "                            --labels data/labels.txt \\\n",
        "                            --per_gpu_train_batch_size 16 \\\n",
        "                            --per_gpu_eval_batch_size 16 \\\n",
        "                            --seed 12"
      ],
      "metadata": {
        "colab": {
          "base_uri": "https://localhost:8080/"
        },
        "id": "QOVlgvEWBaRY",
        "outputId": "c4d20836-2966-4cbd-b389-faa2eba8032a"
      },
      "execution_count": 6,
      "outputs": [
        {
          "output_type": "stream",
          "name": "stdout",
          "text": [
            "Traceback (most recent call last):\n",
            "  File \"/content/unilm/layoutlm/examples/seq_labeling/run_seq_labeling.py\", line 52, in <module>\n",
            "    from layoutlm import FunsdDataset, LayoutlmConfig, LayoutlmForTokenClassification\n",
            "ImportError: cannot import name 'LayoutlmConfig' from 'layoutlm' (/usr/local/lib/python3.7/dist-packages/layoutlm/__init__.py)\n"
          ]
        }
      ]
    },
    {
      "cell_type": "code",
      "source": [
        "!python /content/unilm/layoutlm/examples/seq_labeling/run_seq_labeling.py  --do_eval \\\n",
        "                            --data_dir data \\\n",
        "                            --model_type layoutlm \\\n",
        "                            --model_name_or_path output \\\n",
        "                            --do_lower_case \\\n",
        "                            --output_dir output \\\n",
        "                            --labels data/labels.txt \\\n",
        "                            --fp16"
      ],
      "metadata": {
        "colab": {
          "base_uri": "https://localhost:8080/"
        },
        "id": "A5DSCIv-CE5I",
        "outputId": "9c8a72a4-89b0-42a1-b864-e35dc3286e19"
      },
      "execution_count": null,
      "outputs": [
        {
          "output_type": "stream",
          "name": "stdout",
          "text": [
            "Traceback (most recent call last):\n",
            "  File \"/content/unilm/layoutlm/examples/seq_labeling/run_seq_labeling.py\", line 52, in <module>\n",
            "    from layoutlm import FunsdDataset, LayoutlmConfig, LayoutlmForTokenClassification\n",
            "ImportError: cannot import name 'LayoutlmConfig' from 'layoutlm' (/usr/local/lib/python3.7/dist-packages/layoutlm/__init__.py)\n"
          ]
        }
      ]
    },
    {
      "cell_type": "code",
      "source": [
        "!cat output/eval_results.txt"
      ],
      "metadata": {
        "colab": {
          "base_uri": "https://localhost:8080/"
        },
        "id": "GQdMOvUWRAmI",
        "outputId": "6bcf2105-c42d-4cd3-840c-e3ade90a61d2"
      },
      "execution_count": null,
      "outputs": [
        {
          "output_type": "stream",
          "name": "stdout",
          "text": [
            "cat: output/eval_results.txt: No such file or directory\n"
          ]
        }
      ]
    }
  ]
}